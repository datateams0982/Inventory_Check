{
 "cells": [
  {
   "cell_type": "code",
   "execution_count": null,
   "metadata": {},
   "outputs": [],
   "source": [
    "import numpy as np \n",
    "import pandas as pd \n",
    "import datetime\n",
    "from datetime import datetime\n",
    "from tqdm import tqdm_notebook as tqdm\n",
    "\n",
    "from multiprocessing import Pool\n",
    "from functools import partial\n",
    "import Feature_function as func"
   ]
  },
  {
   "cell_type": "code",
   "execution_count": null,
   "metadata": {},
   "outputs": [],
   "source": [
    "data = pd.read_csv('D:\\\\庫存健診開發\\\\data\\\\Stock\\\\TWSE_Stock.csv', converters={'ts': str, 'StockName': str, 'StockNo': str})\n",
    "data['ts'] = pd.to_datetime(data['ts'])\n",
    "data"
   ]
  },
  {
   "cell_type": "code",
   "execution_count": null,
   "metadata": {},
   "outputs": [],
   "source": [
    "year_list = data[\"ts\"].dt.year.unique().tolist()\n",
    "month_list = data[\"ts\"].dt.month.unique().tolist()\n",
    "month_dict = {}\n",
    "for y in year_list:\n",
    "    month_dict[y] = {}\n",
    "    for m in month_list:\n",
    "        d = data[(data[\"ts\"].dt.year == y) & (data[\"ts\"].dt.month == m)][\"ts\"].dt.date.unique().tolist()\n",
    "        month_dict[y][m] = {}\n",
    "        for i, date in enumerate(d):\n",
    "            month_dict[y][m][date] = i"
   ]
  },
  {
   "cell_type": "code",
   "execution_count": null,
   "metadata": {},
   "outputs": [],
   "source": [
    "df_list = [group[1] for group in data.groupby(data['StockNo'])]\n",
    "\n",
    "output_list = []\n",
    "\n",
    "if __name__ == '__main__':\n",
    "    with Pool(processes=12) as pool:\n",
    "        for i, x in enumerate(tqdm(pool.imap_unordered(partial(func.get_time_feature, month_dict=month_dict), df_list), total=len(df_list)), 1):\n",
    "            output_list.append(x)\n",
    "                \n",
    "df = pd.concat(output_list, axis=0)\n",
    "df"
   ]
  },
  {
   "cell_type": "code",
   "execution_count": null,
   "metadata": {},
   "outputs": [],
   "source": [
    "df = func.categorical_transform(df)\n",
    "df"
   ]
  },
  {
   "cell_type": "code",
   "execution_count": null,
   "metadata": {},
   "outputs": [],
   "source": [
    "df_list = [group[1] for group in df.groupby(df['StockNo'])]\n",
    "\n",
    "output_list = []\n",
    "\n",
    "if __name__ == '__main__':\n",
    "    with Pool(processes=12) as pool:\n",
    "        for i, x in enumerate(tqdm(pool.imap_unordered(func.get_technical_indicators, df_list), total=len(df_list)), 1):\n",
    "            output_list.append(x)\n",
    "                \n",
    "df = pd.concat(output_list, axis=0)\n",
    "df"
   ]
  },
  {
   "cell_type": "code",
   "execution_count": null,
   "metadata": {},
   "outputs": [],
   "source": [
    "df.to_csv('D:\\\\庫存健診開發\\\\data\\\\Stock\\\\TWSE_Stock_feature.csv', index=False)"
   ]
  }
 ],
 "metadata": {
  "kernelspec": {
   "display_name": "Python (tf-gpu)",
   "language": "python",
   "name": "tf-gpu"
  },
  "language_info": {
   "codemirror_mode": {
    "name": "ipython",
    "version": 3
   },
   "file_extension": ".py",
   "mimetype": "text/x-python",
   "name": "python",
   "nbconvert_exporter": "python",
   "pygments_lexer": "ipython3",
   "version": "3.6.9"
  }
 },
 "nbformat": 4,
 "nbformat_minor": 2
}
