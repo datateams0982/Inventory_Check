{
 "cells": [
  {
   "cell_type": "code",
   "execution_count": 2,
   "metadata": {},
   "outputs": [
    {
     "name": "stdout",
     "output_type": "stream",
     "text": [
      "Requirement already satisfied: pymssql==2.1.4 in c:\\programdata\\anaconda3\\envs\\py36\\lib\\site-packages (from -r requirements.txt (line 1)) (2.1.4)\n",
      "Collecting cryptography==2.7 (from -r requirements.txt (line 2))\n",
      "  Downloading https://files.pythonhosted.org/packages/31/1f/f158f5e83c934ff71cde6c54ebcac48547ec05c01836054ea721daf9840b/cryptography-2.7-cp36-cp36m-win_amd64.whl (1.5MB)\n",
      "Collecting tqdm==4.32.1 (from -r requirements.txt (line 3))\n",
      "  Downloading https://files.pythonhosted.org/packages/45/af/685bf3ce889ea191f3b916557f5677cc95a5e87b2fa120d74b5dd6d049d0/tqdm-4.32.1-py2.py3-none-any.whl (49kB)\n",
      "Requirement already satisfied: six>=1.4.1 in c:\\programdata\\anaconda3\\envs\\py36\\lib\\site-packages (from cryptography==2.7->-r requirements.txt (line 2)) (1.12.0)\n",
      "Collecting asn1crypto>=0.21.0 (from cryptography==2.7->-r requirements.txt (line 2))\n",
      "  Downloading https://files.pythonhosted.org/packages/6b/8c/ff300484eca90b397d919408619fae479965bdd8a1df3d6d08d58e491da5/asn1crypto-1.2.0-py2.py3-none-any.whl (103kB)\n",
      "Requirement already satisfied: cffi!=1.11.3,>=1.8 in c:\\programdata\\anaconda3\\envs\\py36\\lib\\site-packages (from cryptography==2.7->-r requirements.txt (line 2)) (1.13.1)\n",
      "Requirement already satisfied: pycparser in c:\\programdata\\anaconda3\\envs\\py36\\lib\\site-packages (from cffi!=1.11.3,>=1.8->cryptography==2.7->-r requirements.txt (line 2)) (2.19)\n",
      "Installing collected packages: asn1crypto, cryptography, tqdm\n",
      "  Found existing installation: tqdm 4.38.0\n",
      "    Uninstalling tqdm-4.38.0:\n",
      "      Successfully uninstalled tqdm-4.38.0\n",
      "Successfully installed asn1crypto-1.2.0 cryptography-2.7 tqdm-4.32.1\n"
     ]
    }
   ],
   "source": [
    "!pip install -r requirements.txt"
   ]
  },
  {
   "cell_type": "code",
   "execution_count": 1,
   "metadata": {},
   "outputs": [
    {
     "ename": "ModuleNotFoundError",
     "evalue": "No module named 'ALL_STOCK_preprocess_function'",
     "output_type": "error",
     "traceback": [
      "\u001b[1;31m---------------------------------------------------------------------------\u001b[0m",
      "\u001b[1;31mModuleNotFoundError\u001b[0m                       Traceback (most recent call last)",
      "\u001b[1;32m<ipython-input-1-9730a125306b>\u001b[0m in \u001b[0;36m<module>\u001b[1;34m\u001b[0m\n\u001b[0;32m     11\u001b[0m \u001b[1;32mfrom\u001b[0m \u001b[0mfunctools\u001b[0m \u001b[1;32mimport\u001b[0m \u001b[0mpartial\u001b[0m\u001b[1;33m\u001b[0m\u001b[1;33m\u001b[0m\u001b[0m\n\u001b[0;32m     12\u001b[0m \u001b[1;33m\u001b[0m\u001b[0m\n\u001b[1;32m---> 13\u001b[1;33m \u001b[1;32mimport\u001b[0m \u001b[0mALL_STOCK_preprocess_function\u001b[0m \u001b[1;32mas\u001b[0m \u001b[0mfunc\u001b[0m\u001b[1;33m\u001b[0m\u001b[1;33m\u001b[0m\u001b[0m\n\u001b[0m\u001b[0;32m     14\u001b[0m \u001b[1;32mimport\u001b[0m \u001b[0mVWAP_feature_function\u001b[0m \u001b[1;32mas\u001b[0m \u001b[0mfunc1\u001b[0m\u001b[1;33m\u001b[0m\u001b[1;33m\u001b[0m\u001b[0m\n",
      "\u001b[1;31mModuleNotFoundError\u001b[0m: No module named 'ALL_STOCK_preprocess_function'"
     ]
    }
   ],
   "source": [
    "import numpy as np \n",
    "import pandas as pd \n",
    "from cryptography.fernet import Fernet\n",
    "from datetime import datetime, date, timedelta\n",
    "from tqdm import tqdm_notebook as tqdm\n",
    "import os\n",
    "import pymssql as mssql\n",
    "import calendar\n",
    "import time\n",
    "from multiprocessing import Pool\n",
    "from functools import partial\n",
    "\n",
    "import ALL_STOCK_preprocess_function as func\n",
    "import VWAP_feature_function as func1"
   ]
  },
  {
   "cell_type": "code",
   "execution_count": 2,
   "metadata": {},
   "outputs": [],
   "source": [
    "# part = '1'\n",
    "# d1 = date(2019, 10, 1)\n",
    "# d2 = date(2019, 10, 6)"
   ]
  },
  {
   "cell_type": "code",
   "execution_count": 3,
   "metadata": {},
   "outputs": [],
   "source": [
    "# part = '2'\n",
    "# d1 = date(2019, 10, 7)\n",
    "# d2 = date(2019, 10, 12)"
   ]
  },
  {
   "cell_type": "code",
   "execution_count": 4,
   "metadata": {},
   "outputs": [],
   "source": [
    "part = '3'\n",
    "d1 = date(2019, 10, 13)\n",
    "d2 = date(2019, 10, 14)"
   ]
  },
  {
   "cell_type": "code",
   "execution_count": 5,
   "metadata": {},
   "outputs": [],
   "source": [
    "# part = '4'\n",
    "# d1 = date(2019, 10, 19)\n",
    "# d2 = date(2019, 10, 24)"
   ]
  },
  {
   "cell_type": "code",
   "execution_count": null,
   "metadata": {},
   "outputs": [],
   "source": [
    "# part = '5'\n",
    "# d1 = date(2019, 10, 25)\n",
    "# d2 = date(2019, 10, 31)"
   ]
  },
  {
   "cell_type": "code",
   "execution_count": 8,
   "metadata": {},
   "outputs": [],
   "source": [
    "delta = d2 - d1         # timedelta\n",
    "date_list = [d1 + timedelta(days=x) for x in range((d2-d1).days + 1)]\n",
    "total_list = []\n",
    "\n",
    "\n",
    "for _, end_date in enumerate(date_list):\n",
    "    if end_date.weekday() in [5, 6]:\n",
    "        continue\n",
    "    \n",
    "    d = func.stock_query(end_date)\n",
    "    stock, index, industry_index = d[0], d[1], d[2]\n",
    "    df_list = [group[1] for group in stock.groupby(stock['StockNo'])]\n",
    "    timedf = pd.DataFrame(d[0]['ts'].unique(), columns=['ts'])\n",
    "    timedf = timedf.sort_values(by='ts')\n",
    "    output_list = []\n",
    "\n",
    "    if __name__ == '__main__':\n",
    "        with Pool(processes=12) as pool:\n",
    "            for ___, x in enumerate(pool.imap_unordered(partial(func.FillMissingTime, timedf=timedf, end_date=end_date), df_list), 1):\n",
    "                    if x[0]:\n",
    "                        output_list.append(x[1])\n",
    "                    else:\n",
    "                        continue\n",
    "\n",
    "    df = pd.concat(output_list)\n",
    "    \n",
    "    df_list = [group[1] for group in df.groupby(df['StockNo'])]\n",
    "    output_list = []\n",
    "\n",
    "    if __name__ == '__main__':\n",
    "        with Pool(processes=12) as pool:\n",
    "            for ___, x in enumerate(pool.imap_unordered(partial(func.merge_index, index=index, industry_index=industry_index), df_list), 1):\n",
    "                    output_list.append(x)\n",
    "\n",
    "    df = pd.concat(output_list)\n",
    "    \n",
    "    columns_dict = {'lag': ['index_close', 'industry_close', 'close', 'VWAP', 'VWAP_day5'],\n",
    "               'return': ['index', 'industry', 'close', 'VWAP', 'VWAP_day5'],\n",
    "               'ratio': ['index_close', 'index_vol', 'index_return', 'industry_close', 'industry_vol', 'industry_return', 'VWAP_return', 'close_return', 'vol', 'VWAP', 'VWAP_day5', 'VWAP_day5_return'],\n",
    "               'momentum': ['index_close', 'index_vol', 'index_return', 'industry_close', 'industry_vol', 'industry_return', 'VWAP_return', 'close_return', 'vol', 'VWAP', 'VWAP_day5', 'VWAP_day5_return'],\n",
    "                'moment': ['index_close', 'index_vol', 'industry_close', 'industry_vol', 'vol', 'VWAP', 'VWAP_day5', 'VWAP_day5_return'],\n",
    "                'buyer': ['foreign_buy', 'investment_buy', 'dealer_buy']\n",
    "               }\n",
    "    \n",
    "    df_list = [group[1] for group in df.groupby(df['StockNo'])]\n",
    "    output_list = []\n",
    "\n",
    "    if __name__ == '__main__':\n",
    "        with Pool(processes=12) as pool:\n",
    "            for ___, x in enumerate(pool.imap_unordered(partial(func1.get_technical_indicators, columns_dict=columns_dict), df_list), 1):\n",
    "                output_list.append(x)\n",
    "\n",
    "    \n",
    "    df = pd.concat(output_list, axis=0)    \n",
    "    df_last = df[df.ts.dt.date == end_date]\n",
    "\n",
    "    total_list.append(df_last)"
   ]
  },
  {
   "cell_type": "code",
   "execution_count": 9,
   "metadata": {},
   "outputs": [],
   "source": [
    "total_df = pd.concat(total_list)"
   ]
  },
  {
   "cell_type": "code",
   "execution_count": 10,
   "metadata": {},
   "outputs": [],
   "source": [
    "feature_list = ['total', 'capital', 'index_open', 'index_high', 'index_low', 'index_close',\n",
    "       'index_return', 'index_vol', 'industry_return',\n",
    "       'foreign_ratio',\n",
    "       'investment_ratio', 'corporation_ratio', 'close_return', 'VWAP_return',\n",
    "       'index_VWAP_slope', 'VWAP_day5_return', 'VWAP_day5_return_5',\n",
    "       'industry_VWAP_slope', 'index_close_slope', 'industry_close_slope',\n",
    "       'index_close_ratio_day5', 'index_vol_ratio_day5',\n",
    "       'index_return_ratio_day5', 'industry_close_ratio_day5',\n",
    "       'industry_vol_ratio_day5', 'industry_return_ratio_day5',\n",
    "       'VWAP_return_ratio_day5', 'close_return_ratio_day5', 'vol_ratio_day5',\n",
    "       'VWAP_ratio_day5', 'index_close_ratio_day10', 'index_vol_ratio_day10',\n",
    "       'index_return_ratio_day10', 'industry_close_ratio_day10',\n",
    "       'industry_vol_ratio_day10', 'industry_return_ratio_day10',\n",
    "       'VWAP_return_ratio_day10', 'close_return_ratio_day10',\n",
    "       'vol_ratio_day10', 'VWAP_ratio_day10', 'index_close_ratio_day15',\n",
    "       'index_vol_ratio_day15', 'index_return_ratio_day15',\n",
    "       'industry_close_ratio_day15', 'industry_vol_ratio_day15',\n",
    "       'industry_return_ratio_day15', 'VWAP_return_ratio_day15',\n",
    "       'close_return_ratio_day15', 'vol_ratio_day15', 'VWAP_ratio_day15',\n",
    "       'index_close_momentum_day1', 'index_vol_momentum_day1',\n",
    "       'index_return_momentum_day1', 'industry_close_momentum_day1',\n",
    "       'industry_vol_momentum_day1', 'industry_return_momentum_day1',\n",
    "       'VWAP_return_momentum_day1', 'close_return_momentum_day1',\n",
    "       'vol_momentum_day1', 'VWAP_momentum_day1', 'index_close_momentum_day2',\n",
    "       'index_vol_momentum_day2', 'index_return_momentum_day2',\n",
    "       'industry_close_momentum_day2', 'industry_vol_momentum_day2',\n",
    "       'industry_return_momentum_day2', 'VWAP_return_momentum_day2',\n",
    "       'close_return_momentum_day2', 'vol_momentum_day2', 'VWAP_momentum_day2',\n",
    "       'index_close_momentum_day3', 'index_vol_momentum_day3',\n",
    "       'index_return_momentum_day3', 'industry_close_momentum_day3',\n",
    "       'industry_vol_momentum_day3', 'industry_return_momentum_day3',\n",
    "       'VWAP_return_momentum_day3', 'close_return_momentum_day3',\n",
    "       'vol_momentum_day3', 'VWAP_momentum_day3',\n",
    "       'index_close_momentum_day4', 'index_vol_momentum_day4',\n",
    "       'index_return_momentum_day4', 'industry_close_momentum_day4',\n",
    "       'industry_vol_momentum_day4', 'industry_return_momentum_day4',\n",
    "       'VWAP_return_momentum_day4', 'close_return_momentum_day4',\n",
    "       'vol_momentum_day4', 'VWAP_momentum_day4', 'index_close_momentum_day5',\n",
    "       'index_vol_momentum_day5', 'index_return_momentum_day5',\n",
    "       'industry_close_momentum_day5', 'industry_vol_momentum_day5',\n",
    "       'industry_return_momentum_day5', 'VWAP_return_momentum_day5',\n",
    "       'close_return_momentum_day5', 'vol_momentum_day5', 'VWAP_momentum_day5',\n",
    "       'index_close_momentum_day10', 'index_vol_momentum_day10',\n",
    "       'index_return_momentum_day10', 'industry_close_momentum_day10',\n",
    "       'industry_vol_momentum_day10', 'industry_return_momentum_day10',\n",
    "       'VWAP_return_momentum_day10', 'close_return_momentum_day10',\n",
    "       'vol_momentum_day10', 'VWAP_momentum_day10', 'index_close_momentum_day15',\n",
    "       'index_vol_momentum_day15', 'index_return_momentum_day15',\n",
    "       'industry_close_momentum_day15', 'industry_vol_momentum_day15',\n",
    "       'industry_return_momentum_day15', 'VWAP_return_momentum_day15',\n",
    "       'close_return_momentum_day15', 'vol_momentum_day15',\n",
    "       'VWAP_momentum_day15', 'vol_VWAP_corr', 'vol_volatile_corr',\n",
    "       'index_vol_close_corr', 'index_vol_volatile_corr',\n",
    "       'industry_vol_close_corr', 'industry_vol_volatile_corr',\n",
    "       'index_close_skew', 'index_close_kurtosis', 'index_vol_skew',\n",
    "       'index_vol_kurtosis', 'industry_close_skew', 'industry_close_kurtosis', 'industry_vol_skew',\n",
    "       'industry_vol_kurtosis', 'vol_skew', 'vol_kurtosis', 'VWAP_skew',\n",
    "       'VWAP_kurtosis', 'VWAP_day5_skew', 'VWAP_day5_kurtosis',\n",
    "       'foreign_buy_ratio', 'foreign_buy_day3_ratio', 'foreign_buy_week_ratio',\n",
    "       'foreign_buy_2week_ratio', 'foreign_buy_3week_ratio',\n",
    "       'foreign_buy_continuous', 'foreign_buy_buy_indicator',\n",
    "       'foreign_buy_sell_indicator', 'investment_buy_ratio',\n",
    "       'investment_buy_day3_ratio', 'investment_buy_week_ratio',\n",
    "       'investment_buy_2week_ratio', 'investment_buy_3week_ratio',\n",
    "       'investment_buy_continuous', 'investment_buy_buy_day_ratio',\n",
    "       'investment_buy_sell_day_ratio', 'dealer_buy_ratio',\n",
    "       'dealer_buy_day3_ratio', 'dealer_buy_week_ratio',\n",
    "       'dealer_buy_2week_ratio', 'dealer_buy_3week_ratio',\n",
    "       'dealer_buy_continuous', 'dealer_buy_buy_day_ratio',\n",
    "       'dealer_buy_sell_day_ratio', 'index_pvt', 'industry_pvt', 'foreign_pvt',\n",
    "       'investment_pvt', 'dealer_pvt', 'pvt', 'RSI_15', 'SOk5_1', 'SOd3',\n",
    "       'SOk15_5', 'SOd5', 'industry', 'ts', 'StockNo']"
   ]
  },
  {
   "cell_type": "code",
   "execution_count": 11,
   "metadata": {},
   "outputs": [
    {
     "data": {
      "text/plain": [
       "False"
      ]
     },
     "execution_count": 11,
     "metadata": {},
     "output_type": "execute_result"
    }
   ],
   "source": [
    "total_df[feature_list].isna().values.any()"
   ]
  },
  {
   "cell_type": "code",
   "execution_count": 12,
   "metadata": {},
   "outputs": [],
   "source": [
    "total_df[feature_list].to_csv(f'testing_201910_p{part}.csv',index=False)"
   ]
  },
  {
   "cell_type": "code",
   "execution_count": null,
   "metadata": {},
   "outputs": [],
   "source": []
  }
 ],
 "metadata": {
  "kernelspec": {
   "display_name": "Python 3",
   "language": "python",
   "name": "python3"
  },
  "language_info": {
   "codemirror_mode": {
    "name": "ipython",
    "version": 3
   },
   "file_extension": ".py",
   "mimetype": "text/x-python",
   "name": "python",
   "nbconvert_exporter": "python",
   "pygments_lexer": "ipython3",
   "version": "3.6.9"
  }
 },
 "nbformat": 4,
 "nbformat_minor": 2
}
