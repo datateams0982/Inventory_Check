{
 "cells": [
  {
   "cell_type": "code",
   "execution_count": 2,
   "metadata": {},
   "outputs": [
    {
     "name": "stdout",
     "output_type": "stream",
     "text": [
      "Requirement already satisfied: pymssql==2.1.4 in c:\\programdata\\anaconda3\\envs\\py36\\lib\\site-packages (from -r requirements.txt (line 1)) (2.1.4)\n",
      "Collecting cryptography==2.7 (from -r requirements.txt (line 2))\n",
      "  Downloading https://files.pythonhosted.org/packages/31/1f/f158f5e83c934ff71cde6c54ebcac48547ec05c01836054ea721daf9840b/cryptography-2.7-cp36-cp36m-win_amd64.whl (1.5MB)\n",
      "Collecting tqdm==4.32.1 (from -r requirements.txt (line 3))\n",
      "  Downloading https://files.pythonhosted.org/packages/45/af/685bf3ce889ea191f3b916557f5677cc95a5e87b2fa120d74b5dd6d049d0/tqdm-4.32.1-py2.py3-none-any.whl (49kB)\n",
      "Requirement already satisfied: six>=1.4.1 in c:\\programdata\\anaconda3\\envs\\py36\\lib\\site-packages (from cryptography==2.7->-r requirements.txt (line 2)) (1.12.0)\n",
      "Collecting asn1crypto>=0.21.0 (from cryptography==2.7->-r requirements.txt (line 2))\n",
      "  Downloading https://files.pythonhosted.org/packages/6b/8c/ff300484eca90b397d919408619fae479965bdd8a1df3d6d08d58e491da5/asn1crypto-1.2.0-py2.py3-none-any.whl (103kB)\n",
      "Requirement already satisfied: cffi!=1.11.3,>=1.8 in c:\\programdata\\anaconda3\\envs\\py36\\lib\\site-packages (from cryptography==2.7->-r requirements.txt (line 2)) (1.13.1)\n",
      "Requirement already satisfied: pycparser in c:\\programdata\\anaconda3\\envs\\py36\\lib\\site-packages (from cffi!=1.11.3,>=1.8->cryptography==2.7->-r requirements.txt (line 2)) (2.19)\n",
      "Installing collected packages: asn1crypto, cryptography, tqdm\n",
      "  Found existing installation: tqdm 4.38.0\n",
      "    Uninstalling tqdm-4.38.0:\n",
      "      Successfully uninstalled tqdm-4.38.0\n",
      "Successfully installed asn1crypto-1.2.0 cryptography-2.7 tqdm-4.32.1\n"
     ]
    }
   ],
   "source": [
    "!pip install -r requirements.txt"
   ]
  },
  {
   "cell_type": "code",
   "execution_count": 1,
   "metadata": {},
   "outputs": [],
   "source": [
    "import numpy as np \n",
    "import pandas as pd \n",
    "from cryptography.fernet import Fernet\n",
    "from datetime import datetime, date, timedelta\n",
    "from tqdm import tqdm_notebook as tqdm\n",
    "import os\n",
    "import pymssql as mssql\n",
    "import calendar\n",
    "import time\n",
    "from multiprocessing import Pool\n",
    "from functools import partial\n",
    "\n",
    "import ALL_STOCK_preprocess_function as func\n",
    "import VWAP_feature_function_rolling_week as func1"
   ]
  },
  {
   "cell_type": "code",
   "execution_count": 2,
   "metadata": {},
   "outputs": [],
   "source": [
    "# part = '1'\n",
    "# d1 = date(2019, 10, 1)\n",
    "# d2 = date(2019, 10, 15)"
   ]
  },
  {
   "cell_type": "code",
   "execution_count": 10,
   "metadata": {},
   "outputs": [],
   "source": [
    "# part = '2'\n",
    "d1 = date(2019, 10, 11)\n",
    "d2 = date(2019, 10, 31)"
   ]
  },
  {
   "cell_type": "code",
   "execution_count": 2,
   "metadata": {},
   "outputs": [],
   "source": [
    "# part = '3'\n",
    "# d1 = date(2019, 10, 13)\n",
    "# d2 = date(2019, 10, 14)"
   ]
  },
  {
   "cell_type": "code",
   "execution_count": 5,
   "metadata": {},
   "outputs": [],
   "source": [
    "# part = '4'\n",
    "# d1 = date(2019, 10, 19)\n",
    "# d2 = date(2019, 10, 24)"
   ]
  },
  {
   "cell_type": "code",
   "execution_count": null,
   "metadata": {},
   "outputs": [],
   "source": [
    "# part = '5'\n",
    "# d1 = date(2019, 10, 25)\n",
    "# d2 = date(2019, 10, 31)"
   ]
  },
  {
   "cell_type": "code",
   "execution_count": 11,
   "metadata": {},
   "outputs": [
    {
     "data": {
      "application/vnd.jupyter.widget-view+json": {
       "model_id": "4f250eab32624719b92c0eb57e98bfc1",
       "version_major": 2,
       "version_minor": 0
      },
      "text/plain": [
       "HBox(children=(IntProgress(value=0, max=21), HTML(value='')))"
      ]
     },
     "metadata": {},
     "output_type": "display_data"
    },
    {
     "data": {
      "application/vnd.jupyter.widget-view+json": {
       "model_id": "4bc9d922ef964124b308ec9b6ba71eae",
       "version_major": 2,
       "version_minor": 0
      },
      "text/plain": [
       "HBox(children=(IntProgress(value=0, max=931), HTML(value='')))"
      ]
     },
     "metadata": {},
     "output_type": "display_data"
    },
    {
     "data": {
      "application/vnd.jupyter.widget-view+json": {
       "model_id": "9333fa9cf5994e829c8ccdbc7d179427",
       "version_major": 2,
       "version_minor": 0
      },
      "text/plain": [
       "HBox(children=(IntProgress(value=0, max=931), HTML(value='')))"
      ]
     },
     "metadata": {},
     "output_type": "display_data"
    },
    {
     "data": {
      "application/vnd.jupyter.widget-view+json": {
       "model_id": "cdf7c601fd504b2ebd5f957a64101b68",
       "version_major": 2,
       "version_minor": 0
      },
      "text/plain": [
       "HBox(children=(IntProgress(value=0, max=920), HTML(value='')))"
      ]
     },
     "metadata": {},
     "output_type": "display_data"
    },
    {
     "data": {
      "application/vnd.jupyter.widget-view+json": {
       "model_id": "e6cd030e24f848ffbfaeb1e7e09c6509",
       "version_major": 2,
       "version_minor": 0
      },
      "text/plain": [
       "HBox(children=(IntProgress(value=0, max=920), HTML(value='')))"
      ]
     },
     "metadata": {},
     "output_type": "display_data"
    },
    {
     "data": {
      "application/vnd.jupyter.widget-view+json": {
       "model_id": "5afa8b5913ce4fe69b7ca4d677a57e0e",
       "version_major": 2,
       "version_minor": 0
      },
      "text/plain": [
       "HBox(children=(IntProgress(value=0, max=931), HTML(value='')))"
      ]
     },
     "metadata": {},
     "output_type": "display_data"
    },
    {
     "data": {
      "application/vnd.jupyter.widget-view+json": {
       "model_id": "7cbc1336c7a54436bb0ab8d90bf3416d",
       "version_major": 2,
       "version_minor": 0
      },
      "text/plain": [
       "HBox(children=(IntProgress(value=0, max=920), HTML(value='')))"
      ]
     },
     "metadata": {},
     "output_type": "display_data"
    },
    {
     "data": {
      "application/vnd.jupyter.widget-view+json": {
       "model_id": "6dd213929d1b4e58b6980265ef8e20c0",
       "version_major": 2,
       "version_minor": 0
      },
      "text/plain": [
       "HBox(children=(IntProgress(value=0, max=920), HTML(value='')))"
      ]
     },
     "metadata": {},
     "output_type": "display_data"
    },
    {
     "data": {
      "application/vnd.jupyter.widget-view+json": {
       "model_id": "1d026c8087704426be78d5b0934e382b",
       "version_major": 2,
       "version_minor": 0
      },
      "text/plain": [
       "HBox(children=(IntProgress(value=0, max=931), HTML(value='')))"
      ]
     },
     "metadata": {},
     "output_type": "display_data"
    },
    {
     "data": {
      "application/vnd.jupyter.widget-view+json": {
       "model_id": "fe24f56ab9c64c888d102e9d51077bea",
       "version_major": 2,
       "version_minor": 0
      },
      "text/plain": [
       "HBox(children=(IntProgress(value=0, max=920), HTML(value='')))"
      ]
     },
     "metadata": {},
     "output_type": "display_data"
    },
    {
     "data": {
      "application/vnd.jupyter.widget-view+json": {
       "model_id": "8e05ed96daae484e92503d13e9907dac",
       "version_major": 2,
       "version_minor": 0
      },
      "text/plain": [
       "HBox(children=(IntProgress(value=0, max=920), HTML(value='')))"
      ]
     },
     "metadata": {},
     "output_type": "display_data"
    },
    {
     "data": {
      "application/vnd.jupyter.widget-view+json": {
       "model_id": "80e7f7bf770e4bc081a2cd18377b7350",
       "version_major": 2,
       "version_minor": 0
      },
      "text/plain": [
       "HBox(children=(IntProgress(value=0, max=931), HTML(value='')))"
      ]
     },
     "metadata": {},
     "output_type": "display_data"
    },
    {
     "data": {
      "application/vnd.jupyter.widget-view+json": {
       "model_id": "58a2b4a27f0c45da94dbe70678dff059",
       "version_major": 2,
       "version_minor": 0
      },
      "text/plain": [
       "HBox(children=(IntProgress(value=0, max=919), HTML(value='')))"
      ]
     },
     "metadata": {},
     "output_type": "display_data"
    },
    {
     "data": {
      "application/vnd.jupyter.widget-view+json": {
       "model_id": "267bba2df0da402ea3171c13c22b2d0f",
       "version_major": 2,
       "version_minor": 0
      },
      "text/plain": [
       "HBox(children=(IntProgress(value=0, max=919), HTML(value='')))"
      ]
     },
     "metadata": {},
     "output_type": "display_data"
    },
    {
     "data": {
      "application/vnd.jupyter.widget-view+json": {
       "model_id": "2aea179d420d433d972929c6d3788667",
       "version_major": 2,
       "version_minor": 0
      },
      "text/plain": [
       "HBox(children=(IntProgress(value=0, max=931), HTML(value='')))"
      ]
     },
     "metadata": {},
     "output_type": "display_data"
    },
    {
     "data": {
      "application/vnd.jupyter.widget-view+json": {
       "model_id": "8bf093689fe54703834a7df8771d95c9",
       "version_major": 2,
       "version_minor": 0
      },
      "text/plain": [
       "HBox(children=(IntProgress(value=0, max=919), HTML(value='')))"
      ]
     },
     "metadata": {},
     "output_type": "display_data"
    },
    {
     "data": {
      "application/vnd.jupyter.widget-view+json": {
       "model_id": "7d28d14ebab04379934f42091dd862de",
       "version_major": 2,
       "version_minor": 0
      },
      "text/plain": [
       "HBox(children=(IntProgress(value=0, max=919), HTML(value='')))"
      ]
     },
     "metadata": {},
     "output_type": "display_data"
    },
    {
     "data": {
      "application/vnd.jupyter.widget-view+json": {
       "model_id": "051fe8b19c664a90952de830ce841135",
       "version_major": 2,
       "version_minor": 0
      },
      "text/plain": [
       "HBox(children=(IntProgress(value=0, max=931), HTML(value='')))"
      ]
     },
     "metadata": {},
     "output_type": "display_data"
    },
    {
     "data": {
      "application/vnd.jupyter.widget-view+json": {
       "model_id": "fd47711a39ce46cab9811abf995e8bb3",
       "version_major": 2,
       "version_minor": 0
      },
      "text/plain": [
       "HBox(children=(IntProgress(value=0, max=919), HTML(value='')))"
      ]
     },
     "metadata": {},
     "output_type": "display_data"
    },
    {
     "data": {
      "application/vnd.jupyter.widget-view+json": {
       "model_id": "151effd31ef343ceb2003f49ab832b4d",
       "version_major": 2,
       "version_minor": 0
      },
      "text/plain": [
       "HBox(children=(IntProgress(value=0, max=919), HTML(value='')))"
      ]
     },
     "metadata": {},
     "output_type": "display_data"
    },
    {
     "data": {
      "application/vnd.jupyter.widget-view+json": {
       "model_id": "bfda92d593144f26aaac7b4166d1e80f",
       "version_major": 2,
       "version_minor": 0
      },
      "text/plain": [
       "HBox(children=(IntProgress(value=0, max=931), HTML(value='')))"
      ]
     },
     "metadata": {},
     "output_type": "display_data"
    },
    {
     "data": {
      "application/vnd.jupyter.widget-view+json": {
       "model_id": "f4646f1aa30747a0b545a28f91cbb360",
       "version_major": 2,
       "version_minor": 0
      },
      "text/plain": [
       "HBox(children=(IntProgress(value=0, max=919), HTML(value='')))"
      ]
     },
     "metadata": {},
     "output_type": "display_data"
    },
    {
     "data": {
      "application/vnd.jupyter.widget-view+json": {
       "model_id": "c20dd96dad1a4e0ab7302fde26e88480",
       "version_major": 2,
       "version_minor": 0
      },
      "text/plain": [
       "HBox(children=(IntProgress(value=0, max=919), HTML(value='')))"
      ]
     },
     "metadata": {},
     "output_type": "display_data"
    },
    {
     "data": {
      "application/vnd.jupyter.widget-view+json": {
       "model_id": "0d4497edf6a54baabfad883c17f90a19",
       "version_major": 2,
       "version_minor": 0
      },
      "text/plain": [
       "HBox(children=(IntProgress(value=0, max=931), HTML(value='')))"
      ]
     },
     "metadata": {},
     "output_type": "display_data"
    },
    {
     "data": {
      "application/vnd.jupyter.widget-view+json": {
       "model_id": "141dd7e1c2804797b9ef5b716f6a6be4",
       "version_major": 2,
       "version_minor": 0
      },
      "text/plain": [
       "HBox(children=(IntProgress(value=0, max=919), HTML(value='')))"
      ]
     },
     "metadata": {},
     "output_type": "display_data"
    },
    {
     "data": {
      "application/vnd.jupyter.widget-view+json": {
       "model_id": "7989315008be478a9c9cf29f9e10eda3",
       "version_major": 2,
       "version_minor": 0
      },
      "text/plain": [
       "HBox(children=(IntProgress(value=0, max=919), HTML(value='')))"
      ]
     },
     "metadata": {},
     "output_type": "display_data"
    },
    {
     "data": {
      "application/vnd.jupyter.widget-view+json": {
       "model_id": "7f074fdb1e4549fb8b03f9a877eef702",
       "version_major": 2,
       "version_minor": 0
      },
      "text/plain": [
       "HBox(children=(IntProgress(value=0, max=931), HTML(value='')))"
      ]
     },
     "metadata": {},
     "output_type": "display_data"
    },
    {
     "data": {
      "application/vnd.jupyter.widget-view+json": {
       "model_id": "3f315c31ceb34832b69055471139ad7d",
       "version_major": 2,
       "version_minor": 0
      },
      "text/plain": [
       "HBox(children=(IntProgress(value=0, max=917), HTML(value='')))"
      ]
     },
     "metadata": {},
     "output_type": "display_data"
    },
    {
     "data": {
      "application/vnd.jupyter.widget-view+json": {
       "model_id": "20db33ecb97f4780a278d9a80c34d66a",
       "version_major": 2,
       "version_minor": 0
      },
      "text/plain": [
       "HBox(children=(IntProgress(value=0, max=917), HTML(value='')))"
      ]
     },
     "metadata": {},
     "output_type": "display_data"
    },
    {
     "data": {
      "application/vnd.jupyter.widget-view+json": {
       "model_id": "2f2f8e1eff594ec7811f5268f7e7a046",
       "version_major": 2,
       "version_minor": 0
      },
      "text/plain": [
       "HBox(children=(IntProgress(value=0, max=931), HTML(value='')))"
      ]
     },
     "metadata": {},
     "output_type": "display_data"
    },
    {
     "data": {
      "application/vnd.jupyter.widget-view+json": {
       "model_id": "c619d3bba2564c07a78265aabe892497",
       "version_major": 2,
       "version_minor": 0
      },
      "text/plain": [
       "HBox(children=(IntProgress(value=0, max=917), HTML(value='')))"
      ]
     },
     "metadata": {},
     "output_type": "display_data"
    },
    {
     "data": {
      "application/vnd.jupyter.widget-view+json": {
       "model_id": "d656d3a8557a485aa30b7de2a83f6f98",
       "version_major": 2,
       "version_minor": 0
      },
      "text/plain": [
       "HBox(children=(IntProgress(value=0, max=917), HTML(value='')))"
      ]
     },
     "metadata": {},
     "output_type": "display_data"
    },
    {
     "data": {
      "application/vnd.jupyter.widget-view+json": {
       "model_id": "41d23c98c48349a08523019955d57869",
       "version_major": 2,
       "version_minor": 0
      },
      "text/plain": [
       "HBox(children=(IntProgress(value=0, max=931), HTML(value='')))"
      ]
     },
     "metadata": {},
     "output_type": "display_data"
    },
    {
     "data": {
      "application/vnd.jupyter.widget-view+json": {
       "model_id": "714273ab743f42c1b79ffd54ba5e8433",
       "version_major": 2,
       "version_minor": 0
      },
      "text/plain": [
       "HBox(children=(IntProgress(value=0, max=917), HTML(value='')))"
      ]
     },
     "metadata": {},
     "output_type": "display_data"
    },
    {
     "data": {
      "application/vnd.jupyter.widget-view+json": {
       "model_id": "50857a1059a94951a0223ce7d9522bcd",
       "version_major": 2,
       "version_minor": 0
      },
      "text/plain": [
       "HBox(children=(IntProgress(value=0, max=917), HTML(value='')))"
      ]
     },
     "metadata": {},
     "output_type": "display_data"
    },
    {
     "data": {
      "application/vnd.jupyter.widget-view+json": {
       "model_id": "85588862edc34f9d90c8d8b044e2aeee",
       "version_major": 2,
       "version_minor": 0
      },
      "text/plain": [
       "HBox(children=(IntProgress(value=0, max=931), HTML(value='')))"
      ]
     },
     "metadata": {},
     "output_type": "display_data"
    },
    {
     "data": {
      "application/vnd.jupyter.widget-view+json": {
       "model_id": "d829ade7c79145c7b292693ed839040e",
       "version_major": 2,
       "version_minor": 0
      },
      "text/plain": [
       "HBox(children=(IntProgress(value=0, max=917), HTML(value='')))"
      ]
     },
     "metadata": {},
     "output_type": "display_data"
    },
    {
     "data": {
      "application/vnd.jupyter.widget-view+json": {
       "model_id": "09586bd4e9484db6a2bb5af08c3b81b6",
       "version_major": 2,
       "version_minor": 0
      },
      "text/plain": [
       "HBox(children=(IntProgress(value=0, max=917), HTML(value='')))"
      ]
     },
     "metadata": {},
     "output_type": "display_data"
    },
    {
     "data": {
      "application/vnd.jupyter.widget-view+json": {
       "model_id": "ac962519853c4156a5dbc464a14b08be",
       "version_major": 2,
       "version_minor": 0
      },
      "text/plain": [
       "HBox(children=(IntProgress(value=0, max=931), HTML(value='')))"
      ]
     },
     "metadata": {},
     "output_type": "display_data"
    },
    {
     "data": {
      "application/vnd.jupyter.widget-view+json": {
       "model_id": "bf9ba20219c84f5086d89d5f04a48b62",
       "version_major": 2,
       "version_minor": 0
      },
      "text/plain": [
       "HBox(children=(IntProgress(value=0, max=917), HTML(value='')))"
      ]
     },
     "metadata": {},
     "output_type": "display_data"
    },
    {
     "data": {
      "application/vnd.jupyter.widget-view+json": {
       "model_id": "bfda307ca1ff49f6b779e81a50c50f4e",
       "version_major": 2,
       "version_minor": 0
      },
      "text/plain": [
       "HBox(children=(IntProgress(value=0, max=917), HTML(value='')))"
      ]
     },
     "metadata": {},
     "output_type": "display_data"
    },
    {
     "data": {
      "application/vnd.jupyter.widget-view+json": {
       "model_id": "edfafa12028444e3b454ae0076f2ab61",
       "version_major": 2,
       "version_minor": 0
      },
      "text/plain": [
       "HBox(children=(IntProgress(value=0, max=931), HTML(value='')))"
      ]
     },
     "metadata": {},
     "output_type": "display_data"
    },
    {
     "data": {
      "application/vnd.jupyter.widget-view+json": {
       "model_id": "94ceb8e402f74eb5af62b87e903b9146",
       "version_major": 2,
       "version_minor": 0
      },
      "text/plain": [
       "HBox(children=(IntProgress(value=0, max=916), HTML(value='')))"
      ]
     },
     "metadata": {},
     "output_type": "display_data"
    },
    {
     "data": {
      "application/vnd.jupyter.widget-view+json": {
       "model_id": "92218a39bd114cfca915fbcd7b1a9711",
       "version_major": 2,
       "version_minor": 0
      },
      "text/plain": [
       "HBox(children=(IntProgress(value=0, max=916), HTML(value='')))"
      ]
     },
     "metadata": {},
     "output_type": "display_data"
    }
   ],
   "source": [
    "delta = d2 - d1         # timedelta\n",
    "date_list = [d1 + timedelta(days=x) for x in range((d2-d1).days + 1)]\n",
    "total_list = []\n",
    "\n",
    "\n",
    "for _, end_date in enumerate(tqdm(date_list)):\n",
    "    if end_date.weekday() in [5, 6]:\n",
    "        continue\n",
    "    \n",
    "    d = func.stock_query(end_date)\n",
    "    stock, index, industry_index = d[0], d[1], d[2]\n",
    "    df_list = [group[1] for group in stock.groupby(stock['StockNo'])]\n",
    "    timedf = pd.DataFrame(d[0]['ts'].unique(), columns=['ts'])\n",
    "    timedf = timedf.sort_values(by='ts')\n",
    "    output_list = []\n",
    "\n",
    "    if __name__ == '__main__':\n",
    "        with Pool(processes=5) as pool:\n",
    "            for ___, x in enumerate(tqdm(pool.imap_unordered(partial(func.FillMissingTime, timedf=timedf, end_date=end_date), df_list), total=len(df_list)), 1):\n",
    "                    if x[0]:\n",
    "                        output_list.append(x[1])\n",
    "                    else:\n",
    "                        continue\n",
    "    \n",
    "    \n",
    "    if len(output_list) == 0:\n",
    "        continue\n",
    "        \n",
    "    df = pd.concat(output_list)\n",
    "    \n",
    "    df_list = [group[1] for group in df.groupby(df['StockNo'])]\n",
    "    output_list = []\n",
    "\n",
    "    if __name__ == '__main__':\n",
    "        with Pool(processes=5) as pool:\n",
    "            for ___, x in enumerate(tqdm(pool.imap_unordered(partial(func.merge_index, index=index, industry_index=industry_index), df_list), total=len(df_list)), 1):\n",
    "                    output_list.append(x)\n",
    "\n",
    "    df = pd.concat(output_list)\n",
    "    \n",
    "    columns_dict = {'lag': ['index_close', 'industry_close', 'close', 'VWAP', 'VWAP_day5'],\n",
    "               'return': ['index', 'industry', 'close', 'VWAP', 'VWAP_day5'],\n",
    "               'ratio': ['index_close', 'index_vol', 'index_return', 'industry_close', 'industry_vol', 'industry_return', 'VWAP_return', 'close_return', 'vol', 'VWAP', 'VWAP_day5', 'VWAP_day5_return'],\n",
    "               'momentum': ['index_close', 'index_vol', 'index_return', 'industry_close', 'industry_vol', 'industry_return', 'VWAP_return', 'close_return', 'vol', 'VWAP', 'VWAP_day5', 'VWAP_day5_return'],\n",
    "                'moment': ['index_close', 'index_vol', 'industry_close', 'industry_vol', 'vol', 'VWAP', 'VWAP_day5', 'VWAP_day5_return'],\n",
    "                'buyer': ['foreign_buy', 'investment_buy', 'dealer_buy']\n",
    "               }\n",
    "    \n",
    "    df_list = [group[1] for group in df.groupby(df['StockNo'])]\n",
    "    output_list = []\n",
    "\n",
    "    if __name__ == '__main__':\n",
    "        with Pool(processes=5) as pool:\n",
    "            for ___, x in enumerate(tqdm(pool.imap_unordered(partial(func1.get_technical_indicators, columns_dict=columns_dict), df_list), total=len(df_list)), 1):\n",
    "                output_list.append(x)\n",
    "\n",
    "    \n",
    "    df = pd.concat(output_list, axis=0)    \n",
    "    df_last = df[df.ts.dt.date == end_date]\n",
    "\n",
    "    total_list.append(df_last)"
   ]
  },
  {
   "cell_type": "code",
   "execution_count": 12,
   "metadata": {},
   "outputs": [],
   "source": [
    "total_df = pd.concat(total_list)"
   ]
  },
  {
   "cell_type": "code",
   "execution_count": 13,
   "metadata": {},
   "outputs": [],
   "source": [
    "feature_list = ['total', 'capital', 'index_open', 'index_high', 'index_low', 'index_close',\n",
    "       'index_return', 'index_vol', 'industry_return',\n",
    "       'foreign_ratio',\n",
    "       'investment_ratio', 'corporation_ratio', 'close_return', 'VWAP_return',\n",
    "       'index_VWAP_slope', 'VWAP_day5_return', 'VWAP_day5_return_5',\n",
    "       'industry_VWAP_slope', 'index_close_slope', 'industry_close_slope',\n",
    "       'index_close_ratio_day5', 'index_vol_ratio_day5',\n",
    "       'index_return_ratio_day5', 'industry_close_ratio_day5',\n",
    "       'industry_vol_ratio_day5', 'industry_return_ratio_day5',\n",
    "       'VWAP_return_ratio_day5', 'close_return_ratio_day5', 'vol_ratio_day5',\n",
    "       'VWAP_ratio_day5', 'index_close_ratio_day10', 'index_vol_ratio_day10',\n",
    "       'index_return_ratio_day10', 'industry_close_ratio_day10',\n",
    "       'industry_vol_ratio_day10', 'industry_return_ratio_day10',\n",
    "       'VWAP_return_ratio_day10', 'close_return_ratio_day10',\n",
    "       'vol_ratio_day10', 'VWAP_ratio_day10', 'index_close_ratio_day15',\n",
    "       'index_vol_ratio_day15', 'index_return_ratio_day15',\n",
    "       'industry_close_ratio_day15', 'industry_vol_ratio_day15',\n",
    "       'industry_return_ratio_day15', 'VWAP_return_ratio_day15',\n",
    "       'close_return_ratio_day15', 'vol_ratio_day15', 'VWAP_ratio_day15',\n",
    "       'index_close_momentum_day1', 'index_vol_momentum_day1',\n",
    "       'index_return_momentum_day1', 'industry_close_momentum_day1',\n",
    "       'industry_vol_momentum_day1', 'industry_return_momentum_day1',\n",
    "       'VWAP_return_momentum_day1', 'close_return_momentum_day1',\n",
    "       'vol_momentum_day1', 'VWAP_momentum_day1', 'index_close_momentum_day2',\n",
    "       'index_vol_momentum_day2', 'index_return_momentum_day2',\n",
    "       'industry_close_momentum_day2', 'industry_vol_momentum_day2',\n",
    "       'industry_return_momentum_day2', 'VWAP_return_momentum_day2',\n",
    "       'close_return_momentum_day2', 'vol_momentum_day2', 'VWAP_momentum_day2',\n",
    "       'index_close_momentum_day3', 'index_vol_momentum_day3',\n",
    "       'index_return_momentum_day3', 'industry_close_momentum_day3',\n",
    "       'industry_vol_momentum_day3', 'industry_return_momentum_day3',\n",
    "       'VWAP_return_momentum_day3', 'close_return_momentum_day3',\n",
    "       'vol_momentum_day3', 'VWAP_momentum_day3',\n",
    "       'index_close_momentum_day4', 'index_vol_momentum_day4',\n",
    "       'index_return_momentum_day4', 'industry_close_momentum_day4',\n",
    "       'industry_vol_momentum_day4', 'industry_return_momentum_day4',\n",
    "       'VWAP_return_momentum_day4', 'close_return_momentum_day4',\n",
    "       'vol_momentum_day4', 'VWAP_momentum_day4', 'index_close_momentum_day5',\n",
    "       'index_vol_momentum_day5', 'index_return_momentum_day5',\n",
    "       'industry_close_momentum_day5', 'industry_vol_momentum_day5',\n",
    "       'industry_return_momentum_day5', 'VWAP_return_momentum_day5',\n",
    "       'close_return_momentum_day5', 'vol_momentum_day5', 'VWAP_momentum_day5',\n",
    "       'index_close_momentum_day10', 'index_vol_momentum_day10',\n",
    "       'index_return_momentum_day10', 'industry_close_momentum_day10',\n",
    "       'industry_vol_momentum_day10', 'industry_return_momentum_day10',\n",
    "       'VWAP_return_momentum_day10', 'close_return_momentum_day10',\n",
    "       'vol_momentum_day10', 'VWAP_momentum_day10', 'index_close_momentum_day15',\n",
    "       'index_vol_momentum_day15', 'index_return_momentum_day15',\n",
    "       'industry_close_momentum_day15', 'industry_vol_momentum_day15',\n",
    "       'industry_return_momentum_day15', 'VWAP_return_momentum_day15',\n",
    "       'close_return_momentum_day15', 'vol_momentum_day15',\n",
    "       'VWAP_momentum_day15', 'vol_VWAP_corr', 'vol_volatile_corr',\n",
    "       'index_vol_close_corr', 'index_vol_volatile_corr',\n",
    "       'industry_vol_close_corr', 'industry_vol_volatile_corr',\n",
    "       'index_close_skew', 'index_close_kurtosis', 'index_vol_skew',\n",
    "       'index_vol_kurtosis', 'industry_close_skew', 'industry_close_kurtosis', 'industry_vol_skew',\n",
    "       'industry_vol_kurtosis', 'vol_skew', 'vol_kurtosis', 'VWAP_skew',\n",
    "       'VWAP_kurtosis', 'VWAP_day5_skew', 'VWAP_day5_kurtosis',\n",
    "       'foreign_buy_ratio', 'foreign_buy_day3_ratio', 'foreign_buy_week_ratio',\n",
    "       'foreign_buy_2week_ratio', 'foreign_buy_3week_ratio',\n",
    "       'foreign_buy_continuous', 'foreign_buy_buy_indicator',\n",
    "       'foreign_buy_sell_indicator', 'investment_buy_ratio',\n",
    "       'investment_buy_day3_ratio', 'investment_buy_week_ratio',\n",
    "       'investment_buy_2week_ratio', 'investment_buy_3week_ratio',\n",
    "       'investment_buy_continuous', 'investment_buy_buy_day_ratio',\n",
    "       'investment_buy_sell_day_ratio', 'dealer_buy_ratio',\n",
    "       'dealer_buy_day3_ratio', 'dealer_buy_week_ratio',\n",
    "       'dealer_buy_2week_ratio', 'dealer_buy_3week_ratio',\n",
    "       'dealer_buy_continuous', 'dealer_buy_buy_day_ratio',\n",
    "       'dealer_buy_sell_day_ratio', 'index_pvt', 'industry_pvt', 'foreign_pvt',\n",
    "       'investment_pvt', 'dealer_pvt', 'pvt', 'RSI_15', 'SOk5_1', 'SOd3',\n",
    "       'SOk15_5', 'SOd5', 'industry', 'ts', 'StockNo']"
   ]
  },
  {
   "cell_type": "code",
   "execution_count": 14,
   "metadata": {},
   "outputs": [
    {
     "data": {
      "text/plain": [
       "False"
      ]
     },
     "execution_count": 14,
     "metadata": {},
     "output_type": "execute_result"
    }
   ],
   "source": [
    "total_df[feature_list].isna().values.any()"
   ]
  },
  {
   "cell_type": "code",
   "execution_count": 17,
   "metadata": {},
   "outputs": [],
   "source": [
    "total_df[feature_list].to_csv(f'testing_all_201910_p2.csv',index=False)"
   ]
  },
  {
   "cell_type": "code",
   "execution_count": 16,
   "metadata": {},
   "outputs": [
    {
     "data": {
      "text/plain": [
       "Timestamp('2019-10-14 00:00:00')"
      ]
     },
     "execution_count": 16,
     "metadata": {},
     "output_type": "execute_result"
    }
   ],
   "source": [
    "total_df['ts'].min()"
   ]
  },
  {
   "cell_type": "code",
   "execution_count": 9,
   "metadata": {},
   "outputs": [
    {
     "data": {
      "text/plain": [
       "178"
      ]
     },
     "execution_count": 9,
     "metadata": {},
     "output_type": "execute_result"
    }
   ],
   "source": [
    "len(feature_list)"
   ]
  },
  {
   "cell_type": "code",
   "execution_count": 18,
   "metadata": {},
   "outputs": [],
   "source": [
    "d = func.stock_query(end_date)"
   ]
  },
  {
   "cell_type": "code",
   "execution_count": 19,
   "metadata": {},
   "outputs": [
    {
     "data": {
      "text/plain": [
       "0        None\n",
       "1        None\n",
       "2        None\n",
       "3        None\n",
       "4        None\n",
       "         ... \n",
       "95633    None\n",
       "95634    None\n",
       "95635    None\n",
       "95636    None\n",
       "95637    None\n",
       "Name: PctRank, Length: 95638, dtype: object"
      ]
     },
     "execution_count": 19,
     "metadata": {},
     "output_type": "execute_result"
    }
   ],
   "source": [
    "d[0]['PctRank']"
   ]
  },
  {
   "cell_type": "code",
   "execution_count": null,
   "metadata": {},
   "outputs": [],
   "source": []
  }
 ],
 "metadata": {
  "kernelspec": {
   "display_name": "Python 3",
   "language": "python",
   "name": "python3"
  },
  "language_info": {
   "codemirror_mode": {
    "name": "ipython",
    "version": 3
   },
   "file_extension": ".py",
   "mimetype": "text/x-python",
   "name": "python",
   "nbconvert_exporter": "python",
   "pygments_lexer": "ipython3",
   "version": "3.6.9"
  }
 },
 "nbformat": 4,
 "nbformat_minor": 2
}
