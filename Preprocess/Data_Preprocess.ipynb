{
 "cells": [
  {
   "cell_type": "code",
   "execution_count": 1,
   "metadata": {},
   "outputs": [],
   "source": [
    "import numpy as np \n",
    "import pandas as pd \n",
    "import datetime\n",
    "from datetime import datetime, date\n",
    "from tqdm import tqdm_notebook as tqdm\n",
    "import os\n",
    "\n",
    "\n",
    "from multiprocessing import Pool\n",
    "from functools import partial\n",
    "import ALL_STOCK_preprocess_function as func"
   ]
  },
  {
   "cell_type": "code",
   "execution_count": 2,
   "metadata": {
    "scrolled": true
   },
   "outputs": [
    {
     "data": {
      "application/vnd.jupyter.widget-view+json": {
       "model_id": "dd32f38980be41ef81dcbfcd032894db",
       "version_major": 2,
       "version_minor": 0
      },
      "text/plain": [
       "HBox(children=(IntProgress(value=0, max=16), HTML(value='')))"
      ]
     },
     "metadata": {},
     "output_type": "display_data"
    },
    {
     "name": "stdout",
     "output_type": "stream",
     "text": [
      "\n"
     ]
    }
   ],
   "source": [
    "file_path = 'D:\\\\OneDrive - SinoPac\\\\Cmoney資料表\\\\基本面\\\\下市櫃公司基本資料\\\\'\n",
    "file_list = os.listdir(file_path)\n",
    "save_path = 'D:\\\\庫存健診開發\\\\data\\\\下市櫃公司基本資料\\\\'\n",
    "df_list = []\n",
    "\n",
    "if __name__ == '__main__':\n",
    "    with Pool(processes=12) as pool:\n",
    "        for i, x in enumerate(tqdm(pool.imap_unordered(partial(func.read_off_stock, file_path=file_path, save_path=save_path), file_list), total=len(file_list)), 1):\n",
    "                df_list.append(x)\n",
    "                \n",
    "off = pd.concat(df_list, axis=0)\n",
    "off.to_csv('D:\\\\庫存健診開發\\\\data\\\\processed\\\\Offdate.csv', index=False)"
   ]
  },
  {
   "cell_type": "code",
   "execution_count": 3,
   "metadata": {},
   "outputs": [
    {
     "data": {
      "application/vnd.jupyter.widget-view+json": {
       "model_id": "465f14ffbe16454e87c5261c5a9815a7",
       "version_major": 2,
       "version_minor": 0
      },
      "text/plain": [
       "HBox(children=(IntProgress(value=0, max=11), HTML(value='')))"
      ]
     },
     "metadata": {},
     "output_type": "display_data"
    },
    {
     "name": "stdout",
     "output_type": "stream",
     "text": [
      "\n"
     ]
    }
   ],
   "source": [
    "file_path = 'D:\\\\OneDrive - SinoPac\\\\Cmoney資料表\\\\基本面\\\\上市櫃公司基本資料\\\\'\n",
    "file_list = os.listdir(file_path)\n",
    "save_path = 'D:\\\\庫存健診開發\\\\data\\\\上市櫃公司基本資料\\\\'\n",
    "df_list = []\n",
    "\n",
    "if __name__ == '__main__':\n",
    "    with Pool(processes=12) as pool:\n",
    "        for i, x in enumerate(tqdm(pool.imap_unordered(partial(func.read_fundamental, file_path=file_path, save_path=save_path), file_list), total=len(file_list)), 1):\n",
    "                df_list.append(x)\n",
    "                \n",
    "fundamental = pd.concat(df_list, axis=0)\n",
    "fundamental.to_csv('D:\\\\庫存健診開發\\\\data\\\\processed\\\\Ondate.csv', index=False)"
   ]
  },
  {
   "cell_type": "code",
   "execution_count": 2,
   "metadata": {},
   "outputs": [
    {
     "data": {
      "application/vnd.jupyter.widget-view+json": {
       "model_id": "d1ae42c141154de8b35700e19e77fd6d",
       "version_major": 2,
       "version_minor": 0
      },
      "text/plain": [
       "HBox(children=(IntProgress(value=0, max=809), HTML(value='')))"
      ]
     },
     "metadata": {},
     "output_type": "display_data"
    },
    {
     "name": "stdout",
     "output_type": "stream",
     "text": [
      "\n"
     ]
    }
   ],
   "source": [
    "file_path = 'D:\\\\SinoPac\\\\彭偉綸-數位金融部-證券 - Cmoney資料表\\\\技術面\\\\週收盤表排行\\\\'\n",
    "file_list = os.listdir(file_path)\n",
    "save_path = 'D:\\\\庫存健診開發\\\\data\\\\價量資料\\\\'\n",
    "df_list, index_list, industry_list = [], [], []\n",
    "\n",
    "if __name__ == '__main__':\n",
    "    with Pool(processes=12) as pool:\n",
    "        for i, x in enumerate(tqdm(pool.imap_unordered(partial(func.data_preprocess, file_path=file_path, save_path=save_path), file_list), total=len(file_list)), 1):\n",
    "            df_list.append(x[0])\n",
    "            index_list.append(x[1])\n",
    "            industry_list.append(x[2])\n",
    "                \n",
    "data, index, industry_index = pd.concat(df_list, axis=0), pd.concat(index_list, axis=0), pd.concat(industry_list, axis=0)\n",
    "data['ts'], index['ts'], industry_index['ts'] = pd.to_datetime(data['ts']), pd.to_datetime(index['ts']), pd.to_datetime(industry_index['ts'])\n",
    "index.to_csv('D:\\\\庫存健診開發\\\\data\\\\processed\\\\index_weekly.csv', index=False)\n",
    "industry_index.to_csv('D:\\\\庫存健診開發\\\\data\\\\processed\\\\industry_index_weekly.csv', index=False)\n",
    "data.to_csv('D:\\\\庫存健診開發\\\\data\\\\processed\\\\TWSE_ALL_weekly.csv', index=False)"
   ]
  },
  {
   "cell_type": "code",
   "execution_count": 3,
   "metadata": {},
   "outputs": [],
   "source": [
    "fundamental = pd.read_csv('D:\\\\庫存健診開發\\\\data\\\\processed\\\\Ondate.csv', converters={'StockNo': str})\n",
    "fundamental['On_Date'] = pd.to_datetime(fundamental['On_Date'])\n",
    "off = pd.read_csv('D:\\\\庫存健診開發\\\\data\\\\processed\\\\Offdate.csv', converters={'StockNo': str})"
   ]
  },
  {
   "cell_type": "code",
   "execution_count": 4,
   "metadata": {},
   "outputs": [
    {
     "name": "stderr",
     "output_type": "stream",
     "text": [
      "D:\\庫存健診開發\\code\\Preprocess\\ALL_STOCK_preprocess_function.py:164: UserWarning: Boolean Series key will be reindexed to match DataFrame index.\n",
      "  df = df[df.ts.dt.date > date(2007,7,1)][df.ts.dt.date < date(2019,9,24)]\n"
     ]
    },
    {
     "data": {
      "text/html": [
       "<div>\n",
       "<style scoped>\n",
       "    .dataframe tbody tr th:only-of-type {\n",
       "        vertical-align: middle;\n",
       "    }\n",
       "\n",
       "    .dataframe tbody tr th {\n",
       "        vertical-align: top;\n",
       "    }\n",
       "\n",
       "    .dataframe thead th {\n",
       "        text-align: right;\n",
       "    }\n",
       "</style>\n",
       "<table border=\"1\" class=\"dataframe\">\n",
       "  <thead>\n",
       "    <tr style=\"text-align: right;\">\n",
       "      <th></th>\n",
       "      <th>ts</th>\n",
       "      <th>StockNo</th>\n",
       "      <th>StockName</th>\n",
       "      <th>open</th>\n",
       "      <th>high</th>\n",
       "      <th>low</th>\n",
       "      <th>close</th>\n",
       "      <th>return</th>\n",
       "      <th>volatility</th>\n",
       "      <th>vol</th>\n",
       "      <th>total</th>\n",
       "      <th>capital</th>\n",
       "      <th>VWAP</th>\n",
       "      <th>On_Date</th>\n",
       "    </tr>\n",
       "  </thead>\n",
       "  <tbody>\n",
       "    <tr>\n",
       "      <td>171</td>\n",
       "      <td>2007-07-06</td>\n",
       "      <td>1101</td>\n",
       "      <td>台泥</td>\n",
       "      <td>38.20</td>\n",
       "      <td>38.65</td>\n",
       "      <td>36.75</td>\n",
       "      <td>38.55</td>\n",
       "      <td>1.18</td>\n",
       "      <td>4.99</td>\n",
       "      <td>71735</td>\n",
       "      <td>2687679</td>\n",
       "      <td>1236.5</td>\n",
       "      <td>37.466774</td>\n",
       "      <td>1962-02-09</td>\n",
       "    </tr>\n",
       "    <tr>\n",
       "      <td>173</td>\n",
       "      <td>2007-07-13</td>\n",
       "      <td>1101</td>\n",
       "      <td>台泥</td>\n",
       "      <td>39.00</td>\n",
       "      <td>39.30</td>\n",
       "      <td>37.30</td>\n",
       "      <td>38.30</td>\n",
       "      <td>-0.65</td>\n",
       "      <td>5.19</td>\n",
       "      <td>69418</td>\n",
       "      <td>2660721</td>\n",
       "      <td>1228.4</td>\n",
       "      <td>38.328978</td>\n",
       "      <td>1962-02-09</td>\n",
       "    </tr>\n",
       "    <tr>\n",
       "      <td>174</td>\n",
       "      <td>2007-07-20</td>\n",
       "      <td>1101</td>\n",
       "      <td>台泥</td>\n",
       "      <td>39.00</td>\n",
       "      <td>42.30</td>\n",
       "      <td>38.50</td>\n",
       "      <td>40.35</td>\n",
       "      <td>5.35</td>\n",
       "      <td>9.92</td>\n",
       "      <td>107710</td>\n",
       "      <td>4383515</td>\n",
       "      <td>1294.2</td>\n",
       "      <td>40.697382</td>\n",
       "      <td>1962-02-09</td>\n",
       "    </tr>\n",
       "    <tr>\n",
       "      <td>175</td>\n",
       "      <td>2007-07-27</td>\n",
       "      <td>1101</td>\n",
       "      <td>台泥</td>\n",
       "      <td>40.35</td>\n",
       "      <td>44.05</td>\n",
       "      <td>39.85</td>\n",
       "      <td>39.85</td>\n",
       "      <td>-1.24</td>\n",
       "      <td>10.41</td>\n",
       "      <td>79990</td>\n",
       "      <td>3365311</td>\n",
       "      <td>1278.1</td>\n",
       "      <td>42.071646</td>\n",
       "      <td>1962-02-09</td>\n",
       "    </tr>\n",
       "    <tr>\n",
       "      <td>176</td>\n",
       "      <td>2007-08-10</td>\n",
       "      <td>1101</td>\n",
       "      <td>台泥</td>\n",
       "      <td>37.00</td>\n",
       "      <td>42.55</td>\n",
       "      <td>37.00</td>\n",
       "      <td>39.45</td>\n",
       "      <td>3.00</td>\n",
       "      <td>14.49</td>\n",
       "      <td>118980</td>\n",
       "      <td>4877686</td>\n",
       "      <td>1281.6</td>\n",
       "      <td>40.995848</td>\n",
       "      <td>1962-02-09</td>\n",
       "    </tr>\n",
       "    <tr>\n",
       "      <td>...</td>\n",
       "      <td>...</td>\n",
       "      <td>...</td>\n",
       "      <td>...</td>\n",
       "      <td>...</td>\n",
       "      <td>...</td>\n",
       "      <td>...</td>\n",
       "      <td>...</td>\n",
       "      <td>...</td>\n",
       "      <td>...</td>\n",
       "      <td>...</td>\n",
       "      <td>...</td>\n",
       "      <td>...</td>\n",
       "      <td>...</td>\n",
       "      <td>...</td>\n",
       "    </tr>\n",
       "    <tr>\n",
       "      <td>628006</td>\n",
       "      <td>2019-09-20</td>\n",
       "      <td>4572</td>\n",
       "      <td>駐龍</td>\n",
       "      <td>156.00</td>\n",
       "      <td>157.50</td>\n",
       "      <td>147.00</td>\n",
       "      <td>151.50</td>\n",
       "      <td>-3.19</td>\n",
       "      <td>6.71</td>\n",
       "      <td>1682</td>\n",
       "      <td>256066</td>\n",
       "      <td>54.2</td>\n",
       "      <td>152.239001</td>\n",
       "      <td>2019-09-10</td>\n",
       "    </tr>\n",
       "    <tr>\n",
       "      <td>628009</td>\n",
       "      <td>2019-09-12</td>\n",
       "      <td>4576</td>\n",
       "      <td>大銀微系統</td>\n",
       "      <td>86.40</td>\n",
       "      <td>88.40</td>\n",
       "      <td>83.30</td>\n",
       "      <td>87.00</td>\n",
       "      <td>0.46</td>\n",
       "      <td>5.89</td>\n",
       "      <td>3035</td>\n",
       "      <td>260666</td>\n",
       "      <td>102.6</td>\n",
       "      <td>85.886656</td>\n",
       "      <td>2019-09-04</td>\n",
       "    </tr>\n",
       "    <tr>\n",
       "      <td>628013</td>\n",
       "      <td>2019-09-20</td>\n",
       "      <td>4576</td>\n",
       "      <td>大銀微系統</td>\n",
       "      <td>86.50</td>\n",
       "      <td>87.80</td>\n",
       "      <td>84.90</td>\n",
       "      <td>86.20</td>\n",
       "      <td>-0.92</td>\n",
       "      <td>3.33</td>\n",
       "      <td>1257</td>\n",
       "      <td>108359</td>\n",
       "      <td>101.6</td>\n",
       "      <td>86.204455</td>\n",
       "      <td>2019-09-04</td>\n",
       "    </tr>\n",
       "    <tr>\n",
       "      <td>628016</td>\n",
       "      <td>2019-09-06</td>\n",
       "      <td>4576</td>\n",
       "      <td>大銀微系統</td>\n",
       "      <td>83.00</td>\n",
       "      <td>93.00</td>\n",
       "      <td>80.00</td>\n",
       "      <td>86.60</td>\n",
       "      <td>NaN</td>\n",
       "      <td>NaN</td>\n",
       "      <td>9838</td>\n",
       "      <td>859028</td>\n",
       "      <td>102.1</td>\n",
       "      <td>87.317341</td>\n",
       "      <td>2019-09-04</td>\n",
       "    </tr>\n",
       "    <tr>\n",
       "      <td>628020</td>\n",
       "      <td>2019-09-20</td>\n",
       "      <td>4571</td>\n",
       "      <td>鈞興-KY</td>\n",
       "      <td>89.00</td>\n",
       "      <td>97.00</td>\n",
       "      <td>85.50</td>\n",
       "      <td>92.40</td>\n",
       "      <td>NaN</td>\n",
       "      <td>NaN</td>\n",
       "      <td>5773</td>\n",
       "      <td>520758</td>\n",
       "      <td>44.0</td>\n",
       "      <td>90.205786</td>\n",
       "      <td>2019-09-17</td>\n",
       "    </tr>\n",
       "  </tbody>\n",
       "</table>\n",
       "<p>504662 rows × 14 columns</p>\n",
       "</div>"
      ],
      "text/plain": [
       "               ts StockNo StockName    open    high     low   close  return  \\\n",
       "171    2007-07-06    1101        台泥   38.20   38.65   36.75   38.55    1.18   \n",
       "173    2007-07-13    1101        台泥   39.00   39.30   37.30   38.30   -0.65   \n",
       "174    2007-07-20    1101        台泥   39.00   42.30   38.50   40.35    5.35   \n",
       "175    2007-07-27    1101        台泥   40.35   44.05   39.85   39.85   -1.24   \n",
       "176    2007-08-10    1101        台泥   37.00   42.55   37.00   39.45    3.00   \n",
       "...           ...     ...       ...     ...     ...     ...     ...     ...   \n",
       "628006 2019-09-20    4572        駐龍  156.00  157.50  147.00  151.50   -3.19   \n",
       "628009 2019-09-12    4576     大銀微系統   86.40   88.40   83.30   87.00    0.46   \n",
       "628013 2019-09-20    4576     大銀微系統   86.50   87.80   84.90   86.20   -0.92   \n",
       "628016 2019-09-06    4576     大銀微系統   83.00   93.00   80.00   86.60     NaN   \n",
       "628020 2019-09-20    4571     鈞興-KY   89.00   97.00   85.50   92.40     NaN   \n",
       "\n",
       "        volatility     vol    total  capital        VWAP    On_Date  \n",
       "171           4.99   71735  2687679   1236.5   37.466774 1962-02-09  \n",
       "173           5.19   69418  2660721   1228.4   38.328978 1962-02-09  \n",
       "174           9.92  107710  4383515   1294.2   40.697382 1962-02-09  \n",
       "175          10.41   79990  3365311   1278.1   42.071646 1962-02-09  \n",
       "176          14.49  118980  4877686   1281.6   40.995848 1962-02-09  \n",
       "...            ...     ...      ...      ...         ...        ...  \n",
       "628006        6.71    1682   256066     54.2  152.239001 2019-09-10  \n",
       "628009        5.89    3035   260666    102.6   85.886656 2019-09-04  \n",
       "628013        3.33    1257   108359    101.6   86.204455 2019-09-04  \n",
       "628016         NaN    9838   859028    102.1   87.317341 2019-09-04  \n",
       "628020         NaN    5773   520758     44.0   90.205786 2019-09-17  \n",
       "\n",
       "[504662 rows x 14 columns]"
      ]
     },
     "execution_count": 4,
     "metadata": {},
     "output_type": "execute_result"
    }
   ],
   "source": [
    "df = func.filter_stocks(data, fundamental, off)\n",
    "df"
   ]
  },
  {
   "cell_type": "code",
   "execution_count": 10,
   "metadata": {},
   "outputs": [
    {
     "data": {
      "application/vnd.jupyter.widget-view+json": {
       "model_id": "ba18f68e2c934d0289e51e946a51db0a",
       "version_major": 2,
       "version_minor": 0
      },
      "text/plain": [
       "HBox(children=(IntProgress(value=0, max=16), HTML(value='')))"
      ]
     },
     "metadata": {},
     "output_type": "display_data"
    }
   ],
   "source": [
    "file_path = 'D:\\\\SinoPac\\\\彭偉綸-數位金融部-證券 - Cmoney資料表\\\\基本面\\\\減資狀況\\\\'\n",
    "file_list = os.listdir(file_path)\n",
    "save_path = 'D:\\\\庫存健診開發\\\\data\\\\減資資料\\\\'\n",
    "df_list = []\n",
    "\n",
    "if __name__ == '__main__':\n",
    "    with Pool(processes=12) as pool:\n",
    "        for i, x in enumerate(tqdm(pool.imap_unordered(partial(func.read_eliminate, file_path=file_path, save_path=save_path), file_list), total=len(file_list)), 1):\n",
    "                df_list.append(x)\n",
    "                \n",
    "eliminate = pd.concat(df_list, axis=0)\n",
    "eliminate = eliminate.sort_values(by='year')\n",
    "eliminate.to_csv('D:\\\\庫存健診開發\\\\data\\\\processed\\\\eliminate.csv', index=False)"
   ]
  },
  {
   "cell_type": "code",
   "execution_count": 4,
   "metadata": {},
   "outputs": [
    {
     "data": {
      "application/vnd.jupyter.widget-view+json": {
       "model_id": "5dd019e2e68149948d4de18dc7ffce27",
       "version_major": 2,
       "version_minor": 0
      },
      "text/plain": [
       "HBox(children=(IntProgress(value=0, max=3893), HTML(value='')))"
      ]
     },
     "metadata": {},
     "output_type": "display_data"
    }
   ],
   "source": [
    "file_path = 'D:\\\\SinoPac\\\\彭偉綸-數位金融部-證券 - Cmoney資料表\\\\籌碼面\\\\日法人持股估計\\\\'\n",
    "file_list = os.listdir(file_path)\n",
    "save_path = 'D:\\\\庫存健診開發\\\\data\\\\三大法人\\\\'\n",
    "df_list = []\n",
    "\n",
    "if __name__ == '__main__':\n",
    "    with Pool(processes=12) as pool:\n",
    "        for i, x in enumerate(tqdm(pool.imap_unordered(partial(func.read_inventory, file_path=file_path, save_path=save_path), file_list), total=len(file_list)), 1):\n",
    "                df_list.append(x)\n",
    "                \n",
    "inventory = pd.concat(df_list, axis=0)\n",
    "inventory = inventory.sort_values(by='ts')\n",
    "inventory['ts'] = pd.to_datetime(inventory['ts'])\n",
    "inventory.to_csv('D:\\\\庫存健診開發\\\\data\\\\processed\\\\inventory.csv', index=False)"
   ]
  },
  {
   "cell_type": "code",
   "execution_count": null,
   "metadata": {},
   "outputs": [],
   "source": []
  }
 ],
 "metadata": {
  "kernelspec": {
   "display_name": "Python (tf-gpu)",
   "language": "python",
   "name": "tf-gpu"
  },
  "language_info": {
   "codemirror_mode": {
    "name": "ipython",
    "version": 3
   },
   "file_extension": ".py",
   "mimetype": "text/x-python",
   "name": "python",
   "nbconvert_exporter": "python",
   "pygments_lexer": "ipython3",
   "version": "3.6.9"
  }
 },
 "nbformat": 4,
 "nbformat_minor": 2
}
