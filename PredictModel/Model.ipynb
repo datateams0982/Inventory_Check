{
 "cells": [
  {
   "cell_type": "code",
   "execution_count": 1,
   "metadata": {
    "scrolled": true
   },
   "outputs": [
    {
     "name": "stderr",
     "output_type": "stream",
     "text": [
      "C:\\Users\\011553\\AppData\\Local\\Continuum\\anaconda3\\envs\\tf-gpu\\lib\\site-packages\\sklearn\\externals\\joblib\\__init__.py:15: DeprecationWarning: sklearn.externals.joblib is deprecated in 0.21 and will be removed in 0.23. Please import this functionality directly from joblib, which can be installed with: pip install joblib. If this warning is raised when loading pickled models, you may need to re-serialize those models with scikit-learn 0.21+.\n",
      "  warnings.warn(msg, category=DeprecationWarning)\n"
     ]
    }
   ],
   "source": [
    "import numpy as np \n",
    "import pandas as pd\n",
    "from tqdm import tqdm_notebook as tqdm\n",
    "\n",
    "from Model_class import CNN_model, CNN_Tree_Classifier, CNN_Bagging, CNN_Boosting\n",
    "from Fine_Tune import Hyperparameter_Tuning as Tuning\n",
    "\n",
    "import pickle\n",
    "import random"
   ]
  },
  {
   "cell_type": "code",
   "execution_count": 2,
   "metadata": {},
   "outputs": [],
   "source": [
    "path = 'D:\\\\庫存健診開發\\\\data\\\\Training\\\\processed\\\\'"
   ]
  },
  {
   "cell_type": "code",
   "execution_count": 26,
   "metadata": {},
   "outputs": [],
   "source": [
    "param = {'Conv_layer': [2],\n",
    "        'Dense_layer': [1],\n",
    "        'Dense': [64, 128, 256],\n",
    "        'dropout_ratio': [0, 0.1, 0.15, 0.2, 0.25, 0.3],\n",
    "        'filter': [64, 100, 128, 256],\n",
    "        'kernel': [3, 5],\n",
    "        'padding': ['causal'],\n",
    "        'learning_rate': [0.001, 0.002, 0.003],\n",
    "        'batch': [64, 128, 256, 512],\n",
    "        'epochs': [1]}\n",
    "\n",
    "rf_param = {'classifier': ['RandomForest'],\n",
    "                'max_depth': [5, 10, 15, 20, 25, 30],\n",
    "                'max_features': ['auto'],\n",
    "                'min_samples_leaf': [0.05, 0.1, 0.15, 0.2],\n",
    "                'min_samples_split': [0.05, 0.1, 0.15, 0.2],\n",
    "                'n_estimators': [3]}"
   ]
  },
  {
   "cell_type": "code",
   "execution_count": 34,
   "metadata": {},
   "outputs": [],
   "source": [
    "Optimization = Tuning(df_path=path, model='CNN_Tree_Classifier', CNNparam=param, Modelparam=rf_param, max_iter=1, cluster_num=0, model_keep=1)"
   ]
  },
  {
   "cell_type": "code",
   "execution_count": 30,
   "metadata": {
    "scrolled": true
   },
   "outputs": [
    {
     "name": "stderr",
     "output_type": "stream",
     "text": [
      "C:\\Users\\011553\\AppData\\Local\\Continuum\\anaconda3\\envs\\tf-gpu\\lib\\site-packages\\sklearn\\preprocessing\\_encoders.py:415: FutureWarning: The handling of integer data will change in version 0.22. Currently, the categories are determined based on the range [0, max(values)], while in the future they will be determined based on the unique values.\n",
      "If you want the future behaviour and silence this warning, you can specify \"categories='auto'\".\n",
      "In case you used a LabelEncoder before this OneHotEncoder to convert the categories to integers, then you can now use the OneHotEncoder directly.\n",
      "  warnings.warn(msg, FutureWarning)\n",
      "C:\\Users\\011553\\AppData\\Local\\Continuum\\anaconda3\\envs\\tf-gpu\\lib\\site-packages\\sklearn\\preprocessing\\_encoders.py:415: FutureWarning: The handling of integer data will change in version 0.22. Currently, the categories are determined based on the range [0, max(values)], while in the future they will be determined based on the unique values.\n",
      "If you want the future behaviour and silence this warning, you can specify \"categories='auto'\".\n",
      "In case you used a LabelEncoder before this OneHotEncoder to convert the categories to integers, then you can now use the OneHotEncoder directly.\n",
      "  warnings.warn(msg, FutureWarning)\n",
      "C:\\Users\\011553\\AppData\\Local\\Continuum\\anaconda3\\envs\\tf-gpu\\lib\\site-packages\\sklearn\\preprocessing\\_encoders.py:415: FutureWarning: The handling of integer data will change in version 0.22. Currently, the categories are determined based on the range [0, max(values)], while in the future they will be determined based on the unique values.\n",
      "If you want the future behaviour and silence this warning, you can specify \"categories='auto'\".\n",
      "In case you used a LabelEncoder before this OneHotEncoder to convert the categories to integers, then you can now use the OneHotEncoder directly.\n",
      "  warnings.warn(msg, FutureWarning)\n"
     ]
    },
    {
     "name": "stdout",
     "output_type": "stream",
     "text": [
      "Train on 197067 samples, validate on 27592 samples\n",
      "197067/197067 - 10s - loss: 0.6729 - auc_2: 0.6165 - val_loss: 0.6703 - val_auc_2: 0.6231\n",
      "AUC:\t0.5524240779158293 \t Accuracy:\t0.5535662510872716 \t Accuracy Balance:\t0.8493150684931506 \t AUC Balance:\t0.9041095890410958\n"
     ]
    }
   ],
   "source": [
    "Optimization.RandomSearch()"
   ]
  },
  {
   "cell_type": "code",
   "execution_count": 33,
   "metadata": {},
   "outputs": [
    {
     "data": {
      "application/vnd.jupyter.widget-view+json": {
       "model_id": "d57d3d2d4ad24112b4e0c8781ab8fe6e",
       "version_major": 2,
       "version_minor": 0
      },
      "text/plain": [
       "HBox(children=(IntProgress(value=0, max=1), HTML(value='')))"
      ]
     },
     "metadata": {},
     "output_type": "display_data"
    },
    {
     "name": "stdout",
     "output_type": "stream",
     "text": [
      "\n"
     ]
    }
   ],
   "source": [
    "Optimization.save_optimal_model()\n",
    "Optimization.save_optimal_param()"
   ]
  },
  {
   "cell_type": "code",
   "execution_count": 36,
   "metadata": {},
   "outputs": [
    {
     "data": {
      "text/plain": [
       "[0.5524240779158293,\n",
       " 0.5535662510872716,\n",
       " '              precision    recall  f1-score   support\\n\\n        down       0.55      0.50      0.52     13509\\n          up       0.56      0.61      0.58     14083\\n\\n    accuracy                           0.55     27592\\n   macro avg       0.55      0.55      0.55     27592\\nweighted avg       0.55      0.55      0.55     27592\\n']"
      ]
     },
     "execution_count": 36,
     "metadata": {},
     "output_type": "execute_result"
    }
   ],
   "source": [
    "Optimization.Evaluation(1, target='validation')"
   ]
  },
  {
   "cell_type": "code",
   "execution_count": 35,
   "metadata": {
    "scrolled": true
   },
   "outputs": [
    {
     "name": "stderr",
     "output_type": "stream",
     "text": [
      "C:\\Users\\011553\\AppData\\Local\\Continuum\\anaconda3\\envs\\tf-gpu\\lib\\site-packages\\sklearn\\preprocessing\\_encoders.py:415: FutureWarning: The handling of integer data will change in version 0.22. Currently, the categories are determined based on the range [0, max(values)], while in the future they will be determined based on the unique values.\n",
      "If you want the future behaviour and silence this warning, you can specify \"categories='auto'\".\n",
      "In case you used a LabelEncoder before this OneHotEncoder to convert the categories to integers, then you can now use the OneHotEncoder directly.\n",
      "  warnings.warn(msg, FutureWarning)\n",
      "C:\\Users\\011553\\AppData\\Local\\Continuum\\anaconda3\\envs\\tf-gpu\\lib\\site-packages\\sklearn\\preprocessing\\_encoders.py:415: FutureWarning: The handling of integer data will change in version 0.22. Currently, the categories are determined based on the range [0, max(values)], while in the future they will be determined based on the unique values.\n",
      "If you want the future behaviour and silence this warning, you can specify \"categories='auto'\".\n",
      "In case you used a LabelEncoder before this OneHotEncoder to convert the categories to integers, then you can now use the OneHotEncoder directly.\n",
      "  warnings.warn(msg, FutureWarning)\n",
      "C:\\Users\\011553\\AppData\\Local\\Continuum\\anaconda3\\envs\\tf-gpu\\lib\\site-packages\\sklearn\\preprocessing\\_encoders.py:415: FutureWarning: The handling of integer data will change in version 0.22. Currently, the categories are determined based on the range [0, max(values)], while in the future they will be determined based on the unique values.\n",
      "If you want the future behaviour and silence this warning, you can specify \"categories='auto'\".\n",
      "In case you used a LabelEncoder before this OneHotEncoder to convert the categories to integers, then you can now use the OneHotEncoder directly.\n",
      "  warnings.warn(msg, FutureWarning)\n"
     ]
    }
   ],
   "source": [
    "Optimization.load_optimal_model()"
   ]
  },
  {
   "cell_type": "code",
   "execution_count": 35,
   "metadata": {},
   "outputs": [
    {
     "data": {
      "text/plain": [
       "{'Conv_layer': 2,\n",
       " 'Dense_layer': 1,\n",
       " 'Dense': [256],\n",
       " 'dropout_ratio': [0.15, 0.25, 0],\n",
       " 'filter': [100, 256],\n",
       " 'kernel': [3, 3],\n",
       " 'padding': ['causal', 'causal'],\n",
       " 'learning_rate': 0.003,\n",
       " 'batch': 256,\n",
       " 'epochs': 1}"
      ]
     },
     "metadata": {},
     "output_type": "display_data"
    }
   ],
   "source": [
    "display(Optimization.results['CNN_params'].iloc[0])"
   ]
  },
  {
   "cell_type": "code",
   "execution_count": 30,
   "metadata": {},
   "outputs": [],
   "source": [
    "Optimization.load_optimal_param()"
   ]
  },
  {
   "cell_type": "code",
   "execution_count": 32,
   "metadata": {},
   "outputs": [
    {
     "data": {
      "text/html": [
       "<div>\n",
       "<style scoped>\n",
       "    .dataframe tbody tr th:only-of-type {\n",
       "        vertical-align: middle;\n",
       "    }\n",
       "\n",
       "    .dataframe tbody tr th {\n",
       "        vertical-align: top;\n",
       "    }\n",
       "\n",
       "    .dataframe thead th {\n",
       "        text-align: right;\n",
       "    }\n",
       "</style>\n",
       "<table border=\"1\" class=\"dataframe\">\n",
       "  <thead>\n",
       "    <tr style=\"text-align: right;\">\n",
       "      <th></th>\n",
       "      <th>auc</th>\n",
       "      <th>acc</th>\n",
       "      <th>balance_acc</th>\n",
       "      <th>balance_auc</th>\n",
       "      <th>CNN_params</th>\n",
       "      <th>Model_params</th>\n",
       "    </tr>\n",
       "  </thead>\n",
       "  <tbody>\n",
       "    <tr>\n",
       "      <td>0</td>\n",
       "      <td>0.552424</td>\n",
       "      <td>0.553566</td>\n",
       "      <td>0.849315</td>\n",
       "      <td>0.90411</td>\n",
       "      <td>{'Conv_layer': 2, 'Dense_layer': 1, 'Dense': [...</td>\n",
       "      <td>{'classifier': 'RandomForest', 'max_depth': 5,...</td>\n",
       "    </tr>\n",
       "  </tbody>\n",
       "</table>\n",
       "</div>"
      ],
      "text/plain": [
       "        auc       acc balance_acc balance_auc  \\\n",
       "0  0.552424  0.553566    0.849315     0.90411   \n",
       "\n",
       "                                          CNN_params  \\\n",
       "0  {'Conv_layer': 2, 'Dense_layer': 1, 'Dense': [...   \n",
       "\n",
       "                                        Model_params  \n",
       "0  {'classifier': 'RandomForest', 'max_depth': 5,...  "
      ]
     },
     "execution_count": 32,
     "metadata": {},
     "output_type": "execute_result"
    }
   ],
   "source": [
    "Optimization.results"
   ]
  },
  {
   "cell_type": "code",
   "execution_count": 37,
   "metadata": {},
   "outputs": [
    {
     "data": {
      "text/html": [
       "<div>\n",
       "<style scoped>\n",
       "    .dataframe tbody tr th:only-of-type {\n",
       "        vertical-align: middle;\n",
       "    }\n",
       "\n",
       "    .dataframe tbody tr th {\n",
       "        vertical-align: top;\n",
       "    }\n",
       "\n",
       "    .dataframe thead th {\n",
       "        text-align: right;\n",
       "    }\n",
       "</style>\n",
       "<table border=\"1\" class=\"dataframe\">\n",
       "  <thead>\n",
       "    <tr style=\"text-align: right;\">\n",
       "      <th></th>\n",
       "      <th>auc</th>\n",
       "      <th>acc</th>\n",
       "      <th>balance_acc</th>\n",
       "      <th>balance_auc</th>\n",
       "      <th>CNN_params</th>\n",
       "      <th>Model_params</th>\n",
       "    </tr>\n",
       "  </thead>\n",
       "  <tbody>\n",
       "    <tr>\n",
       "      <td>0</td>\n",
       "      <td>0.552424</td>\n",
       "      <td>0.553566</td>\n",
       "      <td>0.849315</td>\n",
       "      <td>0.90411</td>\n",
       "      <td>{'Conv_layer': 2, 'Dense_layer': 1, 'Dense': [...</td>\n",
       "      <td>{'classifier': 'RandomForest', 'max_depth': 5,...</td>\n",
       "    </tr>\n",
       "  </tbody>\n",
       "</table>\n",
       "</div>"
      ],
      "text/plain": [
       "        auc       acc  balance_acc  balance_auc  \\\n",
       "0  0.552424  0.553566     0.849315      0.90411   \n",
       "\n",
       "                                          CNN_params  \\\n",
       "0  {'Conv_layer': 2, 'Dense_layer': 1, 'Dense': [...   \n",
       "\n",
       "                                        Model_params  \n",
       "0  {'classifier': 'RandomForest', 'max_depth': 5,...  "
      ]
     },
     "execution_count": 37,
     "metadata": {},
     "output_type": "execute_result"
    }
   ],
   "source": [
    "Optimization.results"
   ]
  },
  {
   "cell_type": "code",
   "execution_count": 59,
   "metadata": {},
   "outputs": [
    {
     "data": {
      "text/plain": [
       "['CNN_0.h5', 'CNN_1.h5']"
      ]
     },
     "execution_count": 59,
     "metadata": {},
     "output_type": "execute_result"
    }
   ],
   "source": [
    "import os\n",
    "os.listdir('D:\\庫存健診開發\\model\\cluster0\\CNN_Bagging\\optimal_1')"
   ]
  },
  {
   "cell_type": "code",
   "execution_count": 29,
   "metadata": {},
   "outputs": [
    {
     "name": "stdout",
     "output_type": "stream",
     "text": [
      "27592/27592 [==============================] - ETA: 1:12 - loss: 0.5995 - acc: 0.750 - ETA: 4s - loss: 0.6678 - acc: 0.6214  - ETA: 2s - loss: 0.6731 - acc: 0.601 - ETA: 2s - loss: 0.6691 - acc: 0.596 - ETA: 1s - loss: 0.6680 - acc: 0.598 - ETA: 1s - loss: 0.6691 - acc: 0.593 - ETA: 1s - loss: 0.6706 - acc: 0.588 - ETA: 1s - loss: 0.6713 - acc: 0.588 - ETA: 1s - loss: 0.6721 - acc: 0.585 - ETA: 1s - loss: 0.6721 - acc: 0.585 - ETA: 1s - loss: 0.6737 - acc: 0.580 - ETA: 0s - loss: 0.6744 - acc: 0.576 - ETA: 0s - loss: 0.6739 - acc: 0.578 - ETA: 0s - loss: 0.6743 - acc: 0.577 - ETA: 0s - loss: 0.6729 - acc: 0.580 - ETA: 0s - loss: 0.6735 - acc: 0.581 - ETA: 0s - loss: 0.6743 - acc: 0.579 - ETA: 0s - loss: 0.6749 - acc: 0.576 - ETA: 0s - loss: 0.6754 - acc: 0.575 - ETA: 0s - loss: 0.6755 - acc: 0.576 - ETA: 0s - loss: 0.6754 - acc: 0.577 - ETA: 0s - loss: 0.6754 - acc: 0.576 - ETA: 0s - loss: 0.6747 - acc: 0.579 - ETA: 0s - loss: 0.6738 - acc: 0.581 - ETA: 0s - loss: 0.6732 - acc: 0.583 - ETA: 0s - loss: 0.6731 - acc: 0.583 - ETA: 0s - loss: 0.6729 - acc: 0.585 - 1s 51us/sample - loss: 0.6730 - acc: 0.5846\n"
     ]
    },
    {
     "data": {
      "text/plain": [
       "[0.6730291616678169, 0.58462596]"
      ]
     },
     "execution_count": 29,
     "metadata": {},
     "output_type": "execute_result"
    }
   ],
   "source": [
    "Optimization.optimal[0].model_list[0].evaluate(Optimization.optimal[0]._X_val, Optimization.optimal[0]._y_val)"
   ]
  },
  {
   "cell_type": "code",
   "execution_count": 33,
   "metadata": {},
   "outputs": [
    {
     "data": {
      "text/plain": [
       "[2, 2]"
      ]
     },
     "execution_count": 33,
     "metadata": {},
     "output_type": "execute_result"
    }
   ],
   "source": [
    "a = 2\n",
    "b = 3\n",
    "l = [1,2]\n",
    "l[0] = a\n",
    "l"
   ]
  },
  {
   "cell_type": "code",
   "execution_count": 36,
   "metadata": {},
   "outputs": [
    {
     "data": {
      "text/plain": [
       "0.6931471805599453"
      ]
     },
     "execution_count": 36,
     "metadata": {},
     "output_type": "execute_result"
    }
   ],
   "source": [
    "np.log(2)"
   ]
  },
  {
   "cell_type": "code",
   "execution_count": 35,
   "metadata": {},
   "outputs": [
    {
     "data": {
      "text/plain": [
       "[1.2098758045362112, 1.0484608118357972]"
      ]
     },
     "execution_count": 35,
     "metadata": {},
     "output_type": "execute_result"
    }
   ],
   "source": [
    "Optimization.optimal[0]._vote_weight"
   ]
  },
  {
   "cell_type": "code",
   "execution_count": 40,
   "metadata": {},
   "outputs": [
    {
     "data": {
      "text/plain": [
       "array([0, 0, 0, ..., 2, 2, 2])"
      ]
     },
     "execution_count": 40,
     "metadata": {},
     "output_type": "execute_result"
    }
   ],
   "source": [
    "sum(np.array(Optimization.optimal[0].prediction_list))"
   ]
  },
  {
   "cell_type": "code",
   "execution_count": 41,
   "metadata": {},
   "outputs": [
    {
     "ename": "TypeError",
     "evalue": "can't multiply sequence by non-int of type 'numpy.float64'",
     "output_type": "error",
     "traceback": [
      "\u001b[1;31m---------------------------------------------------------------------------\u001b[0m",
      "\u001b[1;31mTypeError\u001b[0m                                 Traceback (most recent call last)",
      "\u001b[1;32m<ipython-input-41-633aa252986c>\u001b[0m in \u001b[0;36m<module>\u001b[1;34m\u001b[0m\n\u001b[1;32m----> 1\u001b[1;33m \u001b[0msum\u001b[0m\u001b[1;33m(\u001b[0m\u001b[0mnp\u001b[0m\u001b[1;33m.\u001b[0m\u001b[0marray\u001b[0m\u001b[1;33m(\u001b[0m\u001b[1;33m[\u001b[0m\u001b[0mitem\u001b[0m \u001b[1;33m*\u001b[0m \u001b[0mrate\u001b[0m \u001b[1;32mfor\u001b[0m \u001b[0mitem\u001b[0m\u001b[1;33m,\u001b[0m \u001b[0mrate\u001b[0m \u001b[1;32min\u001b[0m \u001b[0mzip\u001b[0m\u001b[1;33m(\u001b[0m\u001b[0mOptimization\u001b[0m\u001b[1;33m.\u001b[0m\u001b[0moptimal\u001b[0m\u001b[1;33m[\u001b[0m\u001b[1;36m0\u001b[0m\u001b[1;33m]\u001b[0m\u001b[1;33m.\u001b[0m\u001b[0mprediction_list\u001b[0m\u001b[1;33m,\u001b[0m\u001b[0mOptimization\u001b[0m\u001b[1;33m.\u001b[0m\u001b[0moptimal\u001b[0m\u001b[1;33m[\u001b[0m\u001b[1;36m0\u001b[0m\u001b[1;33m]\u001b[0m\u001b[1;33m.\u001b[0m\u001b[0m_vote_weight\u001b[0m\u001b[1;33m)\u001b[0m\u001b[1;33m]\u001b[0m\u001b[1;33m)\u001b[0m\u001b[1;33m)\u001b[0m\u001b[1;33m/\u001b[0m\u001b[0msum\u001b[0m\u001b[1;33m(\u001b[0m\u001b[0mnp\u001b[0m\u001b[1;33m.\u001b[0m\u001b[0marray\u001b[0m\u001b[1;33m(\u001b[0m\u001b[0mOptimization\u001b[0m\u001b[1;33m.\u001b[0m\u001b[0moptimal\u001b[0m\u001b[1;33m[\u001b[0m\u001b[1;36m0\u001b[0m\u001b[1;33m]\u001b[0m\u001b[1;33m.\u001b[0m\u001b[0m_vote_weight\u001b[0m\u001b[1;33m)\u001b[0m\u001b[1;33m)\u001b[0m\u001b[1;33m\u001b[0m\u001b[1;33m\u001b[0m\u001b[0m\n\u001b[0m",
      "\u001b[1;32m<ipython-input-41-633aa252986c>\u001b[0m in \u001b[0;36m<listcomp>\u001b[1;34m(.0)\u001b[0m\n\u001b[1;32m----> 1\u001b[1;33m \u001b[0msum\u001b[0m\u001b[1;33m(\u001b[0m\u001b[0mnp\u001b[0m\u001b[1;33m.\u001b[0m\u001b[0marray\u001b[0m\u001b[1;33m(\u001b[0m\u001b[1;33m[\u001b[0m\u001b[0mitem\u001b[0m \u001b[1;33m*\u001b[0m \u001b[0mrate\u001b[0m \u001b[1;32mfor\u001b[0m \u001b[0mitem\u001b[0m\u001b[1;33m,\u001b[0m \u001b[0mrate\u001b[0m \u001b[1;32min\u001b[0m \u001b[0mzip\u001b[0m\u001b[1;33m(\u001b[0m\u001b[0mOptimization\u001b[0m\u001b[1;33m.\u001b[0m\u001b[0moptimal\u001b[0m\u001b[1;33m[\u001b[0m\u001b[1;36m0\u001b[0m\u001b[1;33m]\u001b[0m\u001b[1;33m.\u001b[0m\u001b[0mprediction_list\u001b[0m\u001b[1;33m,\u001b[0m\u001b[0mOptimization\u001b[0m\u001b[1;33m.\u001b[0m\u001b[0moptimal\u001b[0m\u001b[1;33m[\u001b[0m\u001b[1;36m0\u001b[0m\u001b[1;33m]\u001b[0m\u001b[1;33m.\u001b[0m\u001b[0m_vote_weight\u001b[0m\u001b[1;33m)\u001b[0m\u001b[1;33m]\u001b[0m\u001b[1;33m)\u001b[0m\u001b[1;33m)\u001b[0m\u001b[1;33m/\u001b[0m\u001b[0msum\u001b[0m\u001b[1;33m(\u001b[0m\u001b[0mnp\u001b[0m\u001b[1;33m.\u001b[0m\u001b[0marray\u001b[0m\u001b[1;33m(\u001b[0m\u001b[0mOptimization\u001b[0m\u001b[1;33m.\u001b[0m\u001b[0moptimal\u001b[0m\u001b[1;33m[\u001b[0m\u001b[1;36m0\u001b[0m\u001b[1;33m]\u001b[0m\u001b[1;33m.\u001b[0m\u001b[0m_vote_weight\u001b[0m\u001b[1;33m)\u001b[0m\u001b[1;33m)\u001b[0m\u001b[1;33m\u001b[0m\u001b[1;33m\u001b[0m\u001b[0m\n\u001b[0m",
      "\u001b[1;31mTypeError\u001b[0m: can't multiply sequence by non-int of type 'numpy.float64'"
     ]
    }
   ],
   "source": [
    "sum(np.array([item * rate for item, rate in zip(Optimization.optimal[0].prediction_list,Optimization.optimal[0]._vote_weight)]))/sum(np.array(Optimization.optimal[0]._vote_weight))"
   ]
  },
  {
   "cell_type": "code",
   "execution_count": 46,
   "metadata": {},
   "outputs": [
    {
     "data": {
      "text/plain": [
       "array([0.       , 0.       , 0.       , ..., 1.2098758, 1.2098758,\n",
       "       1.2098758])"
      ]
     },
     "execution_count": 46,
     "metadata": {},
     "output_type": "execute_result"
    }
   ],
   "source": [
    "np.array(Optimization.optimal[0].prediction_list)[0] * np.array(Optimization.optimal[0]._vote_weight)[0]"
   ]
  },
  {
   "cell_type": "code",
   "execution_count": 47,
   "metadata": {},
   "outputs": [
    {
     "data": {
      "text/plain": [
       "array([0.        , 0.        , 0.        , ..., 1.04846081, 1.04846081,\n",
       "       1.04846081])"
      ]
     },
     "execution_count": 47,
     "metadata": {},
     "output_type": "execute_result"
    }
   ],
   "source": [
    "np.array(Optimization.optimal[0].prediction_list)[1] * np.array(Optimization.optimal[0]._vote_weight)[1]"
   ]
  },
  {
   "cell_type": "code",
   "execution_count": 49,
   "metadata": {},
   "outputs": [],
   "source": [
    "vpte = sum(np.array([item * rate for item, rate in zip(np.array(Optimization.optimal[0].prediction_list), np.array(Optimization.optimal[0]._vote_weight))]))/sum(np.array(Optimization.optimal[0]._vote_weight))"
   ]
  },
  {
   "cell_type": "code",
   "execution_count": 55,
   "metadata": {},
   "outputs": [],
   "source": [
    "p = np.array([1 if v > 0.5 else 0 for v in vpte])"
   ]
  },
  {
   "cell_type": "code",
   "execution_count": 54,
   "metadata": {},
   "outputs": [
    {
     "name": "stdout",
     "output_type": "stream",
     "text": [
      "[0.         0.         0.         0.         0.         0.\n",
      " 0.53573758 0.53573758 1.         1.         1.         1.\n",
      " 0.46426242 0.46426242 0.46426242 0.46426242 0.46426242 0.46426242\n",
      " 0.46426242 0.46426242]\n"
     ]
    }
   ],
   "source": [
    "print(vpte[:20])"
   ]
  },
  {
   "cell_type": "code",
   "execution_count": 56,
   "metadata": {},
   "outputs": [
    {
     "name": "stdout",
     "output_type": "stream",
     "text": [
      "[0 0 0 0 0 0 1 1 1 1 1 1 0 0 0 0 0 0 0 0]\n"
     ]
    }
   ],
   "source": [
    "print(p[:20])"
   ]
  },
  {
   "cell_type": "code",
   "execution_count": null,
   "metadata": {},
   "outputs": [],
   "source": []
  }
 ],
 "metadata": {
  "kernelspec": {
   "display_name": "Python (tf-gpu)",
   "language": "python",
   "name": "tf-gpu"
  },
  "language_info": {
   "codemirror_mode": {
    "name": "ipython",
    "version": 3
   },
   "file_extension": ".py",
   "mimetype": "text/x-python",
   "name": "python",
   "nbconvert_exporter": "python",
   "pygments_lexer": "ipython3",
   "version": "3.6.9"
  }
 },
 "nbformat": 4,
 "nbformat_minor": 2
}
