{
 "cells": [
  {
   "cell_type": "code",
   "execution_count": null,
   "metadata": {},
   "outputs": [],
   "source": [
    "import numpy as np # linear algebra\n",
    "import pandas as pd\n",
    "# from tqdm import tqdm\n",
    "from tqdm import tqdm_notebook as tqdm\n",
    "# tqdm.pandas()\n",
    "\n",
    "from sklearn.model_selection import train_test_split\n",
    "from sklearn import metrics\n",
    "from sklearn.feature_extraction.text import CountVectorizer\n",
    "from sklearn.preprocessing import MinMaxScaler\n",
    "\n",
    "import tensorflow as tf\n",
    "from tensorflow.keras.preprocessing.sequence import pad_sequences\n",
    "from tensorflow.keras.preprocessing.text import Tokenizer\n",
    "from tensorflow.keras.layers import Dense, Input, LSTM, Embedding, Dropout, Activation, Flatten, TimeDistributed, LeakyReLU, Conv1D, BatchNormalization, MaxPooling1D, AveragePooling1D\n",
    "from tensorflow.keras.models import Model, Sequential\n",
    "from tensorflow.compat.v1.keras.layers import CuDNNLSTM\n",
    "from tensorflow.keras import layers, optimizers\n",
    "from tensorflow.keras.callbacks import EarlyStopping\n",
    "\n",
    "import pickle\n",
    "import Model_function as func\n",
    "\n",
    "%matplotlib inline\n",
    "import matplotlib.pyplot as plt"
   ]
  },
  {
   "cell_type": "code",
   "execution_count": null,
   "metadata": {
    "scrolled": true
   },
   "outputs": [],
   "source": [
    "cluster = 7\n",
    "with open(f'D:\\\\庫存健診開發\\\\data\\\\Training\\\\processed\\\\Cluster_{cluster}\\\\Cluster_{cluster}_regression_minmax0', 'rb') as fp:\n",
    "    load_list = pickle.load(fp)"
   ]
  },
  {
   "cell_type": "code",
   "execution_count": null,
   "metadata": {},
   "outputs": [],
   "source": [
    "X_train, Y_train, X_val, Y_val, X_test, Y_test = load_list[0], load_list[1], load_list[2], load_list[3], load_list[4], load_list[5]"
   ]
  },
  {
   "cell_type": "code",
   "execution_count": null,
   "metadata": {
    "scrolled": false
   },
   "outputs": [],
   "source": [
    "(len(X_train) == len(Y_train)) and (len(X_val) == len(Y_val)) and (len(X_test) == len(Y_test))"
   ]
  },
  {
   "cell_type": "code",
   "execution_count": null,
   "metadata": {
    "scrolled": false
   },
   "outputs": [],
   "source": [
    "np.array(X_train)"
   ]
  },
  {
   "cell_type": "code",
   "execution_count": null,
   "metadata": {},
   "outputs": [],
   "source": [
    "y_train, y_val, y_test = func.get_dependent_variable(Y_train, Y_val, Y_test)\n",
    "y_test"
   ]
  },
  {
   "cell_type": "code",
   "execution_count": null,
   "metadata": {},
   "outputs": [],
   "source": [
    "Y_train"
   ]
  },
  {
   "cell_type": "code",
   "execution_count": null,
   "metadata": {},
   "outputs": [],
   "source": [
    "model = Sequential()\n",
    "#model.add(Conv1D(\n",
    "            #filters=100, \n",
    "            #kernel_size=3, \n",
    "            #activation='relu', \n",
    "            #input_shape=(20, 43),\n",
    "            #padding='causal'))\n",
    "#model.add(BatchNormalization())\n",
    "model.add(LSTM(\n",
    "            name='lstm_0',\n",
    "            units=100,\n",
    "            return_sequences=True,\n",
    "            stateful=False,\n",
    "            activation='relu'))\n",
    "#model.add(LeakyReLU(alpha=0.3))\n",
    "model.add(LSTM(\n",
    "            name='lstm_1',\n",
    "            units=100,\n",
    "            return_sequences=True,\n",
    "            stateful=False,\n",
    "            activation='relu'))\n",
    "#model.add(LeakyReLU(alpha=0.3))\n",
    "model.add(LSTM(\n",
    "            name='lstm_2',\n",
    "            units=100,\n",
    "            return_sequences=True,\n",
    "            stateful=False,\n",
    "            activation='relu'))\n",
    "#model.add(LeakyReLU(alpha=0.3))\n",
    "model.add(LSTM(\n",
    "            name='lstm_3',\n",
    "            units=100,\n",
    "            return_sequences=False,\n",
    "            stateful=False,\n",
    "            activation='relu'))\n",
    "#model.add(LeakyReLU(alpha=0.3))\n",
    "#model.add(Dense(512, activation='relu'))\n",
    "#model.add(BatchNormalization())\n",
    "model.add(Dense(3, activation='softmax'))\n",
    "model.compile(loss='categorical_crossentropy',\n",
    "                optimizer=optimizers.Nadam(lr=0.001),\n",
    "                metrics=['accuracy'])\n",
    "    \n",
    "early_stopping = EarlyStopping(monitor='val_loss', patience=5, verbose=1)\n",
    "model.fit(np.array(X_train), Y_train_ATR, validation_data=(np.array(X_val), Y_val_ATR), batch_size = 256, epochs=20, verbose=2, callbacks=[early_stopping])\n",
    "    "
   ]
  },
  {
   "cell_type": "code",
   "execution_count": null,
   "metadata": {},
   "outputs": [],
   "source": [
    "model = Sequential()\n",
    "#model.add(Conv1D(\n",
    "            #filters=100, \n",
    "            #kernel_size=3, \n",
    "            #activation='relu', \n",
    "            #input_shape=(20, 43)))\n",
    "#model.add(BatchNormalization())\n",
    "model.add(LSTM(\n",
    "            name='lstm_0',\n",
    "            units=100,\n",
    "            return_sequences=True,\n",
    "            stateful=False,\n",
    "            activation='relu'))\n",
    "model.add(LSTM(\n",
    "            name='lstm_1',\n",
    "            units=100,\n",
    "            return_sequences=True,\n",
    "            stateful=False,\n",
    "            activation='relu'))\n",
    "model.add(LSTM(\n",
    "            name='lstm_2',\n",
    "            units=100,\n",
    "            return_sequences=True,\n",
    "            stateful=False,\n",
    "            activation='relu'))\n",
    "model.add(LSTM(\n",
    "            name='lstm_3',\n",
    "            units=100,\n",
    "            return_sequences=False,\n",
    "            stateful=False,\n",
    "            activation='relu'))\n",
    "#model.add(Dense(512, activation='relu'))\n",
    "model.add(Dense(1, activation='linear'))\n",
    "model.compile(loss='mean_squared_error',\n",
    "                optimizer=optimizers.Nadam(lr=0.001),\n",
    "                metrics=['mape'])\n",
    "    \n",
    "early_stopping = EarlyStopping(monitor='val_loss', patience=10, verbose=1)\n",
    "model.fit(np.array(X_train), np.array(y_train), validation_data=(np.array(X_val), np.array(y_val)), batch_size = 256, epochs=20, verbose=2, callbacks=[early_stopping])\n",
    "    "
   ]
  },
  {
   "cell_type": "code",
   "execution_count": null,
   "metadata": {
    "scrolled": true
   },
   "outputs": [],
   "source": [
    "model = Sequential()\n",
    "model.add(Conv1D(filters=64, kernel_size=3, activation='relu', input_shape=(np.array(X_train).shape[1], np.array(X_train).shape[2]),padding='causal'))\n",
    "model.add(MaxPooling1D(pool_size=2))\n",
    "model.add(Conv1D(filters=128, kernel_size=3, activation='relu'))\n",
    "model.add(MaxPooling1D(pool_size=2))\n",
    "model.add(Conv1D(filters=128, kernel_size=3, activation='relu'))\n",
    "model.add(MaxPooling1D(pool_size=2))\n",
    "model.add(Flatten())\n",
    "model.add(Dense(128))\n",
    "model.add(Dropout(0.2))\n",
    "model.add(Dense(1, activation='linear'))\n",
    "model.compile(loss='mean_squared_error',\n",
    "                optimizer=optimizers.Nadam(lr=0.001),\n",
    "                metrics=['mape'])\n",
    "\n",
    "\n",
    "model.fit(np.array(X_train), np.array(y_train), validation_data=(np.array(X_val), np.array(y_val)), batch_size = 256, epochs=200, verbose=2)"
   ]
  },
  {
   "cell_type": "code",
   "execution_count": null,
   "metadata": {},
   "outputs": [],
   "source": [
    "model = Sequential()\n",
    "model.add(Conv1D(filters=64, kernel_size=3, activation='relu', input_shape=(20, 43), padding='same'))\n",
    "model.add(MaxPooling1D(pool_size=2))\n",
    "model.add(Conv1D(filters=128, kernel_size=3, activation='relu'))\n",
    "model.add(MaxPooling1D(pool_size=2))\n",
    "model.add(Conv1D(filters=128, kernel_size=3, activation='relu'))\n",
    "model.add(MaxPooling1D(pool_size=2))\n",
    "model.add(Flatten())\n",
    "model.add(Dense(64))\n",
    "model.add(Dropout(0.2))\n",
    "model.add(Dense(3, activation='softmax'))\n",
    "model.compile(loss='categorical_crossentropy',\n",
    "                optimizer=optimizers.Nadam(lr=0.001),\n",
    "                metrics=['accuracy'])\n",
    "    \n",
    "early_stopping = EarlyStopping(monitor='val_loss', patience=5, verbose=1)\n",
    "model.fit(np.array(X_train), Y_train_ATR, validation_data=(np.array(X_val), Y_val_ATR), batch_size = 256, epochs=80, verbose=2)"
   ]
  },
  {
   "cell_type": "code",
   "execution_count": null,
   "metadata": {},
   "outputs": [],
   "source": [
    "score = model.evaluate(np.array(X_test), np.array(y_test), batch_size=4096)"
   ]
  },
  {
   "cell_type": "code",
   "execution_count": null,
   "metadata": {
    "scrolled": true
   },
   "outputs": [],
   "source": [
    "score"
   ]
  },
  {
   "cell_type": "code",
   "execution_count": null,
   "metadata": {},
   "outputs": [],
   "source": [
    "first_layer_weights = model.layers[0].get_weights()[0]\n",
    "second_layer_weights = model.layers[2].get_weights()[0]\n",
    "third_layer_weights = model.layers[4].get_weights()[0]\n",
    "forth_layer_weights = model.layers[7].get_weights()[0]"
   ]
  },
  {
   "cell_type": "code",
   "execution_count": null,
   "metadata": {},
   "outputs": [],
   "source": [
    "model.layers"
   ]
  },
  {
   "cell_type": "code",
   "execution_count": null,
   "metadata": {},
   "outputs": [],
   "source": [
    "first_layer_weights[1].mean(axis=1)"
   ]
  },
  {
   "cell_type": "code",
   "execution_count": null,
   "metadata": {},
   "outputs": [],
   "source": []
  },
  {
   "cell_type": "code",
   "execution_count": null,
   "metadata": {},
   "outputs": [],
   "source": [
    "prediction = model.predict(np.array(X_test),batch_size=4096)"
   ]
  },
  {
   "cell_type": "code",
   "execution_count": null,
   "metadata": {
    "scrolled": false
   },
   "outputs": [],
   "source": [
    "pred = func.transform_back(prediction, 7, scaler='minmax_zero')\n",
    "pred"
   ]
  },
  {
   "cell_type": "code",
   "execution_count": null,
   "metadata": {},
   "outputs": [],
   "source": [
    "d = func.get_prediction_label(pred, Y_test, 7, problem='Weekly')"
   ]
  },
  {
   "cell_type": "code",
   "execution_count": null,
   "metadata": {},
   "outputs": [],
   "source": [
    "df_list = [group[1] for group in d.groupby(d['StockNo'])]\n",
    "s = []\n",
    "for df in df_list:\n",
    "    s.append([func.Regression_Evaluation(df, problem='Weekly'), df['StockName'].iloc[0]])\n",
    "max(s)"
   ]
  },
  {
   "cell_type": "code",
   "execution_count": null,
   "metadata": {},
   "outputs": [],
   "source": [
    "pred.tolist()"
   ]
  },
  {
   "cell_type": "code",
   "execution_count": null,
   "metadata": {},
   "outputs": [],
   "source": [
    "%matplotlib inline\n",
    "import matplotlib.pyplot as plt\n",
    "from datetime import date\n",
    "df_list = [group[1] for group in d.groupby(d['StockNo'])]\n",
    "for df in df_list:\n",
    "    df = df.reset_index(drop=True)\n",
    "    plt.figure(figsize=(30,10))\n",
    "    plt.plot(df['close'])\n",
    "    plt.plot(df['prediction'], linewidth=0.5)\n",
    "    plt.title(df['StockNo'].iloc[0])"
   ]
  },
  {
   "cell_type": "code",
   "execution_count": null,
   "metadata": {},
   "outputs": [],
   "source": [
    "d = d.reset_index(drop=True)"
   ]
  },
  {
   "cell_type": "code",
   "execution_count": null,
   "metadata": {},
   "outputs": [],
   "source": [
    "func.Regression_Evaluation(d, problem='Weekly')"
   ]
  },
  {
   "cell_type": "code",
   "execution_count": null,
   "metadata": {},
   "outputs": [],
   "source": [
    "j = 0\n",
    "for item in s:\n",
    "    if item[0] > 0.5:\n",
    "        j += 1\n",
    "    else:\n",
    "        continue\n",
    "        \n",
    "j"
   ]
  },
  {
   "cell_type": "code",
   "execution_count": null,
   "metadata": {},
   "outputs": [],
   "source": [
    "d[['']]"
   ]
  },
  {
   "cell_type": "code",
   "execution_count": null,
   "metadata": {},
   "outputs": [],
   "source": [
    "d[['ts','label_weekly_ATR', 'label_pred', 'close', 'prediction', 'WeeklyReturn', 'ATR', 'return_pred']]"
   ]
  },
  {
   "cell_type": "code",
   "execution_count": null,
   "metadata": {},
   "outputs": [],
   "source": [
    "model.save('CNN.h5')"
   ]
  },
  {
   "cell_type": "code",
   "execution_count": null,
   "metadata": {},
   "outputs": [],
   "source": [
    "from tensorflow.keras.models import load_model\n",
    "new_model = load_model('CNN.h5')"
   ]
  },
  {
   "cell_type": "code",
   "execution_count": null,
   "metadata": {},
   "outputs": [],
   "source": [
    "prediction"
   ]
  },
  {
   "cell_type": "code",
   "execution_count": null,
   "metadata": {},
   "outputs": [],
   "source": [
    "new_model.summary()"
   ]
  },
  {
   "cell_type": "code",
   "execution_count": null,
   "metadata": {},
   "outputs": [],
   "source": [
    "prediction1"
   ]
  },
  {
   "cell_type": "code",
   "execution_count": null,
   "metadata": {},
   "outputs": [],
   "source": [
    "r = prediction.tolist()\n",
    "y_pred = []\n",
    "for i, item in tqdm(enumerate(r), total=len(r)):\n",
    "    y_pred.append(item.index(max(item)))\n",
    "\n",
    "    \n",
    "y_true = [item.tolist().index(1) for item in Y_test_ATR]"
   ]
  },
  {
   "cell_type": "code",
   "execution_count": null,
   "metadata": {},
   "outputs": [],
   "source": [
    "y_pred.count(1)/len(y_pred)"
   ]
  },
  {
   "cell_type": "code",
   "execution_count": null,
   "metadata": {},
   "outputs": [],
   "source": [
    "y_true.count(1)/len(y_true)"
   ]
  },
  {
   "cell_type": "code",
   "execution_count": null,
   "metadata": {},
   "outputs": [],
   "source": [
    "from sklearn.metrics import classification_report\n",
    "target_names = ['class 0', 'class 1', 'class 2']\n",
    "print(classification_report(y_true, y_pred, target_names=target_names))"
   ]
  },
  {
   "cell_type": "code",
   "execution_count": null,
   "metadata": {},
   "outputs": [],
   "source": []
  }
 ],
 "metadata": {
  "kernelspec": {
   "display_name": "Python (tf-gpu)",
   "language": "python",
   "name": "tf-gpu"
  },
  "language_info": {
   "codemirror_mode": {
    "name": "ipython",
    "version": 3
   },
   "file_extension": ".py",
   "mimetype": "text/x-python",
   "name": "python",
   "nbconvert_exporter": "python",
   "pygments_lexer": "ipython3",
   "version": "3.6.9"
  }
 },
 "nbformat": 4,
 "nbformat_minor": 2
}
