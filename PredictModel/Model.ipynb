{
 "cells": [
  {
   "cell_type": "code",
   "execution_count": 1,
   "metadata": {
    "scrolled": true
   },
   "outputs": [
    {
     "name": "stderr",
     "output_type": "stream",
     "text": [
      "C:\\Users\\011553\\AppData\\Local\\Continuum\\anaconda3\\envs\\tf-gpu\\lib\\site-packages\\sklearn\\externals\\joblib\\__init__.py:15: DeprecationWarning: sklearn.externals.joblib is deprecated in 0.21 and will be removed in 0.23. Please import this functionality directly from joblib, which can be installed with: pip install joblib. If this warning is raised when loading pickled models, you may need to re-serialize those models with scikit-learn 0.21+.\n",
      "  warnings.warn(msg, category=DeprecationWarning)\n"
     ]
    }
   ],
   "source": [
    "import numpy as np \n",
    "import pandas as pd\n",
    "from tqdm import tqdm_notebook as tqdm\n",
    "\n",
    "from Model_class import CNN_model, CNN_Tree_Classifier, CNN_Bagging, CNN_Boosting\n",
    "from Fine_Tune import Hyperparameter_Tuning as Tuning\n",
    "\n",
    "import pickle\n",
    "import random\n",
    "import time"
   ]
  },
  {
   "cell_type": "code",
   "execution_count": 2,
   "metadata": {},
   "outputs": [],
   "source": [
    "path = 'D:\\\\庫存健診開發\\\\data\\\\Training\\\\processed\\\\'\n",
    "CNN_param = {'Conv_layer': [2, 3],\n",
    "                'Dense_layer': [1, 2],\n",
    "                'Dense': [64, 128, 256],\n",
    "                'dropout_ratio': [0, 0.1, 0.15, 0.2, 0.25, 0.3],\n",
    "                'filter': [64, 100, 128, 256],\n",
    "                'kernel': [3, 5],\n",
    "                'padding': ['causal'],\n",
    "                'learning_rate': [0.001, 0.002, 0.003],\n",
    "                'batch': [64, 128, 256, 512],\n",
    "                'epochs': [30, 40, 50, 60]}\n",
    "model_param = {'n_estimator': [5, 10],\n",
    "                    'subsample': [0.75, 0.8, 0.85, 0.9]}\n"
   ]
  },
  {
   "cell_type": "code",
   "execution_count": 6,
   "metadata": {},
   "outputs": [],
   "source": [
    "with open(f'{path}Cluster_{cluster_num}_classification_minmax0_Weekly', 'rb') as fp:\n",
    "    df = pickle.load(fp)"
   ]
  },
  {
   "cell_type": "code",
   "execution_count": 28,
   "metadata": {},
   "outputs": [],
   "source": [
    "CNNparam={'Conv_layer': 3,\n",
    "                                    'Dense_layer': 1,\n",
    "                                    'Dense': [128],\n",
    "                                    'dropout_ratio': [0.2, 0.2, 0.2],\n",
    "                                    'filter': [64, 128, 128],\n",
    "                                    'kernel': [3, 3, 3],\n",
    "                                    'padding': ['causal', 'causal', 'causal'],\n",
    "                                    'learning_rate': 0.001,\n",
    "                                    'batch': 256,\n",
    "                                    'epochs': 30}\n",
    "Param={'n_estimator': 10,\n",
    "                                'subsample': 0.8}"
   ]
  },
  {
   "cell_type": "code",
   "execution_count": 29,
   "metadata": {
    "scrolled": true
   },
   "outputs": [
    {
     "name": "stderr",
     "output_type": "stream",
     "text": [
      "C:\\Users\\011553\\AppData\\Local\\Continuum\\anaconda3\\envs\\tf-gpu\\lib\\site-packages\\sklearn\\preprocessing\\_encoders.py:415: FutureWarning: The handling of integer data will change in version 0.22. Currently, the categories are determined based on the range [0, max(values)], while in the future they will be determined based on the unique values.\n",
      "If you want the future behaviour and silence this warning, you can specify \"categories='auto'\".\n",
      "In case you used a LabelEncoder before this OneHotEncoder to convert the categories to integers, then you can now use the OneHotEncoder directly.\n",
      "  warnings.warn(msg, FutureWarning)\n",
      "C:\\Users\\011553\\AppData\\Local\\Continuum\\anaconda3\\envs\\tf-gpu\\lib\\site-packages\\sklearn\\preprocessing\\_encoders.py:415: FutureWarning: The handling of integer data will change in version 0.22. Currently, the categories are determined based on the range [0, max(values)], while in the future they will be determined based on the unique values.\n",
      "If you want the future behaviour and silence this warning, you can specify \"categories='auto'\".\n",
      "In case you used a LabelEncoder before this OneHotEncoder to convert the categories to integers, then you can now use the OneHotEncoder directly.\n",
      "  warnings.warn(msg, FutureWarning)\n",
      "C:\\Users\\011553\\AppData\\Local\\Continuum\\anaconda3\\envs\\tf-gpu\\lib\\site-packages\\sklearn\\preprocessing\\_encoders.py:415: FutureWarning: The handling of integer data will change in version 0.22. Currently, the categories are determined based on the range [0, max(values)], while in the future they will be determined based on the unique values.\n",
      "If you want the future behaviour and silence this warning, you can specify \"categories='auto'\".\n",
      "In case you used a LabelEncoder before this OneHotEncoder to convert the categories to integers, then you can now use the OneHotEncoder directly.\n",
      "  warnings.warn(msg, FutureWarning)\n"
     ]
    },
    {
     "name": "stdout",
     "output_type": "stream",
     "text": [
      "Train on 226867 samples, validate on 40576 samples\n",
      "Epoch 1/30\n",
      "226867/226867 - 6s - loss: 0.6698 - acc: 0.5926 - val_loss: 0.6679 - val_acc: 0.5965\n",
      "Epoch 2/30\n",
      "226867/226867 - 5s - loss: 0.6616 - acc: 0.6059 - val_loss: 0.6646 - val_acc: 0.6002\n",
      "Epoch 3/30\n",
      "226867/226867 - 5s - loss: 0.6591 - acc: 0.6099 - val_loss: 0.6634 - val_acc: 0.6039\n",
      "Epoch 4/30\n",
      "226867/226867 - 5s - loss: 0.6580 - acc: 0.6103 - val_loss: 0.6641 - val_acc: 0.6047\n",
      "Epoch 5/30\n",
      "226867/226867 - 5s - loss: 0.6571 - acc: 0.6113 - val_loss: 0.6610 - val_acc: 0.6067\n",
      "Epoch 6/30\n",
      "226867/226867 - 5s - loss: 0.6563 - acc: 0.6128 - val_loss: 0.6608 - val_acc: 0.6066\n",
      "Epoch 7/30\n",
      "226867/226867 - 5s - loss: 0.6558 - acc: 0.6137 - val_loss: 0.6605 - val_acc: 0.6032\n",
      "Epoch 8/30\n",
      "226867/226867 - 5s - loss: 0.6552 - acc: 0.6146 - val_loss: 0.6586 - val_acc: 0.6105\n",
      "Epoch 9/30\n",
      "226867/226867 - 5s - loss: 0.6547 - acc: 0.6150 - val_loss: 0.6597 - val_acc: 0.6063\n",
      "Epoch 10/30\n",
      "226867/226867 - 5s - loss: 0.6543 - acc: 0.6153 - val_loss: 0.6608 - val_acc: 0.6061\n",
      "Epoch 11/30\n",
      "226867/226867 - 5s - loss: 0.6541 - acc: 0.6161 - val_loss: 0.6603 - val_acc: 0.6084\n",
      "Epoch 12/30\n",
      "226867/226867 - 5s - loss: 0.6536 - acc: 0.6161 - val_loss: 0.6576 - val_acc: 0.6101\n",
      "Epoch 13/30\n",
      "226867/226867 - 5s - loss: 0.6537 - acc: 0.6159 - val_loss: 0.6618 - val_acc: 0.6026\n",
      "Epoch 14/30\n",
      "226867/226867 - 5s - loss: 0.6531 - acc: 0.6163 - val_loss: 0.6620 - val_acc: 0.6081\n",
      "Epoch 15/30\n",
      "226867/226867 - 5s - loss: 0.6529 - acc: 0.6173 - val_loss: 0.6598 - val_acc: 0.6084\n",
      "Epoch 16/30\n",
      "226867/226867 - 5s - loss: 0.6522 - acc: 0.6177 - val_loss: 0.6618 - val_acc: 0.6085\n",
      "Epoch 17/30\n",
      "226867/226867 - 5s - loss: 0.6522 - acc: 0.6185 - val_loss: 0.6592 - val_acc: 0.6078\n",
      "Epoch 18/30\n",
      "226867/226867 - 5s - loss: 0.6518 - acc: 0.6189 - val_loss: 0.6596 - val_acc: 0.6074\n",
      "Epoch 19/30\n",
      "226867/226867 - 5s - loss: 0.6515 - acc: 0.6181 - val_loss: 0.6621 - val_acc: 0.6064\n",
      "Epoch 20/30\n",
      "226867/226867 - 5s - loss: 0.6506 - acc: 0.6196 - val_loss: 0.6610 - val_acc: 0.6064\n",
      "Epoch 21/30\n",
      "226867/226867 - 5s - loss: 0.6506 - acc: 0.6195 - val_loss: 0.6592 - val_acc: 0.6088\n",
      "Epoch 22/30\n",
      "226867/226867 - 5s - loss: 0.6502 - acc: 0.6198 - val_loss: 0.6605 - val_acc: 0.6090\n",
      "Epoch 23/30\n",
      "226867/226867 - 5s - loss: 0.6499 - acc: 0.6208 - val_loss: 0.6614 - val_acc: 0.6050\n",
      "Epoch 24/30\n",
      "226867/226867 - 5s - loss: 0.6498 - acc: 0.6212 - val_loss: 0.6579 - val_acc: 0.6092\n",
      "Epoch 25/30\n",
      "226867/226867 - 5s - loss: 0.6490 - acc: 0.6222 - val_loss: 0.6600 - val_acc: 0.6067\n",
      "Epoch 26/30\n",
      "226867/226867 - 5s - loss: 0.6490 - acc: 0.6214 - val_loss: 0.6602 - val_acc: 0.6029\n",
      "Epoch 27/30\n",
      "226867/226867 - 5s - loss: 0.6485 - acc: 0.6224 - val_loss: 0.6614 - val_acc: 0.6066\n",
      "Epoch 28/30\n",
      "226867/226867 - 5s - loss: 0.6482 - acc: 0.6230 - val_loss: 0.6613 - val_acc: 0.6061\n",
      "Epoch 29/30\n",
      "226867/226867 - 5s - loss: 0.6477 - acc: 0.6226 - val_loss: 0.6669 - val_acc: 0.6073\n",
      "Epoch 30/30\n",
      "226867/226867 - 5s - loss: 0.6474 - acc: 0.6238 - val_loss: 0.6617 - val_acc: 0.6075\n",
      "Train on 181493 samples, validate on 40576 samples\n",
      "Epoch 1/30\n",
      "181493/181493 - 5s - loss: 0.6909 - acc: 0.5289 - val_loss: 0.6845 - val_acc: 0.5549\n",
      "Epoch 2/30\n",
      "181493/181493 - 4s - loss: 0.6896 - acc: 0.5347 - val_loss: 0.6911 - val_acc: 0.5178\n",
      "Epoch 3/30\n",
      "181493/181493 - 4s - loss: 0.6891 - acc: 0.5354 - val_loss: 0.6854 - val_acc: 0.5467\n",
      "Epoch 4/30\n",
      "181493/181493 - 4s - loss: 0.6885 - acc: 0.5372 - val_loss: 0.6818 - val_acc: 0.5601\n",
      "Epoch 5/30\n",
      "181493/181493 - 4s - loss: 0.6881 - acc: 0.5376 - val_loss: 0.6834 - val_acc: 0.5565\n",
      "Epoch 6/30\n",
      "181493/181493 - 4s - loss: 0.6876 - acc: 0.5407 - val_loss: 0.6819 - val_acc: 0.5527\n",
      "Epoch 7/30\n",
      "181493/181493 - 5s - loss: 0.6874 - acc: 0.5412 - val_loss: 0.6892 - val_acc: 0.5399\n",
      "Epoch 8/30\n",
      "181493/181493 - 4s - loss: 0.6872 - acc: 0.5403 - val_loss: 0.6815 - val_acc: 0.5606\n",
      "Epoch 9/30\n",
      "181493/181493 - 4s - loss: 0.6867 - acc: 0.5432 - val_loss: 0.6805 - val_acc: 0.5600\n",
      "Epoch 10/30\n",
      "181493/181493 - 4s - loss: 0.6865 - acc: 0.5439 - val_loss: 0.6835 - val_acc: 0.5472\n",
      "Epoch 11/30\n",
      "181493/181493 - 4s - loss: 0.6863 - acc: 0.5442 - val_loss: 0.6837 - val_acc: 0.5461\n",
      "Epoch 12/30\n",
      "181493/181493 - 4s - loss: 0.6859 - acc: 0.5451 - val_loss: 0.6830 - val_acc: 0.5513\n",
      "Epoch 13/30\n",
      "181493/181493 - 4s - loss: 0.6854 - acc: 0.5475 - val_loss: 0.6792 - val_acc: 0.5654\n",
      "Epoch 14/30\n",
      "181493/181493 - 4s - loss: 0.6852 - acc: 0.5480 - val_loss: 0.6783 - val_acc: 0.5639\n",
      "Epoch 15/30\n",
      "181493/181493 - 4s - loss: 0.6849 - acc: 0.5471 - val_loss: 0.6832 - val_acc: 0.5528\n",
      "Epoch 16/30\n",
      "181493/181493 - 4s - loss: 0.6843 - acc: 0.5490 - val_loss: 0.6780 - val_acc: 0.5597\n",
      "Epoch 17/30\n",
      "181493/181493 - 4s - loss: 0.6840 - acc: 0.5495 - val_loss: 0.6819 - val_acc: 0.5534\n",
      "Epoch 18/30\n",
      "181493/181493 - 4s - loss: 0.6833 - acc: 0.5511 - val_loss: 0.6818 - val_acc: 0.5573\n",
      "Epoch 19/30\n",
      "181493/181493 - 4s - loss: 0.6828 - acc: 0.5526 - val_loss: 0.6797 - val_acc: 0.5592\n",
      "Epoch 20/30\n",
      "181493/181493 - 4s - loss: 0.6823 - acc: 0.5544 - val_loss: 0.6779 - val_acc: 0.5652\n",
      "Epoch 21/30\n",
      "181493/181493 - 4s - loss: 0.6814 - acc: 0.5568 - val_loss: 0.6786 - val_acc: 0.5667\n",
      "Epoch 22/30\n",
      "181493/181493 - 4s - loss: 0.6807 - acc: 0.5568 - val_loss: 0.6826 - val_acc: 0.5565\n",
      "Epoch 23/30\n",
      "181493/181493 - 4s - loss: 0.6799 - acc: 0.5601 - val_loss: 0.6804 - val_acc: 0.5589\n",
      "Epoch 24/30\n",
      "181493/181493 - 4s - loss: 0.6792 - acc: 0.5612 - val_loss: 0.6836 - val_acc: 0.5512\n",
      "Epoch 25/30\n",
      "181493/181493 - 4s - loss: 0.6784 - acc: 0.5624 - val_loss: 0.6867 - val_acc: 0.5494\n",
      "Epoch 26/30\n",
      "181493/181493 - 4s - loss: 0.6780 - acc: 0.5632 - val_loss: 0.6868 - val_acc: 0.5472\n",
      "Epoch 27/30\n",
      "181493/181493 - 4s - loss: 0.6772 - acc: 0.5646 - val_loss: 0.6899 - val_acc: 0.5418\n",
      "Epoch 28/30\n",
      "181493/181493 - 4s - loss: 0.6764 - acc: 0.5656 - val_loss: 0.6857 - val_acc: 0.5547\n",
      "Epoch 29/30\n",
      "181493/181493 - 4s - loss: 0.6753 - acc: 0.5668 - val_loss: 0.6899 - val_acc: 0.5483\n",
      "Epoch 30/30\n",
      "181493/181493 - 4s - loss: 0.6745 - acc: 0.5686 - val_loss: 0.6907 - val_acc: 0.5466\n",
      "Train on 181493 samples, validate on 40576 samples\n",
      "Epoch 1/30\n",
      "181493/181493 - 5s - loss: 0.6929 - acc: 0.5137 - val_loss: 0.6923 - val_acc: 0.5069\n",
      "Epoch 2/30\n",
      "181493/181493 - 4s - loss: 0.6927 - acc: 0.5146 - val_loss: 0.6896 - val_acc: 0.5434\n",
      "Epoch 3/30\n",
      "181493/181493 - 4s - loss: 0.6926 - acc: 0.5162 - val_loss: 0.6925 - val_acc: 0.5114\n",
      "Epoch 4/30\n",
      "181493/181493 - 4s - loss: 0.6924 - acc: 0.5179 - val_loss: 0.6889 - val_acc: 0.5397\n",
      "Epoch 5/30\n",
      "181493/181493 - 4s - loss: 0.6923 - acc: 0.5178 - val_loss: 0.6915 - val_acc: 0.5282\n",
      "Epoch 6/30\n",
      "181493/181493 - 4s - loss: 0.6921 - acc: 0.5198 - val_loss: 0.6892 - val_acc: 0.5414\n",
      "Epoch 7/30\n",
      "181493/181493 - 4s - loss: 0.6921 - acc: 0.5186 - val_loss: 0.6895 - val_acc: 0.5356\n",
      "Epoch 8/30\n",
      "181493/181493 - 4s - loss: 0.6919 - acc: 0.5203 - val_loss: 0.6915 - val_acc: 0.5161\n",
      "Epoch 9/30\n",
      "181493/181493 - 4s - loss: 0.6919 - acc: 0.5194 - val_loss: 0.6910 - val_acc: 0.5119\n",
      "Epoch 10/30\n",
      "181493/181493 - 4s - loss: 0.6918 - acc: 0.5212 - val_loss: 0.6887 - val_acc: 0.5304\n",
      "Epoch 11/30\n",
      "181493/181493 - 4s - loss: 0.6917 - acc: 0.5210 - val_loss: 0.6901 - val_acc: 0.5301\n",
      "Epoch 12/30\n",
      "181493/181493 - 4s - loss: 0.6915 - acc: 0.5215 - val_loss: 0.6880 - val_acc: 0.5448\n",
      "Epoch 13/30\n",
      "181493/181493 - 4s - loss: 0.6915 - acc: 0.5217 - val_loss: 0.6858 - val_acc: 0.5419\n",
      "Epoch 14/30\n",
      "181493/181493 - 4s - loss: 0.6914 - acc: 0.5214 - val_loss: 0.6869 - val_acc: 0.5372\n",
      "Epoch 15/30\n",
      "181493/181493 - 4s - loss: 0.6913 - acc: 0.5236 - val_loss: 0.6896 - val_acc: 0.5328\n",
      "Epoch 16/30\n",
      "181493/181493 - 4s - loss: 0.6911 - acc: 0.5240 - val_loss: 0.6894 - val_acc: 0.5414\n",
      "Epoch 17/30\n",
      "181493/181493 - 4s - loss: 0.6909 - acc: 0.5234 - val_loss: 0.6907 - val_acc: 0.5362\n",
      "Epoch 18/30\n",
      "181493/181493 - 4s - loss: 0.6909 - acc: 0.5251 - val_loss: 0.6879 - val_acc: 0.5319\n",
      "Epoch 19/30\n",
      "181493/181493 - 4s - loss: 0.6907 - acc: 0.5237 - val_loss: 0.6889 - val_acc: 0.5287\n",
      "Epoch 20/30\n",
      "181493/181493 - 4s - loss: 0.6906 - acc: 0.5247 - val_loss: 0.6881 - val_acc: 0.5380\n",
      "Epoch 21/30\n",
      "181493/181493 - 4s - loss: 0.6905 - acc: 0.5246 - val_loss: 0.6853 - val_acc: 0.5374\n",
      "Epoch 22/30\n",
      "181493/181493 - 4s - loss: 0.6904 - acc: 0.5249 - val_loss: 0.6874 - val_acc: 0.5365\n",
      "Epoch 23/30\n",
      "181493/181493 - 4s - loss: 0.6901 - acc: 0.5262 - val_loss: 0.6849 - val_acc: 0.5458\n",
      "Epoch 24/30\n",
      "181493/181493 - 4s - loss: 0.6900 - acc: 0.5273 - val_loss: 0.6910 - val_acc: 0.5269\n"
     ]
    },
    {
     "name": "stdout",
     "output_type": "stream",
     "text": [
      "Epoch 25/30\n",
      "181493/181493 - 4s - loss: 0.6899 - acc: 0.5281 - val_loss: 0.6934 - val_acc: 0.5270\n",
      "Epoch 26/30\n",
      "181493/181493 - 4s - loss: 0.6897 - acc: 0.5278 - val_loss: 0.6915 - val_acc: 0.5356\n",
      "Epoch 27/30\n",
      "181493/181493 - 4s - loss: 0.6896 - acc: 0.5293 - val_loss: 0.6904 - val_acc: 0.5364\n",
      "Epoch 28/30\n",
      "181493/181493 - 4s - loss: 0.6894 - acc: 0.5297 - val_loss: 0.6835 - val_acc: 0.5464\n",
      "Epoch 29/30\n",
      "181493/181493 - 4s - loss: 0.6890 - acc: 0.5301 - val_loss: 0.6922 - val_acc: 0.5284\n",
      "Epoch 30/30\n",
      "181493/181493 - 4s - loss: 0.6886 - acc: 0.5306 - val_loss: 0.6862 - val_acc: 0.5385\n",
      "Train on 181493 samples, validate on 40576 samples\n",
      "Epoch 1/30\n",
      "181493/181493 - 5s - loss: 0.6934 - acc: 0.5016 - val_loss: 0.6939 - val_acc: 0.4937\n",
      "Epoch 2/30\n",
      "181493/181493 - 5s - loss: 0.6931 - acc: 0.5037 - val_loss: 0.6906 - val_acc: 0.5658\n",
      "Epoch 3/30\n",
      "181493/181493 - 5s - loss: 0.6931 - acc: 0.5057 - val_loss: 0.6916 - val_acc: 0.5254\n",
      "Epoch 4/30\n",
      "181493/181493 - 4s - loss: 0.6930 - acc: 0.5049 - val_loss: 0.6911 - val_acc: 0.5421\n",
      "Epoch 5/30\n",
      "181493/181493 - 4s - loss: 0.6930 - acc: 0.5070 - val_loss: 0.6903 - val_acc: 0.5410\n",
      "Epoch 6/30\n",
      "181493/181493 - 4s - loss: 0.6930 - acc: 0.5071 - val_loss: 0.6911 - val_acc: 0.5392\n",
      "Epoch 7/30\n",
      "181493/181493 - 4s - loss: 0.6929 - acc: 0.5087 - val_loss: 0.6907 - val_acc: 0.5469\n",
      "Epoch 8/30\n",
      "181493/181493 - 4s - loss: 0.6929 - acc: 0.5088 - val_loss: 0.6905 - val_acc: 0.5405\n",
      "Epoch 9/30\n",
      "181493/181493 - 4s - loss: 0.6928 - acc: 0.5093 - val_loss: 0.6908 - val_acc: 0.5412\n",
      "Epoch 10/30\n",
      "181493/181493 - 4s - loss: 0.6928 - acc: 0.5097 - val_loss: 0.6896 - val_acc: 0.5462\n",
      "Epoch 11/30\n",
      "181493/181493 - 4s - loss: 0.6927 - acc: 0.5099 - val_loss: 0.6914 - val_acc: 0.5223\n",
      "Epoch 12/30\n",
      "181493/181493 - 5s - loss: 0.6927 - acc: 0.5088 - val_loss: 0.6910 - val_acc: 0.5288\n",
      "Epoch 13/30\n",
      "181493/181493 - 5s - loss: 0.6926 - acc: 0.5106 - val_loss: 0.6903 - val_acc: 0.5466\n",
      "Epoch 14/30\n",
      "181493/181493 - 5s - loss: 0.6926 - acc: 0.5108 - val_loss: 0.6900 - val_acc: 0.5322\n",
      "Epoch 15/30\n",
      "181493/181493 - 4s - loss: 0.6926 - acc: 0.5093 - val_loss: 0.6892 - val_acc: 0.5470\n",
      "Epoch 16/30\n",
      "181493/181493 - 4s - loss: 0.6925 - acc: 0.5107 - val_loss: 0.6899 - val_acc: 0.5422\n",
      "Epoch 17/30\n",
      "181493/181493 - 4s - loss: 0.6924 - acc: 0.5104 - val_loss: 0.6867 - val_acc: 0.5620\n",
      "Epoch 18/30\n",
      "181493/181493 - 4s - loss: 0.6924 - acc: 0.5106 - val_loss: 0.6913 - val_acc: 0.5299\n",
      "Epoch 19/30\n",
      "181493/181493 - 4s - loss: 0.6924 - acc: 0.5122 - val_loss: 0.6893 - val_acc: 0.5313\n",
      "Epoch 20/30\n",
      "181493/181493 - 4s - loss: 0.6923 - acc: 0.5132 - val_loss: 0.6919 - val_acc: 0.5135\n",
      "Epoch 21/30\n",
      "181493/181493 - 4s - loss: 0.6922 - acc: 0.5114 - val_loss: 0.6908 - val_acc: 0.5323\n",
      "Epoch 22/30\n",
      "181493/181493 - 4s - loss: 0.6922 - acc: 0.5125 - val_loss: 0.6901 - val_acc: 0.5356\n",
      "Epoch 23/30\n",
      "181493/181493 - 4s - loss: 0.6921 - acc: 0.5138 - val_loss: 0.6898 - val_acc: 0.5373\n",
      "Epoch 24/30\n",
      "181493/181493 - 4s - loss: 0.6920 - acc: 0.5142 - val_loss: 0.6921 - val_acc: 0.5086\n",
      "Epoch 25/30\n",
      "181493/181493 - 4s - loss: 0.6920 - acc: 0.5133 - val_loss: 0.6891 - val_acc: 0.5319\n",
      "Epoch 26/30\n",
      "181493/181493 - 4s - loss: 0.6918 - acc: 0.5153 - val_loss: 0.6902 - val_acc: 0.5323\n",
      "Epoch 27/30\n",
      "181493/181493 - 4s - loss: 0.6917 - acc: 0.5160 - val_loss: 0.6912 - val_acc: 0.5141\n",
      "Epoch 28/30\n",
      "181493/181493 - 4s - loss: 0.6917 - acc: 0.5149 - val_loss: 0.6908 - val_acc: 0.5218\n",
      "Epoch 29/30\n",
      "181493/181493 - 4s - loss: 0.6916 - acc: 0.5150 - val_loss: 0.6901 - val_acc: 0.5328\n",
      "Epoch 30/30\n",
      "181493/181493 - 4s - loss: 0.6914 - acc: 0.5161 - val_loss: 0.6905 - val_acc: 0.5330\n",
      "Train on 181493 samples, validate on 40576 samples\n",
      "Epoch 1/30\n",
      "181493/181493 - 5s - loss: 0.6934 - acc: 0.5018 - val_loss: 0.6931 - val_acc: 0.5062\n",
      "Epoch 2/30\n",
      "181493/181493 - 4s - loss: 0.6932 - acc: 0.5016 - val_loss: 0.6932 - val_acc: 0.5063\n",
      "Epoch 3/30\n",
      "181493/181493 - 5s - loss: 0.6932 - acc: 0.5004 - val_loss: 0.6932 - val_acc: 0.5022\n",
      "Epoch 4/30\n",
      "181493/181493 - 5s - loss: 0.6932 - acc: 0.5023 - val_loss: 0.6931 - val_acc: 0.5058\n",
      "Epoch 5/30\n",
      "181493/181493 - 4s - loss: 0.6932 - acc: 0.5015 - val_loss: 0.6931 - val_acc: 0.5064\n",
      "Epoch 6/30\n",
      "181493/181493 - 4s - loss: 0.6932 - acc: 0.5014 - val_loss: 0.6931 - val_acc: 0.5068\n",
      "Epoch 7/30\n",
      "181493/181493 - 4s - loss: 0.6931 - acc: 0.5022 - val_loss: 0.6931 - val_acc: 0.5091\n",
      "Epoch 8/30\n",
      "181493/181493 - 4s - loss: 0.6931 - acc: 0.5052 - val_loss: 0.6929 - val_acc: 0.5107\n",
      "Epoch 9/30\n",
      "181493/181493 - 4s - loss: 0.6930 - acc: 0.5041 - val_loss: 0.6931 - val_acc: 0.5102\n",
      "Epoch 10/30\n",
      "181493/181493 - 4s - loss: 0.6930 - acc: 0.5042 - val_loss: 0.6932 - val_acc: 0.5074\n",
      "Epoch 11/30\n",
      "181493/181493 - 4s - loss: 0.6930 - acc: 0.5051 - val_loss: 0.6931 - val_acc: 0.5097\n",
      "Epoch 12/30\n",
      "181493/181493 - 4s - loss: 0.6929 - acc: 0.5057 - val_loss: 0.6932 - val_acc: 0.5094\n",
      "Epoch 13/30\n",
      "181493/181493 - 4s - loss: 0.6929 - acc: 0.5049 - val_loss: 0.6917 - val_acc: 0.5124\n",
      "Epoch 14/30\n",
      "181493/181493 - 4s - loss: 0.6929 - acc: 0.5056 - val_loss: 0.6929 - val_acc: 0.5146\n",
      "Epoch 15/30\n",
      "181493/181493 - 4s - loss: 0.6929 - acc: 0.5059 - val_loss: 0.6929 - val_acc: 0.5256\n",
      "Epoch 16/30\n",
      "181493/181493 - 4s - loss: 0.6929 - acc: 0.5059 - val_loss: 0.6928 - val_acc: 0.5342\n",
      "Epoch 17/30\n",
      "181493/181493 - 4s - loss: 0.6928 - acc: 0.5042 - val_loss: 0.6930 - val_acc: 0.5123\n",
      "Epoch 18/30\n",
      "181493/181493 - 4s - loss: 0.6928 - acc: 0.5056 - val_loss: 0.6929 - val_acc: 0.5146\n",
      "Epoch 19/30\n",
      "181493/181493 - 4s - loss: 0.6927 - acc: 0.5060 - val_loss: 0.6929 - val_acc: 0.5145\n",
      "Epoch 20/30\n",
      "181493/181493 - 4s - loss: 0.6928 - acc: 0.5063 - val_loss: 0.6932 - val_acc: 0.5175\n",
      "Epoch 21/30\n",
      "181493/181493 - 4s - loss: 0.6927 - acc: 0.5063 - val_loss: 0.6934 - val_acc: 0.5151\n",
      "Epoch 22/30\n",
      "181493/181493 - 4s - loss: 0.6926 - acc: 0.5066 - val_loss: 0.6930 - val_acc: 0.5117\n",
      "Epoch 23/30\n",
      "181493/181493 - 4s - loss: 0.6926 - acc: 0.5071 - val_loss: 0.6926 - val_acc: 0.5156\n",
      "Epoch 24/30\n",
      "181493/181493 - 4s - loss: 0.6926 - acc: 0.5056 - val_loss: 0.6926 - val_acc: 0.5354\n",
      "Epoch 25/30\n",
      "181493/181493 - 4s - loss: 0.6925 - acc: 0.5064 - val_loss: 0.6930 - val_acc: 0.5270\n",
      "Epoch 26/30\n",
      "181493/181493 - 4s - loss: 0.6925 - acc: 0.5071 - val_loss: 0.6929 - val_acc: 0.5182\n",
      "Epoch 27/30\n",
      "181493/181493 - 4s - loss: 0.6925 - acc: 0.5069 - val_loss: 0.6931 - val_acc: 0.5114\n",
      "Epoch 28/30\n",
      "181493/181493 - 4s - loss: 0.6924 - acc: 0.5066 - val_loss: 0.6936 - val_acc: 0.5144\n",
      "Epoch 29/30\n",
      "181493/181493 - 4s - loss: 0.6923 - acc: 0.5077 - val_loss: 0.6934 - val_acc: 0.5217\n",
      "Epoch 30/30\n",
      "181493/181493 - 4s - loss: 0.6922 - acc: 0.5080 - val_loss: 0.6923 - val_acc: 0.5380\n",
      "Train on 181493 samples, validate on 40576 samples\n",
      "Epoch 1/30\n",
      "181493/181493 - 5s - loss: 0.6934 - acc: 0.5013 - val_loss: 0.6930 - val_acc: 0.5080\n",
      "Epoch 2/30\n",
      "181493/181493 - 4s - loss: 0.6932 - acc: 0.5040 - val_loss: 0.6940 - val_acc: 0.4863\n",
      "Epoch 3/30\n",
      "181493/181493 - 4s - loss: 0.6932 - acc: 0.5024 - val_loss: 0.6932 - val_acc: 0.4958\n",
      "Epoch 4/30\n",
      "181493/181493 - 4s - loss: 0.6931 - acc: 0.5030 - val_loss: 0.6923 - val_acc: 0.5289\n",
      "Epoch 5/30\n",
      "181493/181493 - 4s - loss: 0.6931 - acc: 0.5058 - val_loss: 0.6934 - val_acc: 0.4943\n",
      "Epoch 6/30\n",
      "181493/181493 - 4s - loss: 0.6931 - acc: 0.5067 - val_loss: 0.6933 - val_acc: 0.5054\n",
      "Epoch 7/30\n",
      "181493/181493 - 4s - loss: 0.6931 - acc: 0.5072 - val_loss: 0.6936 - val_acc: 0.4852\n",
      "Epoch 8/30\n",
      "181493/181493 - 4s - loss: 0.6931 - acc: 0.5056 - val_loss: 0.6939 - val_acc: 0.4940\n",
      "Epoch 9/30\n",
      "181493/181493 - 4s - loss: 0.6930 - acc: 0.5074 - val_loss: 0.6932 - val_acc: 0.5004\n",
      "Epoch 10/30\n",
      "181493/181493 - 4s - loss: 0.6931 - acc: 0.5075 - val_loss: 0.6933 - val_acc: 0.4975\n",
      "Epoch 11/30\n",
      "181493/181493 - 4s - loss: 0.6931 - acc: 0.5069 - val_loss: 0.6933 - val_acc: 0.4990\n",
      "Epoch 12/30\n",
      "181493/181493 - 4s - loss: 0.6931 - acc: 0.5052 - val_loss: 0.6929 - val_acc: 0.5076\n",
      "Epoch 13/30\n",
      "181493/181493 - 4s - loss: 0.6930 - acc: 0.5067 - val_loss: 0.6932 - val_acc: 0.4963\n",
      "Epoch 14/30\n",
      "181493/181493 - 4s - loss: 0.6930 - acc: 0.5073 - val_loss: 0.6931 - val_acc: 0.4901\n",
      "Epoch 15/30\n",
      "181493/181493 - 4s - loss: 0.6930 - acc: 0.5077 - val_loss: 0.6932 - val_acc: 0.4908\n",
      "Epoch 16/30\n",
      "181493/181493 - 4s - loss: 0.6930 - acc: 0.5071 - val_loss: 0.6935 - val_acc: 0.4971\n",
      "Epoch 17/30\n",
      "181493/181493 - 4s - loss: 0.6929 - acc: 0.5070 - val_loss: 0.6924 - val_acc: 0.5094\n",
      "Epoch 18/30\n",
      "181493/181493 - 4s - loss: 0.6929 - acc: 0.5067 - val_loss: 0.6933 - val_acc: 0.4841\n"
     ]
    },
    {
     "name": "stdout",
     "output_type": "stream",
     "text": [
      "Epoch 19/30\n",
      "181493/181493 - 4s - loss: 0.6929 - acc: 0.5089 - val_loss: 0.6921 - val_acc: 0.5050\n",
      "Epoch 20/30\n",
      "181493/181493 - 4s - loss: 0.6929 - acc: 0.5083 - val_loss: 0.6934 - val_acc: 0.4960\n",
      "Epoch 21/30\n",
      "181493/181493 - 4s - loss: 0.6928 - acc: 0.5092 - val_loss: 0.6935 - val_acc: 0.4895\n",
      "Epoch 22/30\n",
      "181493/181493 - 4s - loss: 0.6928 - acc: 0.5107 - val_loss: 0.6932 - val_acc: 0.4997\n",
      "Epoch 23/30\n",
      "181493/181493 - 4s - loss: 0.6929 - acc: 0.5100 - val_loss: 0.6930 - val_acc: 0.4984\n",
      "Epoch 24/30\n",
      "181493/181493 - 4s - loss: 0.6928 - acc: 0.5083 - val_loss: 0.6925 - val_acc: 0.4999\n",
      "Epoch 25/30\n",
      "181493/181493 - 4s - loss: 0.6927 - acc: 0.5085 - val_loss: 0.6929 - val_acc: 0.4959\n",
      "Epoch 26/30\n",
      "181493/181493 - 4s - loss: 0.6927 - acc: 0.5108 - val_loss: 0.6930 - val_acc: 0.4975\n",
      "Epoch 27/30\n",
      "181493/181493 - 4s - loss: 0.6927 - acc: 0.5108 - val_loss: 0.6919 - val_acc: 0.5122\n",
      "Epoch 28/30\n",
      "181493/181493 - 4s - loss: 0.6926 - acc: 0.5097 - val_loss: 0.6925 - val_acc: 0.5029\n",
      "Epoch 29/30\n",
      "181493/181493 - 4s - loss: 0.6927 - acc: 0.5085 - val_loss: 0.6919 - val_acc: 0.4995\n",
      "Epoch 30/30\n",
      "181493/181493 - 4s - loss: 0.6926 - acc: 0.5102 - val_loss: 0.6925 - val_acc: 0.4959\n",
      "Train on 181493 samples, validate on 40576 samples\n",
      "Epoch 1/30\n",
      "181493/181493 - 5s - loss: 0.6934 - acc: 0.4984 - val_loss: 0.6931 - val_acc: 0.4932\n",
      "Epoch 2/30\n",
      "181493/181493 - 4s - loss: 0.6932 - acc: 0.4994 - val_loss: 0.6931 - val_acc: 0.5063\n",
      "Epoch 3/30\n",
      "181493/181493 - 4s - loss: 0.6932 - acc: 0.5010 - val_loss: 0.6932 - val_acc: 0.4937\n",
      "Epoch 4/30\n",
      "181493/181493 - 5s - loss: 0.6932 - acc: 0.5008 - val_loss: 0.6931 - val_acc: 0.5063\n",
      "Epoch 5/30\n",
      "181493/181493 - 4s - loss: 0.6932 - acc: 0.4991 - val_loss: 0.6931 - val_acc: 0.5063\n",
      "Epoch 6/30\n",
      "181493/181493 - 4s - loss: 0.6932 - acc: 0.5013 - val_loss: 0.6931 - val_acc: 0.5063\n",
      "Epoch 7/30\n",
      "181493/181493 - 4s - loss: 0.6932 - acc: 0.5005 - val_loss: 0.6932 - val_acc: 0.4937\n",
      "Epoch 8/30\n",
      "181493/181493 - 4s - loss: 0.6932 - acc: 0.5019 - val_loss: 0.6931 - val_acc: 0.5062\n",
      "Epoch 9/30\n",
      "181493/181493 - 4s - loss: 0.6932 - acc: 0.5009 - val_loss: 0.6931 - val_acc: 0.5063\n",
      "Epoch 10/30\n",
      "181493/181493 - 4s - loss: 0.6932 - acc: 0.5007 - val_loss: 0.6931 - val_acc: 0.5063\n",
      "Epoch 11/30\n",
      "181493/181493 - 4s - loss: 0.6931 - acc: 0.5025 - val_loss: 0.6933 - val_acc: 0.4937\n",
      "Epoch 12/30\n",
      "181493/181493 - 4s - loss: 0.6932 - acc: 0.5019 - val_loss: 0.6931 - val_acc: 0.5063\n",
      "Epoch 13/30\n",
      "181493/181493 - 4s - loss: 0.6932 - acc: 0.5003 - val_loss: 0.6931 - val_acc: 0.5063\n",
      "Epoch 14/30\n",
      "181493/181493 - 4s - loss: 0.6931 - acc: 0.5029 - val_loss: 0.6932 - val_acc: 0.4937\n",
      "Epoch 15/30\n",
      "181493/181493 - 4s - loss: 0.6931 - acc: 0.5023 - val_loss: 0.6931 - val_acc: 0.5063\n",
      "Epoch 16/30\n",
      "181493/181493 - 4s - loss: 0.6931 - acc: 0.5022 - val_loss: 0.6932 - val_acc: 0.4937\n",
      "Epoch 17/30\n",
      "181493/181493 - 4s - loss: 0.6932 - acc: 0.4984 - val_loss: 0.6931 - val_acc: 0.5063\n",
      "Epoch 18/30\n",
      "181493/181493 - 4s - loss: 0.6932 - acc: 0.4992 - val_loss: 0.6931 - val_acc: 0.5063\n",
      "Epoch 19/30\n",
      "181493/181493 - 4s - loss: 0.6932 - acc: 0.4992 - val_loss: 0.6931 - val_acc: 0.5063\n",
      "Epoch 20/30\n",
      "181493/181493 - 4s - loss: 0.6932 - acc: 0.4988 - val_loss: 0.6931 - val_acc: 0.5063\n",
      "Epoch 21/30\n",
      "181493/181493 - 4s - loss: 0.6932 - acc: 0.4990 - val_loss: 0.6931 - val_acc: 0.5063\n",
      "Epoch 22/30\n",
      "181493/181493 - 4s - loss: 0.6932 - acc: 0.5012 - val_loss: 0.6932 - val_acc: 0.4937\n",
      "Epoch 23/30\n",
      "181493/181493 - 5s - loss: 0.6932 - acc: 0.5002 - val_loss: 0.6931 - val_acc: 0.5063\n",
      "Epoch 24/30\n",
      "181493/181493 - 4s - loss: 0.6932 - acc: 0.4989 - val_loss: 0.6931 - val_acc: 0.5063\n",
      "Epoch 25/30\n",
      "181493/181493 - 4s - loss: 0.6932 - acc: 0.4997 - val_loss: 0.6931 - val_acc: 0.5063\n",
      "Epoch 26/30\n",
      "181493/181493 - 4s - loss: 0.6932 - acc: 0.5004 - val_loss: 0.6932 - val_acc: 0.4937\n",
      "Epoch 27/30\n",
      "181493/181493 - 4s - loss: 0.6932 - acc: 0.4988 - val_loss: 0.6931 - val_acc: 0.5063\n",
      "Epoch 28/30\n",
      "181493/181493 - 4s - loss: 0.6932 - acc: 0.5010 - val_loss: 0.6931 - val_acc: 0.5063\n",
      "Epoch 29/30\n",
      "181493/181493 - 4s - loss: 0.6932 - acc: 0.5005 - val_loss: 0.6931 - val_acc: 0.5063\n",
      "Epoch 30/30\n",
      "181493/181493 - 4s - loss: 0.6932 - acc: 0.5025 - val_loss: 0.6933 - val_acc: 0.4937\n",
      "Train on 181493 samples, validate on 40576 samples\n",
      "Epoch 1/30\n",
      "181493/181493 - 5s - loss: 0.6933 - acc: 0.4996 - val_loss: 0.6932 - val_acc: 0.4844\n",
      "Epoch 2/30\n",
      "181493/181493 - 4s - loss: 0.6932 - acc: 0.5003 - val_loss: 0.6931 - val_acc: 0.5063\n",
      "Epoch 3/30\n",
      "181493/181493 - 4s - loss: 0.6932 - acc: 0.4993 - val_loss: 0.6932 - val_acc: 0.4937\n",
      "Epoch 4/30\n",
      "181493/181493 - 4s - loss: 0.6932 - acc: 0.4985 - val_loss: 0.6932 - val_acc: 0.4937\n",
      "Epoch 5/30\n",
      "181493/181493 - 4s - loss: 0.6932 - acc: 0.5001 - val_loss: 0.6932 - val_acc: 0.4937\n",
      "Epoch 6/30\n",
      "181493/181493 - 4s - loss: 0.6932 - acc: 0.4994 - val_loss: 0.6932 - val_acc: 0.4938\n",
      "Epoch 7/30\n",
      "181493/181493 - 4s - loss: 0.6932 - acc: 0.5010 - val_loss: 0.6931 - val_acc: 0.4937\n",
      "Epoch 8/30\n",
      "181493/181493 - 5s - loss: 0.6932 - acc: 0.4989 - val_loss: 0.6931 - val_acc: 0.5063\n",
      "Epoch 9/30\n",
      "181493/181493 - 5s - loss: 0.6932 - acc: 0.4992 - val_loss: 0.6932 - val_acc: 0.4937\n",
      "Epoch 10/30\n",
      "181493/181493 - 4s - loss: 0.6932 - acc: 0.4990 - val_loss: 0.6931 - val_acc: 0.5062\n",
      "Epoch 11/30\n",
      "181493/181493 - 4s - loss: 0.6932 - acc: 0.4989 - val_loss: 0.6932 - val_acc: 0.5067\n",
      "Epoch 12/30\n",
      "181493/181493 - 4s - loss: 0.6932 - acc: 0.4990 - val_loss: 0.6931 - val_acc: 0.5061\n",
      "Epoch 13/30\n",
      "181493/181493 - 5s - loss: 0.6931 - acc: 0.5013 - val_loss: 0.6932 - val_acc: 0.4937\n",
      "Epoch 14/30\n",
      "181493/181493 - 4s - loss: 0.6932 - acc: 0.4990 - val_loss: 0.6932 - val_acc: 0.4919\n",
      "Epoch 15/30\n",
      "181493/181493 - 4s - loss: 0.6932 - acc: 0.4988 - val_loss: 0.6931 - val_acc: 0.5058\n",
      "Epoch 16/30\n",
      "181493/181493 - 4s - loss: 0.6931 - acc: 0.4999 - val_loss: 0.6931 - val_acc: 0.5061\n",
      "Epoch 17/30\n",
      "181493/181493 - 4s - loss: 0.6931 - acc: 0.5001 - val_loss: 0.6932 - val_acc: 0.4937\n",
      "Epoch 18/30\n",
      "181493/181493 - 5s - loss: 0.6931 - acc: 0.5000 - val_loss: 0.6932 - val_acc: 0.5063\n",
      "Epoch 19/30\n",
      "181493/181493 - 4s - loss: 0.6931 - acc: 0.4991 - val_loss: 0.6931 - val_acc: 0.5063\n",
      "Epoch 20/30\n",
      "181493/181493 - 4s - loss: 0.6931 - acc: 0.4973 - val_loss: 0.6931 - val_acc: 0.5063\n",
      "Epoch 21/30\n",
      "181493/181493 - 4s - loss: 0.6932 - acc: 0.4993 - val_loss: 0.6931 - val_acc: 0.5063\n",
      "Epoch 22/30\n",
      "181493/181493 - 4s - loss: 0.6932 - acc: 0.5007 - val_loss: 0.6931 - val_acc: 0.5063\n",
      "Epoch 23/30\n",
      "181493/181493 - 4s - loss: 0.6932 - acc: 0.4985 - val_loss: 0.6932 - val_acc: 0.4938\n",
      "Epoch 24/30\n",
      "181493/181493 - 4s - loss: 0.6931 - acc: 0.5005 - val_loss: 0.6931 - val_acc: 0.5063\n",
      "Epoch 25/30\n",
      "181493/181493 - 4s - loss: 0.6931 - acc: 0.4999 - val_loss: 0.6931 - val_acc: 0.5065\n",
      "Epoch 26/30\n",
      "181493/181493 - 4s - loss: 0.6931 - acc: 0.5003 - val_loss: 0.6931 - val_acc: 0.5065\n",
      "Epoch 27/30\n",
      "181493/181493 - 5s - loss: 0.6931 - acc: 0.5005 - val_loss: 0.6932 - val_acc: 0.5075\n",
      "Epoch 28/30\n",
      "181493/181493 - 5s - loss: 0.6931 - acc: 0.5003 - val_loss: 0.6932 - val_acc: 0.4937\n",
      "Epoch 29/30\n",
      "181493/181493 - 4s - loss: 0.6931 - acc: 0.4997 - val_loss: 0.6930 - val_acc: 0.5133\n",
      "Epoch 30/30\n",
      "181493/181493 - 4s - loss: 0.6931 - acc: 0.5020 - val_loss: 0.6933 - val_acc: 0.4937\n",
      "Train on 181493 samples, validate on 40576 samples\n",
      "Epoch 1/30\n",
      "181493/181493 - 5s - loss: 0.6934 - acc: 0.5015 - val_loss: 0.6931 - val_acc: 0.4978\n",
      "Epoch 2/30\n",
      "181493/181493 - 4s - loss: 0.6932 - acc: 0.5009 - val_loss: 0.6934 - val_acc: 0.4924\n",
      "Epoch 3/30\n",
      "181493/181493 - 4s - loss: 0.6932 - acc: 0.5020 - val_loss: 0.6931 - val_acc: 0.5063\n",
      "Epoch 4/30\n",
      "181493/181493 - 4s - loss: 0.6932 - acc: 0.5002 - val_loss: 0.6931 - val_acc: 0.5063\n",
      "Epoch 5/30\n",
      "181493/181493 - 4s - loss: 0.6932 - acc: 0.4987 - val_loss: 0.6933 - val_acc: 0.4937\n",
      "Epoch 6/30\n",
      "181493/181493 - 4s - loss: 0.6932 - acc: 0.4999 - val_loss: 0.6931 - val_acc: 0.5078\n",
      "Epoch 7/30\n",
      "181493/181493 - 4s - loss: 0.6932 - acc: 0.4973 - val_loss: 0.6931 - val_acc: 0.5065\n",
      "Epoch 8/30\n",
      "181493/181493 - 4s - loss: 0.6932 - acc: 0.4993 - val_loss: 0.6931 - val_acc: 0.5062\n",
      "Epoch 9/30\n",
      "181493/181493 - 4s - loss: 0.6932 - acc: 0.4991 - val_loss: 0.6931 - val_acc: 0.5061\n",
      "Epoch 10/30\n",
      "181493/181493 - 5s - loss: 0.6932 - acc: 0.4971 - val_loss: 0.6932 - val_acc: 0.5059\n",
      "Epoch 11/30\n",
      "181493/181493 - 5s - loss: 0.6932 - acc: 0.5017 - val_loss: 0.6931 - val_acc: 0.5061\n",
      "Epoch 12/30\n",
      "181493/181493 - 4s - loss: 0.6932 - acc: 0.4972 - val_loss: 0.6932 - val_acc: 0.5062\n"
     ]
    },
    {
     "name": "stdout",
     "output_type": "stream",
     "text": [
      "Epoch 13/30\n",
      "181493/181493 - 4s - loss: 0.6931 - acc: 0.4996 - val_loss: 0.6932 - val_acc: 0.4936\n",
      "Epoch 14/30\n",
      "181493/181493 - 4s - loss: 0.6932 - acc: 0.4986 - val_loss: 0.6932 - val_acc: 0.4935\n",
      "Epoch 15/30\n",
      "181493/181493 - 4s - loss: 0.6931 - acc: 0.4995 - val_loss: 0.6933 - val_acc: 0.4933\n",
      "Epoch 16/30\n",
      "181493/181493 - 4s - loss: 0.6931 - acc: 0.5003 - val_loss: 0.6933 - val_acc: 0.5064\n",
      "Epoch 17/30\n",
      "181493/181493 - 4s - loss: 0.6931 - acc: 0.5013 - val_loss: 0.6932 - val_acc: 0.5064\n",
      "Epoch 18/30\n",
      "181493/181493 - 4s - loss: 0.6931 - acc: 0.4998 - val_loss: 0.6931 - val_acc: 0.5062\n",
      "Epoch 19/30\n",
      "181493/181493 - 4s - loss: 0.6930 - acc: 0.5013 - val_loss: 0.6934 - val_acc: 0.4896\n",
      "Epoch 20/30\n",
      "181493/181493 - 5s - loss: 0.6930 - acc: 0.5018 - val_loss: 0.6931 - val_acc: 0.5062\n",
      "Epoch 21/30\n",
      "181493/181493 - 4s - loss: 0.6930 - acc: 0.4995 - val_loss: 0.6933 - val_acc: 0.4933\n",
      "Epoch 22/30\n",
      "181493/181493 - 5s - loss: 0.6930 - acc: 0.5013 - val_loss: 0.6933 - val_acc: 0.4935\n",
      "Epoch 23/30\n",
      "181493/181493 - 4s - loss: 0.6930 - acc: 0.5004 - val_loss: 0.6932 - val_acc: 0.5062\n",
      "Epoch 24/30\n",
      "181493/181493 - 5s - loss: 0.6930 - acc: 0.5004 - val_loss: 0.6945 - val_acc: 0.5062\n",
      "Epoch 25/30\n",
      "181493/181493 - 4s - loss: 0.6930 - acc: 0.5003 - val_loss: 0.6933 - val_acc: 0.5061\n",
      "Epoch 26/30\n",
      "181493/181493 - 4s - loss: 0.6930 - acc: 0.5007 - val_loss: 0.6932 - val_acc: 0.4936\n",
      "Epoch 27/30\n",
      "181493/181493 - 4s - loss: 0.6930 - acc: 0.4993 - val_loss: 0.6933 - val_acc: 0.4933\n",
      "Epoch 28/30\n",
      "181493/181493 - 4s - loss: 0.6930 - acc: 0.4987 - val_loss: 0.6935 - val_acc: 0.5064\n",
      "Epoch 29/30\n",
      "181493/181493 - 4s - loss: 0.6929 - acc: 0.5001 - val_loss: 0.6932 - val_acc: 0.5062\n",
      "Epoch 30/30\n",
      "181493/181493 - 4s - loss: 0.6929 - acc: 0.4997 - val_loss: 0.6933 - val_acc: 0.4934\n",
      "Train on 181493 samples, validate on 40576 samples\n",
      "Epoch 1/30\n",
      "181493/181493 - 5s - loss: 0.6934 - acc: 0.4980 - val_loss: 0.6931 - val_acc: 0.5114\n",
      "Epoch 2/30\n",
      "181493/181493 - 4s - loss: 0.6932 - acc: 0.5003 - val_loss: 0.6931 - val_acc: 0.5062\n",
      "Epoch 3/30\n",
      "181493/181493 - 4s - loss: 0.6932 - acc: 0.5011 - val_loss: 0.6931 - val_acc: 0.5063\n",
      "Epoch 4/30\n",
      "181493/181493 - 5s - loss: 0.6932 - acc: 0.4987 - val_loss: 0.6932 - val_acc: 0.4937\n",
      "Epoch 5/30\n",
      "181493/181493 - 5s - loss: 0.6932 - acc: 0.4975 - val_loss: 0.6932 - val_acc: 0.4937\n",
      "Epoch 6/30\n",
      "181493/181493 - 4s - loss: 0.6932 - acc: 0.4988 - val_loss: 0.6932 - val_acc: 0.4937\n",
      "Epoch 7/30\n",
      "181493/181493 - 4s - loss: 0.6932 - acc: 0.5007 - val_loss: 0.6931 - val_acc: 0.5063\n",
      "Epoch 8/30\n",
      "181493/181493 - 5s - loss: 0.6932 - acc: 0.5002 - val_loss: 0.6931 - val_acc: 0.5063\n",
      "Epoch 9/30\n",
      "181493/181493 - 5s - loss: 0.6932 - acc: 0.4997 - val_loss: 0.6934 - val_acc: 0.4937\n",
      "Epoch 10/30\n",
      "181493/181493 - 5s - loss: 0.6932 - acc: 0.5008 - val_loss: 0.6931 - val_acc: 0.5063\n",
      "Epoch 11/30\n",
      "181493/181493 - 5s - loss: 0.6932 - acc: 0.4993 - val_loss: 0.6931 - val_acc: 0.5063\n",
      "Epoch 12/30\n",
      "181493/181493 - 4s - loss: 0.6932 - acc: 0.4999 - val_loss: 0.6931 - val_acc: 0.4937\n",
      "Epoch 13/30\n",
      "181493/181493 - 4s - loss: 0.6932 - acc: 0.4976 - val_loss: 0.6931 - val_acc: 0.5063\n",
      "Epoch 14/30\n",
      "181493/181493 - 5s - loss: 0.6932 - acc: 0.5025 - val_loss: 0.6931 - val_acc: 0.5063\n",
      "Epoch 15/30\n",
      "181493/181493 - 4s - loss: 0.6932 - acc: 0.5018 - val_loss: 0.6933 - val_acc: 0.4937\n",
      "Epoch 16/30\n",
      "181493/181493 - 4s - loss: 0.6932 - acc: 0.4968 - val_loss: 0.6931 - val_acc: 0.4937\n",
      "Epoch 17/30\n",
      "181493/181493 - 4s - loss: 0.6932 - acc: 0.5007 - val_loss: 0.6932 - val_acc: 0.4937\n",
      "Epoch 18/30\n",
      "181493/181493 - 4s - loss: 0.6932 - acc: 0.5001 - val_loss: 0.6931 - val_acc: 0.5063\n",
      "Epoch 19/30\n",
      "181493/181493 - 4s - loss: 0.6932 - acc: 0.5007 - val_loss: 0.6932 - val_acc: 0.4937\n",
      "Epoch 20/30\n",
      "181493/181493 - 4s - loss: 0.6932 - acc: 0.5005 - val_loss: 0.6931 - val_acc: 0.5063\n",
      "Epoch 21/30\n",
      "181493/181493 - 4s - loss: 0.6932 - acc: 0.4995 - val_loss: 0.6931 - val_acc: 0.5063\n",
      "Epoch 22/30\n",
      "181493/181493 - 4s - loss: 0.6932 - acc: 0.5013 - val_loss: 0.6932 - val_acc: 0.4937\n",
      "Epoch 23/30\n",
      "181493/181493 - 5s - loss: 0.6932 - acc: 0.4993 - val_loss: 0.6932 - val_acc: 0.4937\n",
      "Epoch 24/30\n",
      "181493/181493 - 4s - loss: 0.6932 - acc: 0.5002 - val_loss: 0.6932 - val_acc: 0.4937\n",
      "Epoch 25/30\n",
      "181493/181493 - 5s - loss: 0.6932 - acc: 0.4999 - val_loss: 0.6931 - val_acc: 0.5063\n",
      "Epoch 26/30\n",
      "181493/181493 - 4s - loss: 0.6932 - acc: 0.4989 - val_loss: 0.6932 - val_acc: 0.4937\n",
      "Epoch 27/30\n",
      "181493/181493 - 4s - loss: 0.6932 - acc: 0.5015 - val_loss: 0.6931 - val_acc: 0.5063\n",
      "Epoch 28/30\n",
      "181493/181493 - 4s - loss: 0.6932 - acc: 0.5018 - val_loss: 0.6931 - val_acc: 0.5063\n",
      "Epoch 29/30\n",
      "181493/181493 - 4s - loss: 0.6932 - acc: 0.4986 - val_loss: 0.6931 - val_acc: 0.5063\n",
      "Epoch 30/30\n",
      "181493/181493 - 4s - loss: 0.6932 - acc: 0.4992 - val_loss: 0.6932 - val_acc: 0.4937\n"
     ]
    }
   ],
   "source": [
    "classifier = CNN_Boosting(df=df, CNNparam=CNNparam, Param=Param)\n",
    "classifier.CNN_train()"
   ]
  },
  {
   "cell_type": "code",
   "execution_count": 31,
   "metadata": {},
   "outputs": [],
   "source": [
    "r1, acc1, auc1 = classifier.Separate_Evaluation(year=2019)\n",
    "r2, acc2, auc2 = classifier.Separate_Evaluation(year=2018)\n",
    "r3, acc3, auc3 = classifier.Separate_Evaluation(year=2017)"
   ]
  },
  {
   "cell_type": "code",
   "execution_count": 36,
   "metadata": {},
   "outputs": [
    {
     "data": {
      "application/vnd.jupyter.widget-view+json": {
       "model_id": "dd1c4d7598dd4b238384ecb186a4746d",
       "version_major": 2,
       "version_minor": 0
      },
      "text/plain": [
       "HBox(children=(IntProgress(value=0, max=130), HTML(value='')))"
      ]
     },
     "metadata": {},
     "output_type": "display_data"
    },
    {
     "data": {
      "text/plain": [
       "(0.007692307692307693, 0.007692307692307693)"
      ]
     },
     "execution_count": 36,
     "metadata": {},
     "output_type": "execute_result"
    }
   ],
   "source": [
    "classifier.Overall_Evaluation(threshold=0.5)"
   ]
  },
  {
   "cell_type": "code",
   "execution_count": 33,
   "metadata": {},
   "outputs": [
    {
     "name": "stdout",
     "output_type": "stream",
     "text": [
      "[0.6533934032219101, 0.653815997998165, '              precision    recall  f1-score   support\\n\\n        down       0.64      0.70      0.67     30225\\n          up       0.67      0.60      0.63     29720\\n\\n    accuracy                           0.65     59945\\n   macro avg       0.66      0.65      0.65     59945\\nweighted avg       0.65      0.65      0.65     59945\\n']\n"
     ]
    }
   ],
   "source": [
    "print(classifier.Evaluation())"
   ]
  },
  {
   "cell_type": "code",
   "execution_count": 32,
   "metadata": {},
   "outputs": [
    {
     "name": "stdout",
     "output_type": "stream",
     "text": [
      "              precision    recall  f1-score   support\n",
      "\n",
      "        down       0.63      0.70      0.66     10299\n",
      "          up       0.70      0.63      0.67     11739\n",
      "\n",
      "    accuracy                           0.66     22038\n",
      "   macro avg       0.67      0.67      0.66     22038\n",
      "weighted avg       0.67      0.66      0.66     22038\n",
      "\n",
      "              precision    recall  f1-score   support\n",
      "\n",
      "        down       0.66      0.71      0.69     16407\n",
      "          up       0.64      0.58      0.61     14174\n",
      "\n",
      "    accuracy                           0.65     30581\n",
      "   macro avg       0.65      0.65      0.65     30581\n",
      "weighted avg       0.65      0.65      0.65     30581\n",
      "\n",
      "              precision    recall  f1-score   support\n",
      "\n",
      "        down       0.60      0.69      0.64      3519\n",
      "          up       0.67      0.58      0.62      3807\n",
      "\n",
      "    accuracy                           0.63      7326\n",
      "   macro avg       0.63      0.63      0.63      7326\n",
      "weighted avg       0.64      0.63      0.63      7326\n",
      "\n"
     ]
    }
   ],
   "source": [
    "print(r1)\n",
    "print(r2)\n",
    "print(r3)"
   ]
  },
  {
   "cell_type": "code",
   "execution_count": 3,
   "metadata": {
    "scrolled": true
   },
   "outputs": [
    {
     "data": {
      "application/vnd.jupyter.widget-view+json": {
       "model_id": "efe138c1bbd64701a302cd81afe6e94a",
       "version_major": 2,
       "version_minor": 0
      },
      "text/plain": [
       "HBox(children=(IntProgress(value=0, max=6), HTML(value='')))"
      ]
     },
     "metadata": {},
     "output_type": "display_data"
    },
    {
     "name": "stderr",
     "output_type": "stream",
     "text": [
      "WARNING: Logging before flag parsing goes to stderr.\n",
      "W1029 15:23:13.559620  7808 deprecation.py:506] From C:\\Users\\011553\\AppData\\Local\\Continuum\\anaconda3\\envs\\tf-gpu\\lib\\site-packages\\tensorflow\\python\\ops\\init_ops.py:97: calling GlorotUniform.__init__ (from tensorflow.python.ops.init_ops) with dtype is deprecated and will be removed in a future version.\n",
      "Instructions for updating:\n",
      "Call initializer instance with the dtype argument instead of passing it to the constructor\n",
      "W1029 15:23:13.561615  7808 deprecation.py:506] From C:\\Users\\011553\\AppData\\Local\\Continuum\\anaconda3\\envs\\tf-gpu\\lib\\site-packages\\tensorflow\\python\\ops\\init_ops.py:1251: calling VarianceScaling.__init__ (from tensorflow.python.ops.init_ops) with dtype is deprecated and will be removed in a future version.\n",
      "Instructions for updating:\n",
      "Call initializer instance with the dtype argument instead of passing it to the constructor\n",
      "W1029 15:23:13.563609  7808 deprecation.py:506] From C:\\Users\\011553\\AppData\\Local\\Continuum\\anaconda3\\envs\\tf-gpu\\lib\\site-packages\\tensorflow\\python\\ops\\init_ops.py:97: calling Zeros.__init__ (from tensorflow.python.ops.init_ops) with dtype is deprecated and will be removed in a future version.\n",
      "Instructions for updating:\n",
      "Call initializer instance with the dtype argument instead of passing it to the constructor\n"
     ]
    },
    {
     "name": "stdout",
     "output_type": "stream",
     "text": [
      "\n"
     ]
    },
    {
     "name": "stderr",
     "output_type": "stream",
     "text": [
      "C:\\Users\\011553\\AppData\\Local\\Continuum\\anaconda3\\envs\\tf-gpu\\lib\\site-packages\\sklearn\\preprocessing\\_encoders.py:415: FutureWarning: The handling of integer data will change in version 0.22. Currently, the categories are determined based on the range [0, max(values)], while in the future they will be determined based on the unique values.\n",
      "If you want the future behaviour and silence this warning, you can specify \"categories='auto'\".\n",
      "In case you used a LabelEncoder before this OneHotEncoder to convert the categories to integers, then you can now use the OneHotEncoder directly.\n",
      "  warnings.warn(msg, FutureWarning)\n",
      "C:\\Users\\011553\\AppData\\Local\\Continuum\\anaconda3\\envs\\tf-gpu\\lib\\site-packages\\sklearn\\preprocessing\\_encoders.py:415: FutureWarning: The handling of integer data will change in version 0.22. Currently, the categories are determined based on the range [0, max(values)], while in the future they will be determined based on the unique values.\n",
      "If you want the future behaviour and silence this warning, you can specify \"categories='auto'\".\n",
      "In case you used a LabelEncoder before this OneHotEncoder to convert the categories to integers, then you can now use the OneHotEncoder directly.\n",
      "  warnings.warn(msg, FutureWarning)\n",
      "C:\\Users\\011553\\AppData\\Local\\Continuum\\anaconda3\\envs\\tf-gpu\\lib\\site-packages\\sklearn\\preprocessing\\_encoders.py:415: FutureWarning: The handling of integer data will change in version 0.22. Currently, the categories are determined based on the range [0, max(values)], while in the future they will be determined based on the unique values.\n",
      "If you want the future behaviour and silence this warning, you can specify \"categories='auto'\".\n",
      "In case you used a LabelEncoder before this OneHotEncoder to convert the categories to integers, then you can now use the OneHotEncoder directly.\n",
      "  warnings.warn(msg, FutureWarning)\n"
     ]
    },
    {
     "name": "stdout",
     "output_type": "stream",
     "text": [
      "iteration: 1\n"
     ]
    },
    {
     "data": {
      "application/vnd.jupyter.widget-view+json": {
       "model_id": "daae2da823de4ab0af446caec071eb64",
       "version_major": 2,
       "version_minor": 0
      },
      "text/plain": [
       "HBox(children=(IntProgress(value=0, max=65), HTML(value='')))"
      ]
     },
     "metadata": {},
     "output_type": "display_data"
    },
    {
     "name": "stdout",
     "output_type": "stream",
     "text": [
      "\n",
      "(0.15384615384615385, 0.18461538461538463)\n",
      "              precision    recall  f1-score   support\n",
      "\n",
      "        down       0.63      0.62      0.63     15014\n",
      "          up       0.64      0.65      0.65     15681\n",
      "\n",
      "    accuracy                           0.64     30695\n",
      "   macro avg       0.64      0.64      0.64     30695\n",
      "weighted avg       0.64      0.64      0.64     30695\n",
      "\n"
     ]
    },
    {
     "data": {
      "application/vnd.jupyter.widget-view+json": {
       "model_id": "0779113c5f4046b8ad84331751ffa9d9",
       "version_major": 2,
       "version_minor": 0
      },
      "text/plain": [
       "HBox(children=(IntProgress(value=0, max=11), HTML(value='')))"
      ]
     },
     "metadata": {},
     "output_type": "display_data"
    },
    {
     "name": "stdout",
     "output_type": "stream",
     "text": [
      "\n"
     ]
    },
    {
     "name": "stderr",
     "output_type": "stream",
     "text": [
      "C:\\Users\\011553\\AppData\\Local\\Continuum\\anaconda3\\envs\\tf-gpu\\lib\\site-packages\\sklearn\\preprocessing\\_encoders.py:415: FutureWarning: The handling of integer data will change in version 0.22. Currently, the categories are determined based on the range [0, max(values)], while in the future they will be determined based on the unique values.\n",
      "If you want the future behaviour and silence this warning, you can specify \"categories='auto'\".\n",
      "In case you used a LabelEncoder before this OneHotEncoder to convert the categories to integers, then you can now use the OneHotEncoder directly.\n",
      "  warnings.warn(msg, FutureWarning)\n",
      "C:\\Users\\011553\\AppData\\Local\\Continuum\\anaconda3\\envs\\tf-gpu\\lib\\site-packages\\sklearn\\preprocessing\\_encoders.py:415: FutureWarning: The handling of integer data will change in version 0.22. Currently, the categories are determined based on the range [0, max(values)], while in the future they will be determined based on the unique values.\n",
      "If you want the future behaviour and silence this warning, you can specify \"categories='auto'\".\n",
      "In case you used a LabelEncoder before this OneHotEncoder to convert the categories to integers, then you can now use the OneHotEncoder directly.\n",
      "  warnings.warn(msg, FutureWarning)\n",
      "C:\\Users\\011553\\AppData\\Local\\Continuum\\anaconda3\\envs\\tf-gpu\\lib\\site-packages\\sklearn\\preprocessing\\_encoders.py:415: FutureWarning: The handling of integer data will change in version 0.22. Currently, the categories are determined based on the range [0, max(values)], while in the future they will be determined based on the unique values.\n",
      "If you want the future behaviour and silence this warning, you can specify \"categories='auto'\".\n",
      "In case you used a LabelEncoder before this OneHotEncoder to convert the categories to integers, then you can now use the OneHotEncoder directly.\n",
      "  warnings.warn(msg, FutureWarning)\n"
     ]
    },
    {
     "name": "stdout",
     "output_type": "stream",
     "text": [
      "iteration: 2\n"
     ]
    },
    {
     "data": {
      "application/vnd.jupyter.widget-view+json": {
       "model_id": "ffd325caf348469891bfade0a8b0e05a",
       "version_major": 2,
       "version_minor": 0
      },
      "text/plain": [
       "HBox(children=(IntProgress(value=0, max=65), HTML(value='')))"
      ]
     },
     "metadata": {},
     "output_type": "display_data"
    },
    {
     "name": "stderr",
     "output_type": "stream",
     "text": [
      "C:\\Users\\011553\\AppData\\Local\\Continuum\\anaconda3\\envs\\tf-gpu\\lib\\site-packages\\sklearn\\metrics\\classification.py:1437: UndefinedMetricWarning: Precision and F-score are ill-defined and being set to 0.0 in labels with no predicted samples.\n",
      "  'precision', 'predicted', average, warn_for)\n"
     ]
    },
    {
     "name": "stdout",
     "output_type": "stream",
     "text": [
      "\n",
      "(0.15384615384615385, 0.2153846153846154)\n",
      "              precision    recall  f1-score   support\n",
      "\n",
      "        down       0.63      0.61      0.62     15014\n",
      "          up       0.64      0.66      0.65     15681\n",
      "\n",
      "    accuracy                           0.64     30695\n",
      "   macro avg       0.64      0.64      0.64     30695\n",
      "weighted avg       0.64      0.64      0.64     30695\n",
      "\n"
     ]
    },
    {
     "data": {
      "application/vnd.jupyter.widget-view+json": {
       "model_id": "a244041957e64bfc830ed9828e9a8130",
       "version_major": 2,
       "version_minor": 0
      },
      "text/plain": [
       "HBox(children=(IntProgress(value=0, max=11), HTML(value='')))"
      ]
     },
     "metadata": {},
     "output_type": "display_data"
    },
    {
     "name": "stdout",
     "output_type": "stream",
     "text": [
      "\n"
     ]
    },
    {
     "name": "stderr",
     "output_type": "stream",
     "text": [
      "C:\\Users\\011553\\AppData\\Local\\Continuum\\anaconda3\\envs\\tf-gpu\\lib\\site-packages\\sklearn\\preprocessing\\_encoders.py:415: FutureWarning: The handling of integer data will change in version 0.22. Currently, the categories are determined based on the range [0, max(values)], while in the future they will be determined based on the unique values.\n",
      "If you want the future behaviour and silence this warning, you can specify \"categories='auto'\".\n",
      "In case you used a LabelEncoder before this OneHotEncoder to convert the categories to integers, then you can now use the OneHotEncoder directly.\n",
      "  warnings.warn(msg, FutureWarning)\n",
      "C:\\Users\\011553\\AppData\\Local\\Continuum\\anaconda3\\envs\\tf-gpu\\lib\\site-packages\\sklearn\\preprocessing\\_encoders.py:415: FutureWarning: The handling of integer data will change in version 0.22. Currently, the categories are determined based on the range [0, max(values)], while in the future they will be determined based on the unique values.\n",
      "If you want the future behaviour and silence this warning, you can specify \"categories='auto'\".\n",
      "In case you used a LabelEncoder before this OneHotEncoder to convert the categories to integers, then you can now use the OneHotEncoder directly.\n",
      "  warnings.warn(msg, FutureWarning)\n",
      "C:\\Users\\011553\\AppData\\Local\\Continuum\\anaconda3\\envs\\tf-gpu\\lib\\site-packages\\sklearn\\preprocessing\\_encoders.py:415: FutureWarning: The handling of integer data will change in version 0.22. Currently, the categories are determined based on the range [0, max(values)], while in the future they will be determined based on the unique values.\n",
      "If you want the future behaviour and silence this warning, you can specify \"categories='auto'\".\n",
      "In case you used a LabelEncoder before this OneHotEncoder to convert the categories to integers, then you can now use the OneHotEncoder directly.\n",
      "  warnings.warn(msg, FutureWarning)\n"
     ]
    },
    {
     "name": "stdout",
     "output_type": "stream",
     "text": [
      "iteration: 3\n"
     ]
    },
    {
     "data": {
      "application/vnd.jupyter.widget-view+json": {
       "model_id": "466306336cc7424ca8725001bf6b7af1",
       "version_major": 2,
       "version_minor": 0
      },
      "text/plain": [
       "HBox(children=(IntProgress(value=0, max=65), HTML(value='')))"
      ]
     },
     "metadata": {},
     "output_type": "display_data"
    },
    {
     "name": "stderr",
     "output_type": "stream",
     "text": [
      "C:\\Users\\011553\\AppData\\Local\\Continuum\\anaconda3\\envs\\tf-gpu\\lib\\site-packages\\sklearn\\metrics\\classification.py:1437: UndefinedMetricWarning: Precision and F-score are ill-defined and being set to 0.0 in labels with no predicted samples.\n",
      "  'precision', 'predicted', average, warn_for)\n"
     ]
    },
    {
     "name": "stdout",
     "output_type": "stream",
     "text": [
      "\n",
      "(0.1076923076923077, 0.1076923076923077)\n",
      "              precision    recall  f1-score   support\n",
      "\n",
      "        down       0.65      0.61      0.63     15014\n",
      "          up       0.65      0.68      0.66     15681\n",
      "\n",
      "    accuracy                           0.65     30695\n",
      "   macro avg       0.65      0.65      0.65     30695\n",
      "weighted avg       0.65      0.65      0.65     30695\n",
      "\n"
     ]
    },
    {
     "data": {
      "application/vnd.jupyter.widget-view+json": {
       "model_id": "26582b78517a4c3ebd840237a56f1a9f",
       "version_major": 2,
       "version_minor": 0
      },
      "text/plain": [
       "HBox(children=(IntProgress(value=0, max=11), HTML(value='')))"
      ]
     },
     "metadata": {},
     "output_type": "display_data"
    },
    {
     "name": "stdout",
     "output_type": "stream",
     "text": [
      "\n"
     ]
    },
    {
     "name": "stderr",
     "output_type": "stream",
     "text": [
      "C:\\Users\\011553\\AppData\\Local\\Continuum\\anaconda3\\envs\\tf-gpu\\lib\\site-packages\\sklearn\\preprocessing\\_encoders.py:415: FutureWarning: The handling of integer data will change in version 0.22. Currently, the categories are determined based on the range [0, max(values)], while in the future they will be determined based on the unique values.\n",
      "If you want the future behaviour and silence this warning, you can specify \"categories='auto'\".\n",
      "In case you used a LabelEncoder before this OneHotEncoder to convert the categories to integers, then you can now use the OneHotEncoder directly.\n",
      "  warnings.warn(msg, FutureWarning)\n",
      "C:\\Users\\011553\\AppData\\Local\\Continuum\\anaconda3\\envs\\tf-gpu\\lib\\site-packages\\sklearn\\preprocessing\\_encoders.py:415: FutureWarning: The handling of integer data will change in version 0.22. Currently, the categories are determined based on the range [0, max(values)], while in the future they will be determined based on the unique values.\n",
      "If you want the future behaviour and silence this warning, you can specify \"categories='auto'\".\n",
      "In case you used a LabelEncoder before this OneHotEncoder to convert the categories to integers, then you can now use the OneHotEncoder directly.\n",
      "  warnings.warn(msg, FutureWarning)\n",
      "C:\\Users\\011553\\AppData\\Local\\Continuum\\anaconda3\\envs\\tf-gpu\\lib\\site-packages\\sklearn\\preprocessing\\_encoders.py:415: FutureWarning: The handling of integer data will change in version 0.22. Currently, the categories are determined based on the range [0, max(values)], while in the future they will be determined based on the unique values.\n",
      "If you want the future behaviour and silence this warning, you can specify \"categories='auto'\".\n",
      "In case you used a LabelEncoder before this OneHotEncoder to convert the categories to integers, then you can now use the OneHotEncoder directly.\n",
      "  warnings.warn(msg, FutureWarning)\n"
     ]
    },
    {
     "name": "stdout",
     "output_type": "stream",
     "text": [
      "iteration: 4\n"
     ]
    },
    {
     "data": {
      "application/vnd.jupyter.widget-view+json": {
       "model_id": "badbf69f8a454f98a5a449f693d0c96c",
       "version_major": 2,
       "version_minor": 0
      },
      "text/plain": [
       "HBox(children=(IntProgress(value=0, max=65), HTML(value='')))"
      ]
     },
     "metadata": {},
     "output_type": "display_data"
    },
    {
     "name": "stderr",
     "output_type": "stream",
     "text": [
      "C:\\Users\\011553\\AppData\\Local\\Continuum\\anaconda3\\envs\\tf-gpu\\lib\\site-packages\\sklearn\\metrics\\classification.py:1437: UndefinedMetricWarning: Precision and F-score are ill-defined and being set to 0.0 in labels with no predicted samples.\n",
      "  'precision', 'predicted', average, warn_for)\n"
     ]
    },
    {
     "name": "stdout",
     "output_type": "stream",
     "text": [
      "\n",
      "(0.09230769230769231, 0.07692307692307693)\n",
      "              precision    recall  f1-score   support\n",
      "\n",
      "        down       0.66      0.58      0.62     15014\n",
      "          up       0.64      0.72      0.68     15681\n",
      "\n",
      "    accuracy                           0.65     30695\n",
      "   macro avg       0.65      0.65      0.65     30695\n",
      "weighted avg       0.65      0.65      0.65     30695\n",
      "\n"
     ]
    },
    {
     "data": {
      "application/vnd.jupyter.widget-view+json": {
       "model_id": "8bc8c3c9d36a4b62b0802de6dfab2fff",
       "version_major": 2,
       "version_minor": 0
      },
      "text/plain": [
       "HBox(children=(IntProgress(value=0, max=6), HTML(value='')))"
      ]
     },
     "metadata": {},
     "output_type": "display_data"
    },
    {
     "name": "stdout",
     "output_type": "stream",
     "text": [
      "\n"
     ]
    },
    {
     "name": "stderr",
     "output_type": "stream",
     "text": [
      "C:\\Users\\011553\\AppData\\Local\\Continuum\\anaconda3\\envs\\tf-gpu\\lib\\site-packages\\sklearn\\preprocessing\\_encoders.py:415: FutureWarning: The handling of integer data will change in version 0.22. Currently, the categories are determined based on the range [0, max(values)], while in the future they will be determined based on the unique values.\n",
      "If you want the future behaviour and silence this warning, you can specify \"categories='auto'\".\n",
      "In case you used a LabelEncoder before this OneHotEncoder to convert the categories to integers, then you can now use the OneHotEncoder directly.\n",
      "  warnings.warn(msg, FutureWarning)\n",
      "C:\\Users\\011553\\AppData\\Local\\Continuum\\anaconda3\\envs\\tf-gpu\\lib\\site-packages\\sklearn\\preprocessing\\_encoders.py:415: FutureWarning: The handling of integer data will change in version 0.22. Currently, the categories are determined based on the range [0, max(values)], while in the future they will be determined based on the unique values.\n",
      "If you want the future behaviour and silence this warning, you can specify \"categories='auto'\".\n",
      "In case you used a LabelEncoder before this OneHotEncoder to convert the categories to integers, then you can now use the OneHotEncoder directly.\n",
      "  warnings.warn(msg, FutureWarning)\n",
      "C:\\Users\\011553\\AppData\\Local\\Continuum\\anaconda3\\envs\\tf-gpu\\lib\\site-packages\\sklearn\\preprocessing\\_encoders.py:415: FutureWarning: The handling of integer data will change in version 0.22. Currently, the categories are determined based on the range [0, max(values)], while in the future they will be determined based on the unique values.\n",
      "If you want the future behaviour and silence this warning, you can specify \"categories='auto'\".\n",
      "In case you used a LabelEncoder before this OneHotEncoder to convert the categories to integers, then you can now use the OneHotEncoder directly.\n",
      "  warnings.warn(msg, FutureWarning)\n"
     ]
    },
    {
     "name": "stdout",
     "output_type": "stream",
     "text": [
      "iteration: 5\n"
     ]
    },
    {
     "data": {
      "application/vnd.jupyter.widget-view+json": {
       "model_id": "f8be023c32f94895826349f8111a4cb0",
       "version_major": 2,
       "version_minor": 0
      },
      "text/plain": [
       "HBox(children=(IntProgress(value=0, max=65), HTML(value='')))"
      ]
     },
     "metadata": {},
     "output_type": "display_data"
    },
    {
     "name": "stderr",
     "output_type": "stream",
     "text": [
      "C:\\Users\\011553\\AppData\\Local\\Continuum\\anaconda3\\envs\\tf-gpu\\lib\\site-packages\\sklearn\\metrics\\classification.py:1437: UndefinedMetricWarning: Precision and F-score are ill-defined and being set to 0.0 in labels with no predicted samples.\n",
      "  'precision', 'predicted', average, warn_for)\n"
     ]
    },
    {
     "name": "stdout",
     "output_type": "stream",
     "text": [
      "\n",
      "(0.1076923076923077, 0.1076923076923077)\n",
      "              precision    recall  f1-score   support\n",
      "\n",
      "        down       0.63      0.71      0.67     15014\n",
      "          up       0.68      0.60      0.64     15681\n",
      "\n",
      "    accuracy                           0.65     30695\n",
      "   macro avg       0.66      0.66      0.65     30695\n",
      "weighted avg       0.66      0.65      0.65     30695\n",
      "\n"
     ]
    },
    {
     "data": {
      "application/vnd.jupyter.widget-view+json": {
       "model_id": "e71e12225d3b49d699a20c3067dba874",
       "version_major": 2,
       "version_minor": 0
      },
      "text/plain": [
       "HBox(children=(IntProgress(value=0, max=6), HTML(value='')))"
      ]
     },
     "metadata": {},
     "output_type": "display_data"
    },
    {
     "name": "stdout",
     "output_type": "stream",
     "text": [
      "\n"
     ]
    },
    {
     "name": "stderr",
     "output_type": "stream",
     "text": [
      "C:\\Users\\011553\\AppData\\Local\\Continuum\\anaconda3\\envs\\tf-gpu\\lib\\site-packages\\sklearn\\preprocessing\\_encoders.py:415: FutureWarning: The handling of integer data will change in version 0.22. Currently, the categories are determined based on the range [0, max(values)], while in the future they will be determined based on the unique values.\n",
      "If you want the future behaviour and silence this warning, you can specify \"categories='auto'\".\n",
      "In case you used a LabelEncoder before this OneHotEncoder to convert the categories to integers, then you can now use the OneHotEncoder directly.\n",
      "  warnings.warn(msg, FutureWarning)\n",
      "C:\\Users\\011553\\AppData\\Local\\Continuum\\anaconda3\\envs\\tf-gpu\\lib\\site-packages\\sklearn\\preprocessing\\_encoders.py:415: FutureWarning: The handling of integer data will change in version 0.22. Currently, the categories are determined based on the range [0, max(values)], while in the future they will be determined based on the unique values.\n",
      "If you want the future behaviour and silence this warning, you can specify \"categories='auto'\".\n",
      "In case you used a LabelEncoder before this OneHotEncoder to convert the categories to integers, then you can now use the OneHotEncoder directly.\n",
      "  warnings.warn(msg, FutureWarning)\n",
      "C:\\Users\\011553\\AppData\\Local\\Continuum\\anaconda3\\envs\\tf-gpu\\lib\\site-packages\\sklearn\\preprocessing\\_encoders.py:415: FutureWarning: The handling of integer data will change in version 0.22. Currently, the categories are determined based on the range [0, max(values)], while in the future they will be determined based on the unique values.\n",
      "If you want the future behaviour and silence this warning, you can specify \"categories='auto'\".\n",
      "In case you used a LabelEncoder before this OneHotEncoder to convert the categories to integers, then you can now use the OneHotEncoder directly.\n",
      "  warnings.warn(msg, FutureWarning)\n"
     ]
    },
    {
     "name": "stdout",
     "output_type": "stream",
     "text": [
      "iteration: 6\n"
     ]
    },
    {
     "data": {
      "application/vnd.jupyter.widget-view+json": {
       "model_id": "c337af3731d74005bce6a6c59a0dcf3f",
       "version_major": 2,
       "version_minor": 0
      },
      "text/plain": [
       "HBox(children=(IntProgress(value=0, max=65), HTML(value='')))"
      ]
     },
     "metadata": {},
     "output_type": "display_data"
    },
    {
     "name": "stdout",
     "output_type": "stream",
     "text": [
      "\n",
      "(0.1076923076923077, 0.1076923076923077)\n",
      "              precision    recall  f1-score   support\n",
      "\n",
      "        down       0.64      0.68      0.66     15014\n",
      "          up       0.68      0.63      0.65     15681\n",
      "\n",
      "    accuracy                           0.66     30695\n",
      "   macro avg       0.66      0.66      0.66     30695\n",
      "weighted avg       0.66      0.66      0.66     30695\n",
      "\n"
     ]
    },
    {
     "data": {
      "application/vnd.jupyter.widget-view+json": {
       "model_id": "59e6d59b86244915b6056159761958c2",
       "version_major": 2,
       "version_minor": 0
      },
      "text/plain": [
       "HBox(children=(IntProgress(value=0, max=11), HTML(value='')))"
      ]
     },
     "metadata": {},
     "output_type": "display_data"
    },
    {
     "name": "stdout",
     "output_type": "stream",
     "text": [
      "\n"
     ]
    },
    {
     "name": "stderr",
     "output_type": "stream",
     "text": [
      "C:\\Users\\011553\\AppData\\Local\\Continuum\\anaconda3\\envs\\tf-gpu\\lib\\site-packages\\sklearn\\preprocessing\\_encoders.py:415: FutureWarning: The handling of integer data will change in version 0.22. Currently, the categories are determined based on the range [0, max(values)], while in the future they will be determined based on the unique values.\n",
      "If you want the future behaviour and silence this warning, you can specify \"categories='auto'\".\n",
      "In case you used a LabelEncoder before this OneHotEncoder to convert the categories to integers, then you can now use the OneHotEncoder directly.\n",
      "  warnings.warn(msg, FutureWarning)\n",
      "C:\\Users\\011553\\AppData\\Local\\Continuum\\anaconda3\\envs\\tf-gpu\\lib\\site-packages\\sklearn\\preprocessing\\_encoders.py:415: FutureWarning: The handling of integer data will change in version 0.22. Currently, the categories are determined based on the range [0, max(values)], while in the future they will be determined based on the unique values.\n",
      "If you want the future behaviour and silence this warning, you can specify \"categories='auto'\".\n",
      "In case you used a LabelEncoder before this OneHotEncoder to convert the categories to integers, then you can now use the OneHotEncoder directly.\n",
      "  warnings.warn(msg, FutureWarning)\n",
      "C:\\Users\\011553\\AppData\\Local\\Continuum\\anaconda3\\envs\\tf-gpu\\lib\\site-packages\\sklearn\\preprocessing\\_encoders.py:415: FutureWarning: The handling of integer data will change in version 0.22. Currently, the categories are determined based on the range [0, max(values)], while in the future they will be determined based on the unique values.\n",
      "If you want the future behaviour and silence this warning, you can specify \"categories='auto'\".\n",
      "In case you used a LabelEncoder before this OneHotEncoder to convert the categories to integers, then you can now use the OneHotEncoder directly.\n",
      "  warnings.warn(msg, FutureWarning)\n"
     ]
    },
    {
     "name": "stdout",
     "output_type": "stream",
     "text": [
      "iteration: 7\n"
     ]
    },
    {
     "data": {
      "application/vnd.jupyter.widget-view+json": {
       "model_id": "06aeac7480cb447ea68a34f926dab9a8",
       "version_major": 2,
       "version_minor": 0
      },
      "text/plain": [
       "HBox(children=(IntProgress(value=0, max=65), HTML(value='')))"
      ]
     },
     "metadata": {},
     "output_type": "display_data"
    },
    {
     "name": "stdout",
     "output_type": "stream",
     "text": [
      "\n",
      "(0.07692307692307693, 0.07692307692307693)\n",
      "              precision    recall  f1-score   support\n",
      "\n",
      "        down       0.67      0.61      0.64     15014\n",
      "          up       0.66      0.71      0.68     15681\n",
      "\n",
      "    accuracy                           0.66     30695\n",
      "   macro avg       0.66      0.66      0.66     30695\n",
      "weighted avg       0.66      0.66      0.66     30695\n",
      "\n"
     ]
    },
    {
     "data": {
      "application/vnd.jupyter.widget-view+json": {
       "model_id": "a7569de872eb48cbb4aff75c782bbcda",
       "version_major": 2,
       "version_minor": 0
      },
      "text/plain": [
       "HBox(children=(IntProgress(value=0, max=6), HTML(value='')))"
      ]
     },
     "metadata": {},
     "output_type": "display_data"
    },
    {
     "name": "stdout",
     "output_type": "stream",
     "text": [
      "\n"
     ]
    },
    {
     "name": "stderr",
     "output_type": "stream",
     "text": [
      "C:\\Users\\011553\\AppData\\Local\\Continuum\\anaconda3\\envs\\tf-gpu\\lib\\site-packages\\sklearn\\preprocessing\\_encoders.py:415: FutureWarning: The handling of integer data will change in version 0.22. Currently, the categories are determined based on the range [0, max(values)], while in the future they will be determined based on the unique values.\n",
      "If you want the future behaviour and silence this warning, you can specify \"categories='auto'\".\n",
      "In case you used a LabelEncoder before this OneHotEncoder to convert the categories to integers, then you can now use the OneHotEncoder directly.\n",
      "  warnings.warn(msg, FutureWarning)\n",
      "C:\\Users\\011553\\AppData\\Local\\Continuum\\anaconda3\\envs\\tf-gpu\\lib\\site-packages\\sklearn\\preprocessing\\_encoders.py:415: FutureWarning: The handling of integer data will change in version 0.22. Currently, the categories are determined based on the range [0, max(values)], while in the future they will be determined based on the unique values.\n",
      "If you want the future behaviour and silence this warning, you can specify \"categories='auto'\".\n",
      "In case you used a LabelEncoder before this OneHotEncoder to convert the categories to integers, then you can now use the OneHotEncoder directly.\n",
      "  warnings.warn(msg, FutureWarning)\n",
      "C:\\Users\\011553\\AppData\\Local\\Continuum\\anaconda3\\envs\\tf-gpu\\lib\\site-packages\\sklearn\\preprocessing\\_encoders.py:415: FutureWarning: The handling of integer data will change in version 0.22. Currently, the categories are determined based on the range [0, max(values)], while in the future they will be determined based on the unique values.\n",
      "If you want the future behaviour and silence this warning, you can specify \"categories='auto'\".\n",
      "In case you used a LabelEncoder before this OneHotEncoder to convert the categories to integers, then you can now use the OneHotEncoder directly.\n",
      "  warnings.warn(msg, FutureWarning)\n"
     ]
    },
    {
     "name": "stdout",
     "output_type": "stream",
     "text": [
      "iteration: 8\n"
     ]
    },
    {
     "data": {
      "application/vnd.jupyter.widget-view+json": {
       "model_id": "1cd77b5bfaa442af82b06111de587091",
       "version_major": 2,
       "version_minor": 0
      },
      "text/plain": [
       "HBox(children=(IntProgress(value=0, max=65), HTML(value='')))"
      ]
     },
     "metadata": {},
     "output_type": "display_data"
    },
    {
     "name": "stdout",
     "output_type": "stream",
     "text": [
      "\n",
      "(0.09230769230769231, 0.1076923076923077)\n",
      "              precision    recall  f1-score   support\n",
      "\n",
      "        down       0.66      0.61      0.63     15014\n",
      "          up       0.65      0.70      0.67     15681\n",
      "\n",
      "    accuracy                           0.65     30695\n",
      "   macro avg       0.65      0.65      0.65     30695\n",
      "weighted avg       0.65      0.65      0.65     30695\n",
      "\n"
     ]
    },
    {
     "data": {
      "application/vnd.jupyter.widget-view+json": {
       "model_id": "56aba91b906e4fdcae5ced0d9a7f3b79",
       "version_major": 2,
       "version_minor": 0
      },
      "text/plain": [
       "HBox(children=(IntProgress(value=0, max=6), HTML(value='')))"
      ]
     },
     "metadata": {},
     "output_type": "display_data"
    },
    {
     "name": "stdout",
     "output_type": "stream",
     "text": [
      "\n"
     ]
    },
    {
     "name": "stderr",
     "output_type": "stream",
     "text": [
      "C:\\Users\\011553\\AppData\\Local\\Continuum\\anaconda3\\envs\\tf-gpu\\lib\\site-packages\\sklearn\\preprocessing\\_encoders.py:415: FutureWarning: The handling of integer data will change in version 0.22. Currently, the categories are determined based on the range [0, max(values)], while in the future they will be determined based on the unique values.\n",
      "If you want the future behaviour and silence this warning, you can specify \"categories='auto'\".\n",
      "In case you used a LabelEncoder before this OneHotEncoder to convert the categories to integers, then you can now use the OneHotEncoder directly.\n",
      "  warnings.warn(msg, FutureWarning)\n",
      "C:\\Users\\011553\\AppData\\Local\\Continuum\\anaconda3\\envs\\tf-gpu\\lib\\site-packages\\sklearn\\preprocessing\\_encoders.py:415: FutureWarning: The handling of integer data will change in version 0.22. Currently, the categories are determined based on the range [0, max(values)], while in the future they will be determined based on the unique values.\n",
      "If you want the future behaviour and silence this warning, you can specify \"categories='auto'\".\n",
      "In case you used a LabelEncoder before this OneHotEncoder to convert the categories to integers, then you can now use the OneHotEncoder directly.\n",
      "  warnings.warn(msg, FutureWarning)\n",
      "C:\\Users\\011553\\AppData\\Local\\Continuum\\anaconda3\\envs\\tf-gpu\\lib\\site-packages\\sklearn\\preprocessing\\_encoders.py:415: FutureWarning: The handling of integer data will change in version 0.22. Currently, the categories are determined based on the range [0, max(values)], while in the future they will be determined based on the unique values.\n",
      "If you want the future behaviour and silence this warning, you can specify \"categories='auto'\".\n",
      "In case you used a LabelEncoder before this OneHotEncoder to convert the categories to integers, then you can now use the OneHotEncoder directly.\n",
      "  warnings.warn(msg, FutureWarning)\n"
     ]
    },
    {
     "name": "stdout",
     "output_type": "stream",
     "text": [
      "iteration: 9\n"
     ]
    },
    {
     "data": {
      "application/vnd.jupyter.widget-view+json": {
       "model_id": "a0edc42622e24e10b136eec187ddd2a4",
       "version_major": 2,
       "version_minor": 0
      },
      "text/plain": [
       "HBox(children=(IntProgress(value=0, max=65), HTML(value='')))"
      ]
     },
     "metadata": {},
     "output_type": "display_data"
    },
    {
     "name": "stderr",
     "output_type": "stream",
     "text": [
      "C:\\Users\\011553\\AppData\\Local\\Continuum\\anaconda3\\envs\\tf-gpu\\lib\\site-packages\\sklearn\\metrics\\classification.py:1437: UndefinedMetricWarning: Precision and F-score are ill-defined and being set to 0.0 in labels with no predicted samples.\n",
      "  'precision', 'predicted', average, warn_for)\n"
     ]
    },
    {
     "name": "stdout",
     "output_type": "stream",
     "text": [
      "\n",
      "(0.15384615384615385, 0.18461538461538463)\n",
      "              precision    recall  f1-score   support\n",
      "\n",
      "        down       0.61      0.73      0.66     15014\n",
      "          up       0.68      0.54      0.60     15681\n",
      "\n",
      "    accuracy                           0.64     30695\n",
      "   macro avg       0.64      0.64      0.63     30695\n",
      "weighted avg       0.64      0.64      0.63     30695\n",
      "\n"
     ]
    },
    {
     "data": {
      "application/vnd.jupyter.widget-view+json": {
       "model_id": "7439c4ca438243da9112830842eb2538",
       "version_major": 2,
       "version_minor": 0
      },
      "text/plain": [
       "HBox(children=(IntProgress(value=0, max=11), HTML(value='')))"
      ]
     },
     "metadata": {},
     "output_type": "display_data"
    },
    {
     "name": "stdout",
     "output_type": "stream",
     "text": [
      "\n"
     ]
    },
    {
     "name": "stderr",
     "output_type": "stream",
     "text": [
      "C:\\Users\\011553\\AppData\\Local\\Continuum\\anaconda3\\envs\\tf-gpu\\lib\\site-packages\\sklearn\\preprocessing\\_encoders.py:415: FutureWarning: The handling of integer data will change in version 0.22. Currently, the categories are determined based on the range [0, max(values)], while in the future they will be determined based on the unique values.\n",
      "If you want the future behaviour and silence this warning, you can specify \"categories='auto'\".\n",
      "In case you used a LabelEncoder before this OneHotEncoder to convert the categories to integers, then you can now use the OneHotEncoder directly.\n",
      "  warnings.warn(msg, FutureWarning)\n",
      "C:\\Users\\011553\\AppData\\Local\\Continuum\\anaconda3\\envs\\tf-gpu\\lib\\site-packages\\sklearn\\preprocessing\\_encoders.py:415: FutureWarning: The handling of integer data will change in version 0.22. Currently, the categories are determined based on the range [0, max(values)], while in the future they will be determined based on the unique values.\n",
      "If you want the future behaviour and silence this warning, you can specify \"categories='auto'\".\n",
      "In case you used a LabelEncoder before this OneHotEncoder to convert the categories to integers, then you can now use the OneHotEncoder directly.\n",
      "  warnings.warn(msg, FutureWarning)\n",
      "C:\\Users\\011553\\AppData\\Local\\Continuum\\anaconda3\\envs\\tf-gpu\\lib\\site-packages\\sklearn\\preprocessing\\_encoders.py:415: FutureWarning: The handling of integer data will change in version 0.22. Currently, the categories are determined based on the range [0, max(values)], while in the future they will be determined based on the unique values.\n",
      "If you want the future behaviour and silence this warning, you can specify \"categories='auto'\".\n",
      "In case you used a LabelEncoder before this OneHotEncoder to convert the categories to integers, then you can now use the OneHotEncoder directly.\n",
      "  warnings.warn(msg, FutureWarning)\n"
     ]
    },
    {
     "name": "stdout",
     "output_type": "stream",
     "text": [
      "iteration: 10\n"
     ]
    },
    {
     "data": {
      "application/vnd.jupyter.widget-view+json": {
       "model_id": "210d260e4e724ff18c2ff27587c59b48",
       "version_major": 2,
       "version_minor": 0
      },
      "text/plain": [
       "HBox(children=(IntProgress(value=0, max=65), HTML(value='')))"
      ]
     },
     "metadata": {},
     "output_type": "display_data"
    },
    {
     "name": "stdout",
     "output_type": "stream",
     "text": [
      "\n",
      "(0.12307692307692308, 0.12307692307692308)\n",
      "              precision    recall  f1-score   support\n",
      "\n",
      "        down       0.65      0.65      0.65     15014\n",
      "          up       0.66      0.66      0.66     15681\n",
      "\n",
      "    accuracy                           0.65     30695\n",
      "   macro avg       0.65      0.65      0.65     30695\n",
      "weighted avg       0.65      0.65      0.65     30695\n",
      "\n"
     ]
    },
    {
     "data": {
      "application/vnd.jupyter.widget-view+json": {
       "model_id": "a2b35a528cbd4ec59ad4f7d47b01bd33",
       "version_major": 2,
       "version_minor": 0
      },
      "text/plain": [
       "HBox(children=(IntProgress(value=0, max=11), HTML(value='')))"
      ]
     },
     "metadata": {},
     "output_type": "display_data"
    },
    {
     "name": "stdout",
     "output_type": "stream",
     "text": [
      "\n"
     ]
    },
    {
     "name": "stderr",
     "output_type": "stream",
     "text": [
      "C:\\Users\\011553\\AppData\\Local\\Continuum\\anaconda3\\envs\\tf-gpu\\lib\\site-packages\\sklearn\\preprocessing\\_encoders.py:415: FutureWarning: The handling of integer data will change in version 0.22. Currently, the categories are determined based on the range [0, max(values)], while in the future they will be determined based on the unique values.\n",
      "If you want the future behaviour and silence this warning, you can specify \"categories='auto'\".\n",
      "In case you used a LabelEncoder before this OneHotEncoder to convert the categories to integers, then you can now use the OneHotEncoder directly.\n",
      "  warnings.warn(msg, FutureWarning)\n",
      "C:\\Users\\011553\\AppData\\Local\\Continuum\\anaconda3\\envs\\tf-gpu\\lib\\site-packages\\sklearn\\preprocessing\\_encoders.py:415: FutureWarning: The handling of integer data will change in version 0.22. Currently, the categories are determined based on the range [0, max(values)], while in the future they will be determined based on the unique values.\n",
      "If you want the future behaviour and silence this warning, you can specify \"categories='auto'\".\n",
      "In case you used a LabelEncoder before this OneHotEncoder to convert the categories to integers, then you can now use the OneHotEncoder directly.\n",
      "  warnings.warn(msg, FutureWarning)\n",
      "C:\\Users\\011553\\AppData\\Local\\Continuum\\anaconda3\\envs\\tf-gpu\\lib\\site-packages\\sklearn\\preprocessing\\_encoders.py:415: FutureWarning: The handling of integer data will change in version 0.22. Currently, the categories are determined based on the range [0, max(values)], while in the future they will be determined based on the unique values.\n",
      "If you want the future behaviour and silence this warning, you can specify \"categories='auto'\".\n",
      "In case you used a LabelEncoder before this OneHotEncoder to convert the categories to integers, then you can now use the OneHotEncoder directly.\n",
      "  warnings.warn(msg, FutureWarning)\n"
     ]
    },
    {
     "name": "stdout",
     "output_type": "stream",
     "text": [
      "iteration: 11\n"
     ]
    },
    {
     "data": {
      "application/vnd.jupyter.widget-view+json": {
       "model_id": "9f891b57381e4e219b65880a825a2884",
       "version_major": 2,
       "version_minor": 0
      },
      "text/plain": [
       "HBox(children=(IntProgress(value=0, max=65), HTML(value='')))"
      ]
     },
     "metadata": {},
     "output_type": "display_data"
    },
    {
     "name": "stdout",
     "output_type": "stream",
     "text": [
      "\n",
      "(0.15384615384615385, 0.15384615384615385)\n",
      "              precision    recall  f1-score   support\n",
      "\n",
      "        down       0.62      0.64      0.63     15014\n",
      "          up       0.65      0.63      0.64     15681\n",
      "\n",
      "    accuracy                           0.63     30695\n",
      "   macro avg       0.63      0.63      0.63     30695\n",
      "weighted avg       0.63      0.63      0.63     30695\n",
      "\n"
     ]
    },
    {
     "data": {
      "application/vnd.jupyter.widget-view+json": {
       "model_id": "bfa7e7cb491a46a4820c78d4f5d334e6",
       "version_major": 2,
       "version_minor": 0
      },
      "text/plain": [
       "HBox(children=(IntProgress(value=0, max=6), HTML(value='')))"
      ]
     },
     "metadata": {},
     "output_type": "display_data"
    },
    {
     "name": "stdout",
     "output_type": "stream",
     "text": [
      "\n"
     ]
    },
    {
     "name": "stderr",
     "output_type": "stream",
     "text": [
      "C:\\Users\\011553\\AppData\\Local\\Continuum\\anaconda3\\envs\\tf-gpu\\lib\\site-packages\\sklearn\\preprocessing\\_encoders.py:415: FutureWarning: The handling of integer data will change in version 0.22. Currently, the categories are determined based on the range [0, max(values)], while in the future they will be determined based on the unique values.\n",
      "If you want the future behaviour and silence this warning, you can specify \"categories='auto'\".\n",
      "In case you used a LabelEncoder before this OneHotEncoder to convert the categories to integers, then you can now use the OneHotEncoder directly.\n",
      "  warnings.warn(msg, FutureWarning)\n",
      "C:\\Users\\011553\\AppData\\Local\\Continuum\\anaconda3\\envs\\tf-gpu\\lib\\site-packages\\sklearn\\preprocessing\\_encoders.py:415: FutureWarning: The handling of integer data will change in version 0.22. Currently, the categories are determined based on the range [0, max(values)], while in the future they will be determined based on the unique values.\n",
      "If you want the future behaviour and silence this warning, you can specify \"categories='auto'\".\n",
      "In case you used a LabelEncoder before this OneHotEncoder to convert the categories to integers, then you can now use the OneHotEncoder directly.\n",
      "  warnings.warn(msg, FutureWarning)\n",
      "C:\\Users\\011553\\AppData\\Local\\Continuum\\anaconda3\\envs\\tf-gpu\\lib\\site-packages\\sklearn\\preprocessing\\_encoders.py:415: FutureWarning: The handling of integer data will change in version 0.22. Currently, the categories are determined based on the range [0, max(values)], while in the future they will be determined based on the unique values.\n",
      "If you want the future behaviour and silence this warning, you can specify \"categories='auto'\".\n",
      "In case you used a LabelEncoder before this OneHotEncoder to convert the categories to integers, then you can now use the OneHotEncoder directly.\n",
      "  warnings.warn(msg, FutureWarning)\n"
     ]
    },
    {
     "name": "stdout",
     "output_type": "stream",
     "text": [
      "iteration: 12\n"
     ]
    },
    {
     "data": {
      "application/vnd.jupyter.widget-view+json": {
       "model_id": "4e08db2f437a47f2989bdd74eaa8c85b",
       "version_major": 2,
       "version_minor": 0
      },
      "text/plain": [
       "HBox(children=(IntProgress(value=0, max=65), HTML(value='')))"
      ]
     },
     "metadata": {},
     "output_type": "display_data"
    },
    {
     "name": "stdout",
     "output_type": "stream",
     "text": [
      "\n",
      "(0.12307692307692308, 0.13846153846153847)\n",
      "              precision    recall  f1-score   support\n",
      "\n",
      "        down       0.64      0.64      0.64     15014\n",
      "          up       0.66      0.66      0.66     15681\n",
      "\n",
      "    accuracy                           0.65     30695\n",
      "   macro avg       0.65      0.65      0.65     30695\n",
      "weighted avg       0.65      0.65      0.65     30695\n",
      "\n"
     ]
    },
    {
     "data": {
      "application/vnd.jupyter.widget-view+json": {
       "model_id": "2f5557e2f62d4d759c213af5e2c44c72",
       "version_major": 2,
       "version_minor": 0
      },
      "text/plain": [
       "HBox(children=(IntProgress(value=0, max=11), HTML(value='')))"
      ]
     },
     "metadata": {},
     "output_type": "display_data"
    },
    {
     "name": "stdout",
     "output_type": "stream",
     "text": [
      "\n"
     ]
    },
    {
     "name": "stderr",
     "output_type": "stream",
     "text": [
      "C:\\Users\\011553\\AppData\\Local\\Continuum\\anaconda3\\envs\\tf-gpu\\lib\\site-packages\\sklearn\\preprocessing\\_encoders.py:415: FutureWarning: The handling of integer data will change in version 0.22. Currently, the categories are determined based on the range [0, max(values)], while in the future they will be determined based on the unique values.\n",
      "If you want the future behaviour and silence this warning, you can specify \"categories='auto'\".\n",
      "In case you used a LabelEncoder before this OneHotEncoder to convert the categories to integers, then you can now use the OneHotEncoder directly.\n",
      "  warnings.warn(msg, FutureWarning)\n",
      "C:\\Users\\011553\\AppData\\Local\\Continuum\\anaconda3\\envs\\tf-gpu\\lib\\site-packages\\sklearn\\preprocessing\\_encoders.py:415: FutureWarning: The handling of integer data will change in version 0.22. Currently, the categories are determined based on the range [0, max(values)], while in the future they will be determined based on the unique values.\n",
      "If you want the future behaviour and silence this warning, you can specify \"categories='auto'\".\n",
      "In case you used a LabelEncoder before this OneHotEncoder to convert the categories to integers, then you can now use the OneHotEncoder directly.\n",
      "  warnings.warn(msg, FutureWarning)\n",
      "C:\\Users\\011553\\AppData\\Local\\Continuum\\anaconda3\\envs\\tf-gpu\\lib\\site-packages\\sklearn\\preprocessing\\_encoders.py:415: FutureWarning: The handling of integer data will change in version 0.22. Currently, the categories are determined based on the range [0, max(values)], while in the future they will be determined based on the unique values.\n",
      "If you want the future behaviour and silence this warning, you can specify \"categories='auto'\".\n",
      "In case you used a LabelEncoder before this OneHotEncoder to convert the categories to integers, then you can now use the OneHotEncoder directly.\n",
      "  warnings.warn(msg, FutureWarning)\n"
     ]
    },
    {
     "name": "stdout",
     "output_type": "stream",
     "text": [
      "iteration: 13\n"
     ]
    },
    {
     "data": {
      "application/vnd.jupyter.widget-view+json": {
       "model_id": "e67af7d0c66041e29e85763925ea5880",
       "version_major": 2,
       "version_minor": 0
      },
      "text/plain": [
       "HBox(children=(IntProgress(value=0, max=65), HTML(value='')))"
      ]
     },
     "metadata": {},
     "output_type": "display_data"
    },
    {
     "name": "stdout",
     "output_type": "stream",
     "text": [
      "\n",
      "(0.1076923076923077, 0.1076923076923077)\n",
      "              precision    recall  f1-score   support\n",
      "\n",
      "        down       0.65      0.65      0.65     15014\n",
      "          up       0.66      0.66      0.66     15681\n",
      "\n",
      "    accuracy                           0.66     30695\n",
      "   macro avg       0.66      0.66      0.66     30695\n",
      "weighted avg       0.66      0.66      0.66     30695\n",
      "\n"
     ]
    },
    {
     "data": {
      "application/vnd.jupyter.widget-view+json": {
       "model_id": "68f1854cd58f436f95e5c9ecfc1fe151",
       "version_major": 2,
       "version_minor": 0
      },
      "text/plain": [
       "HBox(children=(IntProgress(value=0, max=11), HTML(value='')))"
      ]
     },
     "metadata": {},
     "output_type": "display_data"
    },
    {
     "name": "stdout",
     "output_type": "stream",
     "text": [
      "\n"
     ]
    },
    {
     "name": "stderr",
     "output_type": "stream",
     "text": [
      "C:\\Users\\011553\\AppData\\Local\\Continuum\\anaconda3\\envs\\tf-gpu\\lib\\site-packages\\sklearn\\preprocessing\\_encoders.py:415: FutureWarning: The handling of integer data will change in version 0.22. Currently, the categories are determined based on the range [0, max(values)], while in the future they will be determined based on the unique values.\n",
      "If you want the future behaviour and silence this warning, you can specify \"categories='auto'\".\n",
      "In case you used a LabelEncoder before this OneHotEncoder to convert the categories to integers, then you can now use the OneHotEncoder directly.\n",
      "  warnings.warn(msg, FutureWarning)\n",
      "C:\\Users\\011553\\AppData\\Local\\Continuum\\anaconda3\\envs\\tf-gpu\\lib\\site-packages\\sklearn\\preprocessing\\_encoders.py:415: FutureWarning: The handling of integer data will change in version 0.22. Currently, the categories are determined based on the range [0, max(values)], while in the future they will be determined based on the unique values.\n",
      "If you want the future behaviour and silence this warning, you can specify \"categories='auto'\".\n",
      "In case you used a LabelEncoder before this OneHotEncoder to convert the categories to integers, then you can now use the OneHotEncoder directly.\n",
      "  warnings.warn(msg, FutureWarning)\n",
      "C:\\Users\\011553\\AppData\\Local\\Continuum\\anaconda3\\envs\\tf-gpu\\lib\\site-packages\\sklearn\\preprocessing\\_encoders.py:415: FutureWarning: The handling of integer data will change in version 0.22. Currently, the categories are determined based on the range [0, max(values)], while in the future they will be determined based on the unique values.\n",
      "If you want the future behaviour and silence this warning, you can specify \"categories='auto'\".\n",
      "In case you used a LabelEncoder before this OneHotEncoder to convert the categories to integers, then you can now use the OneHotEncoder directly.\n",
      "  warnings.warn(msg, FutureWarning)\n"
     ]
    },
    {
     "name": "stdout",
     "output_type": "stream",
     "text": [
      "iteration: 14\n"
     ]
    },
    {
     "data": {
      "application/vnd.jupyter.widget-view+json": {
       "model_id": "be406de4264b453dacf5454f0e21e9b8",
       "version_major": 2,
       "version_minor": 0
      },
      "text/plain": [
       "HBox(children=(IntProgress(value=0, max=65), HTML(value='')))"
      ]
     },
     "metadata": {},
     "output_type": "display_data"
    },
    {
     "name": "stdout",
     "output_type": "stream",
     "text": [
      "\n",
      "(0.1076923076923077, 0.1076923076923077)\n",
      "              precision    recall  f1-score   support\n",
      "\n",
      "        down       0.63      0.65      0.64     15014\n",
      "          up       0.66      0.64      0.65     15681\n",
      "\n",
      "    accuracy                           0.65     30695\n",
      "   macro avg       0.65      0.65      0.65     30695\n",
      "weighted avg       0.65      0.65      0.65     30695\n",
      "\n"
     ]
    },
    {
     "data": {
      "application/vnd.jupyter.widget-view+json": {
       "model_id": "75be0ee5b954498ebd663e85defc1869",
       "version_major": 2,
       "version_minor": 0
      },
      "text/plain": [
       "HBox(children=(IntProgress(value=0, max=6), HTML(value='')))"
      ]
     },
     "metadata": {},
     "output_type": "display_data"
    },
    {
     "name": "stdout",
     "output_type": "stream",
     "text": [
      "\n"
     ]
    },
    {
     "name": "stderr",
     "output_type": "stream",
     "text": [
      "C:\\Users\\011553\\AppData\\Local\\Continuum\\anaconda3\\envs\\tf-gpu\\lib\\site-packages\\sklearn\\preprocessing\\_encoders.py:415: FutureWarning: The handling of integer data will change in version 0.22. Currently, the categories are determined based on the range [0, max(values)], while in the future they will be determined based on the unique values.\n",
      "If you want the future behaviour and silence this warning, you can specify \"categories='auto'\".\n",
      "In case you used a LabelEncoder before this OneHotEncoder to convert the categories to integers, then you can now use the OneHotEncoder directly.\n",
      "  warnings.warn(msg, FutureWarning)\n",
      "C:\\Users\\011553\\AppData\\Local\\Continuum\\anaconda3\\envs\\tf-gpu\\lib\\site-packages\\sklearn\\preprocessing\\_encoders.py:415: FutureWarning: The handling of integer data will change in version 0.22. Currently, the categories are determined based on the range [0, max(values)], while in the future they will be determined based on the unique values.\n",
      "If you want the future behaviour and silence this warning, you can specify \"categories='auto'\".\n",
      "In case you used a LabelEncoder before this OneHotEncoder to convert the categories to integers, then you can now use the OneHotEncoder directly.\n",
      "  warnings.warn(msg, FutureWarning)\n",
      "C:\\Users\\011553\\AppData\\Local\\Continuum\\anaconda3\\envs\\tf-gpu\\lib\\site-packages\\sklearn\\preprocessing\\_encoders.py:415: FutureWarning: The handling of integer data will change in version 0.22. Currently, the categories are determined based on the range [0, max(values)], while in the future they will be determined based on the unique values.\n",
      "If you want the future behaviour and silence this warning, you can specify \"categories='auto'\".\n",
      "In case you used a LabelEncoder before this OneHotEncoder to convert the categories to integers, then you can now use the OneHotEncoder directly.\n",
      "  warnings.warn(msg, FutureWarning)\n"
     ]
    },
    {
     "name": "stdout",
     "output_type": "stream",
     "text": [
      "iteration: 15\n"
     ]
    },
    {
     "data": {
      "application/vnd.jupyter.widget-view+json": {
       "model_id": "8cf9228c4ab449b8901e3518d860e617",
       "version_major": 2,
       "version_minor": 0
      },
      "text/plain": [
       "HBox(children=(IntProgress(value=0, max=65), HTML(value='')))"
      ]
     },
     "metadata": {},
     "output_type": "display_data"
    },
    {
     "name": "stderr",
     "output_type": "stream",
     "text": [
      "C:\\Users\\011553\\AppData\\Local\\Continuum\\anaconda3\\envs\\tf-gpu\\lib\\site-packages\\sklearn\\metrics\\classification.py:1437: UndefinedMetricWarning: Precision and F-score are ill-defined and being set to 0.0 in labels with no predicted samples.\n",
      "  'precision', 'predicted', average, warn_for)\n"
     ]
    },
    {
     "name": "stdout",
     "output_type": "stream",
     "text": [
      "\n",
      "(0.12307692307692308, 0.12307692307692308)\n",
      "              precision    recall  f1-score   support\n",
      "\n",
      "        down       0.65      0.65      0.65     15014\n",
      "          up       0.66      0.66      0.66     15681\n",
      "\n",
      "    accuracy                           0.65     30695\n",
      "   macro avg       0.65      0.65      0.65     30695\n",
      "weighted avg       0.65      0.65      0.65     30695\n",
      "\n"
     ]
    }
   ],
   "source": [
    "for i in range(15):\n",
    "    Optimization = Tuning(df_path=path, model='CNN_boosting', CNNparam=CNN_param, Modelparam=model_param, max_iter=15, cluster_num=0)\n",
    "    Optimization.load_optimal_model(i+1)\n",
    "    print(f'iteration: {i+1}')\n",
    "    print(Optimization.Overall_Evaluation())\n",
    "    print(Optimization.Evaluation()[2])"
   ]
  },
  {
   "cell_type": "code",
   "execution_count": 3,
   "metadata": {
    "scrolled": true
   },
   "outputs": [
    {
     "data": {
      "application/vnd.jupyter.widget-view+json": {
       "model_id": "fbdbb8476f1f47a69375e44e0d092a9f",
       "version_major": 2,
       "version_minor": 0
      },
      "text/plain": [
       "HBox(children=(IntProgress(value=0, max=10), HTML(value='')))"
      ]
     },
     "metadata": {},
     "output_type": "display_data"
    },
    {
     "name": "stderr",
     "output_type": "stream",
     "text": [
      "WARNING: Logging before flag parsing goes to stderr.\n",
      "W1029 14:50:17.887890 10656 deprecation.py:506] From C:\\Users\\011553\\AppData\\Local\\Continuum\\anaconda3\\envs\\tf-gpu\\lib\\site-packages\\tensorflow\\python\\ops\\init_ops.py:97: calling GlorotUniform.__init__ (from tensorflow.python.ops.init_ops) with dtype is deprecated and will be removed in a future version.\n",
      "Instructions for updating:\n",
      "Call initializer instance with the dtype argument instead of passing it to the constructor\n",
      "W1029 14:50:17.889886 10656 deprecation.py:506] From C:\\Users\\011553\\AppData\\Local\\Continuum\\anaconda3\\envs\\tf-gpu\\lib\\site-packages\\tensorflow\\python\\ops\\init_ops.py:1251: calling VarianceScaling.__init__ (from tensorflow.python.ops.init_ops) with dtype is deprecated and will be removed in a future version.\n",
      "Instructions for updating:\n",
      "Call initializer instance with the dtype argument instead of passing it to the constructor\n",
      "W1029 14:50:17.890883 10656 deprecation.py:506] From C:\\Users\\011553\\AppData\\Local\\Continuum\\anaconda3\\envs\\tf-gpu\\lib\\site-packages\\tensorflow\\python\\ops\\init_ops.py:97: calling Zeros.__init__ (from tensorflow.python.ops.init_ops) with dtype is deprecated and will be removed in a future version.\n",
      "Instructions for updating:\n",
      "Call initializer instance with the dtype argument instead of passing it to the constructor\n"
     ]
    },
    {
     "name": "stdout",
     "output_type": "stream",
     "text": [
      "\n"
     ]
    },
    {
     "name": "stderr",
     "output_type": "stream",
     "text": [
      "C:\\Users\\011553\\AppData\\Local\\Continuum\\anaconda3\\envs\\tf-gpu\\lib\\site-packages\\sklearn\\preprocessing\\_encoders.py:415: FutureWarning: The handling of integer data will change in version 0.22. Currently, the categories are determined based on the range [0, max(values)], while in the future they will be determined based on the unique values.\n",
      "If you want the future behaviour and silence this warning, you can specify \"categories='auto'\".\n",
      "In case you used a LabelEncoder before this OneHotEncoder to convert the categories to integers, then you can now use the OneHotEncoder directly.\n",
      "  warnings.warn(msg, FutureWarning)\n",
      "C:\\Users\\011553\\AppData\\Local\\Continuum\\anaconda3\\envs\\tf-gpu\\lib\\site-packages\\sklearn\\preprocessing\\_encoders.py:415: FutureWarning: The handling of integer data will change in version 0.22. Currently, the categories are determined based on the range [0, max(values)], while in the future they will be determined based on the unique values.\n",
      "If you want the future behaviour and silence this warning, you can specify \"categories='auto'\".\n",
      "In case you used a LabelEncoder before this OneHotEncoder to convert the categories to integers, then you can now use the OneHotEncoder directly.\n",
      "  warnings.warn(msg, FutureWarning)\n",
      "C:\\Users\\011553\\AppData\\Local\\Continuum\\anaconda3\\envs\\tf-gpu\\lib\\site-packages\\sklearn\\preprocessing\\_encoders.py:415: FutureWarning: The handling of integer data will change in version 0.22. Currently, the categories are determined based on the range [0, max(values)], while in the future they will be determined based on the unique values.\n",
      "If you want the future behaviour and silence this warning, you can specify \"categories='auto'\".\n",
      "In case you used a LabelEncoder before this OneHotEncoder to convert the categories to integers, then you can now use the OneHotEncoder directly.\n",
      "  warnings.warn(msg, FutureWarning)\n"
     ]
    },
    {
     "data": {
      "application/vnd.jupyter.widget-view+json": {
       "model_id": "a9a3822683cf4d2e9091ee73bdc04176",
       "version_major": 2,
       "version_minor": 0
      },
      "text/plain": [
       "HBox(children=(IntProgress(value=0, max=65), HTML(value='')))"
      ]
     },
     "metadata": {},
     "output_type": "display_data"
    },
    {
     "name": "stdout",
     "output_type": "stream",
     "text": [
      "\n",
      "(0.13846153846153847, 0.13846153846153847)\n",
      "              precision    recall  f1-score   support\n",
      "\n",
      "        down       0.63      0.67      0.65     15014\n",
      "          up       0.66      0.62      0.64     15681\n",
      "\n",
      "    accuracy                           0.64     30695\n",
      "   macro avg       0.64      0.64      0.64     30695\n",
      "weighted avg       0.65      0.64      0.64     30695\n",
      "\n"
     ]
    },
    {
     "data": {
      "application/vnd.jupyter.widget-view+json": {
       "model_id": "9f1eb1bdfdc64adbba8d70bea64e9b25",
       "version_major": 2,
       "version_minor": 0
      },
      "text/plain": [
       "HBox(children=(IntProgress(value=0, max=10), HTML(value='')))"
      ]
     },
     "metadata": {},
     "output_type": "display_data"
    },
    {
     "name": "stdout",
     "output_type": "stream",
     "text": [
      "\n"
     ]
    },
    {
     "name": "stderr",
     "output_type": "stream",
     "text": [
      "C:\\Users\\011553\\AppData\\Local\\Continuum\\anaconda3\\envs\\tf-gpu\\lib\\site-packages\\sklearn\\preprocessing\\_encoders.py:415: FutureWarning: The handling of integer data will change in version 0.22. Currently, the categories are determined based on the range [0, max(values)], while in the future they will be determined based on the unique values.\n",
      "If you want the future behaviour and silence this warning, you can specify \"categories='auto'\".\n",
      "In case you used a LabelEncoder before this OneHotEncoder to convert the categories to integers, then you can now use the OneHotEncoder directly.\n",
      "  warnings.warn(msg, FutureWarning)\n",
      "C:\\Users\\011553\\AppData\\Local\\Continuum\\anaconda3\\envs\\tf-gpu\\lib\\site-packages\\sklearn\\preprocessing\\_encoders.py:415: FutureWarning: The handling of integer data will change in version 0.22. Currently, the categories are determined based on the range [0, max(values)], while in the future they will be determined based on the unique values.\n",
      "If you want the future behaviour and silence this warning, you can specify \"categories='auto'\".\n",
      "In case you used a LabelEncoder before this OneHotEncoder to convert the categories to integers, then you can now use the OneHotEncoder directly.\n",
      "  warnings.warn(msg, FutureWarning)\n",
      "C:\\Users\\011553\\AppData\\Local\\Continuum\\anaconda3\\envs\\tf-gpu\\lib\\site-packages\\sklearn\\preprocessing\\_encoders.py:415: FutureWarning: The handling of integer data will change in version 0.22. Currently, the categories are determined based on the range [0, max(values)], while in the future they will be determined based on the unique values.\n",
      "If you want the future behaviour and silence this warning, you can specify \"categories='auto'\".\n",
      "In case you used a LabelEncoder before this OneHotEncoder to convert the categories to integers, then you can now use the OneHotEncoder directly.\n",
      "  warnings.warn(msg, FutureWarning)\n"
     ]
    },
    {
     "data": {
      "application/vnd.jupyter.widget-view+json": {
       "model_id": "887330439677436f832c4f3402e6d087",
       "version_major": 2,
       "version_minor": 0
      },
      "text/plain": [
       "HBox(children=(IntProgress(value=0, max=65), HTML(value='')))"
      ]
     },
     "metadata": {},
     "output_type": "display_data"
    },
    {
     "name": "stdout",
     "output_type": "stream",
     "text": [
      "\n",
      "(0.09230769230769231, 0.07692307692307693)\n",
      "              precision    recall  f1-score   support\n",
      "\n",
      "        down       0.64      0.67      0.66     15014\n",
      "          up       0.67      0.64      0.65     15681\n",
      "\n",
      "    accuracy                           0.65     30695\n",
      "   macro avg       0.65      0.65      0.65     30695\n",
      "weighted avg       0.66      0.65      0.65     30695\n",
      "\n"
     ]
    },
    {
     "data": {
      "application/vnd.jupyter.widget-view+json": {
       "model_id": "222fa83ad33445c09e54c52d3c79acc6",
       "version_major": 2,
       "version_minor": 0
      },
      "text/plain": [
       "HBox(children=(IntProgress(value=0, max=10), HTML(value='')))"
      ]
     },
     "metadata": {},
     "output_type": "display_data"
    },
    {
     "name": "stdout",
     "output_type": "stream",
     "text": [
      "\n"
     ]
    },
    {
     "name": "stderr",
     "output_type": "stream",
     "text": [
      "C:\\Users\\011553\\AppData\\Local\\Continuum\\anaconda3\\envs\\tf-gpu\\lib\\site-packages\\sklearn\\preprocessing\\_encoders.py:415: FutureWarning: The handling of integer data will change in version 0.22. Currently, the categories are determined based on the range [0, max(values)], while in the future they will be determined based on the unique values.\n",
      "If you want the future behaviour and silence this warning, you can specify \"categories='auto'\".\n",
      "In case you used a LabelEncoder before this OneHotEncoder to convert the categories to integers, then you can now use the OneHotEncoder directly.\n",
      "  warnings.warn(msg, FutureWarning)\n",
      "C:\\Users\\011553\\AppData\\Local\\Continuum\\anaconda3\\envs\\tf-gpu\\lib\\site-packages\\sklearn\\preprocessing\\_encoders.py:415: FutureWarning: The handling of integer data will change in version 0.22. Currently, the categories are determined based on the range [0, max(values)], while in the future they will be determined based on the unique values.\n",
      "If you want the future behaviour and silence this warning, you can specify \"categories='auto'\".\n",
      "In case you used a LabelEncoder before this OneHotEncoder to convert the categories to integers, then you can now use the OneHotEncoder directly.\n",
      "  warnings.warn(msg, FutureWarning)\n",
      "C:\\Users\\011553\\AppData\\Local\\Continuum\\anaconda3\\envs\\tf-gpu\\lib\\site-packages\\sklearn\\preprocessing\\_encoders.py:415: FutureWarning: The handling of integer data will change in version 0.22. Currently, the categories are determined based on the range [0, max(values)], while in the future they will be determined based on the unique values.\n",
      "If you want the future behaviour and silence this warning, you can specify \"categories='auto'\".\n",
      "In case you used a LabelEncoder before this OneHotEncoder to convert the categories to integers, then you can now use the OneHotEncoder directly.\n",
      "  warnings.warn(msg, FutureWarning)\n"
     ]
    },
    {
     "data": {
      "application/vnd.jupyter.widget-view+json": {
       "model_id": "fac58711ee064528a97f00dbcb8d7429",
       "version_major": 2,
       "version_minor": 0
      },
      "text/plain": [
       "HBox(children=(IntProgress(value=0, max=65), HTML(value='')))"
      ]
     },
     "metadata": {},
     "output_type": "display_data"
    },
    {
     "name": "stdout",
     "output_type": "stream",
     "text": [
      "\n",
      "(0.12307692307692308, 0.12307692307692308)\n",
      "              precision    recall  f1-score   support\n",
      "\n",
      "        down       0.64      0.68      0.66     15014\n",
      "          up       0.67      0.64      0.66     15681\n",
      "\n",
      "    accuracy                           0.66     30695\n",
      "   macro avg       0.66      0.66      0.66     30695\n",
      "weighted avg       0.66      0.66      0.66     30695\n",
      "\n"
     ]
    },
    {
     "data": {
      "application/vnd.jupyter.widget-view+json": {
       "model_id": "a9f4c0b4e2e543dfb95bf6ed7a7b4f9e",
       "version_major": 2,
       "version_minor": 0
      },
      "text/plain": [
       "HBox(children=(IntProgress(value=0, max=5), HTML(value='')))"
      ]
     },
     "metadata": {},
     "output_type": "display_data"
    },
    {
     "name": "stdout",
     "output_type": "stream",
     "text": [
      "\n"
     ]
    },
    {
     "name": "stderr",
     "output_type": "stream",
     "text": [
      "C:\\Users\\011553\\AppData\\Local\\Continuum\\anaconda3\\envs\\tf-gpu\\lib\\site-packages\\sklearn\\preprocessing\\_encoders.py:415: FutureWarning: The handling of integer data will change in version 0.22. Currently, the categories are determined based on the range [0, max(values)], while in the future they will be determined based on the unique values.\n",
      "If you want the future behaviour and silence this warning, you can specify \"categories='auto'\".\n",
      "In case you used a LabelEncoder before this OneHotEncoder to convert the categories to integers, then you can now use the OneHotEncoder directly.\n",
      "  warnings.warn(msg, FutureWarning)\n",
      "C:\\Users\\011553\\AppData\\Local\\Continuum\\anaconda3\\envs\\tf-gpu\\lib\\site-packages\\sklearn\\preprocessing\\_encoders.py:415: FutureWarning: The handling of integer data will change in version 0.22. Currently, the categories are determined based on the range [0, max(values)], while in the future they will be determined based on the unique values.\n",
      "If you want the future behaviour and silence this warning, you can specify \"categories='auto'\".\n",
      "In case you used a LabelEncoder before this OneHotEncoder to convert the categories to integers, then you can now use the OneHotEncoder directly.\n",
      "  warnings.warn(msg, FutureWarning)\n",
      "C:\\Users\\011553\\AppData\\Local\\Continuum\\anaconda3\\envs\\tf-gpu\\lib\\site-packages\\sklearn\\preprocessing\\_encoders.py:415: FutureWarning: The handling of integer data will change in version 0.22. Currently, the categories are determined based on the range [0, max(values)], while in the future they will be determined based on the unique values.\n",
      "If you want the future behaviour and silence this warning, you can specify \"categories='auto'\".\n",
      "In case you used a LabelEncoder before this OneHotEncoder to convert the categories to integers, then you can now use the OneHotEncoder directly.\n",
      "  warnings.warn(msg, FutureWarning)\n"
     ]
    },
    {
     "data": {
      "application/vnd.jupyter.widget-view+json": {
       "model_id": "e5866315574145278d0787b52d9530f9",
       "version_major": 2,
       "version_minor": 0
      },
      "text/plain": [
       "HBox(children=(IntProgress(value=0, max=65), HTML(value='')))"
      ]
     },
     "metadata": {},
     "output_type": "display_data"
    },
    {
     "name": "stdout",
     "output_type": "stream",
     "text": [
      "\n",
      "(0.09230769230769231, 0.09230769230769231)\n",
      "              precision    recall  f1-score   support\n",
      "\n",
      "        down       0.65      0.67      0.66     15014\n",
      "          up       0.67      0.65      0.66     15681\n",
      "\n",
      "    accuracy                           0.66     30695\n",
      "   macro avg       0.66      0.66      0.66     30695\n",
      "weighted avg       0.66      0.66      0.66     30695\n",
      "\n"
     ]
    },
    {
     "data": {
      "application/vnd.jupyter.widget-view+json": {
       "model_id": "edc95d3f78bb466bbc3dce1aa679797f",
       "version_major": 2,
       "version_minor": 0
      },
      "text/plain": [
       "HBox(children=(IntProgress(value=0, max=5), HTML(value='')))"
      ]
     },
     "metadata": {},
     "output_type": "display_data"
    },
    {
     "name": "stdout",
     "output_type": "stream",
     "text": [
      "\n"
     ]
    },
    {
     "name": "stderr",
     "output_type": "stream",
     "text": [
      "C:\\Users\\011553\\AppData\\Local\\Continuum\\anaconda3\\envs\\tf-gpu\\lib\\site-packages\\sklearn\\preprocessing\\_encoders.py:415: FutureWarning: The handling of integer data will change in version 0.22. Currently, the categories are determined based on the range [0, max(values)], while in the future they will be determined based on the unique values.\n",
      "If you want the future behaviour and silence this warning, you can specify \"categories='auto'\".\n",
      "In case you used a LabelEncoder before this OneHotEncoder to convert the categories to integers, then you can now use the OneHotEncoder directly.\n",
      "  warnings.warn(msg, FutureWarning)\n",
      "C:\\Users\\011553\\AppData\\Local\\Continuum\\anaconda3\\envs\\tf-gpu\\lib\\site-packages\\sklearn\\preprocessing\\_encoders.py:415: FutureWarning: The handling of integer data will change in version 0.22. Currently, the categories are determined based on the range [0, max(values)], while in the future they will be determined based on the unique values.\n",
      "If you want the future behaviour and silence this warning, you can specify \"categories='auto'\".\n",
      "In case you used a LabelEncoder before this OneHotEncoder to convert the categories to integers, then you can now use the OneHotEncoder directly.\n",
      "  warnings.warn(msg, FutureWarning)\n",
      "C:\\Users\\011553\\AppData\\Local\\Continuum\\anaconda3\\envs\\tf-gpu\\lib\\site-packages\\sklearn\\preprocessing\\_encoders.py:415: FutureWarning: The handling of integer data will change in version 0.22. Currently, the categories are determined based on the range [0, max(values)], while in the future they will be determined based on the unique values.\n",
      "If you want the future behaviour and silence this warning, you can specify \"categories='auto'\".\n",
      "In case you used a LabelEncoder before this OneHotEncoder to convert the categories to integers, then you can now use the OneHotEncoder directly.\n",
      "  warnings.warn(msg, FutureWarning)\n"
     ]
    },
    {
     "data": {
      "application/vnd.jupyter.widget-view+json": {
       "model_id": "223737f45d9e4d0ebbb1a030cd9f4ddb",
       "version_major": 2,
       "version_minor": 0
      },
      "text/plain": [
       "HBox(children=(IntProgress(value=0, max=65), HTML(value='')))"
      ]
     },
     "metadata": {},
     "output_type": "display_data"
    },
    {
     "name": "stdout",
     "output_type": "stream",
     "text": [
      "\n",
      "(0.12307692307692308, 0.13846153846153847)\n",
      "              precision    recall  f1-score   support\n",
      "\n",
      "        down       0.63      0.64      0.63     15014\n",
      "          up       0.65      0.63      0.64     15681\n",
      "\n",
      "    accuracy                           0.64     30695\n",
      "   macro avg       0.64      0.64      0.64     30695\n",
      "weighted avg       0.64      0.64      0.64     30695\n",
      "\n"
     ]
    },
    {
     "data": {
      "application/vnd.jupyter.widget-view+json": {
       "model_id": "d007e6a003c74328b3f377dcb071970e",
       "version_major": 2,
       "version_minor": 0
      },
      "text/plain": [
       "HBox(children=(IntProgress(value=0, max=10), HTML(value='')))"
      ]
     },
     "metadata": {},
     "output_type": "display_data"
    },
    {
     "name": "stdout",
     "output_type": "stream",
     "text": [
      "\n"
     ]
    },
    {
     "name": "stderr",
     "output_type": "stream",
     "text": [
      "C:\\Users\\011553\\AppData\\Local\\Continuum\\anaconda3\\envs\\tf-gpu\\lib\\site-packages\\sklearn\\preprocessing\\_encoders.py:415: FutureWarning: The handling of integer data will change in version 0.22. Currently, the categories are determined based on the range [0, max(values)], while in the future they will be determined based on the unique values.\n",
      "If you want the future behaviour and silence this warning, you can specify \"categories='auto'\".\n",
      "In case you used a LabelEncoder before this OneHotEncoder to convert the categories to integers, then you can now use the OneHotEncoder directly.\n",
      "  warnings.warn(msg, FutureWarning)\n",
      "C:\\Users\\011553\\AppData\\Local\\Continuum\\anaconda3\\envs\\tf-gpu\\lib\\site-packages\\sklearn\\preprocessing\\_encoders.py:415: FutureWarning: The handling of integer data will change in version 0.22. Currently, the categories are determined based on the range [0, max(values)], while in the future they will be determined based on the unique values.\n",
      "If you want the future behaviour and silence this warning, you can specify \"categories='auto'\".\n",
      "In case you used a LabelEncoder before this OneHotEncoder to convert the categories to integers, then you can now use the OneHotEncoder directly.\n",
      "  warnings.warn(msg, FutureWarning)\n",
      "C:\\Users\\011553\\AppData\\Local\\Continuum\\anaconda3\\envs\\tf-gpu\\lib\\site-packages\\sklearn\\preprocessing\\_encoders.py:415: FutureWarning: The handling of integer data will change in version 0.22. Currently, the categories are determined based on the range [0, max(values)], while in the future they will be determined based on the unique values.\n",
      "If you want the future behaviour and silence this warning, you can specify \"categories='auto'\".\n",
      "In case you used a LabelEncoder before this OneHotEncoder to convert the categories to integers, then you can now use the OneHotEncoder directly.\n",
      "  warnings.warn(msg, FutureWarning)\n"
     ]
    },
    {
     "data": {
      "application/vnd.jupyter.widget-view+json": {
       "model_id": "0330ab89e1284bd8b1d50695edd50ebc",
       "version_major": 2,
       "version_minor": 0
      },
      "text/plain": [
       "HBox(children=(IntProgress(value=0, max=65), HTML(value='')))"
      ]
     },
     "metadata": {},
     "output_type": "display_data"
    },
    {
     "name": "stdout",
     "output_type": "stream",
     "text": [
      "\n",
      "(0.09230769230769231, 0.09230769230769231)\n",
      "              precision    recall  f1-score   support\n",
      "\n",
      "        down       0.65      0.66      0.66     15014\n",
      "          up       0.67      0.66      0.67     15681\n",
      "\n",
      "    accuracy                           0.66     30695\n",
      "   macro avg       0.66      0.66      0.66     30695\n",
      "weighted avg       0.66      0.66      0.66     30695\n",
      "\n"
     ]
    },
    {
     "data": {
      "application/vnd.jupyter.widget-view+json": {
       "model_id": "7a04e9883df242bdb6b1f9eba240e8c1",
       "version_major": 2,
       "version_minor": 0
      },
      "text/plain": [
       "HBox(children=(IntProgress(value=0, max=5), HTML(value='')))"
      ]
     },
     "metadata": {},
     "output_type": "display_data"
    },
    {
     "name": "stdout",
     "output_type": "stream",
     "text": [
      "\n"
     ]
    },
    {
     "name": "stderr",
     "output_type": "stream",
     "text": [
      "C:\\Users\\011553\\AppData\\Local\\Continuum\\anaconda3\\envs\\tf-gpu\\lib\\site-packages\\sklearn\\preprocessing\\_encoders.py:415: FutureWarning: The handling of integer data will change in version 0.22. Currently, the categories are determined based on the range [0, max(values)], while in the future they will be determined based on the unique values.\n",
      "If you want the future behaviour and silence this warning, you can specify \"categories='auto'\".\n",
      "In case you used a LabelEncoder before this OneHotEncoder to convert the categories to integers, then you can now use the OneHotEncoder directly.\n",
      "  warnings.warn(msg, FutureWarning)\n",
      "C:\\Users\\011553\\AppData\\Local\\Continuum\\anaconda3\\envs\\tf-gpu\\lib\\site-packages\\sklearn\\preprocessing\\_encoders.py:415: FutureWarning: The handling of integer data will change in version 0.22. Currently, the categories are determined based on the range [0, max(values)], while in the future they will be determined based on the unique values.\n",
      "If you want the future behaviour and silence this warning, you can specify \"categories='auto'\".\n",
      "In case you used a LabelEncoder before this OneHotEncoder to convert the categories to integers, then you can now use the OneHotEncoder directly.\n",
      "  warnings.warn(msg, FutureWarning)\n",
      "C:\\Users\\011553\\AppData\\Local\\Continuum\\anaconda3\\envs\\tf-gpu\\lib\\site-packages\\sklearn\\preprocessing\\_encoders.py:415: FutureWarning: The handling of integer data will change in version 0.22. Currently, the categories are determined based on the range [0, max(values)], while in the future they will be determined based on the unique values.\n",
      "If you want the future behaviour and silence this warning, you can specify \"categories='auto'\".\n",
      "In case you used a LabelEncoder before this OneHotEncoder to convert the categories to integers, then you can now use the OneHotEncoder directly.\n",
      "  warnings.warn(msg, FutureWarning)\n"
     ]
    },
    {
     "data": {
      "application/vnd.jupyter.widget-view+json": {
       "model_id": "9fe149e58a7b48eabe55368b369acc87",
       "version_major": 2,
       "version_minor": 0
      },
      "text/plain": [
       "HBox(children=(IntProgress(value=0, max=65), HTML(value='')))"
      ]
     },
     "metadata": {},
     "output_type": "display_data"
    },
    {
     "name": "stdout",
     "output_type": "stream",
     "text": [
      "\n",
      "(0.07692307692307693, 0.07692307692307693)\n",
      "              precision    recall  f1-score   support\n",
      "\n",
      "        down       0.64      0.65      0.65     15014\n",
      "          up       0.66      0.65      0.66     15681\n",
      "\n",
      "    accuracy                           0.65     30695\n",
      "   macro avg       0.65      0.65      0.65     30695\n",
      "weighted avg       0.65      0.65      0.65     30695\n",
      "\n"
     ]
    },
    {
     "data": {
      "application/vnd.jupyter.widget-view+json": {
       "model_id": "84838e493ea34660ab67c29da8251d6f",
       "version_major": 2,
       "version_minor": 0
      },
      "text/plain": [
       "HBox(children=(IntProgress(value=0, max=5), HTML(value='')))"
      ]
     },
     "metadata": {},
     "output_type": "display_data"
    },
    {
     "name": "stdout",
     "output_type": "stream",
     "text": [
      "\n"
     ]
    },
    {
     "name": "stderr",
     "output_type": "stream",
     "text": [
      "C:\\Users\\011553\\AppData\\Local\\Continuum\\anaconda3\\envs\\tf-gpu\\lib\\site-packages\\sklearn\\preprocessing\\_encoders.py:415: FutureWarning: The handling of integer data will change in version 0.22. Currently, the categories are determined based on the range [0, max(values)], while in the future they will be determined based on the unique values.\n",
      "If you want the future behaviour and silence this warning, you can specify \"categories='auto'\".\n",
      "In case you used a LabelEncoder before this OneHotEncoder to convert the categories to integers, then you can now use the OneHotEncoder directly.\n",
      "  warnings.warn(msg, FutureWarning)\n",
      "C:\\Users\\011553\\AppData\\Local\\Continuum\\anaconda3\\envs\\tf-gpu\\lib\\site-packages\\sklearn\\preprocessing\\_encoders.py:415: FutureWarning: The handling of integer data will change in version 0.22. Currently, the categories are determined based on the range [0, max(values)], while in the future they will be determined based on the unique values.\n",
      "If you want the future behaviour and silence this warning, you can specify \"categories='auto'\".\n",
      "In case you used a LabelEncoder before this OneHotEncoder to convert the categories to integers, then you can now use the OneHotEncoder directly.\n",
      "  warnings.warn(msg, FutureWarning)\n",
      "C:\\Users\\011553\\AppData\\Local\\Continuum\\anaconda3\\envs\\tf-gpu\\lib\\site-packages\\sklearn\\preprocessing\\_encoders.py:415: FutureWarning: The handling of integer data will change in version 0.22. Currently, the categories are determined based on the range [0, max(values)], while in the future they will be determined based on the unique values.\n",
      "If you want the future behaviour and silence this warning, you can specify \"categories='auto'\".\n",
      "In case you used a LabelEncoder before this OneHotEncoder to convert the categories to integers, then you can now use the OneHotEncoder directly.\n",
      "  warnings.warn(msg, FutureWarning)\n"
     ]
    },
    {
     "data": {
      "application/vnd.jupyter.widget-view+json": {
       "model_id": "203aa74e3a73433c894011ca2fabaabd",
       "version_major": 2,
       "version_minor": 0
      },
      "text/plain": [
       "HBox(children=(IntProgress(value=0, max=65), HTML(value='')))"
      ]
     },
     "metadata": {},
     "output_type": "display_data"
    },
    {
     "name": "stdout",
     "output_type": "stream",
     "text": [
      "\n",
      "(0.12307692307692308, 0.1076923076923077)\n",
      "              precision    recall  f1-score   support\n",
      "\n",
      "        down       0.64      0.65      0.65     15014\n",
      "          up       0.66      0.65      0.66     15681\n",
      "\n",
      "    accuracy                           0.65     30695\n",
      "   macro avg       0.65      0.65      0.65     30695\n",
      "weighted avg       0.65      0.65      0.65     30695\n",
      "\n"
     ]
    },
    {
     "data": {
      "application/vnd.jupyter.widget-view+json": {
       "model_id": "b253b89240c34731a67f70c696b4d0c1",
       "version_major": 2,
       "version_minor": 0
      },
      "text/plain": [
       "HBox(children=(IntProgress(value=0, max=10), HTML(value='')))"
      ]
     },
     "metadata": {},
     "output_type": "display_data"
    },
    {
     "name": "stdout",
     "output_type": "stream",
     "text": [
      "\n"
     ]
    },
    {
     "name": "stderr",
     "output_type": "stream",
     "text": [
      "C:\\Users\\011553\\AppData\\Local\\Continuum\\anaconda3\\envs\\tf-gpu\\lib\\site-packages\\sklearn\\preprocessing\\_encoders.py:415: FutureWarning: The handling of integer data will change in version 0.22. Currently, the categories are determined based on the range [0, max(values)], while in the future they will be determined based on the unique values.\n",
      "If you want the future behaviour and silence this warning, you can specify \"categories='auto'\".\n",
      "In case you used a LabelEncoder before this OneHotEncoder to convert the categories to integers, then you can now use the OneHotEncoder directly.\n",
      "  warnings.warn(msg, FutureWarning)\n",
      "C:\\Users\\011553\\AppData\\Local\\Continuum\\anaconda3\\envs\\tf-gpu\\lib\\site-packages\\sklearn\\preprocessing\\_encoders.py:415: FutureWarning: The handling of integer data will change in version 0.22. Currently, the categories are determined based on the range [0, max(values)], while in the future they will be determined based on the unique values.\n",
      "If you want the future behaviour and silence this warning, you can specify \"categories='auto'\".\n",
      "In case you used a LabelEncoder before this OneHotEncoder to convert the categories to integers, then you can now use the OneHotEncoder directly.\n",
      "  warnings.warn(msg, FutureWarning)\n",
      "C:\\Users\\011553\\AppData\\Local\\Continuum\\anaconda3\\envs\\tf-gpu\\lib\\site-packages\\sklearn\\preprocessing\\_encoders.py:415: FutureWarning: The handling of integer data will change in version 0.22. Currently, the categories are determined based on the range [0, max(values)], while in the future they will be determined based on the unique values.\n",
      "If you want the future behaviour and silence this warning, you can specify \"categories='auto'\".\n",
      "In case you used a LabelEncoder before this OneHotEncoder to convert the categories to integers, then you can now use the OneHotEncoder directly.\n",
      "  warnings.warn(msg, FutureWarning)\n"
     ]
    },
    {
     "data": {
      "application/vnd.jupyter.widget-view+json": {
       "model_id": "f05ef8df73274d79a985bdc827ca5ac9",
       "version_major": 2,
       "version_minor": 0
      },
      "text/plain": [
       "HBox(children=(IntProgress(value=0, max=65), HTML(value='')))"
      ]
     },
     "metadata": {},
     "output_type": "display_data"
    },
    {
     "name": "stdout",
     "output_type": "stream",
     "text": [
      "\n",
      "(0.1076923076923077, 0.09230769230769231)\n",
      "              precision    recall  f1-score   support\n",
      "\n",
      "        down       0.63      0.70      0.67     15014\n",
      "          up       0.68      0.61      0.65     15681\n",
      "\n",
      "    accuracy                           0.66     30695\n",
      "   macro avg       0.66      0.66      0.66     30695\n",
      "weighted avg       0.66      0.66      0.66     30695\n",
      "\n"
     ]
    },
    {
     "data": {
      "application/vnd.jupyter.widget-view+json": {
       "model_id": "d0fe93dfc84c4fb9b09ba8a19ee28ae3",
       "version_major": 2,
       "version_minor": 0
      },
      "text/plain": [
       "HBox(children=(IntProgress(value=0, max=10), HTML(value='')))"
      ]
     },
     "metadata": {},
     "output_type": "display_data"
    },
    {
     "name": "stdout",
     "output_type": "stream",
     "text": [
      "\n"
     ]
    },
    {
     "name": "stderr",
     "output_type": "stream",
     "text": [
      "C:\\Users\\011553\\AppData\\Local\\Continuum\\anaconda3\\envs\\tf-gpu\\lib\\site-packages\\sklearn\\preprocessing\\_encoders.py:415: FutureWarning: The handling of integer data will change in version 0.22. Currently, the categories are determined based on the range [0, max(values)], while in the future they will be determined based on the unique values.\n",
      "If you want the future behaviour and silence this warning, you can specify \"categories='auto'\".\n",
      "In case you used a LabelEncoder before this OneHotEncoder to convert the categories to integers, then you can now use the OneHotEncoder directly.\n",
      "  warnings.warn(msg, FutureWarning)\n",
      "C:\\Users\\011553\\AppData\\Local\\Continuum\\anaconda3\\envs\\tf-gpu\\lib\\site-packages\\sklearn\\preprocessing\\_encoders.py:415: FutureWarning: The handling of integer data will change in version 0.22. Currently, the categories are determined based on the range [0, max(values)], while in the future they will be determined based on the unique values.\n",
      "If you want the future behaviour and silence this warning, you can specify \"categories='auto'\".\n",
      "In case you used a LabelEncoder before this OneHotEncoder to convert the categories to integers, then you can now use the OneHotEncoder directly.\n",
      "  warnings.warn(msg, FutureWarning)\n",
      "C:\\Users\\011553\\AppData\\Local\\Continuum\\anaconda3\\envs\\tf-gpu\\lib\\site-packages\\sklearn\\preprocessing\\_encoders.py:415: FutureWarning: The handling of integer data will change in version 0.22. Currently, the categories are determined based on the range [0, max(values)], while in the future they will be determined based on the unique values.\n",
      "If you want the future behaviour and silence this warning, you can specify \"categories='auto'\".\n",
      "In case you used a LabelEncoder before this OneHotEncoder to convert the categories to integers, then you can now use the OneHotEncoder directly.\n",
      "  warnings.warn(msg, FutureWarning)\n"
     ]
    },
    {
     "data": {
      "application/vnd.jupyter.widget-view+json": {
       "model_id": "f4f6ed59f81145848fec0fb4aa4be2d1",
       "version_major": 2,
       "version_minor": 0
      },
      "text/plain": [
       "HBox(children=(IntProgress(value=0, max=65), HTML(value='')))"
      ]
     },
     "metadata": {},
     "output_type": "display_data"
    },
    {
     "name": "stdout",
     "output_type": "stream",
     "text": [
      "\n",
      "(0.1076923076923077, 0.1076923076923077)\n",
      "              precision    recall  f1-score   support\n",
      "\n",
      "        down       0.64      0.66      0.65     15014\n",
      "          up       0.66      0.64      0.65     15681\n",
      "\n",
      "    accuracy                           0.65     30695\n",
      "   macro avg       0.65      0.65      0.65     30695\n",
      "weighted avg       0.65      0.65      0.65     30695\n",
      "\n"
     ]
    },
    {
     "data": {
      "application/vnd.jupyter.widget-view+json": {
       "model_id": "aaee9a5d09d347e7af84fdd66e914cf9",
       "version_major": 2,
       "version_minor": 0
      },
      "text/plain": [
       "HBox(children=(IntProgress(value=0, max=10), HTML(value='')))"
      ]
     },
     "metadata": {},
     "output_type": "display_data"
    },
    {
     "name": "stdout",
     "output_type": "stream",
     "text": [
      "\n"
     ]
    },
    {
     "name": "stderr",
     "output_type": "stream",
     "text": [
      "C:\\Users\\011553\\AppData\\Local\\Continuum\\anaconda3\\envs\\tf-gpu\\lib\\site-packages\\sklearn\\preprocessing\\_encoders.py:415: FutureWarning: The handling of integer data will change in version 0.22. Currently, the categories are determined based on the range [0, max(values)], while in the future they will be determined based on the unique values.\n",
      "If you want the future behaviour and silence this warning, you can specify \"categories='auto'\".\n",
      "In case you used a LabelEncoder before this OneHotEncoder to convert the categories to integers, then you can now use the OneHotEncoder directly.\n",
      "  warnings.warn(msg, FutureWarning)\n",
      "C:\\Users\\011553\\AppData\\Local\\Continuum\\anaconda3\\envs\\tf-gpu\\lib\\site-packages\\sklearn\\preprocessing\\_encoders.py:415: FutureWarning: The handling of integer data will change in version 0.22. Currently, the categories are determined based on the range [0, max(values)], while in the future they will be determined based on the unique values.\n",
      "If you want the future behaviour and silence this warning, you can specify \"categories='auto'\".\n",
      "In case you used a LabelEncoder before this OneHotEncoder to convert the categories to integers, then you can now use the OneHotEncoder directly.\n",
      "  warnings.warn(msg, FutureWarning)\n",
      "C:\\Users\\011553\\AppData\\Local\\Continuum\\anaconda3\\envs\\tf-gpu\\lib\\site-packages\\sklearn\\preprocessing\\_encoders.py:415: FutureWarning: The handling of integer data will change in version 0.22. Currently, the categories are determined based on the range [0, max(values)], while in the future they will be determined based on the unique values.\n",
      "If you want the future behaviour and silence this warning, you can specify \"categories='auto'\".\n",
      "In case you used a LabelEncoder before this OneHotEncoder to convert the categories to integers, then you can now use the OneHotEncoder directly.\n",
      "  warnings.warn(msg, FutureWarning)\n"
     ]
    },
    {
     "data": {
      "application/vnd.jupyter.widget-view+json": {
       "model_id": "a7d56a72914c4a5d900815b68b00503b",
       "version_major": 2,
       "version_minor": 0
      },
      "text/plain": [
       "HBox(children=(IntProgress(value=0, max=65), HTML(value='')))"
      ]
     },
     "metadata": {},
     "output_type": "display_data"
    },
    {
     "name": "stdout",
     "output_type": "stream",
     "text": [
      "\n",
      "(0.13846153846153847, 0.13846153846153847)\n",
      "              precision    recall  f1-score   support\n",
      "\n",
      "        down       0.64      0.70      0.67     15014\n",
      "          up       0.68      0.62      0.65     15681\n",
      "\n",
      "    accuracy                           0.66     30695\n",
      "   macro avg       0.66      0.66      0.66     30695\n",
      "weighted avg       0.66      0.66      0.66     30695\n",
      "\n"
     ]
    },
    {
     "data": {
      "application/vnd.jupyter.widget-view+json": {
       "model_id": "15ecf79393b44a1c9df80a95c994a8ca",
       "version_major": 2,
       "version_minor": 0
      },
      "text/plain": [
       "HBox(children=(IntProgress(value=0, max=5), HTML(value='')))"
      ]
     },
     "metadata": {},
     "output_type": "display_data"
    },
    {
     "name": "stdout",
     "output_type": "stream",
     "text": [
      "\n"
     ]
    },
    {
     "name": "stderr",
     "output_type": "stream",
     "text": [
      "C:\\Users\\011553\\AppData\\Local\\Continuum\\anaconda3\\envs\\tf-gpu\\lib\\site-packages\\sklearn\\preprocessing\\_encoders.py:415: FutureWarning: The handling of integer data will change in version 0.22. Currently, the categories are determined based on the range [0, max(values)], while in the future they will be determined based on the unique values.\n",
      "If you want the future behaviour and silence this warning, you can specify \"categories='auto'\".\n",
      "In case you used a LabelEncoder before this OneHotEncoder to convert the categories to integers, then you can now use the OneHotEncoder directly.\n",
      "  warnings.warn(msg, FutureWarning)\n",
      "C:\\Users\\011553\\AppData\\Local\\Continuum\\anaconda3\\envs\\tf-gpu\\lib\\site-packages\\sklearn\\preprocessing\\_encoders.py:415: FutureWarning: The handling of integer data will change in version 0.22. Currently, the categories are determined based on the range [0, max(values)], while in the future they will be determined based on the unique values.\n",
      "If you want the future behaviour and silence this warning, you can specify \"categories='auto'\".\n",
      "In case you used a LabelEncoder before this OneHotEncoder to convert the categories to integers, then you can now use the OneHotEncoder directly.\n",
      "  warnings.warn(msg, FutureWarning)\n",
      "C:\\Users\\011553\\AppData\\Local\\Continuum\\anaconda3\\envs\\tf-gpu\\lib\\site-packages\\sklearn\\preprocessing\\_encoders.py:415: FutureWarning: The handling of integer data will change in version 0.22. Currently, the categories are determined based on the range [0, max(values)], while in the future they will be determined based on the unique values.\n",
      "If you want the future behaviour and silence this warning, you can specify \"categories='auto'\".\n",
      "In case you used a LabelEncoder before this OneHotEncoder to convert the categories to integers, then you can now use the OneHotEncoder directly.\n",
      "  warnings.warn(msg, FutureWarning)\n"
     ]
    },
    {
     "data": {
      "application/vnd.jupyter.widget-view+json": {
       "model_id": "1a2732d97c144eb3ad5e3e058b8655d1",
       "version_major": 2,
       "version_minor": 0
      },
      "text/plain": [
       "HBox(children=(IntProgress(value=0, max=65), HTML(value='')))"
      ]
     },
     "metadata": {},
     "output_type": "display_data"
    },
    {
     "name": "stdout",
     "output_type": "stream",
     "text": [
      "\n",
      "(0.12307692307692308, 0.12307692307692308)\n",
      "              precision    recall  f1-score   support\n",
      "\n",
      "        down       0.62      0.68      0.65     15014\n",
      "          up       0.66      0.61      0.63     15681\n",
      "\n",
      "    accuracy                           0.64     30695\n",
      "   macro avg       0.64      0.64      0.64     30695\n",
      "weighted avg       0.64      0.64      0.64     30695\n",
      "\n"
     ]
    },
    {
     "data": {
      "application/vnd.jupyter.widget-view+json": {
       "model_id": "a2c4dfa4a07941e7a52302fc53e119e5",
       "version_major": 2,
       "version_minor": 0
      },
      "text/plain": [
       "HBox(children=(IntProgress(value=0, max=5), HTML(value='')))"
      ]
     },
     "metadata": {},
     "output_type": "display_data"
    },
    {
     "name": "stdout",
     "output_type": "stream",
     "text": [
      "\n"
     ]
    },
    {
     "name": "stderr",
     "output_type": "stream",
     "text": [
      "C:\\Users\\011553\\AppData\\Local\\Continuum\\anaconda3\\envs\\tf-gpu\\lib\\site-packages\\sklearn\\preprocessing\\_encoders.py:415: FutureWarning: The handling of integer data will change in version 0.22. Currently, the categories are determined based on the range [0, max(values)], while in the future they will be determined based on the unique values.\n",
      "If you want the future behaviour and silence this warning, you can specify \"categories='auto'\".\n",
      "In case you used a LabelEncoder before this OneHotEncoder to convert the categories to integers, then you can now use the OneHotEncoder directly.\n",
      "  warnings.warn(msg, FutureWarning)\n",
      "C:\\Users\\011553\\AppData\\Local\\Continuum\\anaconda3\\envs\\tf-gpu\\lib\\site-packages\\sklearn\\preprocessing\\_encoders.py:415: FutureWarning: The handling of integer data will change in version 0.22. Currently, the categories are determined based on the range [0, max(values)], while in the future they will be determined based on the unique values.\n",
      "If you want the future behaviour and silence this warning, you can specify \"categories='auto'\".\n",
      "In case you used a LabelEncoder before this OneHotEncoder to convert the categories to integers, then you can now use the OneHotEncoder directly.\n",
      "  warnings.warn(msg, FutureWarning)\n",
      "C:\\Users\\011553\\AppData\\Local\\Continuum\\anaconda3\\envs\\tf-gpu\\lib\\site-packages\\sklearn\\preprocessing\\_encoders.py:415: FutureWarning: The handling of integer data will change in version 0.22. Currently, the categories are determined based on the range [0, max(values)], while in the future they will be determined based on the unique values.\n",
      "If you want the future behaviour and silence this warning, you can specify \"categories='auto'\".\n",
      "In case you used a LabelEncoder before this OneHotEncoder to convert the categories to integers, then you can now use the OneHotEncoder directly.\n",
      "  warnings.warn(msg, FutureWarning)\n"
     ]
    },
    {
     "data": {
      "application/vnd.jupyter.widget-view+json": {
       "model_id": "7d45782ed0f54ed2a38c03313d77d189",
       "version_major": 2,
       "version_minor": 0
      },
      "text/plain": [
       "HBox(children=(IntProgress(value=0, max=65), HTML(value='')))"
      ]
     },
     "metadata": {},
     "output_type": "display_data"
    },
    {
     "name": "stdout",
     "output_type": "stream",
     "text": [
      "\n",
      "(0.13846153846153847, 0.15384615384615385)\n",
      "              precision    recall  f1-score   support\n",
      "\n",
      "        down       0.64      0.66      0.65     15014\n",
      "          up       0.66      0.65      0.66     15681\n",
      "\n",
      "    accuracy                           0.65     30695\n",
      "   macro avg       0.65      0.65      0.65     30695\n",
      "weighted avg       0.65      0.65      0.65     30695\n",
      "\n"
     ]
    },
    {
     "data": {
      "application/vnd.jupyter.widget-view+json": {
       "model_id": "347f2f98323e476fbfff1e148d4376de",
       "version_major": 2,
       "version_minor": 0
      },
      "text/plain": [
       "HBox(children=(IntProgress(value=0, max=5), HTML(value='')))"
      ]
     },
     "metadata": {},
     "output_type": "display_data"
    },
    {
     "name": "stdout",
     "output_type": "stream",
     "text": [
      "\n"
     ]
    },
    {
     "name": "stderr",
     "output_type": "stream",
     "text": [
      "C:\\Users\\011553\\AppData\\Local\\Continuum\\anaconda3\\envs\\tf-gpu\\lib\\site-packages\\sklearn\\preprocessing\\_encoders.py:415: FutureWarning: The handling of integer data will change in version 0.22. Currently, the categories are determined based on the range [0, max(values)], while in the future they will be determined based on the unique values.\n",
      "If you want the future behaviour and silence this warning, you can specify \"categories='auto'\".\n",
      "In case you used a LabelEncoder before this OneHotEncoder to convert the categories to integers, then you can now use the OneHotEncoder directly.\n",
      "  warnings.warn(msg, FutureWarning)\n",
      "C:\\Users\\011553\\AppData\\Local\\Continuum\\anaconda3\\envs\\tf-gpu\\lib\\site-packages\\sklearn\\preprocessing\\_encoders.py:415: FutureWarning: The handling of integer data will change in version 0.22. Currently, the categories are determined based on the range [0, max(values)], while in the future they will be determined based on the unique values.\n",
      "If you want the future behaviour and silence this warning, you can specify \"categories='auto'\".\n",
      "In case you used a LabelEncoder before this OneHotEncoder to convert the categories to integers, then you can now use the OneHotEncoder directly.\n",
      "  warnings.warn(msg, FutureWarning)\n",
      "C:\\Users\\011553\\AppData\\Local\\Continuum\\anaconda3\\envs\\tf-gpu\\lib\\site-packages\\sklearn\\preprocessing\\_encoders.py:415: FutureWarning: The handling of integer data will change in version 0.22. Currently, the categories are determined based on the range [0, max(values)], while in the future they will be determined based on the unique values.\n",
      "If you want the future behaviour and silence this warning, you can specify \"categories='auto'\".\n",
      "In case you used a LabelEncoder before this OneHotEncoder to convert the categories to integers, then you can now use the OneHotEncoder directly.\n",
      "  warnings.warn(msg, FutureWarning)\n"
     ]
    },
    {
     "data": {
      "application/vnd.jupyter.widget-view+json": {
       "model_id": "dd47e097e6924a28a1fc1f42a8b8e94a",
       "version_major": 2,
       "version_minor": 0
      },
      "text/plain": [
       "HBox(children=(IntProgress(value=0, max=65), HTML(value='')))"
      ]
     },
     "metadata": {},
     "output_type": "display_data"
    },
    {
     "name": "stdout",
     "output_type": "stream",
     "text": [
      "\n",
      "(0.15384615384615385, 0.16923076923076924)\n",
      "              precision    recall  f1-score   support\n",
      "\n",
      "        down       0.64      0.69      0.66     15014\n",
      "          up       0.68      0.63      0.65     15681\n",
      "\n",
      "    accuracy                           0.66     30695\n",
      "   macro avg       0.66      0.66      0.66     30695\n",
      "weighted avg       0.66      0.66      0.66     30695\n",
      "\n"
     ]
    },
    {
     "data": {
      "application/vnd.jupyter.widget-view+json": {
       "model_id": "0c0ad031c2e1433793d37751d885d2b3",
       "version_major": 2,
       "version_minor": 0
      },
      "text/plain": [
       "HBox(children=(IntProgress(value=0, max=10), HTML(value='')))"
      ]
     },
     "metadata": {},
     "output_type": "display_data"
    },
    {
     "name": "stdout",
     "output_type": "stream",
     "text": [
      "\n"
     ]
    },
    {
     "name": "stderr",
     "output_type": "stream",
     "text": [
      "C:\\Users\\011553\\AppData\\Local\\Continuum\\anaconda3\\envs\\tf-gpu\\lib\\site-packages\\sklearn\\preprocessing\\_encoders.py:415: FutureWarning: The handling of integer data will change in version 0.22. Currently, the categories are determined based on the range [0, max(values)], while in the future they will be determined based on the unique values.\n",
      "If you want the future behaviour and silence this warning, you can specify \"categories='auto'\".\n",
      "In case you used a LabelEncoder before this OneHotEncoder to convert the categories to integers, then you can now use the OneHotEncoder directly.\n",
      "  warnings.warn(msg, FutureWarning)\n",
      "C:\\Users\\011553\\AppData\\Local\\Continuum\\anaconda3\\envs\\tf-gpu\\lib\\site-packages\\sklearn\\preprocessing\\_encoders.py:415: FutureWarning: The handling of integer data will change in version 0.22. Currently, the categories are determined based on the range [0, max(values)], while in the future they will be determined based on the unique values.\n",
      "If you want the future behaviour and silence this warning, you can specify \"categories='auto'\".\n",
      "In case you used a LabelEncoder before this OneHotEncoder to convert the categories to integers, then you can now use the OneHotEncoder directly.\n",
      "  warnings.warn(msg, FutureWarning)\n",
      "C:\\Users\\011553\\AppData\\Local\\Continuum\\anaconda3\\envs\\tf-gpu\\lib\\site-packages\\sklearn\\preprocessing\\_encoders.py:415: FutureWarning: The handling of integer data will change in version 0.22. Currently, the categories are determined based on the range [0, max(values)], while in the future they will be determined based on the unique values.\n",
      "If you want the future behaviour and silence this warning, you can specify \"categories='auto'\".\n",
      "In case you used a LabelEncoder before this OneHotEncoder to convert the categories to integers, then you can now use the OneHotEncoder directly.\n",
      "  warnings.warn(msg, FutureWarning)\n"
     ]
    },
    {
     "data": {
      "application/vnd.jupyter.widget-view+json": {
       "model_id": "fbaafeaac9b6448d8fd8845ac61a6da3",
       "version_major": 2,
       "version_minor": 0
      },
      "text/plain": [
       "HBox(children=(IntProgress(value=0, max=65), HTML(value='')))"
      ]
     },
     "metadata": {},
     "output_type": "display_data"
    },
    {
     "name": "stderr",
     "output_type": "stream",
     "text": [
      "C:\\Users\\011553\\AppData\\Local\\Continuum\\anaconda3\\envs\\tf-gpu\\lib\\site-packages\\sklearn\\metrics\\classification.py:1437: UndefinedMetricWarning: Precision and F-score are ill-defined and being set to 0.0 in labels with no predicted samples.\n",
      "  'precision', 'predicted', average, warn_for)\n"
     ]
    },
    {
     "name": "stdout",
     "output_type": "stream",
     "text": [
      "\n",
      "(0.13846153846153847, 0.13846153846153847)\n",
      "              precision    recall  f1-score   support\n",
      "\n",
      "        down       0.64      0.67      0.65     15014\n",
      "          up       0.67      0.63      0.65     15681\n",
      "\n",
      "    accuracy                           0.65     30695\n",
      "   macro avg       0.65      0.65      0.65     30695\n",
      "weighted avg       0.65      0.65      0.65     30695\n",
      "\n"
     ]
    }
   ],
   "source": [
    "for i in range(15):\n",
    "    Optimization = Tuning(df_path=path, model='CNN_bagging', CNNparam=CNN_param, Modelparam=model_param, max_iter=15, cluster_num=0)\n",
    "    Optimization.load_optimal_model(i+1)\n",
    "    print(f'iteration: {i+1}')\n",
    "    print(Optimization.Overall_Evaluation())\n",
    "    print(Optimization.Evaluation()[2])"
   ]
  },
  {
   "cell_type": "code",
   "execution_count": null,
   "metadata": {},
   "outputs": [],
   "source": [
    "Optimi"
   ]
  }
 ],
 "metadata": {
  "kernelspec": {
   "display_name": "Python (tf-gpu)",
   "language": "python",
   "name": "tf-gpu"
  },
  "language_info": {
   "codemirror_mode": {
    "name": "ipython",
    "version": 3
   },
   "file_extension": ".py",
   "mimetype": "text/x-python",
   "name": "python",
   "nbconvert_exporter": "python",
   "pygments_lexer": "ipython3",
   "version": "3.6.9"
  }
 },
 "nbformat": 4,
 "nbformat_minor": 2
}
