{
 "cells": [
  {
   "cell_type": "code",
   "execution_count": 1,
   "metadata": {},
   "outputs": [
    {
     "name": "stderr",
     "output_type": "stream",
     "text": [
      "WARNING: Logging before flag parsing goes to stderr.\n",
      "W1003 14:47:13.825955  4696 deprecation_wrapper.py:119] From D:\\庫存健診開發\\code\\PredictModel\\Model_function.py:12: The name tf.keras.layers.CuDNNLSTM is deprecated. Please use tf.compat.v1.keras.layers.CuDNNLSTM instead.\n",
      "\n"
     ]
    }
   ],
   "source": [
    "import numpy as np # linear algebra\n",
    "import pandas as pd\n",
    "# from tqdm import tqdm\n",
    "from tqdm import tqdm_notebook as tqdm\n",
    "# tqdm.pandas()\n",
    "\n",
    "from sklearn.model_selection import train_test_split\n",
    "from sklearn import metrics\n",
    "from sklearn.feature_extraction.text import CountVectorizer\n",
    "from sklearn.preprocessing import MinMaxScaler\n",
    "\n",
    "import tensorflow as tf\n",
    "from tensorflow.keras.preprocessing.sequence import pad_sequences\n",
    "from tensorflow.keras.preprocessing.text import Tokenizer\n",
    "from tensorflow.keras.layers import Dense, Input, LSTM, Embedding, Dropout, Activation, Flatten, TimeDistributed, LeakyReLU, Conv1D, BatchNormalization\n",
    "from tensorflow.keras.models import Model, Sequential\n",
    "from tensorflow.compat.v1.keras.layers import CuDNNLSTM\n",
    "from tensorflow.keras import layers, optimizers\n",
    "from tensorflow.keras.callbacks import EarlyStopping\n",
    "\n",
    "import pickle\n",
    "import Model_function as func"
   ]
  },
  {
   "cell_type": "code",
   "execution_count": null,
   "metadata": {},
   "outputs": [],
   "source": [
    "cluster = 7\n",
    "with open(f'D:\\\\庫存健診開發\\\\data\\\\Training\\\\processed\\\\Cluster_{cluster}_regression_standardize', 'rb') as fp:\n",
    "    load_list = pickle.load(fp)"
   ]
  },
  {
   "cell_type": "code",
   "execution_count": null,
   "metadata": {},
   "outputs": [],
   "source": [
    "X_train, Y_train, X_test, Y_test = load_list[0], load_list[1], load_list[2], load_list[3]"
   ]
  },
  {
   "cell_type": "code",
   "execution_count": null,
   "metadata": {
    "scrolled": true
   },
   "outputs": [],
   "source": [
    "(len(X_train) == len(Y_train)) and (len(X_test) == len(Y_test))"
   ]
  },
  {
   "cell_type": "code",
   "execution_count": null,
   "metadata": {},
   "outputs": [],
   "source": [
    "Y_train"
   ]
  },
  {
   "cell_type": "code",
   "execution_count": null,
   "metadata": {},
   "outputs": [],
   "source": [
    "y_train, y_val, y_test = func.get_dependent_variable\n",
    "y_test"
   ]
  },
  {
   "cell_type": "code",
   "execution_count": null,
   "metadata": {},
   "outputs": [],
   "source": [
    "y_train"
   ]
  },
  {
   "cell_type": "code",
   "execution_count": null,
   "metadata": {},
   "outputs": [],
   "source": [
    "model = Sequential()\n",
    "model.add(Conv1D(\n",
    "            filters=100, \n",
    "            kernel_size=3, \n",
    "            activation='relu', \n",
    "            input_shape=(20, 43)))\n",
    "model.add(BatchNormalization())\n",
    "model.add(LSTM(\n",
    "            name='lstm_0',\n",
    "            units=100,\n",
    "            return_sequences=True,\n",
    "            stateful=False,\n",
    "            activation=None))\n",
    "model.add(LeakyReLU(alpha=0.3))\n",
    "model.add(LSTM(\n",
    "            name='lstm_1',\n",
    "            units=100,\n",
    "            return_sequences=True,\n",
    "            stateful=False,\n",
    "            activation=None))\n",
    "model.add(LeakyReLU(alpha=0.3))\n",
    "model.add(LSTM(\n",
    "            name='lstm_2',\n",
    "            units=100,\n",
    "            return_sequences=True,\n",
    "            stateful=False,\n",
    "            activation=None))\n",
    "model.add(LeakyReLU(alpha=0.3))\n",
    "model.add(LSTM(\n",
    "            name='lstm_3',\n",
    "            units=100,\n",
    "            return_sequences=False,\n",
    "            stateful=False,\n",
    "            activation=None))\n",
    "model.add(LeakyReLU(alpha=0.3))\n",
    "model.add(Dense(512, activation=None))\n",
    "model.add(LeakyReLU(alpha=0.3))\n",
    "model.add(BatchNormalization())\n",
    "model.add(Dense(3, activation='softmax'))\n",
    "model.compile(loss='categorical_crossentropy',\n",
    "                optimizer=optimizers.Nadam(lr=0.001),\n",
    "                metrics=['accuracy'])\n",
    "    \n",
    "early_stopping = EarlyStopping(monitor='val_loss', patience=5, verbose=1)\n",
    "model.fit(np.array(X_train), Y_train, validation_split=0.05, batch_size = 256, epochs=20, verbose=2, callbacks=[early_stopping])\n",
    "    "
   ]
  },
  {
   "cell_type": "code",
   "execution_count": null,
   "metadata": {},
   "outputs": [],
   "source": [
    "model = Sequential()\n",
    "#model.add(Conv1D(\n",
    "            #filters=100, \n",
    "           #kernel_size=3, \n",
    "            #activation='relu', \n",
    "            #input_shape=(20, 43)))\n",
    "#model.add(BatchNormalization())\n",
    "model.add(LSTM(\n",
    "            name='lstm_0',\n",
    "            units=100,\n",
    "            return_sequences=True,\n",
    "            stateful=False,\n",
    "            activation=None))\n",
    "model.add(LeakyReLU(alpha=0.3))\n",
    "model.add(LSTM(\n",
    "            name='lstm_1',\n",
    "            units=100,\n",
    "            return_sequences=True,\n",
    "            stateful=False,\n",
    "            activation=None))\n",
    "model.add(LeakyReLU(alpha=0.3))\n",
    "model.add(LSTM(\n",
    "            name='lstm_2',\n",
    "            units=100,\n",
    "            return_sequences=True,\n",
    "            stateful=False,\n",
    "            activation=None))\n",
    "model.add(LeakyReLU(alpha=0.3))\n",
    "model.add(LSTM(\n",
    "            name='lstm_3',\n",
    "            units=100,\n",
    "            return_sequences=False,\n",
    "            stateful=False,\n",
    "            activation=None))\n",
    "model.add(LeakyReLU(alpha=0.3))\n",
    "model.add(Dense(512, activation='relu'))\n",
    "model.add(Dense(1, activation='linear'))\n",
    "model.compile(loss='mean_squared_error',\n",
    "                optimizer=optimizers.Nadam(lr=0.001),\n",
    "                metrics=['mape'])\n",
    "    \n",
    "early_stopping = EarlyStopping(monitor='val_loss', patience=10, verbose=1)\n",
    "model.fit(np.array(X_train), np.array(y_train), validation_split=0.05, batch_size = 256, epochs=20, verbose=2, callbacks=[early_stopping])\n",
    "    "
   ]
  },
  {
   "cell_type": "code",
   "execution_count": null,
   "metadata": {},
   "outputs": [],
   "source": [
    "score = model.evaluate(np.array(X_test), np.array(y_test), batch_size=4096)"
   ]
  },
  {
   "cell_type": "code",
   "execution_count": null,
   "metadata": {
    "scrolled": true
   },
   "outputs": [],
   "source": [
    "score"
   ]
  },
  {
   "cell_type": "code",
   "execution_count": null,
   "metadata": {},
   "outputs": [],
   "source": [
    "first_layer_weights = model.layers[0].get_weights()[0]\n",
    "second_layer_weights = model.layers[1].get_weights()[0]\n",
    "third_layer_weights = model.layers[2].get_weights()[0]\n",
    "forth_layer_weights = model.layers[3].get_weights()[0]\n",
    "fifth_layer_weights = model.layers[4].get_weights()[0]\n",
    "sixth_layer_weights = model.layers[5].get_weights()[0]"
   ]
  },
  {
   "cell_type": "code",
   "execution_count": null,
   "metadata": {},
   "outputs": [],
   "source": [
    "first_layer_weights.shape"
   ]
  },
  {
   "cell_type": "code",
   "execution_count": null,
   "metadata": {},
   "outputs": [],
   "source": [
    "prediction = model.predict(np.array(X_test),batch_size=4096)"
   ]
  },
  {
   "cell_type": "code",
   "execution_count": null,
   "metadata": {
    "scrolled": true
   },
   "outputs": [],
   "source": [
    "pred = transform_back(prediction, 7, scaler='minmax_zero')\n",
    "pred"
   ]
  },
  {
   "cell_type": "code",
   "execution_count": null,
   "metadata": {},
   "outputs": [],
   "source": [
    "d = get_prediction_label(pred, Y_test, 7)"
   ]
  },
  {
   "cell_type": "code",
   "execution_count": null,
   "metadata": {},
   "outputs": [],
   "source": [
    "df_list = [group[1] for group in d.groupby(d['StockNo'])]\n",
    "s = []\n",
    "for df in df_list:\n",
    "    s.append([Regression_Evaluation(df), df['StockName'].iloc[0]])\n",
    "s"
   ]
  },
  {
   "cell_type": "code",
   "execution_count": null,
   "metadata": {},
   "outputs": [],
   "source": [
    "max(s)"
   ]
  },
  {
   "cell_type": "code",
   "execution_count": null,
   "metadata": {},
   "outputs": [],
   "source": [
    "convmodel = Sequential()\n",
    "convmodel.add(Conv1D(filters=64, kernel_size=3, activation='relu', input_shape=(20, 43)))"
   ]
  },
  {
   "cell_type": "code",
   "execution_count": null,
   "metadata": {},
   "outputs": [],
   "source": [
    "x = Input(shape=(20, 43))\n",
    "y = Conv1D(100, 3, padding=\"causal\")(x)\n",
    "print(y.shape)"
   ]
  },
  {
   "cell_type": "code",
   "execution_count": null,
   "metadata": {},
   "outputs": [],
   "source": [
    "pred.tolist()"
   ]
  },
  {
   "cell_type": "code",
   "execution_count": null,
   "metadata": {},
   "outputs": [],
   "source": [
    "%matplotlib inline\n",
    "import matplotlib.pyplot as plt\n",
    "df_list = [group[1] for group in d.groupby(d['StockNo'])]\n",
    "for df in df_list:\n",
    "    plt.figure(figsize=(30,10))\n",
    "    plt.plot(df['prediction'])\n",
    "    plt.plot(df['close'], linewidth=0.5)\n",
    "    plt.title(df['StockNo'].iloc[0])"
   ]
  },
  {
   "cell_type": "code",
   "execution_count": null,
   "metadata": {},
   "outputs": [],
   "source": [
    "d = d.reset_index(drop=True)"
   ]
  },
  {
   "cell_type": "code",
   "execution_count": null,
   "metadata": {},
   "outputs": [],
   "source": []
  }
 ],
 "metadata": {
  "kernelspec": {
   "display_name": "Python (tf-gpu)",
   "language": "python",
   "name": "tf-gpu"
  },
  "language_info": {
   "codemirror_mode": {
    "name": "ipython",
    "version": 3
   },
   "file_extension": ".py",
   "mimetype": "text/x-python",
   "name": "python",
   "nbconvert_exporter": "python",
   "pygments_lexer": "ipython3",
   "version": "3.6.9"
  }
 },
 "nbformat": 4,
 "nbformat_minor": 2
}
