{
 "cells": [
  {
   "cell_type": "code",
   "execution_count": 1,
   "metadata": {},
   "outputs": [],
   "source": [
    "import numpy as np \n",
    "import pandas as pd\n",
    "from tqdm import tqdm_notebook as tqdm\n",
    "import random\n",
    "import os\n",
    "import pickle\n",
    "from sklearn import metrics\n",
    "from datetime import date\n",
    "from sklearn.metrics import classification_report\n",
    "import Evaluation_function_for_batch as func\n",
    "import matplotlib.pyplot as plt\n",
    "%matplotlib inline\n",
    "import plotly.graph_objects as go\n",
    "import numpy as np\n",
    "from plotly.subplots import make_subplots"
   ]
  },
  {
   "cell_type": "code",
   "execution_count": 2,
   "metadata": {
    "scrolled": true
   },
   "outputs": [
    {
     "data": {
      "application/vnd.jupyter.widget-view+json": {
       "model_id": "212c2fcd2f8d4085bb17d76d320897b1",
       "version_major": 2,
       "version_minor": 0
      },
      "text/plain": [
       "HBox(children=(IntProgress(value=0, max=2), HTML(value='')))"
      ]
     },
     "metadata": {},
     "output_type": "display_data"
    },
    {
     "name": "stdout",
     "output_type": "stream",
     "text": [
      "\n"
     ]
    },
    {
     "data": {
      "text/html": [
       "<div>\n",
       "<style scoped>\n",
       "    .dataframe tbody tr th:only-of-type {\n",
       "        vertical-align: middle;\n",
       "    }\n",
       "\n",
       "    .dataframe tbody tr th {\n",
       "        vertical-align: top;\n",
       "    }\n",
       "\n",
       "    .dataframe thead th {\n",
       "        text-align: right;\n",
       "    }\n",
       "</style>\n",
       "<table border=\"1\" class=\"dataframe\">\n",
       "  <thead>\n",
       "    <tr style=\"text-align: right;\">\n",
       "      <th></th>\n",
       "      <th>ts</th>\n",
       "      <th>StockNo</th>\n",
       "      <th>total</th>\n",
       "      <th>Y</th>\n",
       "      <th>Y_0_score</th>\n",
       "      <th>Y_1_score</th>\n",
       "    </tr>\n",
       "  </thead>\n",
       "  <tbody>\n",
       "    <tr>\n",
       "      <td>0</td>\n",
       "      <td>2017-09-01</td>\n",
       "      <td>1109</td>\n",
       "      <td>411000.0</td>\n",
       "      <td>1.0</td>\n",
       "      <td>0.462982</td>\n",
       "      <td>0.537018</td>\n",
       "    </tr>\n",
       "    <tr>\n",
       "      <td>1</td>\n",
       "      <td>2017-09-04</td>\n",
       "      <td>1109</td>\n",
       "      <td>1068000.0</td>\n",
       "      <td>1.0</td>\n",
       "      <td>0.641480</td>\n",
       "      <td>0.358520</td>\n",
       "    </tr>\n",
       "    <tr>\n",
       "      <td>2</td>\n",
       "      <td>2017-09-05</td>\n",
       "      <td>1109</td>\n",
       "      <td>1187000.0</td>\n",
       "      <td>1.0</td>\n",
       "      <td>0.483319</td>\n",
       "      <td>0.516681</td>\n",
       "    </tr>\n",
       "    <tr>\n",
       "      <td>3</td>\n",
       "      <td>2017-09-06</td>\n",
       "      <td>1109</td>\n",
       "      <td>469000.0</td>\n",
       "      <td>1.0</td>\n",
       "      <td>0.653811</td>\n",
       "      <td>0.346189</td>\n",
       "    </tr>\n",
       "    <tr>\n",
       "      <td>4</td>\n",
       "      <td>2017-09-07</td>\n",
       "      <td>1109</td>\n",
       "      <td>1727000.0</td>\n",
       "      <td>1.0</td>\n",
       "      <td>0.280490</td>\n",
       "      <td>0.719510</td>\n",
       "    </tr>\n",
       "    <tr>\n",
       "      <td>...</td>\n",
       "      <td>...</td>\n",
       "      <td>...</td>\n",
       "      <td>...</td>\n",
       "      <td>...</td>\n",
       "      <td>...</td>\n",
       "      <td>...</td>\n",
       "    </tr>\n",
       "    <tr>\n",
       "      <td>453894</td>\n",
       "      <td>2019-09-09</td>\n",
       "      <td>9955</td>\n",
       "      <td>16507000.0</td>\n",
       "      <td>0.0</td>\n",
       "      <td>0.738698</td>\n",
       "      <td>0.261303</td>\n",
       "    </tr>\n",
       "    <tr>\n",
       "      <td>453895</td>\n",
       "      <td>2019-09-10</td>\n",
       "      <td>9955</td>\n",
       "      <td>25898000.0</td>\n",
       "      <td>0.0</td>\n",
       "      <td>0.871708</td>\n",
       "      <td>0.128292</td>\n",
       "    </tr>\n",
       "    <tr>\n",
       "      <td>453896</td>\n",
       "      <td>2019-09-11</td>\n",
       "      <td>9955</td>\n",
       "      <td>31263000.0</td>\n",
       "      <td>0.0</td>\n",
       "      <td>0.910328</td>\n",
       "      <td>0.089672</td>\n",
       "    </tr>\n",
       "    <tr>\n",
       "      <td>453897</td>\n",
       "      <td>2019-09-12</td>\n",
       "      <td>9955</td>\n",
       "      <td>15657000.0</td>\n",
       "      <td>0.0</td>\n",
       "      <td>0.725949</td>\n",
       "      <td>0.274051</td>\n",
       "    </tr>\n",
       "    <tr>\n",
       "      <td>453898</td>\n",
       "      <td>2019-09-16</td>\n",
       "      <td>9955</td>\n",
       "      <td>21847000.0</td>\n",
       "      <td>0.0</td>\n",
       "      <td>0.563667</td>\n",
       "      <td>0.436333</td>\n",
       "    </tr>\n",
       "  </tbody>\n",
       "</table>\n",
       "<p>453899 rows × 6 columns</p>\n",
       "</div>"
      ],
      "text/plain": [
       "               ts StockNo       total    Y  Y_0_score  Y_1_score\n",
       "0      2017-09-01    1109    411000.0  1.0   0.462982   0.537018\n",
       "1      2017-09-04    1109   1068000.0  1.0   0.641480   0.358520\n",
       "2      2017-09-05    1109   1187000.0  1.0   0.483319   0.516681\n",
       "3      2017-09-06    1109    469000.0  1.0   0.653811   0.346189\n",
       "4      2017-09-07    1109   1727000.0  1.0   0.280490   0.719510\n",
       "...           ...     ...         ...  ...        ...        ...\n",
       "453894 2019-09-09    9955  16507000.0  0.0   0.738698   0.261303\n",
       "453895 2019-09-10    9955  25898000.0  0.0   0.871708   0.128292\n",
       "453896 2019-09-11    9955  31263000.0  0.0   0.910328   0.089672\n",
       "453897 2019-09-12    9955  15657000.0  0.0   0.725949   0.274051\n",
       "453898 2019-09-16    9955  21847000.0  0.0   0.563667   0.436333\n",
       "\n",
       "[453899 rows x 6 columns]"
      ]
     },
     "execution_count": 2,
     "metadata": {},
     "output_type": "execute_result"
    }
   ],
   "source": [
    "file_path = 'D:\\\\庫存健診開發\\\\data\\\\prediction\\\\week_whole\\\\'\n",
    "origin_path = 'D:\\\\庫存健診開發\\\\data\\\\stock_processed.csv'\n",
    "\n",
    "prediction, df = func.read_prediction(file_path, origin_path)\n",
    "df"
   ]
  },
  {
   "cell_type": "code",
   "execution_count": 3,
   "metadata": {},
   "outputs": [
    {
     "data": {
      "text/plain": [
       "931"
      ]
     },
     "execution_count": 3,
     "metadata": {},
     "output_type": "execute_result"
    }
   ],
   "source": [
    "len(df['StockNo'].unique())"
   ]
  },
  {
   "cell_type": "code",
   "execution_count": 4,
   "metadata": {},
   "outputs": [],
   "source": [
    "data = func.read_original_data('D:\\\\庫存健診開發\\\\data\\\\stock_processed.csv')"
   ]
  },
  {
   "cell_type": "code",
   "execution_count": 5,
   "metadata": {},
   "outputs": [
    {
     "data": {
      "text/html": [
       "<div>\n",
       "<style scoped>\n",
       "    .dataframe tbody tr th:only-of-type {\n",
       "        vertical-align: middle;\n",
       "    }\n",
       "\n",
       "    .dataframe tbody tr th {\n",
       "        vertical-align: top;\n",
       "    }\n",
       "\n",
       "    .dataframe thead th {\n",
       "        text-align: right;\n",
       "    }\n",
       "</style>\n",
       "<table border=\"1\" class=\"dataframe\">\n",
       "  <thead>\n",
       "    <tr style=\"text-align: right;\">\n",
       "      <th></th>\n",
       "      <th>ts</th>\n",
       "      <th>StockNo</th>\n",
       "      <th>close</th>\n",
       "      <th>foreign_ratio</th>\n",
       "      <th>investment_ratio</th>\n",
       "      <th>corporation_ratio</th>\n",
       "      <th>index_close</th>\n",
       "      <th>VWAP_day5</th>\n",
       "      <th>VWAP_after</th>\n",
       "      <th>close_return</th>\n",
       "      <th>future_return</th>\n",
       "      <th>total</th>\n",
       "      <th>Y</th>\n",
       "      <th>Y_0_score</th>\n",
       "      <th>Y_1_score</th>\n",
       "      <th>verify</th>\n",
       "    </tr>\n",
       "  </thead>\n",
       "  <tbody>\n",
       "  </tbody>\n",
       "</table>\n",
       "</div>"
      ],
      "text/plain": [
       "Empty DataFrame\n",
       "Columns: [ts, StockNo, close, foreign_ratio, investment_ratio, corporation_ratio, index_close, VWAP_day5, VWAP_after, close_return, future_return, total, Y, Y_0_score, Y_1_score, verify]\n",
       "Index: []"
      ]
     },
     "execution_count": 5,
     "metadata": {},
     "output_type": "execute_result"
    }
   ],
   "source": [
    "d = pd.merge(data, df, on=['ts', 'StockNo'], how='inner')\n",
    "d['verify'] = d.apply(func.verify, axis=1)\n",
    "d[~d.verify]"
   ]
  },
  {
   "cell_type": "code",
   "execution_count": 16,
   "metadata": {},
   "outputs": [],
   "source": [
    "df_list = [group[1] for group in df.groupby(df['StockNo'])]\n",
    "output_list = []\n",
    "for d in df_list:\n",
    "    d['total_mean'] = d[d.ts.dt.year == 2019]['total'].mean()\n",
    "    output_list.append(d)\n",
    "    \n",
    "df = pd.concat(output_list, axis=0)"
   ]
  },
  {
   "cell_type": "code",
   "execution_count": 20,
   "metadata": {},
   "outputs": [
    {
     "data": {
      "text/plain": [
       "8233366.8639053255"
      ]
     },
     "execution_count": 20,
     "metadata": {},
     "output_type": "execute_result"
    }
   ],
   "source": [
    "pd.Series(df.total_mean.unique()).quantile(0.4)"
   ]
  },
  {
   "cell_type": "code",
   "execution_count": 17,
   "metadata": {},
   "outputs": [],
   "source": [
    "subdf = df[df.total_mean > pd.Series(df.total_mean.unique()).quantile(0.4)]"
   ]
  },
  {
   "cell_type": "code",
   "execution_count": 18,
   "metadata": {},
   "outputs": [
    {
     "data": {
      "text/plain": [
       "558"
      ]
     },
     "execution_count": 18,
     "metadata": {},
     "output_type": "execute_result"
    }
   ],
   "source": [
    "len(subdf['StockNo'].unique())"
   ]
  },
  {
   "cell_type": "code",
   "execution_count": 19,
   "metadata": {},
   "outputs": [],
   "source": [
    "test_year = [2017, 2018, 2019]\n",
    "threshold = [0.5, 0.55, 0.6, 0.65]"
   ]
  },
  {
   "cell_type": "code",
   "execution_count": 20,
   "metadata": {},
   "outputs": [
    {
     "name": "stdout",
     "output_type": "stream",
     "text": [
      "The threshold is 0.5\n",
      "Accuracy: 0.7003928222341073 \n",
      " up_support/ratio: 121124/0.44676244398133635 \n",
      " down_support/ratio: 149991/0.5532375560186636\n",
      "              precision    recall  f1-score   support\n",
      "\n",
      "        down       0.68      0.76      0.71    134095\n",
      "          up       0.73      0.65      0.69    137020\n",
      "\n",
      "    accuracy                           0.70    271115\n",
      "   macro avg       0.70      0.70      0.70    271115\n",
      "weighted avg       0.70      0.70      0.70    271115\n",
      "\n",
      "The threshold is 0.55\n",
      "Accuracy: 0.7254887068940056 \n",
      " up_support/ratio: 104204/0.38435350312597977 \n",
      " down_support/ratio: 132799/0.4898253508658687\n",
      "              precision    recall  f1-score   support\n",
      "\n",
      "        down       0.70      0.79      0.74    118773\n",
      "          up       0.76      0.67      0.71    118230\n",
      "\n",
      "    accuracy                           0.73    237003\n",
      "   macro avg       0.73      0.73      0.72    237003\n",
      "weighted avg       0.73      0.73      0.72    237003\n",
      "\n",
      "The threshold is 0.6\n",
      "Accuracy: 0.7511406956762202 \n",
      " up_support/ratio: 87246/0.3218044003467163 \n",
      " down_support/ratio: 115262/0.42514062298286703\n",
      "              precision    recall  f1-score   support\n",
      "\n",
      "        down       0.73      0.81      0.77    103126\n",
      "          up       0.78      0.69      0.73     99382\n",
      "\n",
      "    accuracy                           0.75    202508\n",
      "   macro avg       0.75      0.75      0.75    202508\n",
      "weighted avg       0.75      0.75      0.75    202508\n",
      "\n",
      "The threshold is 0.65\n",
      "Accuracy: 0.7761490831150274 \n",
      " up_support/ratio: 70280/0.25922578979399885 \n",
      " down_support/ratio: 97680/0.36028991387418624\n",
      "              precision    recall  f1-score   support\n",
      "\n",
      "        down       0.75      0.84      0.80     87348\n",
      "          up       0.81      0.70      0.75     80612\n",
      "\n",
      "    accuracy                           0.78    167960\n",
      "   macro avg       0.78      0.77      0.77    167960\n",
      "weighted avg       0.78      0.78      0.77    167960\n",
      "\n"
     ]
    }
   ],
   "source": [
    "# q = df['Y_1_score'].quantile(np.linspace(.1, 1, 9, 0))\n",
    "for t in threshold:\n",
    "    r = func.Evaluation(subdf, threshold=t)\n",
    "    print(f'The threshold is {t}')\n",
    "    print(f'Accuracy: {r[0]} \\n up_support/ratio: {r[2]}/{r[4]} \\n down_support/ratio: {r[3]}/{r[5]}')\n",
    "    print(r[1])"
   ]
  },
  {
   "cell_type": "code",
   "execution_count": 9,
   "metadata": {},
   "outputs": [
    {
     "name": "stdout",
     "output_type": "stream",
     "text": [
      "The threshold is 0.5, year 2017\n",
      "Accuracy: 0.678043844856661 \n",
      " up_support/ratio: 30995/0.4181450252951096 \n",
      " down_support/ratio: 43130/0.5818549747048903\n",
      "              precision    recall  f1-score   support\n",
      "\n",
      "        down       0.66      0.76      0.70     37555\n",
      "          up       0.70      0.60      0.65     36570\n",
      "\n",
      "    accuracy                           0.68     74125\n",
      "   macro avg       0.68      0.68      0.68     74125\n",
      "weighted avg       0.68      0.68      0.68     74125\n",
      "\n",
      "The threshold is 0.55, year 2017\n",
      "Accuracy: 0.7044684422206036 \n",
      " up_support/ratio: 25623/0.345672849915683 \n",
      " down_support/ratio: 37531/0.5063204047217538\n",
      "              precision    recall  f1-score   support\n",
      "\n",
      "        down       0.68      0.79      0.73     32537\n",
      "          up       0.73      0.61      0.67     30617\n",
      "\n",
      "    accuracy                           0.70     63154\n",
      "   macro avg       0.71      0.70      0.70     63154\n",
      "weighted avg       0.71      0.70      0.70     63154\n",
      "\n",
      "The threshold is 0.6, year 2017\n",
      "Accuracy: 0.7322589278886594 \n",
      " up_support/ratio: 20546/0.2771804384485666 \n",
      " down_support/ratio: 31762/0.42849241146711636\n",
      "              precision    recall  f1-score   support\n",
      "\n",
      "        down       0.71      0.82      0.76     27597\n",
      "          up       0.76      0.63      0.69     24711\n",
      "\n",
      "    accuracy                           0.73     52308\n",
      "   macro avg       0.74      0.73      0.73     52308\n",
      "weighted avg       0.74      0.73      0.73     52308\n",
      "\n",
      "The threshold is 0.65, year 2017\n",
      "Accuracy: 0.7607331097268807 \n",
      " up_support/ratio: 15735/0.21227655986509275 \n",
      " down_support/ratio: 26005/0.35082630691399663\n",
      "              precision    recall  f1-score   support\n",
      "\n",
      "        down       0.74      0.85      0.79     22592\n",
      "          up       0.79      0.65      0.71     19148\n",
      "\n",
      "    accuracy                           0.76     41740\n",
      "   macro avg       0.77      0.75      0.75     41740\n",
      "weighted avg       0.76      0.76      0.76     41740\n",
      "\n",
      "The threshold is 0.5, year 2018\n",
      "Accuracy: 0.7058203904166387 \n",
      " up_support/ratio: 92553/0.41485914072480334 \n",
      " down_support/ratio: 130542/0.5851408592751967\n",
      "              precision    recall  f1-score   support\n",
      "\n",
      "        down       0.72      0.77      0.74    121910\n",
      "          up       0.69      0.63      0.66    101185\n",
      "\n",
      "    accuracy                           0.71    223095\n",
      "   macro avg       0.70      0.70      0.70    223095\n",
      "weighted avg       0.70      0.71      0.70    223095\n",
      "\n",
      "The threshold is 0.55, year 2018\n",
      "Accuracy: 0.7320972063941849 \n",
      " up_support/ratio: 78718/0.3528452004751339 \n",
      " down_support/ratio: 116084/0.5203343866962504\n",
      "              precision    recall  f1-score   support\n",
      "\n",
      "        down       0.74      0.80      0.77    107776\n",
      "          up       0.72      0.65      0.69     87026\n",
      "\n",
      "    accuracy                           0.73    194802\n",
      "   macro avg       0.73      0.72      0.73    194802\n",
      "weighted avg       0.73      0.73      0.73    194802\n",
      "\n",
      "The threshold is 0.6, year 2018\n",
      "Accuracy: 0.7576311658316242 \n",
      " up_support/ratio: 65097/0.29179049283937336 \n",
      " down_support/ratio: 101162/0.453448082655371\n",
      "              precision    recall  f1-score   support\n",
      "\n",
      "        down       0.76      0.83      0.79     93388\n",
      "          up       0.75      0.67      0.71     72871\n",
      "\n",
      "    accuracy                           0.76    166259\n",
      "   macro avg       0.76      0.75      0.75    166259\n",
      "weighted avg       0.76      0.76      0.76    166259\n",
      "\n",
      "The threshold is 0.65, year 2018\n",
      "Accuracy: 0.7838310142204941 \n",
      " up_support/ratio: 51572/0.23116609516125416 \n",
      " down_support/ratio: 85765/0.38443264080324524\n",
      "              precision    recall  f1-score   support\n",
      "\n",
      "        down       0.79      0.86      0.82     78689\n",
      "          up       0.78      0.69      0.73     58648\n",
      "\n",
      "    accuracy                           0.78    137337\n",
      "   macro avg       0.78      0.77      0.78    137337\n",
      "weighted avg       0.78      0.78      0.78    137337\n",
      "\n",
      "The threshold is 0.5, year 2019\n",
      "Accuracy: 0.6879415875771482 \n",
      " up_support/ratio: 72873/0.4651101934528558 \n",
      " down_support/ratio: 83806/0.5348898065471441\n",
      "              precision    recall  f1-score   support\n",
      "\n",
      "        down       0.65      0.74      0.69     73373\n",
      "          up       0.74      0.64      0.69     83306\n",
      "\n",
      "    accuracy                           0.69    156679\n",
      "   macro avg       0.69      0.69      0.69    156679\n",
      "weighted avg       0.69      0.69      0.69    156679\n",
      "\n",
      "The threshold is 0.55, year 2019\n",
      "Accuracy: 0.7151016269255431 \n",
      " up_support/ratio: 61652/0.3934924271919019 \n",
      " down_support/ratio: 72466/0.46251252560968603\n",
      "              precision    recall  f1-score   support\n",
      "\n",
      "        down       0.68      0.77      0.72     63576\n",
      "          up       0.76      0.67      0.71     70542\n",
      "\n",
      "    accuracy                           0.72    134118\n",
      "   macro avg       0.72      0.72      0.72    134118\n",
      "weighted avg       0.72      0.72      0.71    134118\n",
      "\n",
      "The threshold is 0.6, year 2019\n",
      "Accuracy: 0.7421371816577536 \n",
      " up_support/ratio: 50551/0.3226405580837253 \n",
      " down_support/ratio: 61082/0.3898544157162096\n",
      "              precision    recall  f1-score   support\n",
      "\n",
      "        down       0.70      0.80      0.75     53742\n",
      "          up       0.79      0.69      0.73     57891\n",
      "\n",
      "    accuracy                           0.74    111633\n",
      "   macro avg       0.75      0.74      0.74    111633\n",
      "weighted avg       0.75      0.74      0.74    111633\n",
      "\n",
      "The threshold is 0.65, year 2019\n",
      "Accuracy: 0.7688499064645854 \n",
      " up_support/ratio: 39589/0.2526758531775158 \n",
      " down_support/ratio: 49682/0.3170941862023628\n",
      "              precision    recall  f1-score   support\n",
      "\n",
      "        down       0.73      0.83      0.78     43901\n",
      "          up       0.81      0.71      0.76     45370\n",
      "\n",
      "    accuracy                           0.77     89271\n",
      "   macro avg       0.77      0.77      0.77     89271\n",
      "weighted avg       0.77      0.77      0.77     89271\n",
      "\n"
     ]
    }
   ],
   "source": [
    "for y in test_year:\n",
    "    for t in threshold:\n",
    "        r = func.Separate_Evaluation(df, prediction=True, threshold=t, year=y)\n",
    "        print(f'The threshold is {t}, year {y}')\n",
    "        print(f'Accuracy: {r[0]} \\n up_support/ratio: {r[2]}/{r[4]} \\n down_support/ratio: {r[3]}/{r[5]}')\n",
    "        print(r[1])"
   ]
  },
  {
   "cell_type": "code",
   "execution_count": 10,
   "metadata": {},
   "outputs": [
    {
     "data": {
      "text/plain": [
       "0.57"
      ]
     },
     "execution_count": 10,
     "metadata": {},
     "output_type": "execute_result"
    }
   ],
   "source": [
    "d_stock = func.Stock_evaluation(data, df, threshold=0.5)\n",
    "d_stock['accuracy'].min()"
   ]
  },
  {
   "cell_type": "code",
   "execution_count": 13,
   "metadata": {},
   "outputs": [
    {
     "name": "stdout",
     "output_type": "stream",
     "text": [
      "accuracy min: 0.57\n",
      "accuracy max: 0.7988165680473372\n",
      "accuracy mean: 0.6952726283650816\n",
      "accuracy std: 0.028899197375027722\n",
      "up_precision min: 0.45121951219512196\n",
      "up_precision max: 0.8888888888888888\n",
      "up_precision mean: 0.7064092432416633\n",
      "up_precision std: 0.05875862642452793\n",
      "down_precision min: 0.48717948717948717\n",
      "down_precision max: 0.8485804416403786\n",
      "down_precision mean: 0.6810986031203302\n",
      "down_precision std: 0.05185431682947345\n"
     ]
    }
   ],
   "source": [
    "for col in ['accuracy', 'up_precision', 'down_precision']:\n",
    "    print(f'{col} min: {d_stock[col].min()}')\n",
    "    print(f'{col} max: {d_stock[col].max()}')\n",
    "    print(f'{col} mean: {d_stock[col].mean()}')\n",
    "    print(f'{col} std: {d_stock[col].std()}')"
   ]
  },
  {
   "cell_type": "code",
   "execution_count": 20,
   "metadata": {},
   "outputs": [
    {
     "ename": "TypeError",
     "evalue": "daily_evaluation() missing 1 required positional argument: 'prediction'",
     "output_type": "error",
     "traceback": [
      "\u001b[1;31m---------------------------------------------------------------------------\u001b[0m",
      "\u001b[1;31mTypeError\u001b[0m                                 Traceback (most recent call last)",
      "\u001b[1;32m<ipython-input-20-7ff52e79478b>\u001b[0m in \u001b[0;36m<module>\u001b[1;34m\u001b[0m\n\u001b[0;32m      2\u001b[0m \u001b[0mq\u001b[0m \u001b[1;33m=\u001b[0m \u001b[0mdf\u001b[0m\u001b[1;33m[\u001b[0m\u001b[1;34m'Y_1_score'\u001b[0m\u001b[1;33m]\u001b[0m\u001b[1;33m.\u001b[0m\u001b[0mquantile\u001b[0m\u001b[1;33m(\u001b[0m\u001b[0mnp\u001b[0m\u001b[1;33m.\u001b[0m\u001b[0mlinspace\u001b[0m\u001b[1;33m(\u001b[0m\u001b[1;36m.1\u001b[0m\u001b[1;33m,\u001b[0m \u001b[1;36m1\u001b[0m\u001b[1;33m,\u001b[0m \u001b[1;36m9\u001b[0m\u001b[1;33m,\u001b[0m \u001b[1;36m0\u001b[0m\u001b[1;33m)\u001b[0m\u001b[1;33m)\u001b[0m\u001b[1;33m\u001b[0m\u001b[1;33m\u001b[0m\u001b[0m\n\u001b[0;32m      3\u001b[0m \u001b[1;32mfor\u001b[0m \u001b[0mt\u001b[0m \u001b[1;32min\u001b[0m \u001b[0mq\u001b[0m\u001b[1;33m.\u001b[0m\u001b[0miloc\u001b[0m\u001b[1;33m[\u001b[0m\u001b[1;36m5\u001b[0m\u001b[1;33m:\u001b[0m\u001b[1;33m]\u001b[0m\u001b[1;33m:\u001b[0m\u001b[1;33m\u001b[0m\u001b[1;33m\u001b[0m\u001b[0m\n\u001b[1;32m----> 4\u001b[1;33m     \u001b[0md\u001b[0m \u001b[1;33m=\u001b[0m \u001b[0mfunc\u001b[0m\u001b[1;33m.\u001b[0m\u001b[0mdaily_evaluation\u001b[0m\u001b[1;33m(\u001b[0m\u001b[0mdf\u001b[0m\u001b[1;33m,\u001b[0m \u001b[0mthreshold\u001b[0m\u001b[1;33m=\u001b[0m\u001b[0mt\u001b[0m\u001b[1;33m)\u001b[0m\u001b[1;33m\u001b[0m\u001b[1;33m\u001b[0m\u001b[0m\n\u001b[0m\u001b[0;32m      5\u001b[0m     \u001b[0mdisplay\u001b[0m\u001b[1;33m(\u001b[0m\u001b[0md\u001b[0m\u001b[1;33m)\u001b[0m\u001b[1;33m\u001b[0m\u001b[1;33m\u001b[0m\u001b[0m\n\u001b[0;32m      6\u001b[0m     \u001b[0mdf_list1\u001b[0m\u001b[1;33m.\u001b[0m\u001b[0mappend\u001b[0m\u001b[1;33m(\u001b[0m\u001b[0md\u001b[0m\u001b[1;33m)\u001b[0m\u001b[1;33m\u001b[0m\u001b[1;33m\u001b[0m\u001b[0m\n",
      "\u001b[1;31mTypeError\u001b[0m: daily_evaluation() missing 1 required positional argument: 'prediction'"
     ]
    }
   ],
   "source": [
    "df_list1 = []\n",
    "q = df['Y_1_score'].quantile(np.linspace(.1, 1, 9, 0))\n",
    "for t in q.iloc[5:]:\n",
    "    d = func.daily_evaluation(df, threshold=t)\n",
    "    display(d)\n",
    "    df_list1.append(d)"
   ]
  },
  {
   "cell_type": "code",
   "execution_count": 14,
   "metadata": {},
   "outputs": [
    {
     "data": {
      "text/html": [
       "<div>\n",
       "<style scoped>\n",
       "    .dataframe tbody tr th:only-of-type {\n",
       "        vertical-align: middle;\n",
       "    }\n",
       "\n",
       "    .dataframe tbody tr th {\n",
       "        vertical-align: top;\n",
       "    }\n",
       "\n",
       "    .dataframe thead th {\n",
       "        text-align: right;\n",
       "    }\n",
       "</style>\n",
       "<table border=\"1\" class=\"dataframe\">\n",
       "  <thead>\n",
       "    <tr style=\"text-align: right;\">\n",
       "      <th></th>\n",
       "      <th>accuracy</th>\n",
       "      <th>up_return</th>\n",
       "      <th>up_ratio</th>\n",
       "      <th>up_portfolio</th>\n",
       "      <th>down_return</th>\n",
       "      <th>down_ratio</th>\n",
       "      <th>down_portfolio</th>\n",
       "      <th>up_precision</th>\n",
       "      <th>down_precision</th>\n",
       "      <th>up_support_mean</th>\n",
       "      <th>down_support_mean</th>\n",
       "      <th>index</th>\n",
       "    </tr>\n",
       "  </thead>\n",
       "  <tbody>\n",
       "    <tr>\n",
       "      <td>2017-09-01</td>\n",
       "      <td>0.683636</td>\n",
       "      <td>0.784219</td>\n",
       "      <td>0.0185459</td>\n",
       "      <td>0.0136727</td>\n",
       "      <td>0.70772</td>\n",
       "      <td>0.00875083</td>\n",
       "      <td>0.0140546</td>\n",
       "      <td>0.693744</td>\n",
       "      <td>0.677875</td>\n",
       "      <td>318.955</td>\n",
       "      <td>559.636</td>\n",
       "      <td>10383.9</td>\n",
       "    </tr>\n",
       "    <tr>\n",
       "      <td>2017-10-01</td>\n",
       "      <td>0.681278</td>\n",
       "      <td>1.04583</td>\n",
       "      <td>0.016348</td>\n",
       "      <td>0.018635</td>\n",
       "      <td>0.391129</td>\n",
       "      <td>0.00537847</td>\n",
       "      <td>0.00768909</td>\n",
       "      <td>0.705663</td>\n",
       "      <td>0.657116</td>\n",
       "      <td>436.842</td>\n",
       "      <td>440.842</td>\n",
       "      <td>10793.8</td>\n",
       "    </tr>\n",
       "    <tr>\n",
       "      <td>2017-11-01</td>\n",
       "      <td>0.675935</td>\n",
       "      <td>0.823888</td>\n",
       "      <td>0.0169667</td>\n",
       "      <td>0.0152966</td>\n",
       "      <td>1.01044</td>\n",
       "      <td>0.0109793</td>\n",
       "      <td>0.0188989</td>\n",
       "      <td>0.65977</td>\n",
       "      <td>0.68705</td>\n",
       "      <td>360.318</td>\n",
       "      <td>524.045</td>\n",
       "      <td>10560.4</td>\n",
       "    </tr>\n",
       "    <tr>\n",
       "      <td>2017-12-01</td>\n",
       "      <td>0.67156</td>\n",
       "      <td>0.883694</td>\n",
       "      <td>0.0190489</td>\n",
       "      <td>0.0177402</td>\n",
       "      <td>0.873937</td>\n",
       "      <td>0.00625206</td>\n",
       "      <td>0.0163882</td>\n",
       "      <td>0.760547</td>\n",
       "      <td>0.608357</td>\n",
       "      <td>369.095</td>\n",
       "      <td>519.667</td>\n",
       "      <td>10642.9</td>\n",
       "    </tr>\n",
       "    <tr>\n",
       "      <td>2018-01-01</td>\n",
       "      <td>0.723461</td>\n",
       "      <td>0.774118</td>\n",
       "      <td>0.016324</td>\n",
       "      <td>0.0140505</td>\n",
       "      <td>0.787171</td>\n",
       "      <td>0.0147728</td>\n",
       "      <td>0.015618</td>\n",
       "      <td>0.68157</td>\n",
       "      <td>0.762893</td>\n",
       "      <td>433.091</td>\n",
       "      <td>460.091</td>\n",
       "      <td>11103.8</td>\n",
       "    </tr>\n",
       "    <tr>\n",
       "      <td>2018-02-01</td>\n",
       "      <td>0.746845</td>\n",
       "      <td>1.34485</td>\n",
       "      <td>0.0290012</td>\n",
       "      <td>0.0250059</td>\n",
       "      <td>1.28535</td>\n",
       "      <td>0.0228581</td>\n",
       "      <td>0.0261025</td>\n",
       "      <td>0.795066</td>\n",
       "      <td>0.710252</td>\n",
       "      <td>386.615</td>\n",
       "      <td>509.462</td>\n",
       "      <td>10815.5</td>\n",
       "    </tr>\n",
       "    <tr>\n",
       "      <td>2018-03-01</td>\n",
       "      <td>0.681109</td>\n",
       "      <td>1.21331</td>\n",
       "      <td>0.0207729</td>\n",
       "      <td>0.0225932</td>\n",
       "      <td>0.633213</td>\n",
       "      <td>0.00761383</td>\n",
       "      <td>0.0122143</td>\n",
       "      <td>0.713819</td>\n",
       "      <td>0.655071</td>\n",
       "      <td>398.957</td>\n",
       "      <td>501.174</td>\n",
       "      <td>10919.5</td>\n",
       "    </tr>\n",
       "    <tr>\n",
       "      <td>2018-04-01</td>\n",
       "      <td>0.709968</td>\n",
       "      <td>1.10235</td>\n",
       "      <td>0.0125449</td>\n",
       "      <td>0.0195737</td>\n",
       "      <td>1.06829</td>\n",
       "      <td>0.0186684</td>\n",
       "      <td>0.020882</td>\n",
       "      <td>0.594805</td>\n",
       "      <td>0.767326</td>\n",
       "      <td>299.444</td>\n",
       "      <td>601.222</td>\n",
       "      <td>10657.9</td>\n",
       "    </tr>\n",
       "    <tr>\n",
       "      <td>2018-05-01</td>\n",
       "      <td>0.655725</td>\n",
       "      <td>1.74544</td>\n",
       "      <td>inf</td>\n",
       "      <td>0.0308945</td>\n",
       "      <td>0.104473</td>\n",
       "      <td>0.00246944</td>\n",
       "      <td>0.00209033</td>\n",
       "      <td>0.739359</td>\n",
       "      <td>0.582247</td>\n",
       "      <td>422.909</td>\n",
       "      <td>481.364</td>\n",
       "      <td>10875</td>\n",
       "    </tr>\n",
       "    <tr>\n",
       "      <td>2018-06-01</td>\n",
       "      <td>0.728177</td>\n",
       "      <td>1.35893</td>\n",
       "      <td>0.017726</td>\n",
       "      <td>0.0225566</td>\n",
       "      <td>1.07334</td>\n",
       "      <td>0.0171727</td>\n",
       "      <td>0.0203557</td>\n",
       "      <td>0.655518</td>\n",
       "      <td>0.775955</td>\n",
       "      <td>358.8</td>\n",
       "      <td>545.65</td>\n",
       "      <td>10836.9</td>\n",
       "    </tr>\n",
       "    <tr>\n",
       "      <td>2018-07-01</td>\n",
       "      <td>0.704543</td>\n",
       "      <td>1.02917</td>\n",
       "      <td>0.0130428</td>\n",
       "      <td>0.0169404</td>\n",
       "      <td>0.93651</td>\n",
       "      <td>0.0142956</td>\n",
       "      <td>0.0188358</td>\n",
       "      <td>0.701086</td>\n",
       "      <td>0.707108</td>\n",
       "      <td>385.182</td>\n",
       "      <td>519.273</td>\n",
       "      <td>11057.5</td>\n",
       "    </tr>\n",
       "    <tr>\n",
       "      <td>2018-08-01</td>\n",
       "      <td>0.687356</td>\n",
       "      <td>0.509227</td>\n",
       "      <td>0.0106586</td>\n",
       "      <td>0.00965438</td>\n",
       "      <td>1.28246</td>\n",
       "      <td>-inf</td>\n",
       "      <td>0.024411</td>\n",
       "      <td>0.658349</td>\n",
       "      <td>0.70715</td>\n",
       "      <td>367.652</td>\n",
       "      <td>538.783</td>\n",
       "      <td>11063.9</td>\n",
       "    </tr>\n",
       "    <tr>\n",
       "      <td>2018-09-01</td>\n",
       "      <td>0.713562</td>\n",
       "      <td>0.392678</td>\n",
       "      <td>0.013063</td>\n",
       "      <td>0.00805801</td>\n",
       "      <td>1.56998</td>\n",
       "      <td>0.0181273</td>\n",
       "      <td>0.0307367</td>\n",
       "      <td>0.687853</td>\n",
       "      <td>0.729394</td>\n",
       "      <td>344.474</td>\n",
       "      <td>559.368</td>\n",
       "      <td>11006.3</td>\n",
       "    </tr>\n",
       "    <tr>\n",
       "      <td>2018-10-01</td>\n",
       "      <td>0.768018</td>\n",
       "      <td>0.185831</td>\n",
       "      <td>0.00561226</td>\n",
       "      <td>0.00374363</td>\n",
       "      <td>1.90455</td>\n",
       "      <td>-inf</td>\n",
       "      <td>0.0433937</td>\n",
       "      <td>0.536861</td>\n",
       "      <td>0.834251</td>\n",
       "      <td>201</td>\n",
       "      <td>701.5</td>\n",
       "      <td>9802.13</td>\n",
       "    </tr>\n",
       "    <tr>\n",
       "      <td>2018-11-01</td>\n",
       "      <td>0.69986</td>\n",
       "      <td>1.35403</td>\n",
       "      <td>0.0285651</td>\n",
       "      <td>0.0314561</td>\n",
       "      <td>0.152103</td>\n",
       "      <td>-inf</td>\n",
       "      <td>0.00341514</td>\n",
       "      <td>0.835336</td>\n",
       "      <td>0.496492</td>\n",
       "      <td>544.636</td>\n",
       "      <td>362.818</td>\n",
       "      <td>9888.03</td>\n",
       "    </tr>\n",
       "    <tr>\n",
       "      <td>2018-12-01</td>\n",
       "      <td>0.673121</td>\n",
       "      <td>0.188995</td>\n",
       "      <td>0.00712432</td>\n",
       "      <td>0.00395789</td>\n",
       "      <td>0.798283</td>\n",
       "      <td>0.0142316</td>\n",
       "      <td>0.0181449</td>\n",
       "      <td>0.541702</td>\n",
       "      <td>0.750041</td>\n",
       "      <td>336.857</td>\n",
       "      <td>575.524</td>\n",
       "      <td>9727.41</td>\n",
       "    </tr>\n",
       "    <tr>\n",
       "      <td>2019-01-01</td>\n",
       "      <td>0.66758</td>\n",
       "      <td>1.48728</td>\n",
       "      <td>inf</td>\n",
       "      <td>0.0298849</td>\n",
       "      <td>-0.174147</td>\n",
       "      <td>-inf</td>\n",
       "      <td>-0.00416044</td>\n",
       "      <td>0.80224</td>\n",
       "      <td>0.520658</td>\n",
       "      <td>480.381</td>\n",
       "      <td>440.286</td>\n",
       "      <td>9932.26</td>\n",
       "    </tr>\n",
       "    <tr>\n",
       "      <td>2019-02-01</td>\n",
       "      <td>0.728105</td>\n",
       "      <td>1.38893</td>\n",
       "      <td>0.022096</td>\n",
       "      <td>0.0277292</td>\n",
       "      <td>0.0754344</td>\n",
       "      <td>0.000605621</td>\n",
       "      <td>0.0015936</td>\n",
       "      <td>0.816211</td>\n",
       "      <td>0.556754</td>\n",
       "      <td>610.231</td>\n",
       "      <td>313.769</td>\n",
       "      <td>10389.2</td>\n",
       "    </tr>\n",
       "    <tr>\n",
       "      <td>2019-03-01</td>\n",
       "      <td>0.667496</td>\n",
       "      <td>1.13372</td>\n",
       "      <td>0.0174331</td>\n",
       "      <td>0.020407</td>\n",
       "      <td>0.19128</td>\n",
       "      <td>0.00434105</td>\n",
       "      <td>0.00403416</td>\n",
       "      <td>0.724472</td>\n",
       "      <td>0.618328</td>\n",
       "      <td>428.45</td>\n",
       "      <td>496.5</td>\n",
       "      <td>10641</td>\n",
       "    </tr>\n",
       "    <tr>\n",
       "      <td>2019-04-01</td>\n",
       "      <td>0.704773</td>\n",
       "      <td>0.921271</td>\n",
       "      <td>0.0159844</td>\n",
       "      <td>0.0167465</td>\n",
       "      <td>0.541943</td>\n",
       "      <td>-inf</td>\n",
       "      <td>0.0105775</td>\n",
       "      <td>0.694061</td>\n",
       "      <td>0.712705</td>\n",
       "      <td>394.85</td>\n",
       "      <td>533.25</td>\n",
       "      <td>10967.7</td>\n",
       "    </tr>\n",
       "    <tr>\n",
       "      <td>2019-05-01</td>\n",
       "      <td>0.694333</td>\n",
       "      <td>0.347988</td>\n",
       "      <td>0.0105923</td>\n",
       "      <td>0.00695739</td>\n",
       "      <td>1.35149</td>\n",
       "      <td>-inf</td>\n",
       "      <td>0.0262826</td>\n",
       "      <td>0.662853</td>\n",
       "      <td>0.711023</td>\n",
       "      <td>321.818</td>\n",
       "      <td>607</td>\n",
       "      <td>10498.5</td>\n",
       "    </tr>\n",
       "    <tr>\n",
       "      <td>2019-06-01</td>\n",
       "      <td>0.667158</td>\n",
       "      <td>1.25086</td>\n",
       "      <td>0.0156979</td>\n",
       "      <td>0.0234553</td>\n",
       "      <td>-0.0934403</td>\n",
       "      <td>-inf</td>\n",
       "      <td>-0.00198282</td>\n",
       "      <td>0.776604</td>\n",
       "      <td>0.553555</td>\n",
       "      <td>473.316</td>\n",
       "      <td>456</td>\n",
       "      <td>10730.8</td>\n",
       "    </tr>\n",
       "    <tr>\n",
       "      <td>2019-07-01</td>\n",
       "      <td>0.692085</td>\n",
       "      <td>0.713379</td>\n",
       "      <td>0.012794</td>\n",
       "      <td>0.0130721</td>\n",
       "      <td>0.720194</td>\n",
       "      <td>0.0119495</td>\n",
       "      <td>0.01409</td>\n",
       "      <td>0.658539</td>\n",
       "      <td>0.719416</td>\n",
       "      <td>417.261</td>\n",
       "      <td>512.13</td>\n",
       "      <td>10823.8</td>\n",
       "    </tr>\n",
       "    <tr>\n",
       "      <td>2019-08-01</td>\n",
       "      <td>0.684469</td>\n",
       "      <td>0.956631</td>\n",
       "      <td>0.0176502</td>\n",
       "      <td>0.0175243</td>\n",
       "      <td>0.536694</td>\n",
       "      <td>0.0102622</td>\n",
       "      <td>0.0108458</td>\n",
       "      <td>0.724779</td>\n",
       "      <td>0.660637</td>\n",
       "      <td>345.524</td>\n",
       "      <td>584.429</td>\n",
       "      <td>10618</td>\n",
       "    </tr>\n",
       "    <tr>\n",
       "      <td>2019-09-01</td>\n",
       "      <td>0.708711</td>\n",
       "      <td>0.751905</td>\n",
       "      <td>0.0141206</td>\n",
       "      <td>0.0146556</td>\n",
       "      <td>0.355082</td>\n",
       "      <td>0.00605764</td>\n",
       "      <td>0.0066703</td>\n",
       "      <td>0.75641</td>\n",
       "      <td>0.640461</td>\n",
       "      <td>546</td>\n",
       "      <td>381.6</td>\n",
       "      <td>10898.1</td>\n",
       "    </tr>\n",
       "  </tbody>\n",
       "</table>\n",
       "</div>"
      ],
      "text/plain": [
       "            accuracy up_return    up_ratio up_portfolio down_return  \\\n",
       "2017-09-01  0.683636  0.784219   0.0185459    0.0136727     0.70772   \n",
       "2017-10-01  0.681278   1.04583    0.016348     0.018635    0.391129   \n",
       "2017-11-01  0.675935  0.823888   0.0169667    0.0152966     1.01044   \n",
       "2017-12-01   0.67156  0.883694   0.0190489    0.0177402    0.873937   \n",
       "2018-01-01  0.723461  0.774118    0.016324    0.0140505    0.787171   \n",
       "2018-02-01  0.746845   1.34485   0.0290012    0.0250059     1.28535   \n",
       "2018-03-01  0.681109   1.21331   0.0207729    0.0225932    0.633213   \n",
       "2018-04-01  0.709968   1.10235   0.0125449    0.0195737     1.06829   \n",
       "2018-05-01  0.655725   1.74544         inf    0.0308945    0.104473   \n",
       "2018-06-01  0.728177   1.35893    0.017726    0.0225566     1.07334   \n",
       "2018-07-01  0.704543   1.02917   0.0130428    0.0169404     0.93651   \n",
       "2018-08-01  0.687356  0.509227   0.0106586   0.00965438     1.28246   \n",
       "2018-09-01  0.713562  0.392678    0.013063   0.00805801     1.56998   \n",
       "2018-10-01  0.768018  0.185831  0.00561226   0.00374363     1.90455   \n",
       "2018-11-01   0.69986   1.35403   0.0285651    0.0314561    0.152103   \n",
       "2018-12-01  0.673121  0.188995  0.00712432   0.00395789    0.798283   \n",
       "2019-01-01   0.66758   1.48728         inf    0.0298849   -0.174147   \n",
       "2019-02-01  0.728105   1.38893    0.022096    0.0277292   0.0754344   \n",
       "2019-03-01  0.667496   1.13372   0.0174331     0.020407     0.19128   \n",
       "2019-04-01  0.704773  0.921271   0.0159844    0.0167465    0.541943   \n",
       "2019-05-01  0.694333  0.347988   0.0105923   0.00695739     1.35149   \n",
       "2019-06-01  0.667158   1.25086   0.0156979    0.0234553  -0.0934403   \n",
       "2019-07-01  0.692085  0.713379    0.012794    0.0130721    0.720194   \n",
       "2019-08-01  0.684469  0.956631   0.0176502    0.0175243    0.536694   \n",
       "2019-09-01  0.708711  0.751905   0.0141206    0.0146556    0.355082   \n",
       "\n",
       "             down_ratio down_portfolio up_precision down_precision  \\\n",
       "2017-09-01   0.00875083      0.0140546     0.693744       0.677875   \n",
       "2017-10-01   0.00537847     0.00768909     0.705663       0.657116   \n",
       "2017-11-01    0.0109793      0.0188989      0.65977        0.68705   \n",
       "2017-12-01   0.00625206      0.0163882     0.760547       0.608357   \n",
       "2018-01-01    0.0147728       0.015618      0.68157       0.762893   \n",
       "2018-02-01    0.0228581      0.0261025     0.795066       0.710252   \n",
       "2018-03-01   0.00761383      0.0122143     0.713819       0.655071   \n",
       "2018-04-01    0.0186684       0.020882     0.594805       0.767326   \n",
       "2018-05-01   0.00246944     0.00209033     0.739359       0.582247   \n",
       "2018-06-01    0.0171727      0.0203557     0.655518       0.775955   \n",
       "2018-07-01    0.0142956      0.0188358     0.701086       0.707108   \n",
       "2018-08-01         -inf       0.024411     0.658349        0.70715   \n",
       "2018-09-01    0.0181273      0.0307367     0.687853       0.729394   \n",
       "2018-10-01         -inf      0.0433937     0.536861       0.834251   \n",
       "2018-11-01         -inf     0.00341514     0.835336       0.496492   \n",
       "2018-12-01    0.0142316      0.0181449     0.541702       0.750041   \n",
       "2019-01-01         -inf    -0.00416044      0.80224       0.520658   \n",
       "2019-02-01  0.000605621      0.0015936     0.816211       0.556754   \n",
       "2019-03-01   0.00434105     0.00403416     0.724472       0.618328   \n",
       "2019-04-01         -inf      0.0105775     0.694061       0.712705   \n",
       "2019-05-01         -inf      0.0262826     0.662853       0.711023   \n",
       "2019-06-01         -inf    -0.00198282     0.776604       0.553555   \n",
       "2019-07-01    0.0119495        0.01409     0.658539       0.719416   \n",
       "2019-08-01    0.0102622      0.0108458     0.724779       0.660637   \n",
       "2019-09-01   0.00605764      0.0066703      0.75641       0.640461   \n",
       "\n",
       "           up_support_mean down_support_mean    index  \n",
       "2017-09-01         318.955           559.636  10383.9  \n",
       "2017-10-01         436.842           440.842  10793.8  \n",
       "2017-11-01         360.318           524.045  10560.4  \n",
       "2017-12-01         369.095           519.667  10642.9  \n",
       "2018-01-01         433.091           460.091  11103.8  \n",
       "2018-02-01         386.615           509.462  10815.5  \n",
       "2018-03-01         398.957           501.174  10919.5  \n",
       "2018-04-01         299.444           601.222  10657.9  \n",
       "2018-05-01         422.909           481.364    10875  \n",
       "2018-06-01           358.8            545.65  10836.9  \n",
       "2018-07-01         385.182           519.273  11057.5  \n",
       "2018-08-01         367.652           538.783  11063.9  \n",
       "2018-09-01         344.474           559.368  11006.3  \n",
       "2018-10-01             201             701.5  9802.13  \n",
       "2018-11-01         544.636           362.818  9888.03  \n",
       "2018-12-01         336.857           575.524  9727.41  \n",
       "2019-01-01         480.381           440.286  9932.26  \n",
       "2019-02-01         610.231           313.769  10389.2  \n",
       "2019-03-01          428.45             496.5    10641  \n",
       "2019-04-01          394.85            533.25  10967.7  \n",
       "2019-05-01         321.818               607  10498.5  \n",
       "2019-06-01         473.316               456  10730.8  \n",
       "2019-07-01         417.261            512.13  10823.8  \n",
       "2019-08-01         345.524           584.429    10618  \n",
       "2019-09-01             546             381.6  10898.1  "
      ]
     },
     "execution_count": 14,
     "metadata": {},
     "output_type": "execute_result"
    }
   ],
   "source": [
    "d1 = func.monthly_evaluation(data, df, threshold=0.5)\n",
    "d1 = d1.sort_index()\n",
    "d1"
   ]
  },
  {
   "cell_type": "code",
   "execution_count": 15,
   "metadata": {},
   "outputs": [
    {
     "name": "stdout",
     "output_type": "stream",
     "text": [
      "accuracy min: 0.6557253443249221\n",
      "accuracy max: 0.7680181314530345\n",
      "accuracy mean: 0.6967546049728875\n",
      "accuracy std: 0.02725063197308294\n",
      "up_precision min: 0.5368611488014473\n",
      "up_precision max: 0.8353363378400934\n",
      "up_precision mean: 0.703088755915101\n",
      "up_precision std: 0.07596771152905836\n",
      "up_support_mean min: 201.0\n",
      "up_support_mean max: 610.2307692307693\n",
      "up_support_mean mean: 399.3063190488637\n",
      "up_support_mean std: 86.71610348862943\n",
      "down_precision min: 0.4964921072412929\n",
      "down_precision max: 0.834251279725264\n",
      "down_precision mean: 0.6720846243215989\n",
      "down_precision std: 0.084439887633666\n",
      "down_support_mean min: 313.7692307692308\n",
      "down_support_mean max: 701.5\n",
      "down_support_mean mean: 509.01530035690206\n",
      "down_support_mean std: 82.89539500969738\n"
     ]
    }
   ],
   "source": [
    "for col in ['accuracy', 'up_precision', 'up_support_mean', 'down_precision', 'down_support_mean']:\n",
    "    print(f'{col} min: {d1[col].min()}')\n",
    "    print(f'{col} max: {d1[col].max()}')\n",
    "    print(f'{col} mean: {d1[col].mean()}')\n",
    "    print(f'{col} std: {d1[col].std()}')"
   ]
  },
  {
   "cell_type": "code",
   "execution_count": 3,
   "metadata": {},
   "outputs": [
    {
     "data": {
      "text/html": [
       "<div>\n",
       "<style scoped>\n",
       "    .dataframe tbody tr th:only-of-type {\n",
       "        vertical-align: middle;\n",
       "    }\n",
       "\n",
       "    .dataframe tbody tr th {\n",
       "        vertical-align: top;\n",
       "    }\n",
       "\n",
       "    .dataframe thead th {\n",
       "        text-align: right;\n",
       "    }\n",
       "</style>\n",
       "<table border=\"1\" class=\"dataframe\">\n",
       "  <thead>\n",
       "    <tr style=\"text-align: right;\">\n",
       "      <th></th>\n",
       "      <th>accuracy</th>\n",
       "      <th>return</th>\n",
       "      <th>ratio</th>\n",
       "      <th>portfolio</th>\n",
       "      <th>up_precision</th>\n",
       "      <th>down_precision</th>\n",
       "      <th>up_support_mean</th>\n",
       "      <th>down_support_mean</th>\n",
       "      <th>index</th>\n",
       "    </tr>\n",
       "  </thead>\n",
       "  <tbody>\n",
       "    <tr>\n",
       "      <td>2019-10-01</td>\n",
       "      <td>0.721686</td>\n",
       "      <td>1.95665</td>\n",
       "      <td>0.0229963</td>\n",
       "      <td>0.024047</td>\n",
       "      <td>0.818794</td>\n",
       "      <td>0.638213</td>\n",
       "      <td>205.238</td>\n",
       "      <td>238.762</td>\n",
       "      <td>11358.7</td>\n",
       "    </tr>\n",
       "  </tbody>\n",
       "</table>\n",
       "</div>"
      ],
      "text/plain": [
       "            accuracy   return      ratio portfolio up_precision  \\\n",
       "2019-10-01  0.721686  1.95665  0.0229963  0.024047     0.818794   \n",
       "\n",
       "           down_precision up_support_mean down_support_mean    index  \n",
       "2019-10-01       0.638213         205.238           238.762  11358.7  "
      ]
     },
     "metadata": {},
     "output_type": "display_data"
    },
    {
     "data": {
      "text/html": [
       "<div>\n",
       "<style scoped>\n",
       "    .dataframe tbody tr th:only-of-type {\n",
       "        vertical-align: middle;\n",
       "    }\n",
       "\n",
       "    .dataframe tbody tr th {\n",
       "        vertical-align: top;\n",
       "    }\n",
       "\n",
       "    .dataframe thead th {\n",
       "        text-align: right;\n",
       "    }\n",
       "</style>\n",
       "<table border=\"1\" class=\"dataframe\">\n",
       "  <thead>\n",
       "    <tr style=\"text-align: right;\">\n",
       "      <th></th>\n",
       "      <th>accuracy</th>\n",
       "      <th>return</th>\n",
       "      <th>ratio</th>\n",
       "      <th>portfolio</th>\n",
       "      <th>up_precision</th>\n",
       "      <th>down_precision</th>\n",
       "      <th>up_support_mean</th>\n",
       "      <th>down_support_mean</th>\n",
       "      <th>index</th>\n",
       "    </tr>\n",
       "  </thead>\n",
       "  <tbody>\n",
       "    <tr>\n",
       "      <td>2019-10-01</td>\n",
       "      <td>0.758429</td>\n",
       "      <td>2.31141</td>\n",
       "      <td>0.0264191</td>\n",
       "      <td>0.0280544</td>\n",
       "      <td>0.85184</td>\n",
       "      <td>0.681876</td>\n",
       "      <td>153.952</td>\n",
       "      <td>187.857</td>\n",
       "      <td>11358.7</td>\n",
       "    </tr>\n",
       "  </tbody>\n",
       "</table>\n",
       "</div>"
      ],
      "text/plain": [
       "            accuracy   return      ratio  portfolio up_precision  \\\n",
       "2019-10-01  0.758429  2.31141  0.0264191  0.0280544      0.85184   \n",
       "\n",
       "           down_precision up_support_mean down_support_mean    index  \n",
       "2019-10-01       0.681876         153.952           187.857  11358.7  "
      ]
     },
     "metadata": {},
     "output_type": "display_data"
    },
    {
     "data": {
      "text/html": [
       "<div>\n",
       "<style scoped>\n",
       "    .dataframe tbody tr th:only-of-type {\n",
       "        vertical-align: middle;\n",
       "    }\n",
       "\n",
       "    .dataframe tbody tr th {\n",
       "        vertical-align: top;\n",
       "    }\n",
       "\n",
       "    .dataframe thead th {\n",
       "        text-align: right;\n",
       "    }\n",
       "</style>\n",
       "<table border=\"1\" class=\"dataframe\">\n",
       "  <thead>\n",
       "    <tr style=\"text-align: right;\">\n",
       "      <th></th>\n",
       "      <th>accuracy</th>\n",
       "      <th>return</th>\n",
       "      <th>ratio</th>\n",
       "      <th>portfolio</th>\n",
       "      <th>up_precision</th>\n",
       "      <th>down_precision</th>\n",
       "      <th>up_support_mean</th>\n",
       "      <th>down_support_mean</th>\n",
       "      <th>index</th>\n",
       "    </tr>\n",
       "  </thead>\n",
       "  <tbody>\n",
       "    <tr>\n",
       "      <td>2019-10-01</td>\n",
       "      <td>0.796704</td>\n",
       "      <td>2.81345</td>\n",
       "      <td>0.0313103</td>\n",
       "      <td>0.0330617</td>\n",
       "      <td>0.886311</td>\n",
       "      <td>0.725185</td>\n",
       "      <td>102.619</td>\n",
       "      <td>128.571</td>\n",
       "      <td>11358.7</td>\n",
       "    </tr>\n",
       "  </tbody>\n",
       "</table>\n",
       "</div>"
      ],
      "text/plain": [
       "            accuracy   return      ratio  portfolio up_precision  \\\n",
       "2019-10-01  0.796704  2.81345  0.0313103  0.0330617     0.886311   \n",
       "\n",
       "           down_precision up_support_mean down_support_mean    index  \n",
       "2019-10-01       0.725185         102.619           128.571  11358.7  "
      ]
     },
     "metadata": {},
     "output_type": "display_data"
    },
    {
     "data": {
      "text/html": [
       "<div>\n",
       "<style scoped>\n",
       "    .dataframe tbody tr th:only-of-type {\n",
       "        vertical-align: middle;\n",
       "    }\n",
       "\n",
       "    .dataframe tbody tr th {\n",
       "        vertical-align: top;\n",
       "    }\n",
       "\n",
       "    .dataframe thead th {\n",
       "        text-align: right;\n",
       "    }\n",
       "</style>\n",
       "<table border=\"1\" class=\"dataframe\">\n",
       "  <thead>\n",
       "    <tr style=\"text-align: right;\">\n",
       "      <th></th>\n",
       "      <th>accuracy</th>\n",
       "      <th>return</th>\n",
       "      <th>ratio</th>\n",
       "      <th>portfolio</th>\n",
       "      <th>up_precision</th>\n",
       "      <th>down_precision</th>\n",
       "      <th>up_support_mean</th>\n",
       "      <th>down_support_mean</th>\n",
       "      <th>index</th>\n",
       "    </tr>\n",
       "  </thead>\n",
       "  <tbody>\n",
       "    <tr>\n",
       "      <td>2019-10-01</td>\n",
       "      <td>0.850265</td>\n",
       "      <td>3.94625</td>\n",
       "      <td>0.0409348</td>\n",
       "      <td>0.0409973</td>\n",
       "      <td>0.923006</td>\n",
       "      <td>0.793154</td>\n",
       "      <td>51.3333</td>\n",
       "      <td>65.381</td>\n",
       "      <td>11358.7</td>\n",
       "    </tr>\n",
       "  </tbody>\n",
       "</table>\n",
       "</div>"
      ],
      "text/plain": [
       "            accuracy   return      ratio  portfolio up_precision  \\\n",
       "2019-10-01  0.850265  3.94625  0.0409348  0.0409973     0.923006   \n",
       "\n",
       "           down_precision up_support_mean down_support_mean    index  \n",
       "2019-10-01       0.793154         51.3333            65.381  11358.7  "
      ]
     },
     "metadata": {},
     "output_type": "display_data"
    }
   ],
   "source": [
    "df_list1 = []\n",
    "q = df['Y_1_score'].quantile(np.linspace(.1, 1, 9, 0))\n",
    "for t in q.iloc[5:]:\n",
    "    d = func.monthly_evaluation(df, threshold=t)\n",
    "    display(d)\n",
    "    df_list1.append(d)"
   ]
  },
  {
   "cell_type": "code",
   "execution_count": 65,
   "metadata": {},
   "outputs": [
    {
     "data": {
      "application/vnd.plotly.v1+json": {
       "config": {
        "plotlyServerURL": "https://plot.ly"
       },
       "data": [
        {
         "line": {
          "color": "blue"
         },
         "mode": "lines",
         "name": "平均報酬率(多空)",
         "type": "scatter",
         "x": [
          "2017-09-01",
          "2017-10-01",
          "2017-11-01",
          "2017-12-01",
          "2018-01-01",
          "2018-02-01",
          "2018-03-01",
          "2018-04-01",
          "2018-05-01",
          "2018-06-01",
          "2018-07-01",
          "2018-08-01",
          "2018-09-01",
          "2018-10-01",
          "2018-11-01",
          "2018-12-01",
          "2019-01-01",
          "2019-02-01",
          "2019-03-01",
          "2019-04-01",
          "2019-05-01",
          "2019-06-01",
          "2019-07-01",
          "2019-08-01"
         ],
         "xaxis": "x",
         "y": [
          0.017365869160069814,
          0.013622175587899844,
          0.017323921954892994,
          0.015937342065417782,
          0.017586721927788464,
          0.029499656922178936,
          0.016824810972700076,
          0.019224749144159482,
          0.016018901835057556,
          0.02108533694166758,
          0.015772953582456797,
          0.01769046347888899,
          0.019650662106038514,
          0.026833011170594383,
          0.016192623562049032,
          0.012512913181891926,
          0.010592003640200414,
          0.01266506736378992,
          0.012925005517527994,
          0.015457395327170805,
          0.018491650828941716,
          0.009505460556714815,
          0.014343216499695763,
          0.017309593462973227
         ],
         "yaxis": "y"
        },
        {
         "line": {
          "color": "gray"
         },
         "mode": "lines",
         "name": "大盤指數收盤價",
         "type": "scatter",
         "x": [
          "2017-09-01",
          "2017-10-01",
          "2017-11-01",
          "2017-12-01",
          "2018-01-01",
          "2018-02-01",
          "2018-03-01",
          "2018-04-01",
          "2018-05-01",
          "2018-06-01",
          "2018-07-01",
          "2018-08-01",
          "2018-09-01",
          "2018-10-01",
          "2018-11-01",
          "2018-12-01",
          "2019-01-01",
          "2019-02-01",
          "2019-03-01",
          "2019-04-01",
          "2019-05-01",
          "2019-06-01",
          "2019-07-01",
          "2019-08-01"
         ],
         "xaxis": "x2",
         "y": [
          10383.94,
          10793.8,
          10560.44,
          10642.86,
          11103.79,
          10815.47,
          10919.49,
          10657.88,
          10874.96,
          10836.91,
          11057.51,
          11063.94,
          11006.34,
          9802.13,
          9888.03,
          9727.41,
          9932.26,
          10389.17,
          10641.04,
          10967.73,
          10498.49,
          10730.83,
          10823.81,
          10618.05
         ],
         "yaxis": "y2"
        }
       ],
       "layout": {
        "template": {
         "data": {
          "bar": [
           {
            "error_x": {
             "color": "#2a3f5f"
            },
            "error_y": {
             "color": "#2a3f5f"
            },
            "marker": {
             "line": {
              "color": "#E5ECF6",
              "width": 0.5
             }
            },
            "type": "bar"
           }
          ],
          "barpolar": [
           {
            "marker": {
             "line": {
              "color": "#E5ECF6",
              "width": 0.5
             }
            },
            "type": "barpolar"
           }
          ],
          "carpet": [
           {
            "aaxis": {
             "endlinecolor": "#2a3f5f",
             "gridcolor": "white",
             "linecolor": "white",
             "minorgridcolor": "white",
             "startlinecolor": "#2a3f5f"
            },
            "baxis": {
             "endlinecolor": "#2a3f5f",
             "gridcolor": "white",
             "linecolor": "white",
             "minorgridcolor": "white",
             "startlinecolor": "#2a3f5f"
            },
            "type": "carpet"
           }
          ],
          "choropleth": [
           {
            "colorbar": {
             "outlinewidth": 0,
             "ticks": ""
            },
            "type": "choropleth"
           }
          ],
          "contour": [
           {
            "colorbar": {
             "outlinewidth": 0,
             "ticks": ""
            },
            "colorscale": [
             [
              0,
              "#0d0887"
             ],
             [
              0.1111111111111111,
              "#46039f"
             ],
             [
              0.2222222222222222,
              "#7201a8"
             ],
             [
              0.3333333333333333,
              "#9c179e"
             ],
             [
              0.4444444444444444,
              "#bd3786"
             ],
             [
              0.5555555555555556,
              "#d8576b"
             ],
             [
              0.6666666666666666,
              "#ed7953"
             ],
             [
              0.7777777777777778,
              "#fb9f3a"
             ],
             [
              0.8888888888888888,
              "#fdca26"
             ],
             [
              1,
              "#f0f921"
             ]
            ],
            "type": "contour"
           }
          ],
          "contourcarpet": [
           {
            "colorbar": {
             "outlinewidth": 0,
             "ticks": ""
            },
            "type": "contourcarpet"
           }
          ],
          "heatmap": [
           {
            "colorbar": {
             "outlinewidth": 0,
             "ticks": ""
            },
            "colorscale": [
             [
              0,
              "#0d0887"
             ],
             [
              0.1111111111111111,
              "#46039f"
             ],
             [
              0.2222222222222222,
              "#7201a8"
             ],
             [
              0.3333333333333333,
              "#9c179e"
             ],
             [
              0.4444444444444444,
              "#bd3786"
             ],
             [
              0.5555555555555556,
              "#d8576b"
             ],
             [
              0.6666666666666666,
              "#ed7953"
             ],
             [
              0.7777777777777778,
              "#fb9f3a"
             ],
             [
              0.8888888888888888,
              "#fdca26"
             ],
             [
              1,
              "#f0f921"
             ]
            ],
            "type": "heatmap"
           }
          ],
          "heatmapgl": [
           {
            "colorbar": {
             "outlinewidth": 0,
             "ticks": ""
            },
            "colorscale": [
             [
              0,
              "#0d0887"
             ],
             [
              0.1111111111111111,
              "#46039f"
             ],
             [
              0.2222222222222222,
              "#7201a8"
             ],
             [
              0.3333333333333333,
              "#9c179e"
             ],
             [
              0.4444444444444444,
              "#bd3786"
             ],
             [
              0.5555555555555556,
              "#d8576b"
             ],
             [
              0.6666666666666666,
              "#ed7953"
             ],
             [
              0.7777777777777778,
              "#fb9f3a"
             ],
             [
              0.8888888888888888,
              "#fdca26"
             ],
             [
              1,
              "#f0f921"
             ]
            ],
            "type": "heatmapgl"
           }
          ],
          "histogram": [
           {
            "marker": {
             "colorbar": {
              "outlinewidth": 0,
              "ticks": ""
             }
            },
            "type": "histogram"
           }
          ],
          "histogram2d": [
           {
            "colorbar": {
             "outlinewidth": 0,
             "ticks": ""
            },
            "colorscale": [
             [
              0,
              "#0d0887"
             ],
             [
              0.1111111111111111,
              "#46039f"
             ],
             [
              0.2222222222222222,
              "#7201a8"
             ],
             [
              0.3333333333333333,
              "#9c179e"
             ],
             [
              0.4444444444444444,
              "#bd3786"
             ],
             [
              0.5555555555555556,
              "#d8576b"
             ],
             [
              0.6666666666666666,
              "#ed7953"
             ],
             [
              0.7777777777777778,
              "#fb9f3a"
             ],
             [
              0.8888888888888888,
              "#fdca26"
             ],
             [
              1,
              "#f0f921"
             ]
            ],
            "type": "histogram2d"
           }
          ],
          "histogram2dcontour": [
           {
            "colorbar": {
             "outlinewidth": 0,
             "ticks": ""
            },
            "colorscale": [
             [
              0,
              "#0d0887"
             ],
             [
              0.1111111111111111,
              "#46039f"
             ],
             [
              0.2222222222222222,
              "#7201a8"
             ],
             [
              0.3333333333333333,
              "#9c179e"
             ],
             [
              0.4444444444444444,
              "#bd3786"
             ],
             [
              0.5555555555555556,
              "#d8576b"
             ],
             [
              0.6666666666666666,
              "#ed7953"
             ],
             [
              0.7777777777777778,
              "#fb9f3a"
             ],
             [
              0.8888888888888888,
              "#fdca26"
             ],
             [
              1,
              "#f0f921"
             ]
            ],
            "type": "histogram2dcontour"
           }
          ],
          "mesh3d": [
           {
            "colorbar": {
             "outlinewidth": 0,
             "ticks": ""
            },
            "type": "mesh3d"
           }
          ],
          "parcoords": [
           {
            "line": {
             "colorbar": {
              "outlinewidth": 0,
              "ticks": ""
             }
            },
            "type": "parcoords"
           }
          ],
          "pie": [
           {
            "automargin": true,
            "type": "pie"
           }
          ],
          "scatter": [
           {
            "marker": {
             "colorbar": {
              "outlinewidth": 0,
              "ticks": ""
             }
            },
            "type": "scatter"
           }
          ],
          "scatter3d": [
           {
            "line": {
             "colorbar": {
              "outlinewidth": 0,
              "ticks": ""
             }
            },
            "marker": {
             "colorbar": {
              "outlinewidth": 0,
              "ticks": ""
             }
            },
            "type": "scatter3d"
           }
          ],
          "scattercarpet": [
           {
            "marker": {
             "colorbar": {
              "outlinewidth": 0,
              "ticks": ""
             }
            },
            "type": "scattercarpet"
           }
          ],
          "scattergeo": [
           {
            "marker": {
             "colorbar": {
              "outlinewidth": 0,
              "ticks": ""
             }
            },
            "type": "scattergeo"
           }
          ],
          "scattergl": [
           {
            "marker": {
             "colorbar": {
              "outlinewidth": 0,
              "ticks": ""
             }
            },
            "type": "scattergl"
           }
          ],
          "scattermapbox": [
           {
            "marker": {
             "colorbar": {
              "outlinewidth": 0,
              "ticks": ""
             }
            },
            "type": "scattermapbox"
           }
          ],
          "scatterpolar": [
           {
            "marker": {
             "colorbar": {
              "outlinewidth": 0,
              "ticks": ""
             }
            },
            "type": "scatterpolar"
           }
          ],
          "scatterpolargl": [
           {
            "marker": {
             "colorbar": {
              "outlinewidth": 0,
              "ticks": ""
             }
            },
            "type": "scatterpolargl"
           }
          ],
          "scatterternary": [
           {
            "marker": {
             "colorbar": {
              "outlinewidth": 0,
              "ticks": ""
             }
            },
            "type": "scatterternary"
           }
          ],
          "surface": [
           {
            "colorbar": {
             "outlinewidth": 0,
             "ticks": ""
            },
            "colorscale": [
             [
              0,
              "#0d0887"
             ],
             [
              0.1111111111111111,
              "#46039f"
             ],
             [
              0.2222222222222222,
              "#7201a8"
             ],
             [
              0.3333333333333333,
              "#9c179e"
             ],
             [
              0.4444444444444444,
              "#bd3786"
             ],
             [
              0.5555555555555556,
              "#d8576b"
             ],
             [
              0.6666666666666666,
              "#ed7953"
             ],
             [
              0.7777777777777778,
              "#fb9f3a"
             ],
             [
              0.8888888888888888,
              "#fdca26"
             ],
             [
              1,
              "#f0f921"
             ]
            ],
            "type": "surface"
           }
          ],
          "table": [
           {
            "cells": {
             "fill": {
              "color": "#EBF0F8"
             },
             "line": {
              "color": "white"
             }
            },
            "header": {
             "fill": {
              "color": "#C8D4E3"
             },
             "line": {
              "color": "white"
             }
            },
            "type": "table"
           }
          ]
         },
         "layout": {
          "annotationdefaults": {
           "arrowcolor": "#2a3f5f",
           "arrowhead": 0,
           "arrowwidth": 1
          },
          "coloraxis": {
           "colorbar": {
            "outlinewidth": 0,
            "ticks": ""
           }
          },
          "colorscale": {
           "diverging": [
            [
             0,
             "#8e0152"
            ],
            [
             0.1,
             "#c51b7d"
            ],
            [
             0.2,
             "#de77ae"
            ],
            [
             0.3,
             "#f1b6da"
            ],
            [
             0.4,
             "#fde0ef"
            ],
            [
             0.5,
             "#f7f7f7"
            ],
            [
             0.6,
             "#e6f5d0"
            ],
            [
             0.7,
             "#b8e186"
            ],
            [
             0.8,
             "#7fbc41"
            ],
            [
             0.9,
             "#4d9221"
            ],
            [
             1,
             "#276419"
            ]
           ],
           "sequential": [
            [
             0,
             "#0d0887"
            ],
            [
             0.1111111111111111,
             "#46039f"
            ],
            [
             0.2222222222222222,
             "#7201a8"
            ],
            [
             0.3333333333333333,
             "#9c179e"
            ],
            [
             0.4444444444444444,
             "#bd3786"
            ],
            [
             0.5555555555555556,
             "#d8576b"
            ],
            [
             0.6666666666666666,
             "#ed7953"
            ],
            [
             0.7777777777777778,
             "#fb9f3a"
            ],
            [
             0.8888888888888888,
             "#fdca26"
            ],
            [
             1,
             "#f0f921"
            ]
           ],
           "sequentialminus": [
            [
             0,
             "#0d0887"
            ],
            [
             0.1111111111111111,
             "#46039f"
            ],
            [
             0.2222222222222222,
             "#7201a8"
            ],
            [
             0.3333333333333333,
             "#9c179e"
            ],
            [
             0.4444444444444444,
             "#bd3786"
            ],
            [
             0.5555555555555556,
             "#d8576b"
            ],
            [
             0.6666666666666666,
             "#ed7953"
            ],
            [
             0.7777777777777778,
             "#fb9f3a"
            ],
            [
             0.8888888888888888,
             "#fdca26"
            ],
            [
             1,
             "#f0f921"
            ]
           ]
          },
          "colorway": [
           "#636efa",
           "#EF553B",
           "#00cc96",
           "#ab63fa",
           "#FFA15A",
           "#19d3f3",
           "#FF6692",
           "#B6E880",
           "#FF97FF",
           "#FECB52"
          ],
          "font": {
           "color": "#2a3f5f"
          },
          "geo": {
           "bgcolor": "white",
           "lakecolor": "white",
           "landcolor": "#E5ECF6",
           "showlakes": true,
           "showland": true,
           "subunitcolor": "white"
          },
          "hoverlabel": {
           "align": "left"
          },
          "hovermode": "closest",
          "mapbox": {
           "style": "light"
          },
          "paper_bgcolor": "white",
          "plot_bgcolor": "#E5ECF6",
          "polar": {
           "angularaxis": {
            "gridcolor": "white",
            "linecolor": "white",
            "ticks": ""
           },
           "bgcolor": "#E5ECF6",
           "radialaxis": {
            "gridcolor": "white",
            "linecolor": "white",
            "ticks": ""
           }
          },
          "scene": {
           "xaxis": {
            "backgroundcolor": "#E5ECF6",
            "gridcolor": "white",
            "gridwidth": 2,
            "linecolor": "white",
            "showbackground": true,
            "ticks": "",
            "zerolinecolor": "white"
           },
           "yaxis": {
            "backgroundcolor": "#E5ECF6",
            "gridcolor": "white",
            "gridwidth": 2,
            "linecolor": "white",
            "showbackground": true,
            "ticks": "",
            "zerolinecolor": "white"
           },
           "zaxis": {
            "backgroundcolor": "#E5ECF6",
            "gridcolor": "white",
            "gridwidth": 2,
            "linecolor": "white",
            "showbackground": true,
            "ticks": "",
            "zerolinecolor": "white"
           }
          },
          "shapedefaults": {
           "line": {
            "color": "#2a3f5f"
           }
          },
          "ternary": {
           "aaxis": {
            "gridcolor": "white",
            "linecolor": "white",
            "ticks": ""
           },
           "baxis": {
            "gridcolor": "white",
            "linecolor": "white",
            "ticks": ""
           },
           "bgcolor": "#E5ECF6",
           "caxis": {
            "gridcolor": "white",
            "linecolor": "white",
            "ticks": ""
           }
          },
          "title": {
           "x": 0.05
          },
          "xaxis": {
           "automargin": true,
           "gridcolor": "white",
           "linecolor": "white",
           "ticks": "",
           "title": {
            "standoff": 15
           },
           "zerolinecolor": "white",
           "zerolinewidth": 2
          },
          "yaxis": {
           "automargin": true,
           "gridcolor": "white",
           "linecolor": "white",
           "ticks": "",
           "title": {
            "standoff": 15
           },
           "zerolinecolor": "white",
           "zerolinewidth": 2
          }
         }
        },
        "xaxis": {
         "anchor": "y",
         "domain": [
          0,
          1
         ]
        },
        "xaxis2": {
         "anchor": "y2",
         "domain": [
          0,
          1
         ]
        },
        "yaxis": {
         "anchor": "x",
         "domain": [
          0.575,
          1
         ]
        },
        "yaxis2": {
         "anchor": "x2",
         "domain": [
          0,
          0.425
         ]
        }
       }
      },
      "text/html": [
       "<div>\n",
       "        \n",
       "        \n",
       "            <div id=\"a5dee31a-0f61-4960-a61f-b25e069b8010\" class=\"plotly-graph-div\" style=\"height:525px; width:100%;\"></div>\n",
       "            <script type=\"text/javascript\">\n",
       "                require([\"plotly\"], function(Plotly) {\n",
       "                    window.PLOTLYENV=window.PLOTLYENV || {};\n",
       "                    \n",
       "                if (document.getElementById(\"a5dee31a-0f61-4960-a61f-b25e069b8010\")) {\n",
       "                    Plotly.newPlot(\n",
       "                        'a5dee31a-0f61-4960-a61f-b25e069b8010',\n",
       "                        [{\"line\": {\"color\": \"blue\"}, \"mode\": \"lines\", \"name\": \"\\u5e73\\u5747\\u5831\\u916c\\u7387(\\u591a\\u7a7a)\", \"type\": \"scatter\", \"x\": [\"2017-09-01\", \"2017-10-01\", \"2017-11-01\", \"2017-12-01\", \"2018-01-01\", \"2018-02-01\", \"2018-03-01\", \"2018-04-01\", \"2018-05-01\", \"2018-06-01\", \"2018-07-01\", \"2018-08-01\", \"2018-09-01\", \"2018-10-01\", \"2018-11-01\", \"2018-12-01\", \"2019-01-01\", \"2019-02-01\", \"2019-03-01\", \"2019-04-01\", \"2019-05-01\", \"2019-06-01\", \"2019-07-01\", \"2019-08-01\"], \"xaxis\": \"x\", \"y\": [0.017365869160069814, 0.013622175587899844, 0.017323921954892994, 0.015937342065417782, 0.017586721927788464, 0.029499656922178936, 0.016824810972700076, 0.019224749144159482, 0.016018901835057556, 0.02108533694166758, 0.015772953582456797, 0.01769046347888899, 0.019650662106038514, 0.026833011170594383, 0.016192623562049032, 0.012512913181891926, 0.010592003640200414, 0.01266506736378992, 0.012925005517527994, 0.015457395327170805, 0.018491650828941716, 0.009505460556714815, 0.014343216499695763, 0.017309593462973227], \"yaxis\": \"y\"}, {\"line\": {\"color\": \"gray\"}, \"mode\": \"lines\", \"name\": \"\\u5927\\u76e4\\u6307\\u6578\\u6536\\u76e4\\u50f9\", \"type\": \"scatter\", \"x\": [\"2017-09-01\", \"2017-10-01\", \"2017-11-01\", \"2017-12-01\", \"2018-01-01\", \"2018-02-01\", \"2018-03-01\", \"2018-04-01\", \"2018-05-01\", \"2018-06-01\", \"2018-07-01\", \"2018-08-01\", \"2018-09-01\", \"2018-10-01\", \"2018-11-01\", \"2018-12-01\", \"2019-01-01\", \"2019-02-01\", \"2019-03-01\", \"2019-04-01\", \"2019-05-01\", \"2019-06-01\", \"2019-07-01\", \"2019-08-01\"], \"xaxis\": \"x2\", \"y\": [10383.94, 10793.8, 10560.44, 10642.86, 11103.79, 10815.47, 10919.49, 10657.88, 10874.96, 10836.91, 11057.51, 11063.94, 11006.34, 9802.13, 9888.03, 9727.41, 9932.26, 10389.17, 10641.04, 10967.73, 10498.49, 10730.83, 10823.81, 10618.05], \"yaxis\": \"y2\"}],\n",
       "                        {\"template\": {\"data\": {\"bar\": [{\"error_x\": {\"color\": \"#2a3f5f\"}, \"error_y\": {\"color\": \"#2a3f5f\"}, \"marker\": {\"line\": {\"color\": \"#E5ECF6\", \"width\": 0.5}}, \"type\": \"bar\"}], \"barpolar\": [{\"marker\": {\"line\": {\"color\": \"#E5ECF6\", \"width\": 0.5}}, \"type\": \"barpolar\"}], \"carpet\": [{\"aaxis\": {\"endlinecolor\": \"#2a3f5f\", \"gridcolor\": \"white\", \"linecolor\": \"white\", \"minorgridcolor\": \"white\", \"startlinecolor\": \"#2a3f5f\"}, \"baxis\": {\"endlinecolor\": \"#2a3f5f\", \"gridcolor\": \"white\", \"linecolor\": \"white\", \"minorgridcolor\": \"white\", \"startlinecolor\": \"#2a3f5f\"}, \"type\": \"carpet\"}], \"choropleth\": [{\"colorbar\": {\"outlinewidth\": 0, \"ticks\": \"\"}, \"type\": \"choropleth\"}], \"contour\": [{\"colorbar\": {\"outlinewidth\": 0, \"ticks\": \"\"}, \"colorscale\": [[0.0, \"#0d0887\"], [0.1111111111111111, \"#46039f\"], [0.2222222222222222, \"#7201a8\"], [0.3333333333333333, \"#9c179e\"], [0.4444444444444444, \"#bd3786\"], [0.5555555555555556, \"#d8576b\"], [0.6666666666666666, \"#ed7953\"], [0.7777777777777778, \"#fb9f3a\"], [0.8888888888888888, \"#fdca26\"], [1.0, \"#f0f921\"]], \"type\": \"contour\"}], \"contourcarpet\": [{\"colorbar\": {\"outlinewidth\": 0, \"ticks\": \"\"}, \"type\": \"contourcarpet\"}], \"heatmap\": [{\"colorbar\": {\"outlinewidth\": 0, \"ticks\": \"\"}, \"colorscale\": [[0.0, \"#0d0887\"], [0.1111111111111111, \"#46039f\"], [0.2222222222222222, \"#7201a8\"], [0.3333333333333333, \"#9c179e\"], [0.4444444444444444, \"#bd3786\"], [0.5555555555555556, \"#d8576b\"], [0.6666666666666666, \"#ed7953\"], [0.7777777777777778, \"#fb9f3a\"], [0.8888888888888888, \"#fdca26\"], [1.0, \"#f0f921\"]], \"type\": \"heatmap\"}], \"heatmapgl\": [{\"colorbar\": {\"outlinewidth\": 0, \"ticks\": \"\"}, \"colorscale\": [[0.0, \"#0d0887\"], [0.1111111111111111, \"#46039f\"], [0.2222222222222222, \"#7201a8\"], [0.3333333333333333, \"#9c179e\"], [0.4444444444444444, \"#bd3786\"], [0.5555555555555556, \"#d8576b\"], [0.6666666666666666, \"#ed7953\"], [0.7777777777777778, \"#fb9f3a\"], [0.8888888888888888, \"#fdca26\"], [1.0, \"#f0f921\"]], \"type\": \"heatmapgl\"}], \"histogram\": [{\"marker\": {\"colorbar\": {\"outlinewidth\": 0, \"ticks\": \"\"}}, \"type\": \"histogram\"}], \"histogram2d\": [{\"colorbar\": {\"outlinewidth\": 0, \"ticks\": \"\"}, \"colorscale\": [[0.0, \"#0d0887\"], [0.1111111111111111, \"#46039f\"], [0.2222222222222222, \"#7201a8\"], [0.3333333333333333, \"#9c179e\"], [0.4444444444444444, \"#bd3786\"], [0.5555555555555556, \"#d8576b\"], [0.6666666666666666, \"#ed7953\"], [0.7777777777777778, \"#fb9f3a\"], [0.8888888888888888, \"#fdca26\"], [1.0, \"#f0f921\"]], \"type\": \"histogram2d\"}], \"histogram2dcontour\": [{\"colorbar\": {\"outlinewidth\": 0, \"ticks\": \"\"}, \"colorscale\": [[0.0, \"#0d0887\"], [0.1111111111111111, \"#46039f\"], [0.2222222222222222, \"#7201a8\"], [0.3333333333333333, \"#9c179e\"], [0.4444444444444444, \"#bd3786\"], [0.5555555555555556, \"#d8576b\"], [0.6666666666666666, \"#ed7953\"], [0.7777777777777778, \"#fb9f3a\"], [0.8888888888888888, \"#fdca26\"], [1.0, \"#f0f921\"]], \"type\": \"histogram2dcontour\"}], \"mesh3d\": [{\"colorbar\": {\"outlinewidth\": 0, \"ticks\": \"\"}, \"type\": \"mesh3d\"}], \"parcoords\": [{\"line\": {\"colorbar\": {\"outlinewidth\": 0, \"ticks\": \"\"}}, \"type\": \"parcoords\"}], \"pie\": [{\"automargin\": true, \"type\": \"pie\"}], \"scatter\": [{\"marker\": {\"colorbar\": {\"outlinewidth\": 0, \"ticks\": \"\"}}, \"type\": \"scatter\"}], \"scatter3d\": [{\"line\": {\"colorbar\": {\"outlinewidth\": 0, \"ticks\": \"\"}}, \"marker\": {\"colorbar\": {\"outlinewidth\": 0, \"ticks\": \"\"}}, \"type\": \"scatter3d\"}], \"scattercarpet\": [{\"marker\": {\"colorbar\": {\"outlinewidth\": 0, \"ticks\": \"\"}}, \"type\": \"scattercarpet\"}], \"scattergeo\": [{\"marker\": {\"colorbar\": {\"outlinewidth\": 0, \"ticks\": \"\"}}, \"type\": \"scattergeo\"}], \"scattergl\": [{\"marker\": {\"colorbar\": {\"outlinewidth\": 0, \"ticks\": \"\"}}, \"type\": \"scattergl\"}], \"scattermapbox\": [{\"marker\": {\"colorbar\": {\"outlinewidth\": 0, \"ticks\": \"\"}}, \"type\": \"scattermapbox\"}], \"scatterpolar\": [{\"marker\": {\"colorbar\": {\"outlinewidth\": 0, \"ticks\": \"\"}}, \"type\": \"scatterpolar\"}], \"scatterpolargl\": [{\"marker\": {\"colorbar\": {\"outlinewidth\": 0, \"ticks\": \"\"}}, \"type\": \"scatterpolargl\"}], \"scatterternary\": [{\"marker\": {\"colorbar\": {\"outlinewidth\": 0, \"ticks\": \"\"}}, \"type\": \"scatterternary\"}], \"surface\": [{\"colorbar\": {\"outlinewidth\": 0, \"ticks\": \"\"}, \"colorscale\": [[0.0, \"#0d0887\"], [0.1111111111111111, \"#46039f\"], [0.2222222222222222, \"#7201a8\"], [0.3333333333333333, \"#9c179e\"], [0.4444444444444444, \"#bd3786\"], [0.5555555555555556, \"#d8576b\"], [0.6666666666666666, \"#ed7953\"], [0.7777777777777778, \"#fb9f3a\"], [0.8888888888888888, \"#fdca26\"], [1.0, \"#f0f921\"]], \"type\": \"surface\"}], \"table\": [{\"cells\": {\"fill\": {\"color\": \"#EBF0F8\"}, \"line\": {\"color\": \"white\"}}, \"header\": {\"fill\": {\"color\": \"#C8D4E3\"}, \"line\": {\"color\": \"white\"}}, \"type\": \"table\"}]}, \"layout\": {\"annotationdefaults\": {\"arrowcolor\": \"#2a3f5f\", \"arrowhead\": 0, \"arrowwidth\": 1}, \"coloraxis\": {\"colorbar\": {\"outlinewidth\": 0, \"ticks\": \"\"}}, \"colorscale\": {\"diverging\": [[0, \"#8e0152\"], [0.1, \"#c51b7d\"], [0.2, \"#de77ae\"], [0.3, \"#f1b6da\"], [0.4, \"#fde0ef\"], [0.5, \"#f7f7f7\"], [0.6, \"#e6f5d0\"], [0.7, \"#b8e186\"], [0.8, \"#7fbc41\"], [0.9, \"#4d9221\"], [1, \"#276419\"]], \"sequential\": [[0.0, \"#0d0887\"], [0.1111111111111111, \"#46039f\"], [0.2222222222222222, \"#7201a8\"], [0.3333333333333333, \"#9c179e\"], [0.4444444444444444, \"#bd3786\"], [0.5555555555555556, \"#d8576b\"], [0.6666666666666666, \"#ed7953\"], [0.7777777777777778, \"#fb9f3a\"], [0.8888888888888888, \"#fdca26\"], [1.0, \"#f0f921\"]], \"sequentialminus\": [[0.0, \"#0d0887\"], [0.1111111111111111, \"#46039f\"], [0.2222222222222222, \"#7201a8\"], [0.3333333333333333, \"#9c179e\"], [0.4444444444444444, \"#bd3786\"], [0.5555555555555556, \"#d8576b\"], [0.6666666666666666, \"#ed7953\"], [0.7777777777777778, \"#fb9f3a\"], [0.8888888888888888, \"#fdca26\"], [1.0, \"#f0f921\"]]}, \"colorway\": [\"#636efa\", \"#EF553B\", \"#00cc96\", \"#ab63fa\", \"#FFA15A\", \"#19d3f3\", \"#FF6692\", \"#B6E880\", \"#FF97FF\", \"#FECB52\"], \"font\": {\"color\": \"#2a3f5f\"}, \"geo\": {\"bgcolor\": \"white\", \"lakecolor\": \"white\", \"landcolor\": \"#E5ECF6\", \"showlakes\": true, \"showland\": true, \"subunitcolor\": \"white\"}, \"hoverlabel\": {\"align\": \"left\"}, \"hovermode\": \"closest\", \"mapbox\": {\"style\": \"light\"}, \"paper_bgcolor\": \"white\", \"plot_bgcolor\": \"#E5ECF6\", \"polar\": {\"angularaxis\": {\"gridcolor\": \"white\", \"linecolor\": \"white\", \"ticks\": \"\"}, \"bgcolor\": \"#E5ECF6\", \"radialaxis\": {\"gridcolor\": \"white\", \"linecolor\": \"white\", \"ticks\": \"\"}}, \"scene\": {\"xaxis\": {\"backgroundcolor\": \"#E5ECF6\", \"gridcolor\": \"white\", \"gridwidth\": 2, \"linecolor\": \"white\", \"showbackground\": true, \"ticks\": \"\", \"zerolinecolor\": \"white\"}, \"yaxis\": {\"backgroundcolor\": \"#E5ECF6\", \"gridcolor\": \"white\", \"gridwidth\": 2, \"linecolor\": \"white\", \"showbackground\": true, \"ticks\": \"\", \"zerolinecolor\": \"white\"}, \"zaxis\": {\"backgroundcolor\": \"#E5ECF6\", \"gridcolor\": \"white\", \"gridwidth\": 2, \"linecolor\": \"white\", \"showbackground\": true, \"ticks\": \"\", \"zerolinecolor\": \"white\"}}, \"shapedefaults\": {\"line\": {\"color\": \"#2a3f5f\"}}, \"ternary\": {\"aaxis\": {\"gridcolor\": \"white\", \"linecolor\": \"white\", \"ticks\": \"\"}, \"baxis\": {\"gridcolor\": \"white\", \"linecolor\": \"white\", \"ticks\": \"\"}, \"bgcolor\": \"#E5ECF6\", \"caxis\": {\"gridcolor\": \"white\", \"linecolor\": \"white\", \"ticks\": \"\"}}, \"title\": {\"x\": 0.05}, \"xaxis\": {\"automargin\": true, \"gridcolor\": \"white\", \"linecolor\": \"white\", \"ticks\": \"\", \"title\": {\"standoff\": 15}, \"zerolinecolor\": \"white\", \"zerolinewidth\": 2}, \"yaxis\": {\"automargin\": true, \"gridcolor\": \"white\", \"linecolor\": \"white\", \"ticks\": \"\", \"title\": {\"standoff\": 15}, \"zerolinecolor\": \"white\", \"zerolinewidth\": 2}}}, \"xaxis\": {\"anchor\": \"y\", \"domain\": [0.0, 1.0]}, \"xaxis2\": {\"anchor\": \"y2\", \"domain\": [0.0, 1.0]}, \"yaxis\": {\"anchor\": \"x\", \"domain\": [0.575, 1.0]}, \"yaxis2\": {\"anchor\": \"x2\", \"domain\": [0.0, 0.425]}},\n",
       "                        {\"responsive\": true}\n",
       "                    ).then(function(){\n",
       "                            \n",
       "var gd = document.getElementById('a5dee31a-0f61-4960-a61f-b25e069b8010');\n",
       "var x = new MutationObserver(function (mutations, observer) {{\n",
       "        var display = window.getComputedStyle(gd).display;\n",
       "        if (!display || display === 'none') {{\n",
       "            console.log([gd, 'removed!']);\n",
       "            Plotly.purge(gd);\n",
       "            observer.disconnect();\n",
       "        }}\n",
       "}});\n",
       "\n",
       "// Listen for the removal of the full notebook cells\n",
       "var notebookContainer = gd.closest('#notebook-container');\n",
       "if (notebookContainer) {{\n",
       "    x.observe(notebookContainer, {childList: true});\n",
       "}}\n",
       "\n",
       "// Listen for the clearing of the current output cell\n",
       "var outputEl = gd.closest('.output');\n",
       "if (outputEl) {{\n",
       "    x.observe(outputEl, {childList: true});\n",
       "}}\n",
       "\n",
       "                        })\n",
       "                };\n",
       "                });\n",
       "            </script>\n",
       "        </div>"
      ]
     },
     "metadata": {},
     "output_type": "display_data"
    }
   ],
   "source": [
    "# df1 = d[d.StockNo == '2330'].sort_values(by='ts').reset_index(drop=True)\n",
    "# df1['future_return']\n",
    "fig2 = make_subplots(rows=2, cols=1)\n",
    "# fig2 = go.Figure()\n",
    "fig2.append_trace(\n",
    "    go.Scatter(\n",
    "        x=d1.index,\n",
    "        y=(d1['down_ratio'] + d1['up_ratio']) / 2,\n",
    "        mode=\"lines\",\n",
    "        line=go.scatter.Line(color=\"blue\"),\n",
    "        name=\"平均報酬率(多空)\",\n",
    "        ),\n",
    "    \n",
    "    row=1, col=1,\n",
    ")\n",
    "\n",
    "fig2.append_trace(\n",
    "    go.Scatter(\n",
    "        x=d1.index,\n",
    "        y=d1['index'],\n",
    "        mode=\"lines\",\n",
    "        line=go.scatter.Line(color=\"gray\"),\n",
    "        name=\"大盤指數收盤價\",\n",
    "        ),\n",
    "    \n",
    "    row=2, col=1,\n",
    ")\n",
    "\n",
    "# fig2.append_trace(\n",
    "#     go.Scatter(\n",
    "#         x=d1.index,\n",
    "#         y=d1['down_ratio'],\n",
    "#         mode=\"lines\",\n",
    "#         line=go.scatter.Line(color=\"green\"),\n",
    "#         name=\"down_ratio\",\n",
    "#         ),\n",
    "    \n",
    "#     row=2, col=1,\n",
    "# )\n",
    "\n",
    "# fig2.append_trace(\n",
    "#     go.Scatter(\n",
    "#         x=d1.index,\n",
    "#         y=(d1['down_ratio'] + d1['up_ratio'])/2,\n",
    "#         mode=\"lines\",\n",
    "#         line=go.scatter.Line(color=\"blue\"),\n",
    "#         name=\"total_ratio\",\n",
    "#         ),\n",
    "    \n",
    "#     row=3, col=1,\n",
    "# )\n",
    "\n",
    "# fig = go.Figure()\n",
    "\n",
    "\n",
    "# fig.add_trace(\n",
    "#     go.Scatter(\n",
    "#         x=d1.index,\n",
    "#         y=d1['index'],\n",
    "#         mode=\"lines\",\n",
    "#         line=go.scatter.Line(color=\"gray\"),\n",
    "#         name=\"index_close\",\n",
    "#         ),\n",
    "    \n",
    "# #     row=1, col=1,\n",
    "# )\n",
    "# fig.update_layout(showlegend=True)\n",
    "\n",
    "\n",
    "\n",
    "\n",
    "# fig.update_layout(xaxis_rangeslider_visible=False, width=800)\n",
    "# fig2.update_layout(width=835,height=300)\n",
    "# fig2.update_yaxes(range=[0, 0.07])\n",
    "\n",
    "fig2.show()\n",
    "# fig.show()\n",
    "\n"
   ]
  },
  {
   "cell_type": "code",
   "execution_count": 15,
   "metadata": {},
   "outputs": [
    {
     "ename": "AttributeError",
     "evalue": "'DataFrame' object has no attribute 'ts'",
     "output_type": "error",
     "traceback": [
      "\u001b[1;31m---------------------------------------------------------------------------\u001b[0m",
      "\u001b[1;31mAttributeError\u001b[0m                            Traceback (most recent call last)",
      "\u001b[1;32m<ipython-input-15-2cbe59dc0b50>\u001b[0m in \u001b[0;36m<module>\u001b[1;34m\u001b[0m\n\u001b[0;32m      1\u001b[0m \u001b[1;32mfor\u001b[0m \u001b[0my\u001b[0m \u001b[1;32min\u001b[0m \u001b[0mtest_year\u001b[0m\u001b[1;33m:\u001b[0m\u001b[1;33m\u001b[0m\u001b[1;33m\u001b[0m\u001b[0m\n\u001b[0;32m      2\u001b[0m     \u001b[1;32mfor\u001b[0m \u001b[0mdf4\u001b[0m \u001b[1;32min\u001b[0m \u001b[0mdf_list\u001b[0m\u001b[1;33m:\u001b[0m\u001b[1;33m\u001b[0m\u001b[1;33m\u001b[0m\u001b[0m\n\u001b[1;32m----> 3\u001b[1;33m         \u001b[0md\u001b[0m\u001b[1;33m,\u001b[0m \u001b[0mr\u001b[0m \u001b[1;33m=\u001b[0m \u001b[0mfunc\u001b[0m\u001b[1;33m.\u001b[0m\u001b[0mdaily_aggregate\u001b[0m\u001b[1;33m(\u001b[0m\u001b[0mdf4\u001b[0m\u001b[1;33m,\u001b[0m \u001b[0myear\u001b[0m\u001b[1;33m=\u001b[0m\u001b[0my\u001b[0m\u001b[1;33m)\u001b[0m\u001b[1;33m\u001b[0m\u001b[1;33m\u001b[0m\u001b[0m\n\u001b[0m\u001b[0;32m      4\u001b[0m         \u001b[0mprint\u001b[0m\u001b[1;33m(\u001b[0m\u001b[1;34mf'The threshold is {t}, year {y}'\u001b[0m\u001b[1;33m)\u001b[0m\u001b[1;33m\u001b[0m\u001b[1;33m\u001b[0m\u001b[0m\n\u001b[0;32m      5\u001b[0m         \u001b[0mdisplay\u001b[0m\u001b[1;33m(\u001b[0m\u001b[0md\u001b[0m\u001b[1;33m)\u001b[0m\u001b[1;33m\u001b[0m\u001b[1;33m\u001b[0m\u001b[0m\n",
      "\u001b[1;32mD:\\庫存健診開發\\code\\PredictModel\\Evaluation_function.py\u001b[0m in \u001b[0;36mdaily_aggregate\u001b[1;34m(daily_eval_df, **kwargs)\u001b[0m\n\u001b[0;32m    341\u001b[0m     \u001b[1;32mif\u001b[0m \u001b[1;34m'year'\u001b[0m \u001b[1;32min\u001b[0m \u001b[0mkwargs\u001b[0m\u001b[1;33m:\u001b[0m\u001b[1;33m\u001b[0m\u001b[1;33m\u001b[0m\u001b[0m\n\u001b[0;32m    342\u001b[0m         \u001b[0my\u001b[0m \u001b[1;33m=\u001b[0m \u001b[0mkwargs\u001b[0m\u001b[1;33m[\u001b[0m\u001b[1;34m'year'\u001b[0m\u001b[1;33m]\u001b[0m\u001b[1;33m\u001b[0m\u001b[1;33m\u001b[0m\u001b[0m\n\u001b[1;32m--> 343\u001b[1;33m         \u001b[0md\u001b[0m \u001b[1;33m=\u001b[0m \u001b[0mdaily_eval_df\u001b[0m\u001b[1;33m[\u001b[0m\u001b[0mdaily_eval_df\u001b[0m\u001b[1;33m.\u001b[0m\u001b[0mts\u001b[0m\u001b[1;33m.\u001b[0m\u001b[0mdt\u001b[0m\u001b[1;33m.\u001b[0m\u001b[0myear\u001b[0m \u001b[1;33m==\u001b[0m \u001b[0my\u001b[0m\u001b[1;33m]\u001b[0m\u001b[1;33m\u001b[0m\u001b[1;33m\u001b[0m\u001b[0m\n\u001b[0m\u001b[0;32m    344\u001b[0m     \u001b[1;32melse\u001b[0m\u001b[1;33m:\u001b[0m\u001b[1;33m\u001b[0m\u001b[1;33m\u001b[0m\u001b[0m\n\u001b[0;32m    345\u001b[0m         \u001b[0md\u001b[0m \u001b[1;33m=\u001b[0m \u001b[0mdaily_eval_df\u001b[0m\u001b[1;33m.\u001b[0m\u001b[0mcopy\u001b[0m\u001b[1;33m(\u001b[0m\u001b[1;33m)\u001b[0m\u001b[1;33m\u001b[0m\u001b[1;33m\u001b[0m\u001b[0m\n",
      "\u001b[1;32m~\\AppData\\Local\\Continuum\\anaconda3\\envs\\tf-gpu\\lib\\site-packages\\pandas\\core\\generic.py\u001b[0m in \u001b[0;36m__getattr__\u001b[1;34m(self, name)\u001b[0m\n\u001b[0;32m   5177\u001b[0m             \u001b[1;32mif\u001b[0m \u001b[0mself\u001b[0m\u001b[1;33m.\u001b[0m\u001b[0m_info_axis\u001b[0m\u001b[1;33m.\u001b[0m\u001b[0m_can_hold_identifiers_and_holds_name\u001b[0m\u001b[1;33m(\u001b[0m\u001b[0mname\u001b[0m\u001b[1;33m)\u001b[0m\u001b[1;33m:\u001b[0m\u001b[1;33m\u001b[0m\u001b[1;33m\u001b[0m\u001b[0m\n\u001b[0;32m   5178\u001b[0m                 \u001b[1;32mreturn\u001b[0m \u001b[0mself\u001b[0m\u001b[1;33m[\u001b[0m\u001b[0mname\u001b[0m\u001b[1;33m]\u001b[0m\u001b[1;33m\u001b[0m\u001b[1;33m\u001b[0m\u001b[0m\n\u001b[1;32m-> 5179\u001b[1;33m             \u001b[1;32mreturn\u001b[0m \u001b[0mobject\u001b[0m\u001b[1;33m.\u001b[0m\u001b[0m__getattribute__\u001b[0m\u001b[1;33m(\u001b[0m\u001b[0mself\u001b[0m\u001b[1;33m,\u001b[0m \u001b[0mname\u001b[0m\u001b[1;33m)\u001b[0m\u001b[1;33m\u001b[0m\u001b[1;33m\u001b[0m\u001b[0m\n\u001b[0m\u001b[0;32m   5180\u001b[0m \u001b[1;33m\u001b[0m\u001b[0m\n\u001b[0;32m   5181\u001b[0m     \u001b[1;32mdef\u001b[0m \u001b[0m__setattr__\u001b[0m\u001b[1;33m(\u001b[0m\u001b[0mself\u001b[0m\u001b[1;33m,\u001b[0m \u001b[0mname\u001b[0m\u001b[1;33m,\u001b[0m \u001b[0mvalue\u001b[0m\u001b[1;33m)\u001b[0m\u001b[1;33m:\u001b[0m\u001b[1;33m\u001b[0m\u001b[1;33m\u001b[0m\u001b[0m\n",
      "\u001b[1;31mAttributeError\u001b[0m: 'DataFrame' object has no attribute 'ts'"
     ]
    }
   ],
   "source": [
    "for y in test_year:\n",
    "    for df4 in df_list:\n",
    "        d, r = func.daily_aggregate(df4, year=y)\n",
    "        print(f'The threshold is {t}, year {y}')\n",
    "        display(d)\n",
    "        display(r['daily_accuracy_worst'])\n",
    "        display(r['daily_ratio_worst'])\n",
    "        display(r['daily_portfolio_worst'])"
   ]
  },
  {
   "cell_type": "code",
   "execution_count": 28,
   "metadata": {},
   "outputs": [],
   "source": [
    "df_index = func.get_daily_index(date(2017,9,1), date(2019,9,6))\n",
    "df_index = df_index.sort_values(by='ts').reset_index(drop=True)"
   ]
  },
  {
   "cell_type": "code",
   "execution_count": 29,
   "metadata": {},
   "outputs": [
    {
     "data": {
      "application/vnd.plotly.v1+json": {
       "config": {
        "plotlyServerURL": "https://plot.ly"
       },
       "data": [
        {
         "line": {
          "color": "gray"
         },
         "mode": "lines",
         "name": "up_precision",
         "type": "scatter",
         "x": [
          "2017-09-01",
          "2017-10-01",
          "2017-11-01",
          "2017-12-01",
          "2018-01-01",
          "2018-02-01",
          "2018-03-01",
          "2018-04-01",
          "2018-05-01",
          "2018-06-01",
          "2018-07-01",
          "2018-08-01",
          "2018-09-01",
          "2018-10-01",
          "2018-11-01",
          "2018-12-01",
          "2019-01-01",
          "2019-02-01",
          "2019-03-01",
          "2019-04-01",
          "2019-05-01",
          "2019-06-01",
          "2019-07-01",
          "2019-08-01"
         ],
         "xaxis": "x",
         "y": [
          0.7227653631284916,
          0.7479726845924028,
          0.730112953616919,
          0.768796992481203,
          0.7240321962437716,
          0.7543520309477756,
          0.7317655078391274,
          0.645075421472937,
          0.7786788308835952,
          0.704185520361991,
          0.7467616580310881,
          0.6823594064847042,
          0.7102913533834586,
          0.5487012987012987,
          0.8599971858730828,
          0.5088503819638531,
          0.8298969072164949,
          0.8008779631255487,
          0.7609823590453131,
          0.749104744852283,
          0.6598770851624232,
          0.8155624885300055,
          0.6702073849266565,
          0.7454376163873371
         ],
         "yaxis": "y"
        },
        {
         "line": {
          "color": "gray"
         },
         "mode": "lines",
         "name": "down_precision",
         "type": "scatter",
         "x": [
          "2017-09-01",
          "2017-10-01",
          "2017-11-01",
          "2017-12-01",
          "2018-01-01",
          "2018-02-01",
          "2018-03-01",
          "2018-04-01",
          "2018-05-01",
          "2018-06-01",
          "2018-07-01",
          "2018-08-01",
          "2018-09-01",
          "2018-10-01",
          "2018-11-01",
          "2018-12-01",
          "2019-01-01",
          "2019-02-01",
          "2019-03-01",
          "2019-04-01",
          "2019-05-01",
          "2019-06-01",
          "2019-07-01",
          "2019-08-01"
         ],
         "xaxis": "x2",
         "y": [
          0.6902151283830673,
          0.6190200617283951,
          0.6711062788801305,
          0.6440882454326095,
          0.7385821928340766,
          0.7527719508540606,
          0.6800556156341727,
          0.7608283275371482,
          0.5656108597285068,
          0.7570938999314599,
          0.6587912087912088,
          0.7402226662860405,
          0.750456886526001,
          0.8735095267363245,
          0.500947169017049,
          0.7863388879722818,
          0.5029573730369161,
          0.6305518169582772,
          0.6211379050489827,
          0.6743416102332581,
          0.7782515991471215,
          0.4992251065478497,
          0.7011859994214636,
          0.6857502359232464
         ],
         "yaxis": "y2"
        },
        {
         "line": {
          "color": "blue"
         },
         "mode": "lines",
         "name": "index",
         "type": "scatter",
         "x": [
          "2017-09-01T00:00:00",
          "2017-09-04T00:00:00",
          "2017-09-05T00:00:00",
          "2017-09-06T00:00:00",
          "2017-09-07T00:00:00",
          "2017-09-08T00:00:00",
          "2017-09-11T00:00:00",
          "2017-09-12T00:00:00",
          "2017-09-13T00:00:00",
          "2017-09-14T00:00:00",
          "2017-09-15T00:00:00",
          "2017-09-18T00:00:00",
          "2017-09-19T00:00:00",
          "2017-09-20T00:00:00",
          "2017-09-21T00:00:00",
          "2017-09-22T00:00:00",
          "2017-09-25T00:00:00",
          "2017-09-26T00:00:00",
          "2017-09-27T00:00:00",
          "2017-09-28T00:00:00",
          "2017-09-29T00:00:00",
          "2017-09-30T00:00:00",
          "2017-10-02T00:00:00",
          "2017-10-03T00:00:00",
          "2017-10-05T00:00:00",
          "2017-10-06T00:00:00",
          "2017-10-11T00:00:00",
          "2017-10-12T00:00:00",
          "2017-10-13T00:00:00",
          "2017-10-16T00:00:00",
          "2017-10-17T00:00:00",
          "2017-10-18T00:00:00",
          "2017-10-19T00:00:00",
          "2017-10-20T00:00:00",
          "2017-10-23T00:00:00",
          "2017-10-24T00:00:00",
          "2017-10-25T00:00:00",
          "2017-10-26T00:00:00",
          "2017-10-27T00:00:00",
          "2017-10-30T00:00:00",
          "2017-10-31T00:00:00",
          "2017-11-01T00:00:00",
          "2017-11-02T00:00:00",
          "2017-11-03T00:00:00",
          "2017-11-06T00:00:00",
          "2017-11-07T00:00:00",
          "2017-11-08T00:00:00",
          "2017-11-09T00:00:00",
          "2017-11-10T00:00:00",
          "2017-11-13T00:00:00",
          "2017-11-14T00:00:00",
          "2017-11-15T00:00:00",
          "2017-11-16T00:00:00",
          "2017-11-17T00:00:00",
          "2017-11-20T00:00:00",
          "2017-11-21T00:00:00",
          "2017-11-22T00:00:00",
          "2017-11-23T00:00:00",
          "2017-11-24T00:00:00",
          "2017-11-27T00:00:00",
          "2017-11-28T00:00:00",
          "2017-11-29T00:00:00",
          "2017-11-30T00:00:00",
          "2017-12-01T00:00:00",
          "2017-12-04T00:00:00",
          "2017-12-05T00:00:00",
          "2017-12-06T00:00:00",
          "2017-12-07T00:00:00",
          "2017-12-08T00:00:00",
          "2017-12-11T00:00:00",
          "2017-12-12T00:00:00",
          "2017-12-13T00:00:00",
          "2017-12-14T00:00:00",
          "2017-12-15T00:00:00",
          "2017-12-18T00:00:00",
          "2017-12-19T00:00:00",
          "2017-12-20T00:00:00",
          "2017-12-21T00:00:00",
          "2017-12-22T00:00:00",
          "2017-12-25T00:00:00",
          "2017-12-26T00:00:00",
          "2017-12-27T00:00:00",
          "2017-12-28T00:00:00",
          "2017-12-29T00:00:00",
          "2018-01-02T00:00:00",
          "2018-01-03T00:00:00",
          "2018-01-04T00:00:00",
          "2018-01-05T00:00:00",
          "2018-01-08T00:00:00",
          "2018-01-09T00:00:00",
          "2018-01-10T00:00:00",
          "2018-01-11T00:00:00",
          "2018-01-12T00:00:00",
          "2018-01-15T00:00:00",
          "2018-01-16T00:00:00",
          "2018-01-17T00:00:00",
          "2018-01-18T00:00:00",
          "2018-01-19T00:00:00",
          "2018-01-22T00:00:00",
          "2018-01-23T00:00:00",
          "2018-01-24T00:00:00",
          "2018-01-25T00:00:00",
          "2018-01-26T00:00:00",
          "2018-01-29T00:00:00",
          "2018-01-30T00:00:00",
          "2018-01-31T00:00:00",
          "2018-02-01T00:00:00",
          "2018-02-02T00:00:00",
          "2018-02-05T00:00:00",
          "2018-02-06T00:00:00",
          "2018-02-07T00:00:00",
          "2018-02-08T00:00:00",
          "2018-02-09T00:00:00",
          "2018-02-12T00:00:00",
          "2018-02-21T00:00:00",
          "2018-02-22T00:00:00",
          "2018-02-23T00:00:00",
          "2018-02-26T00:00:00",
          "2018-02-27T00:00:00",
          "2018-03-01T00:00:00",
          "2018-03-02T00:00:00",
          "2018-03-05T00:00:00",
          "2018-03-06T00:00:00",
          "2018-03-07T00:00:00",
          "2018-03-08T00:00:00",
          "2018-03-09T00:00:00",
          "2018-03-12T00:00:00",
          "2018-03-13T00:00:00",
          "2018-03-14T00:00:00",
          "2018-03-15T00:00:00",
          "2018-03-16T00:00:00",
          "2018-03-19T00:00:00",
          "2018-03-20T00:00:00",
          "2018-03-21T00:00:00",
          "2018-03-22T00:00:00",
          "2018-03-23T00:00:00",
          "2018-03-26T00:00:00",
          "2018-03-27T00:00:00",
          "2018-03-28T00:00:00",
          "2018-03-29T00:00:00",
          "2018-03-30T00:00:00",
          "2018-03-31T00:00:00",
          "2018-04-02T00:00:00",
          "2018-04-03T00:00:00",
          "2018-04-09T00:00:00",
          "2018-04-10T00:00:00",
          "2018-04-11T00:00:00",
          "2018-04-12T00:00:00",
          "2018-04-13T00:00:00",
          "2018-04-16T00:00:00",
          "2018-04-17T00:00:00",
          "2018-04-18T00:00:00",
          "2018-04-19T00:00:00",
          "2018-04-20T00:00:00",
          "2018-04-23T00:00:00",
          "2018-04-24T00:00:00",
          "2018-04-25T00:00:00",
          "2018-04-26T00:00:00",
          "2018-04-27T00:00:00",
          "2018-04-30T00:00:00",
          "2018-05-02T00:00:00",
          "2018-05-03T00:00:00",
          "2018-05-04T00:00:00",
          "2018-05-07T00:00:00",
          "2018-05-08T00:00:00",
          "2018-05-09T00:00:00",
          "2018-05-10T00:00:00",
          "2018-05-11T00:00:00",
          "2018-05-14T00:00:00",
          "2018-05-15T00:00:00",
          "2018-05-16T00:00:00",
          "2018-05-17T00:00:00",
          "2018-05-18T00:00:00",
          "2018-05-21T00:00:00",
          "2018-05-22T00:00:00",
          "2018-05-23T00:00:00",
          "2018-05-24T00:00:00",
          "2018-05-25T00:00:00",
          "2018-05-28T00:00:00",
          "2018-05-29T00:00:00",
          "2018-05-30T00:00:00",
          "2018-05-31T00:00:00",
          "2018-06-01T00:00:00",
          "2018-06-04T00:00:00",
          "2018-06-05T00:00:00",
          "2018-06-06T00:00:00",
          "2018-06-07T00:00:00",
          "2018-06-08T00:00:00",
          "2018-06-11T00:00:00",
          "2018-06-12T00:00:00",
          "2018-06-13T00:00:00",
          "2018-06-14T00:00:00",
          "2018-06-15T00:00:00",
          "2018-06-19T00:00:00",
          "2018-06-20T00:00:00",
          "2018-06-21T00:00:00",
          "2018-06-22T00:00:00",
          "2018-06-25T00:00:00",
          "2018-06-26T00:00:00",
          "2018-06-27T00:00:00",
          "2018-06-28T00:00:00",
          "2018-06-29T00:00:00",
          "2018-07-02T00:00:00",
          "2018-07-03T00:00:00",
          "2018-07-04T00:00:00",
          "2018-07-05T00:00:00",
          "2018-07-06T00:00:00",
          "2018-07-09T00:00:00",
          "2018-07-10T00:00:00",
          "2018-07-11T00:00:00",
          "2018-07-12T00:00:00",
          "2018-07-13T00:00:00",
          "2018-07-16T00:00:00",
          "2018-07-17T00:00:00",
          "2018-07-18T00:00:00",
          "2018-07-19T00:00:00",
          "2018-07-20T00:00:00",
          "2018-07-23T00:00:00",
          "2018-07-24T00:00:00",
          "2018-07-25T00:00:00",
          "2018-07-26T00:00:00",
          "2018-07-27T00:00:00",
          "2018-07-30T00:00:00",
          "2018-07-31T00:00:00",
          "2018-08-01T00:00:00",
          "2018-08-02T00:00:00",
          "2018-08-03T00:00:00",
          "2018-08-06T00:00:00",
          "2018-08-07T00:00:00",
          "2018-08-08T00:00:00",
          "2018-08-09T00:00:00",
          "2018-08-10T00:00:00",
          "2018-08-13T00:00:00",
          "2018-08-14T00:00:00",
          "2018-08-15T00:00:00",
          "2018-08-16T00:00:00",
          "2018-08-17T00:00:00",
          "2018-08-20T00:00:00",
          "2018-08-21T00:00:00",
          "2018-08-22T00:00:00",
          "2018-08-23T00:00:00",
          "2018-08-24T00:00:00",
          "2018-08-27T00:00:00",
          "2018-08-28T00:00:00",
          "2018-08-29T00:00:00",
          "2018-08-30T00:00:00",
          "2018-08-31T00:00:00",
          "2018-09-03T00:00:00",
          "2018-09-04T00:00:00",
          "2018-09-05T00:00:00",
          "2018-09-06T00:00:00",
          "2018-09-07T00:00:00",
          "2018-09-10T00:00:00",
          "2018-09-11T00:00:00",
          "2018-09-12T00:00:00",
          "2018-09-13T00:00:00",
          "2018-09-14T00:00:00",
          "2018-09-17T00:00:00",
          "2018-09-18T00:00:00",
          "2018-09-19T00:00:00",
          "2018-09-20T00:00:00",
          "2018-09-21T00:00:00",
          "2018-09-25T00:00:00",
          "2018-09-26T00:00:00",
          "2018-09-27T00:00:00",
          "2018-09-28T00:00:00",
          "2018-10-01T00:00:00",
          "2018-10-02T00:00:00",
          "2018-10-03T00:00:00",
          "2018-10-04T00:00:00",
          "2018-10-05T00:00:00",
          "2018-10-08T00:00:00",
          "2018-10-09T00:00:00",
          "2018-10-11T00:00:00",
          "2018-10-12T00:00:00",
          "2018-10-15T00:00:00",
          "2018-10-16T00:00:00",
          "2018-10-17T00:00:00",
          "2018-10-18T00:00:00",
          "2018-10-19T00:00:00",
          "2018-10-22T00:00:00",
          "2018-10-23T00:00:00",
          "2018-10-24T00:00:00",
          "2018-10-25T00:00:00",
          "2018-10-26T00:00:00",
          "2018-10-29T00:00:00",
          "2018-10-30T00:00:00",
          "2018-10-31T00:00:00",
          "2018-11-01T00:00:00",
          "2018-11-02T00:00:00",
          "2018-11-05T00:00:00",
          "2018-11-06T00:00:00",
          "2018-11-07T00:00:00",
          "2018-11-08T00:00:00",
          "2018-11-09T00:00:00",
          "2018-11-12T00:00:00",
          "2018-11-13T00:00:00",
          "2018-11-14T00:00:00",
          "2018-11-15T00:00:00",
          "2018-11-16T00:00:00",
          "2018-11-19T00:00:00",
          "2018-11-20T00:00:00",
          "2018-11-21T00:00:00",
          "2018-11-22T00:00:00",
          "2018-11-23T00:00:00",
          "2018-11-26T00:00:00",
          "2018-11-27T00:00:00",
          "2018-11-28T00:00:00",
          "2018-11-29T00:00:00",
          "2018-11-30T00:00:00",
          "2018-12-03T00:00:00",
          "2018-12-04T00:00:00",
          "2018-12-05T00:00:00",
          "2018-12-06T00:00:00",
          "2018-12-07T00:00:00",
          "2018-12-10T00:00:00",
          "2018-12-11T00:00:00",
          "2018-12-12T00:00:00",
          "2018-12-13T00:00:00",
          "2018-12-14T00:00:00",
          "2018-12-17T00:00:00",
          "2018-12-18T00:00:00",
          "2018-12-19T00:00:00",
          "2018-12-20T00:00:00",
          "2018-12-21T00:00:00",
          "2018-12-22T00:00:00",
          "2018-12-24T00:00:00",
          "2018-12-25T00:00:00",
          "2018-12-26T00:00:00",
          "2018-12-27T00:00:00",
          "2018-12-28T00:00:00",
          "2019-01-02T00:00:00",
          "2019-01-03T00:00:00",
          "2019-01-04T00:00:00",
          "2019-01-07T00:00:00",
          "2019-01-08T00:00:00",
          "2019-01-09T00:00:00",
          "2019-01-10T00:00:00",
          "2019-01-11T00:00:00",
          "2019-01-14T00:00:00",
          "2019-01-15T00:00:00",
          "2019-01-16T00:00:00",
          "2019-01-17T00:00:00",
          "2019-01-18T00:00:00",
          "2019-01-21T00:00:00",
          "2019-01-22T00:00:00",
          "2019-01-23T00:00:00",
          "2019-01-24T00:00:00",
          "2019-01-25T00:00:00",
          "2019-01-28T00:00:00",
          "2019-01-29T00:00:00",
          "2019-01-30T00:00:00",
          "2019-02-11T00:00:00",
          "2019-02-12T00:00:00",
          "2019-02-13T00:00:00",
          "2019-02-14T00:00:00",
          "2019-02-15T00:00:00",
          "2019-02-18T00:00:00",
          "2019-02-19T00:00:00",
          "2019-02-20T00:00:00",
          "2019-02-21T00:00:00",
          "2019-02-22T00:00:00",
          "2019-02-25T00:00:00",
          "2019-02-26T00:00:00",
          "2019-02-27T00:00:00",
          "2019-03-04T00:00:00",
          "2019-03-05T00:00:00",
          "2019-03-06T00:00:00",
          "2019-03-07T00:00:00",
          "2019-03-08T00:00:00",
          "2019-03-11T00:00:00",
          "2019-03-12T00:00:00",
          "2019-03-13T00:00:00",
          "2019-03-14T00:00:00",
          "2019-03-15T00:00:00",
          "2019-03-18T00:00:00",
          "2019-03-19T00:00:00",
          "2019-03-20T00:00:00",
          "2019-03-21T00:00:00",
          "2019-03-22T00:00:00",
          "2019-03-25T00:00:00",
          "2019-03-26T00:00:00",
          "2019-03-27T00:00:00",
          "2019-03-28T00:00:00",
          "2019-03-29T00:00:00",
          "2019-04-01T00:00:00",
          "2019-04-02T00:00:00",
          "2019-04-03T00:00:00",
          "2019-04-08T00:00:00",
          "2019-04-09T00:00:00",
          "2019-04-10T00:00:00",
          "2019-04-11T00:00:00",
          "2019-04-12T00:00:00",
          "2019-04-15T00:00:00",
          "2019-04-16T00:00:00",
          "2019-04-17T00:00:00",
          "2019-04-18T00:00:00",
          "2019-04-19T00:00:00",
          "2019-04-22T00:00:00",
          "2019-04-23T00:00:00",
          "2019-04-24T00:00:00",
          "2019-04-25T00:00:00",
          "2019-04-26T00:00:00",
          "2019-04-29T00:00:00",
          "2019-04-30T00:00:00",
          "2019-05-02T00:00:00",
          "2019-05-03T00:00:00",
          "2019-05-06T00:00:00",
          "2019-05-07T00:00:00",
          "2019-05-08T00:00:00",
          "2019-05-09T00:00:00",
          "2019-05-10T00:00:00",
          "2019-05-13T00:00:00",
          "2019-05-14T00:00:00",
          "2019-05-15T00:00:00",
          "2019-05-16T00:00:00",
          "2019-05-17T00:00:00",
          "2019-05-20T00:00:00",
          "2019-05-21T00:00:00",
          "2019-05-22T00:00:00",
          "2019-05-23T00:00:00",
          "2019-05-24T00:00:00",
          "2019-05-27T00:00:00",
          "2019-05-28T00:00:00",
          "2019-05-29T00:00:00",
          "2019-05-30T00:00:00",
          "2019-05-31T00:00:00",
          "2019-06-03T00:00:00",
          "2019-06-04T00:00:00",
          "2019-06-05T00:00:00",
          "2019-06-06T00:00:00",
          "2019-06-10T00:00:00",
          "2019-06-11T00:00:00",
          "2019-06-12T00:00:00",
          "2019-06-13T00:00:00",
          "2019-06-14T00:00:00",
          "2019-06-17T00:00:00",
          "2019-06-18T00:00:00",
          "2019-06-19T00:00:00",
          "2019-06-20T00:00:00",
          "2019-06-21T00:00:00",
          "2019-06-24T00:00:00",
          "2019-06-25T00:00:00",
          "2019-06-26T00:00:00",
          "2019-06-27T00:00:00",
          "2019-06-28T00:00:00",
          "2019-07-01T00:00:00",
          "2019-07-02T00:00:00",
          "2019-07-03T00:00:00",
          "2019-07-04T00:00:00",
          "2019-07-05T00:00:00",
          "2019-07-08T00:00:00",
          "2019-07-09T00:00:00",
          "2019-07-10T00:00:00",
          "2019-07-11T00:00:00",
          "2019-07-12T00:00:00",
          "2019-07-15T00:00:00",
          "2019-07-16T00:00:00",
          "2019-07-17T00:00:00",
          "2019-07-18T00:00:00",
          "2019-07-19T00:00:00",
          "2019-07-22T00:00:00",
          "2019-07-23T00:00:00",
          "2019-07-24T00:00:00",
          "2019-07-25T00:00:00",
          "2019-07-26T00:00:00",
          "2019-07-29T00:00:00",
          "2019-07-30T00:00:00",
          "2019-07-31T00:00:00",
          "2019-08-01T00:00:00",
          "2019-08-02T00:00:00",
          "2019-08-05T00:00:00",
          "2019-08-06T00:00:00",
          "2019-08-07T00:00:00",
          "2019-08-08T00:00:00",
          "2019-08-12T00:00:00",
          "2019-08-13T00:00:00",
          "2019-08-14T00:00:00",
          "2019-08-15T00:00:00",
          "2019-08-16T00:00:00",
          "2019-08-19T00:00:00",
          "2019-08-20T00:00:00",
          "2019-08-21T00:00:00",
          "2019-08-22T00:00:00",
          "2019-08-23T00:00:00",
          "2019-08-26T00:00:00",
          "2019-08-27T00:00:00",
          "2019-08-28T00:00:00",
          "2019-08-29T00:00:00",
          "2019-08-30T00:00:00",
          "2019-09-02T00:00:00",
          "2019-09-03T00:00:00",
          "2019-09-04T00:00:00",
          "2019-09-05T00:00:00",
          "2019-09-06T00:00:00"
         ],
         "xaxis": "x3",
         "y": [
          10594.82,
          10569.87,
          10617.84,
          10547.86,
          10538.51,
          10609.95,
          10572.16,
          10610.35,
          10532.88,
          10553.57,
          10580.41,
          10631.57,
          10576.14,
          10519.17,
          10578.44,
          10449.68,
          10335.89,
          10257.02,
          10326.68,
          10296.45,
          10329.94,
          10383.94,
          10465.16,
          10469.35,
          10518.27,
          10532.81,
          10641.19,
          10711.44,
          10724.09,
          10774.21,
          10723.15,
          10720.28,
          10760.29,
          10728.88,
          10735.21,
          10743.78,
          10750.57,
          10734.76,
          10709.11,
          10756.87,
          10793.8,
          10806.36,
          10788.51,
          10800.77,
          10786.19,
          10840.34,
          10818.99,
          10743.27,
          10732.67,
          10683.92,
          10687.18,
          10630.65,
          10625.04,
          10701.64,
          10664.55,
          10779.24,
          10822.59,
          10854.57,
          10854.09,
          10750.93,
          10707.07,
          10713.55,
          10560.44,
          10600.37,
          10651.11,
          10566.85,
          10393.92,
          10355.76,
          10398.62,
          10473.09,
          10443.28,
          10470.7,
          10538.01,
          10491.44,
          10506.52,
          10467.34,
          10504.52,
          10488.97,
          10537.27,
          10522.49,
          10421.91,
          10486.67,
          10567.64,
          10642.86,
          10710.73,
          10801.57,
          10848.63,
          10879.8,
          10915.75,
          10914.89,
          10831.09,
          10810.06,
          10883.96,
          10956.31,
          10986.11,
          11004.8,
          11071.57,
          11150.85,
          11231.46,
          11253.11,
          11152.16,
          11165.95,
          11147.1,
          11221.81,
          11076.78,
          11103.79,
          11160.25,
          11126.23,
          10946.25,
          10404,
          10551.54,
          10528.52,
          10371.75,
          10421.09,
          10714.44,
          10662.38,
          10794.55,
          10836.7,
          10815.47,
          10785.79,
          10698.17,
          10642.9,
          10784.34,
          10745.32,
          10823.24,
          10864.82,
          11002.1,
          11095.63,
          11038.8,
          11018.45,
          11027.7,
          11046.9,
          11010.84,
          11011.07,
          11005.84,
          10823.33,
          10840.05,
          10986.79,
          10865.66,
          10845.92,
          10906.22,
          10919.49,
          10888.27,
          10821.53,
          10893.53,
          10927.18,
          10974.02,
          10955.29,
          10965.39,
          10954.55,
          10810.45,
          10847.89,
          10971.22,
          10779.38,
          10697.13,
          10579.5,
          10559.97,
          10488.58,
          10553.43,
          10657.88,
          10618.81,
          10514.18,
          10529.37,
          10604.91,
          10691.38,
          10703.35,
          10760.21,
          10858.98,
          10952.39,
          10874.73,
          10897.57,
          10833.81,
          10830.84,
          10966.2,
          10938.73,
          10886.18,
          10936.93,
          10942.3,
          10987.77,
          10964.12,
          10821.17,
          10874.96,
          10949.08,
          11109.5,
          11100.11,
          11201.83,
          11251.75,
          11156.42,
          11149.23,
          11144.79,
          11173.21,
          11013.98,
          11087.47,
          10904.19,
          10927.44,
          10941.07,
          10899.28,
          10786.46,
          10742.17,
          10701.03,
          10654.28,
          10836.91,
          10777.94,
          10715.72,
          10721.87,
          10611.81,
          10608.57,
          10720.28,
          10756.89,
          10676.84,
          10738.38,
          10864.54,
          10817.45,
          10778.99,
          10842.46,
          10835.38,
          10932.11,
          10946.89,
          10995.39,
          10965.79,
          11010.61,
          11075.78,
          11033.54,
          11057.51,
          11098.13,
          10929.77,
          11012.43,
          11024.1,
          10983.44,
          11075.25,
          11028.07,
          10983.68,
          10748.92,
          10824.23,
          10716.75,
          10683.9,
          10690.96,
          10699.05,
          10792.2,
          10804.2,
          10863.13,
          10809.35,
          10902.21,
          10989.55,
          11099.57,
          11093.75,
          11063.94,
          10964.22,
          11021.38,
          10995.13,
          10924.3,
          10846.99,
          10725.8,
          10752.3,
          10722.57,
          10727.23,
          10868.14,
          10828.61,
          10760.21,
          10857.27,
          10831.41,
          10972.41,
          10978.85,
          10974.19,
          11034.19,
          11006.34,
          11051.8,
          10919.63,
          10863.94,
          10718.91,
          10517.12,
          10455.93,
          10466.83,
          9806.11,
          10045.81,
          9901.12,
          9981.1,
          9979.14,
          9953.73,
          9919.26,
          9974.28,
          9775.2,
          9759.4,
          9520.79,
          9489.18,
          9516.32,
          9526.11,
          9802.13,
          9844.74,
          9906.59,
          9889.81,
          9824.95,
          9908.35,
          9945.31,
          9830.01,
          9831.21,
          9775.84,
          9791.88,
          9826.46,
          9797.09,
          9828.69,
          9743.99,
          9741.52,
          9714.71,
          9667.3,
          9765.36,
          9778.62,
          9884.31,
          9885.36,
          9888.03,
          10137.87,
          10083.54,
          9916.74,
          9684.72,
          9760.88,
          9647.54,
          9707.04,
          9816.45,
          9858.76,
          9774.16,
          9787.53,
          9718.82,
          9783.21,
          9674.52,
          9676.67,
          9646.16,
          9639.7,
          9527.09,
          9478.99,
          9641.56,
          9727.41,
          9554.14,
          9492.42,
          9382.51,
          9590.3,
          9563.6,
          9738.31,
          9720.69,
          9759.4,
          9708.22,
          9806.04,
          9763.81,
          9789.15,
          9836.06,
          9889.4,
          9894.66,
          9846.4,
          9877.12,
          9969.61,
          10013.33,
          9931.59,
          9932.26,
          10004.25,
          10097.74,
          10090.58,
          10089.01,
          10064.78,
          10145.28,
          10152.26,
          10272.46,
          10319.53,
          10322.92,
          10390.93,
          10391.55,
          10389.17,
          10349.88,
          10305.26,
          10357.15,
          10311.68,
          10241.75,
          10250.28,
          10343.33,
          10373.32,
          10348.65,
          10439.24,
          10512.7,
          10512.32,
          10551.56,
          10609.55,
          10639.07,
          10479.48,
          10559.2,
          10542.7,
          10536.26,
          10641.04,
          10642.63,
          10690.3,
          10704.38,
          10800.57,
          10851.6,
          10868.14,
          10808.77,
          10805.3,
          10875.6,
          10927.85,
          10997.26,
          10962.02,
          10968.5,
          10987.71,
          11025.68,
          11027.64,
          11039.86,
          10952.47,
          10939.06,
          10967.73,
          11004.49,
          11096.3,
          10897.12,
          10987.14,
          10923.71,
          10733.67,
          10712.99,
          10558.29,
          10519.25,
          10560.71,
          10474.61,
          10384.11,
          10398.41,
          10464.5,
          10457.22,
          10308.37,
          10328.28,
          10334.13,
          10312.31,
          10301.78,
          10382.99,
          10498.49,
          10500.07,
          10429.12,
          10461.62,
          10409.2,
          10566.47,
          10607.76,
          10615.66,
          10561.01,
          10524.67,
          10530.54,
          10566.74,
          10775.34,
          10785.01,
          10803.77,
          10779.45,
          10706.72,
          10652.55,
          10773.9,
          10730.83,
          10895.46,
          10865.12,
          10743.77,
          10775.9,
          10785.73,
          10751.22,
          10702.78,
          10798.48,
          10843.42,
          10824.35,
          10876.43,
          10886.05,
          10828.48,
          10799.28,
          10873.19,
          10944.53,
          10947.26,
          10935.76,
          10941.41,
          10891.98,
          10885.73,
          10830.9,
          10823.81,
          10731.75,
          10549.04,
          10423.41,
          10394.75,
          10386.18,
          10494.49,
          10472.36,
          10362.66,
          10427.73,
          10327.13,
          10420.89,
          10488.75,
          10522.5,
          10525.8,
          10529.78,
          10538.11,
          10354.57,
          10387.23,
          10434.29,
          10462.43,
          10618.05,
          10634.85,
          10558.21,
          10657.31,
          10756.93,
          10780.64
         ],
         "yaxis": "y3"
        }
       ],
       "layout": {
        "template": {
         "data": {
          "bar": [
           {
            "error_x": {
             "color": "#2a3f5f"
            },
            "error_y": {
             "color": "#2a3f5f"
            },
            "marker": {
             "line": {
              "color": "#E5ECF6",
              "width": 0.5
             }
            },
            "type": "bar"
           }
          ],
          "barpolar": [
           {
            "marker": {
             "line": {
              "color": "#E5ECF6",
              "width": 0.5
             }
            },
            "type": "barpolar"
           }
          ],
          "carpet": [
           {
            "aaxis": {
             "endlinecolor": "#2a3f5f",
             "gridcolor": "white",
             "linecolor": "white",
             "minorgridcolor": "white",
             "startlinecolor": "#2a3f5f"
            },
            "baxis": {
             "endlinecolor": "#2a3f5f",
             "gridcolor": "white",
             "linecolor": "white",
             "minorgridcolor": "white",
             "startlinecolor": "#2a3f5f"
            },
            "type": "carpet"
           }
          ],
          "choropleth": [
           {
            "colorbar": {
             "outlinewidth": 0,
             "ticks": ""
            },
            "type": "choropleth"
           }
          ],
          "contour": [
           {
            "colorbar": {
             "outlinewidth": 0,
             "ticks": ""
            },
            "colorscale": [
             [
              0,
              "#0d0887"
             ],
             [
              0.1111111111111111,
              "#46039f"
             ],
             [
              0.2222222222222222,
              "#7201a8"
             ],
             [
              0.3333333333333333,
              "#9c179e"
             ],
             [
              0.4444444444444444,
              "#bd3786"
             ],
             [
              0.5555555555555556,
              "#d8576b"
             ],
             [
              0.6666666666666666,
              "#ed7953"
             ],
             [
              0.7777777777777778,
              "#fb9f3a"
             ],
             [
              0.8888888888888888,
              "#fdca26"
             ],
             [
              1,
              "#f0f921"
             ]
            ],
            "type": "contour"
           }
          ],
          "contourcarpet": [
           {
            "colorbar": {
             "outlinewidth": 0,
             "ticks": ""
            },
            "type": "contourcarpet"
           }
          ],
          "heatmap": [
           {
            "colorbar": {
             "outlinewidth": 0,
             "ticks": ""
            },
            "colorscale": [
             [
              0,
              "#0d0887"
             ],
             [
              0.1111111111111111,
              "#46039f"
             ],
             [
              0.2222222222222222,
              "#7201a8"
             ],
             [
              0.3333333333333333,
              "#9c179e"
             ],
             [
              0.4444444444444444,
              "#bd3786"
             ],
             [
              0.5555555555555556,
              "#d8576b"
             ],
             [
              0.6666666666666666,
              "#ed7953"
             ],
             [
              0.7777777777777778,
              "#fb9f3a"
             ],
             [
              0.8888888888888888,
              "#fdca26"
             ],
             [
              1,
              "#f0f921"
             ]
            ],
            "type": "heatmap"
           }
          ],
          "heatmapgl": [
           {
            "colorbar": {
             "outlinewidth": 0,
             "ticks": ""
            },
            "colorscale": [
             [
              0,
              "#0d0887"
             ],
             [
              0.1111111111111111,
              "#46039f"
             ],
             [
              0.2222222222222222,
              "#7201a8"
             ],
             [
              0.3333333333333333,
              "#9c179e"
             ],
             [
              0.4444444444444444,
              "#bd3786"
             ],
             [
              0.5555555555555556,
              "#d8576b"
             ],
             [
              0.6666666666666666,
              "#ed7953"
             ],
             [
              0.7777777777777778,
              "#fb9f3a"
             ],
             [
              0.8888888888888888,
              "#fdca26"
             ],
             [
              1,
              "#f0f921"
             ]
            ],
            "type": "heatmapgl"
           }
          ],
          "histogram": [
           {
            "marker": {
             "colorbar": {
              "outlinewidth": 0,
              "ticks": ""
             }
            },
            "type": "histogram"
           }
          ],
          "histogram2d": [
           {
            "colorbar": {
             "outlinewidth": 0,
             "ticks": ""
            },
            "colorscale": [
             [
              0,
              "#0d0887"
             ],
             [
              0.1111111111111111,
              "#46039f"
             ],
             [
              0.2222222222222222,
              "#7201a8"
             ],
             [
              0.3333333333333333,
              "#9c179e"
             ],
             [
              0.4444444444444444,
              "#bd3786"
             ],
             [
              0.5555555555555556,
              "#d8576b"
             ],
             [
              0.6666666666666666,
              "#ed7953"
             ],
             [
              0.7777777777777778,
              "#fb9f3a"
             ],
             [
              0.8888888888888888,
              "#fdca26"
             ],
             [
              1,
              "#f0f921"
             ]
            ],
            "type": "histogram2d"
           }
          ],
          "histogram2dcontour": [
           {
            "colorbar": {
             "outlinewidth": 0,
             "ticks": ""
            },
            "colorscale": [
             [
              0,
              "#0d0887"
             ],
             [
              0.1111111111111111,
              "#46039f"
             ],
             [
              0.2222222222222222,
              "#7201a8"
             ],
             [
              0.3333333333333333,
              "#9c179e"
             ],
             [
              0.4444444444444444,
              "#bd3786"
             ],
             [
              0.5555555555555556,
              "#d8576b"
             ],
             [
              0.6666666666666666,
              "#ed7953"
             ],
             [
              0.7777777777777778,
              "#fb9f3a"
             ],
             [
              0.8888888888888888,
              "#fdca26"
             ],
             [
              1,
              "#f0f921"
             ]
            ],
            "type": "histogram2dcontour"
           }
          ],
          "mesh3d": [
           {
            "colorbar": {
             "outlinewidth": 0,
             "ticks": ""
            },
            "type": "mesh3d"
           }
          ],
          "parcoords": [
           {
            "line": {
             "colorbar": {
              "outlinewidth": 0,
              "ticks": ""
             }
            },
            "type": "parcoords"
           }
          ],
          "pie": [
           {
            "automargin": true,
            "type": "pie"
           }
          ],
          "scatter": [
           {
            "marker": {
             "colorbar": {
              "outlinewidth": 0,
              "ticks": ""
             }
            },
            "type": "scatter"
           }
          ],
          "scatter3d": [
           {
            "line": {
             "colorbar": {
              "outlinewidth": 0,
              "ticks": ""
             }
            },
            "marker": {
             "colorbar": {
              "outlinewidth": 0,
              "ticks": ""
             }
            },
            "type": "scatter3d"
           }
          ],
          "scattercarpet": [
           {
            "marker": {
             "colorbar": {
              "outlinewidth": 0,
              "ticks": ""
             }
            },
            "type": "scattercarpet"
           }
          ],
          "scattergeo": [
           {
            "marker": {
             "colorbar": {
              "outlinewidth": 0,
              "ticks": ""
             }
            },
            "type": "scattergeo"
           }
          ],
          "scattergl": [
           {
            "marker": {
             "colorbar": {
              "outlinewidth": 0,
              "ticks": ""
             }
            },
            "type": "scattergl"
           }
          ],
          "scattermapbox": [
           {
            "marker": {
             "colorbar": {
              "outlinewidth": 0,
              "ticks": ""
             }
            },
            "type": "scattermapbox"
           }
          ],
          "scatterpolar": [
           {
            "marker": {
             "colorbar": {
              "outlinewidth": 0,
              "ticks": ""
             }
            },
            "type": "scatterpolar"
           }
          ],
          "scatterpolargl": [
           {
            "marker": {
             "colorbar": {
              "outlinewidth": 0,
              "ticks": ""
             }
            },
            "type": "scatterpolargl"
           }
          ],
          "scatterternary": [
           {
            "marker": {
             "colorbar": {
              "outlinewidth": 0,
              "ticks": ""
             }
            },
            "type": "scatterternary"
           }
          ],
          "surface": [
           {
            "colorbar": {
             "outlinewidth": 0,
             "ticks": ""
            },
            "colorscale": [
             [
              0,
              "#0d0887"
             ],
             [
              0.1111111111111111,
              "#46039f"
             ],
             [
              0.2222222222222222,
              "#7201a8"
             ],
             [
              0.3333333333333333,
              "#9c179e"
             ],
             [
              0.4444444444444444,
              "#bd3786"
             ],
             [
              0.5555555555555556,
              "#d8576b"
             ],
             [
              0.6666666666666666,
              "#ed7953"
             ],
             [
              0.7777777777777778,
              "#fb9f3a"
             ],
             [
              0.8888888888888888,
              "#fdca26"
             ],
             [
              1,
              "#f0f921"
             ]
            ],
            "type": "surface"
           }
          ],
          "table": [
           {
            "cells": {
             "fill": {
              "color": "#EBF0F8"
             },
             "line": {
              "color": "white"
             }
            },
            "header": {
             "fill": {
              "color": "#C8D4E3"
             },
             "line": {
              "color": "white"
             }
            },
            "type": "table"
           }
          ]
         },
         "layout": {
          "annotationdefaults": {
           "arrowcolor": "#2a3f5f",
           "arrowhead": 0,
           "arrowwidth": 1
          },
          "coloraxis": {
           "colorbar": {
            "outlinewidth": 0,
            "ticks": ""
           }
          },
          "colorscale": {
           "diverging": [
            [
             0,
             "#8e0152"
            ],
            [
             0.1,
             "#c51b7d"
            ],
            [
             0.2,
             "#de77ae"
            ],
            [
             0.3,
             "#f1b6da"
            ],
            [
             0.4,
             "#fde0ef"
            ],
            [
             0.5,
             "#f7f7f7"
            ],
            [
             0.6,
             "#e6f5d0"
            ],
            [
             0.7,
             "#b8e186"
            ],
            [
             0.8,
             "#7fbc41"
            ],
            [
             0.9,
             "#4d9221"
            ],
            [
             1,
             "#276419"
            ]
           ],
           "sequential": [
            [
             0,
             "#0d0887"
            ],
            [
             0.1111111111111111,
             "#46039f"
            ],
            [
             0.2222222222222222,
             "#7201a8"
            ],
            [
             0.3333333333333333,
             "#9c179e"
            ],
            [
             0.4444444444444444,
             "#bd3786"
            ],
            [
             0.5555555555555556,
             "#d8576b"
            ],
            [
             0.6666666666666666,
             "#ed7953"
            ],
            [
             0.7777777777777778,
             "#fb9f3a"
            ],
            [
             0.8888888888888888,
             "#fdca26"
            ],
            [
             1,
             "#f0f921"
            ]
           ],
           "sequentialminus": [
            [
             0,
             "#0d0887"
            ],
            [
             0.1111111111111111,
             "#46039f"
            ],
            [
             0.2222222222222222,
             "#7201a8"
            ],
            [
             0.3333333333333333,
             "#9c179e"
            ],
            [
             0.4444444444444444,
             "#bd3786"
            ],
            [
             0.5555555555555556,
             "#d8576b"
            ],
            [
             0.6666666666666666,
             "#ed7953"
            ],
            [
             0.7777777777777778,
             "#fb9f3a"
            ],
            [
             0.8888888888888888,
             "#fdca26"
            ],
            [
             1,
             "#f0f921"
            ]
           ]
          },
          "colorway": [
           "#636efa",
           "#EF553B",
           "#00cc96",
           "#ab63fa",
           "#FFA15A",
           "#19d3f3",
           "#FF6692",
           "#B6E880",
           "#FF97FF",
           "#FECB52"
          ],
          "font": {
           "color": "#2a3f5f"
          },
          "geo": {
           "bgcolor": "white",
           "lakecolor": "white",
           "landcolor": "#E5ECF6",
           "showlakes": true,
           "showland": true,
           "subunitcolor": "white"
          },
          "hoverlabel": {
           "align": "left"
          },
          "hovermode": "closest",
          "mapbox": {
           "style": "light"
          },
          "paper_bgcolor": "white",
          "plot_bgcolor": "#E5ECF6",
          "polar": {
           "angularaxis": {
            "gridcolor": "white",
            "linecolor": "white",
            "ticks": ""
           },
           "bgcolor": "#E5ECF6",
           "radialaxis": {
            "gridcolor": "white",
            "linecolor": "white",
            "ticks": ""
           }
          },
          "scene": {
           "xaxis": {
            "backgroundcolor": "#E5ECF6",
            "gridcolor": "white",
            "gridwidth": 2,
            "linecolor": "white",
            "showbackground": true,
            "ticks": "",
            "zerolinecolor": "white"
           },
           "yaxis": {
            "backgroundcolor": "#E5ECF6",
            "gridcolor": "white",
            "gridwidth": 2,
            "linecolor": "white",
            "showbackground": true,
            "ticks": "",
            "zerolinecolor": "white"
           },
           "zaxis": {
            "backgroundcolor": "#E5ECF6",
            "gridcolor": "white",
            "gridwidth": 2,
            "linecolor": "white",
            "showbackground": true,
            "ticks": "",
            "zerolinecolor": "white"
           }
          },
          "shapedefaults": {
           "line": {
            "color": "#2a3f5f"
           }
          },
          "ternary": {
           "aaxis": {
            "gridcolor": "white",
            "linecolor": "white",
            "ticks": ""
           },
           "baxis": {
            "gridcolor": "white",
            "linecolor": "white",
            "ticks": ""
           },
           "bgcolor": "#E5ECF6",
           "caxis": {
            "gridcolor": "white",
            "linecolor": "white",
            "ticks": ""
           }
          },
          "title": {
           "x": 0.05
          },
          "xaxis": {
           "automargin": true,
           "gridcolor": "white",
           "linecolor": "white",
           "ticks": "",
           "title": {
            "standoff": 15
           },
           "zerolinecolor": "white",
           "zerolinewidth": 2
          },
          "yaxis": {
           "automargin": true,
           "gridcolor": "white",
           "linecolor": "white",
           "ticks": "",
           "title": {
            "standoff": 15
           },
           "zerolinecolor": "white",
           "zerolinewidth": 2
          }
         }
        },
        "xaxis": {
         "anchor": "y",
         "domain": [
          0,
          1
         ]
        },
        "xaxis2": {
         "anchor": "y2",
         "domain": [
          0,
          1
         ]
        },
        "xaxis3": {
         "anchor": "y3",
         "domain": [
          0,
          1
         ]
        },
        "yaxis": {
         "anchor": "x",
         "domain": [
          0.7333333333333333,
          1
         ]
        },
        "yaxis2": {
         "anchor": "x2",
         "domain": [
          0.36666666666666664,
          0.6333333333333333
         ]
        },
        "yaxis3": {
         "anchor": "x3",
         "domain": [
          0,
          0.26666666666666666
         ]
        }
       }
      },
      "text/html": [
       "<div>\n",
       "        \n",
       "        \n",
       "            <div id=\"60f3b67f-409e-4b31-9300-d1d81b9a1009\" class=\"plotly-graph-div\" style=\"height:525px; width:100%;\"></div>\n",
       "            <script type=\"text/javascript\">\n",
       "                require([\"plotly\"], function(Plotly) {\n",
       "                    window.PLOTLYENV=window.PLOTLYENV || {};\n",
       "                    \n",
       "                if (document.getElementById(\"60f3b67f-409e-4b31-9300-d1d81b9a1009\")) {\n",
       "                    Plotly.newPlot(\n",
       "                        '60f3b67f-409e-4b31-9300-d1d81b9a1009',\n",
       "                        [{\"line\": {\"color\": \"gray\"}, \"mode\": \"lines\", \"name\": \"up_precision\", \"type\": \"scatter\", \"x\": [\"2017-09-01\", \"2017-10-01\", \"2017-11-01\", \"2017-12-01\", \"2018-01-01\", \"2018-02-01\", \"2018-03-01\", \"2018-04-01\", \"2018-05-01\", \"2018-06-01\", \"2018-07-01\", \"2018-08-01\", \"2018-09-01\", \"2018-10-01\", \"2018-11-01\", \"2018-12-01\", \"2019-01-01\", \"2019-02-01\", \"2019-03-01\", \"2019-04-01\", \"2019-05-01\", \"2019-06-01\", \"2019-07-01\", \"2019-08-01\"], \"xaxis\": \"x\", \"y\": [0.7227653631284916, 0.7479726845924028, 0.730112953616919, 0.768796992481203, 0.7240321962437716, 0.7543520309477756, 0.7317655078391274, 0.645075421472937, 0.7786788308835952, 0.704185520361991, 0.7467616580310881, 0.6823594064847042, 0.7102913533834586, 0.5487012987012987, 0.8599971858730828, 0.5088503819638531, 0.8298969072164949, 0.8008779631255487, 0.7609823590453131, 0.749104744852283, 0.6598770851624232, 0.8155624885300055, 0.6702073849266565, 0.7454376163873371], \"yaxis\": \"y\"}, {\"line\": {\"color\": \"gray\"}, \"mode\": \"lines\", \"name\": \"down_precision\", \"type\": \"scatter\", \"x\": [\"2017-09-01\", \"2017-10-01\", \"2017-11-01\", \"2017-12-01\", \"2018-01-01\", \"2018-02-01\", \"2018-03-01\", \"2018-04-01\", \"2018-05-01\", \"2018-06-01\", \"2018-07-01\", \"2018-08-01\", \"2018-09-01\", \"2018-10-01\", \"2018-11-01\", \"2018-12-01\", \"2019-01-01\", \"2019-02-01\", \"2019-03-01\", \"2019-04-01\", \"2019-05-01\", \"2019-06-01\", \"2019-07-01\", \"2019-08-01\"], \"xaxis\": \"x2\", \"y\": [0.6902151283830673, 0.6190200617283951, 0.6711062788801305, 0.6440882454326095, 0.7385821928340766, 0.7527719508540606, 0.6800556156341727, 0.7608283275371482, 0.5656108597285068, 0.7570938999314599, 0.6587912087912088, 0.7402226662860405, 0.750456886526001, 0.8735095267363245, 0.500947169017049, 0.7863388879722818, 0.5029573730369161, 0.6305518169582772, 0.6211379050489827, 0.6743416102332581, 0.7782515991471215, 0.4992251065478497, 0.7011859994214636, 0.6857502359232464], \"yaxis\": \"y2\"}, {\"line\": {\"color\": \"blue\"}, \"mode\": \"lines\", \"name\": \"index\", \"type\": \"scatter\", \"x\": [\"2017-09-01T00:00:00\", \"2017-09-04T00:00:00\", \"2017-09-05T00:00:00\", \"2017-09-06T00:00:00\", \"2017-09-07T00:00:00\", \"2017-09-08T00:00:00\", \"2017-09-11T00:00:00\", \"2017-09-12T00:00:00\", \"2017-09-13T00:00:00\", \"2017-09-14T00:00:00\", \"2017-09-15T00:00:00\", \"2017-09-18T00:00:00\", \"2017-09-19T00:00:00\", \"2017-09-20T00:00:00\", \"2017-09-21T00:00:00\", \"2017-09-22T00:00:00\", \"2017-09-25T00:00:00\", \"2017-09-26T00:00:00\", \"2017-09-27T00:00:00\", \"2017-09-28T00:00:00\", \"2017-09-29T00:00:00\", \"2017-09-30T00:00:00\", \"2017-10-02T00:00:00\", \"2017-10-03T00:00:00\", \"2017-10-05T00:00:00\", \"2017-10-06T00:00:00\", \"2017-10-11T00:00:00\", \"2017-10-12T00:00:00\", \"2017-10-13T00:00:00\", \"2017-10-16T00:00:00\", \"2017-10-17T00:00:00\", \"2017-10-18T00:00:00\", \"2017-10-19T00:00:00\", \"2017-10-20T00:00:00\", \"2017-10-23T00:00:00\", \"2017-10-24T00:00:00\", \"2017-10-25T00:00:00\", \"2017-10-26T00:00:00\", \"2017-10-27T00:00:00\", \"2017-10-30T00:00:00\", \"2017-10-31T00:00:00\", \"2017-11-01T00:00:00\", \"2017-11-02T00:00:00\", \"2017-11-03T00:00:00\", \"2017-11-06T00:00:00\", \"2017-11-07T00:00:00\", \"2017-11-08T00:00:00\", \"2017-11-09T00:00:00\", \"2017-11-10T00:00:00\", \"2017-11-13T00:00:00\", \"2017-11-14T00:00:00\", \"2017-11-15T00:00:00\", \"2017-11-16T00:00:00\", \"2017-11-17T00:00:00\", \"2017-11-20T00:00:00\", \"2017-11-21T00:00:00\", \"2017-11-22T00:00:00\", \"2017-11-23T00:00:00\", \"2017-11-24T00:00:00\", \"2017-11-27T00:00:00\", \"2017-11-28T00:00:00\", \"2017-11-29T00:00:00\", \"2017-11-30T00:00:00\", \"2017-12-01T00:00:00\", \"2017-12-04T00:00:00\", \"2017-12-05T00:00:00\", \"2017-12-06T00:00:00\", \"2017-12-07T00:00:00\", \"2017-12-08T00:00:00\", \"2017-12-11T00:00:00\", \"2017-12-12T00:00:00\", \"2017-12-13T00:00:00\", \"2017-12-14T00:00:00\", \"2017-12-15T00:00:00\", \"2017-12-18T00:00:00\", \"2017-12-19T00:00:00\", \"2017-12-20T00:00:00\", \"2017-12-21T00:00:00\", \"2017-12-22T00:00:00\", \"2017-12-25T00:00:00\", \"2017-12-26T00:00:00\", \"2017-12-27T00:00:00\", \"2017-12-28T00:00:00\", \"2017-12-29T00:00:00\", \"2018-01-02T00:00:00\", \"2018-01-03T00:00:00\", \"2018-01-04T00:00:00\", \"2018-01-05T00:00:00\", \"2018-01-08T00:00:00\", \"2018-01-09T00:00:00\", \"2018-01-10T00:00:00\", \"2018-01-11T00:00:00\", \"2018-01-12T00:00:00\", \"2018-01-15T00:00:00\", \"2018-01-16T00:00:00\", \"2018-01-17T00:00:00\", \"2018-01-18T00:00:00\", \"2018-01-19T00:00:00\", \"2018-01-22T00:00:00\", \"2018-01-23T00:00:00\", \"2018-01-24T00:00:00\", \"2018-01-25T00:00:00\", \"2018-01-26T00:00:00\", \"2018-01-29T00:00:00\", \"2018-01-30T00:00:00\", \"2018-01-31T00:00:00\", \"2018-02-01T00:00:00\", \"2018-02-02T00:00:00\", \"2018-02-05T00:00:00\", \"2018-02-06T00:00:00\", \"2018-02-07T00:00:00\", \"2018-02-08T00:00:00\", \"2018-02-09T00:00:00\", \"2018-02-12T00:00:00\", \"2018-02-21T00:00:00\", \"2018-02-22T00:00:00\", \"2018-02-23T00:00:00\", \"2018-02-26T00:00:00\", \"2018-02-27T00:00:00\", \"2018-03-01T00:00:00\", \"2018-03-02T00:00:00\", \"2018-03-05T00:00:00\", \"2018-03-06T00:00:00\", \"2018-03-07T00:00:00\", \"2018-03-08T00:00:00\", \"2018-03-09T00:00:00\", \"2018-03-12T00:00:00\", \"2018-03-13T00:00:00\", \"2018-03-14T00:00:00\", \"2018-03-15T00:00:00\", \"2018-03-16T00:00:00\", \"2018-03-19T00:00:00\", \"2018-03-20T00:00:00\", \"2018-03-21T00:00:00\", \"2018-03-22T00:00:00\", \"2018-03-23T00:00:00\", \"2018-03-26T00:00:00\", \"2018-03-27T00:00:00\", \"2018-03-28T00:00:00\", \"2018-03-29T00:00:00\", \"2018-03-30T00:00:00\", \"2018-03-31T00:00:00\", \"2018-04-02T00:00:00\", \"2018-04-03T00:00:00\", \"2018-04-09T00:00:00\", \"2018-04-10T00:00:00\", \"2018-04-11T00:00:00\", \"2018-04-12T00:00:00\", \"2018-04-13T00:00:00\", \"2018-04-16T00:00:00\", \"2018-04-17T00:00:00\", \"2018-04-18T00:00:00\", \"2018-04-19T00:00:00\", \"2018-04-20T00:00:00\", \"2018-04-23T00:00:00\", \"2018-04-24T00:00:00\", \"2018-04-25T00:00:00\", \"2018-04-26T00:00:00\", \"2018-04-27T00:00:00\", \"2018-04-30T00:00:00\", \"2018-05-02T00:00:00\", \"2018-05-03T00:00:00\", \"2018-05-04T00:00:00\", \"2018-05-07T00:00:00\", \"2018-05-08T00:00:00\", \"2018-05-09T00:00:00\", \"2018-05-10T00:00:00\", \"2018-05-11T00:00:00\", \"2018-05-14T00:00:00\", \"2018-05-15T00:00:00\", \"2018-05-16T00:00:00\", \"2018-05-17T00:00:00\", \"2018-05-18T00:00:00\", \"2018-05-21T00:00:00\", \"2018-05-22T00:00:00\", \"2018-05-23T00:00:00\", \"2018-05-24T00:00:00\", \"2018-05-25T00:00:00\", \"2018-05-28T00:00:00\", \"2018-05-29T00:00:00\", \"2018-05-30T00:00:00\", \"2018-05-31T00:00:00\", \"2018-06-01T00:00:00\", \"2018-06-04T00:00:00\", \"2018-06-05T00:00:00\", \"2018-06-06T00:00:00\", \"2018-06-07T00:00:00\", \"2018-06-08T00:00:00\", \"2018-06-11T00:00:00\", \"2018-06-12T00:00:00\", \"2018-06-13T00:00:00\", \"2018-06-14T00:00:00\", \"2018-06-15T00:00:00\", \"2018-06-19T00:00:00\", \"2018-06-20T00:00:00\", \"2018-06-21T00:00:00\", \"2018-06-22T00:00:00\", \"2018-06-25T00:00:00\", \"2018-06-26T00:00:00\", \"2018-06-27T00:00:00\", \"2018-06-28T00:00:00\", \"2018-06-29T00:00:00\", \"2018-07-02T00:00:00\", \"2018-07-03T00:00:00\", \"2018-07-04T00:00:00\", \"2018-07-05T00:00:00\", \"2018-07-06T00:00:00\", \"2018-07-09T00:00:00\", \"2018-07-10T00:00:00\", \"2018-07-11T00:00:00\", \"2018-07-12T00:00:00\", \"2018-07-13T00:00:00\", \"2018-07-16T00:00:00\", \"2018-07-17T00:00:00\", \"2018-07-18T00:00:00\", \"2018-07-19T00:00:00\", \"2018-07-20T00:00:00\", \"2018-07-23T00:00:00\", \"2018-07-24T00:00:00\", \"2018-07-25T00:00:00\", \"2018-07-26T00:00:00\", \"2018-07-27T00:00:00\", \"2018-07-30T00:00:00\", \"2018-07-31T00:00:00\", \"2018-08-01T00:00:00\", \"2018-08-02T00:00:00\", \"2018-08-03T00:00:00\", \"2018-08-06T00:00:00\", \"2018-08-07T00:00:00\", \"2018-08-08T00:00:00\", \"2018-08-09T00:00:00\", \"2018-08-10T00:00:00\", \"2018-08-13T00:00:00\", \"2018-08-14T00:00:00\", \"2018-08-15T00:00:00\", \"2018-08-16T00:00:00\", \"2018-08-17T00:00:00\", \"2018-08-20T00:00:00\", \"2018-08-21T00:00:00\", \"2018-08-22T00:00:00\", \"2018-08-23T00:00:00\", \"2018-08-24T00:00:00\", \"2018-08-27T00:00:00\", \"2018-08-28T00:00:00\", \"2018-08-29T00:00:00\", \"2018-08-30T00:00:00\", \"2018-08-31T00:00:00\", \"2018-09-03T00:00:00\", \"2018-09-04T00:00:00\", \"2018-09-05T00:00:00\", \"2018-09-06T00:00:00\", \"2018-09-07T00:00:00\", \"2018-09-10T00:00:00\", \"2018-09-11T00:00:00\", \"2018-09-12T00:00:00\", \"2018-09-13T00:00:00\", \"2018-09-14T00:00:00\", \"2018-09-17T00:00:00\", \"2018-09-18T00:00:00\", \"2018-09-19T00:00:00\", \"2018-09-20T00:00:00\", \"2018-09-21T00:00:00\", \"2018-09-25T00:00:00\", \"2018-09-26T00:00:00\", \"2018-09-27T00:00:00\", \"2018-09-28T00:00:00\", \"2018-10-01T00:00:00\", \"2018-10-02T00:00:00\", \"2018-10-03T00:00:00\", \"2018-10-04T00:00:00\", \"2018-10-05T00:00:00\", \"2018-10-08T00:00:00\", \"2018-10-09T00:00:00\", \"2018-10-11T00:00:00\", \"2018-10-12T00:00:00\", \"2018-10-15T00:00:00\", \"2018-10-16T00:00:00\", \"2018-10-17T00:00:00\", \"2018-10-18T00:00:00\", \"2018-10-19T00:00:00\", \"2018-10-22T00:00:00\", \"2018-10-23T00:00:00\", \"2018-10-24T00:00:00\", \"2018-10-25T00:00:00\", \"2018-10-26T00:00:00\", \"2018-10-29T00:00:00\", \"2018-10-30T00:00:00\", \"2018-10-31T00:00:00\", \"2018-11-01T00:00:00\", \"2018-11-02T00:00:00\", \"2018-11-05T00:00:00\", \"2018-11-06T00:00:00\", \"2018-11-07T00:00:00\", \"2018-11-08T00:00:00\", \"2018-11-09T00:00:00\", \"2018-11-12T00:00:00\", \"2018-11-13T00:00:00\", \"2018-11-14T00:00:00\", \"2018-11-15T00:00:00\", \"2018-11-16T00:00:00\", \"2018-11-19T00:00:00\", \"2018-11-20T00:00:00\", \"2018-11-21T00:00:00\", \"2018-11-22T00:00:00\", \"2018-11-23T00:00:00\", \"2018-11-26T00:00:00\", \"2018-11-27T00:00:00\", \"2018-11-28T00:00:00\", \"2018-11-29T00:00:00\", \"2018-11-30T00:00:00\", \"2018-12-03T00:00:00\", \"2018-12-04T00:00:00\", \"2018-12-05T00:00:00\", \"2018-12-06T00:00:00\", \"2018-12-07T00:00:00\", \"2018-12-10T00:00:00\", \"2018-12-11T00:00:00\", \"2018-12-12T00:00:00\", \"2018-12-13T00:00:00\", \"2018-12-14T00:00:00\", \"2018-12-17T00:00:00\", \"2018-12-18T00:00:00\", \"2018-12-19T00:00:00\", \"2018-12-20T00:00:00\", \"2018-12-21T00:00:00\", \"2018-12-22T00:00:00\", \"2018-12-24T00:00:00\", \"2018-12-25T00:00:00\", \"2018-12-26T00:00:00\", \"2018-12-27T00:00:00\", \"2018-12-28T00:00:00\", \"2019-01-02T00:00:00\", \"2019-01-03T00:00:00\", \"2019-01-04T00:00:00\", \"2019-01-07T00:00:00\", \"2019-01-08T00:00:00\", \"2019-01-09T00:00:00\", \"2019-01-10T00:00:00\", \"2019-01-11T00:00:00\", \"2019-01-14T00:00:00\", \"2019-01-15T00:00:00\", \"2019-01-16T00:00:00\", \"2019-01-17T00:00:00\", \"2019-01-18T00:00:00\", \"2019-01-21T00:00:00\", \"2019-01-22T00:00:00\", \"2019-01-23T00:00:00\", \"2019-01-24T00:00:00\", \"2019-01-25T00:00:00\", \"2019-01-28T00:00:00\", \"2019-01-29T00:00:00\", \"2019-01-30T00:00:00\", \"2019-02-11T00:00:00\", \"2019-02-12T00:00:00\", \"2019-02-13T00:00:00\", \"2019-02-14T00:00:00\", \"2019-02-15T00:00:00\", \"2019-02-18T00:00:00\", \"2019-02-19T00:00:00\", \"2019-02-20T00:00:00\", \"2019-02-21T00:00:00\", \"2019-02-22T00:00:00\", \"2019-02-25T00:00:00\", \"2019-02-26T00:00:00\", \"2019-02-27T00:00:00\", \"2019-03-04T00:00:00\", \"2019-03-05T00:00:00\", \"2019-03-06T00:00:00\", \"2019-03-07T00:00:00\", \"2019-03-08T00:00:00\", \"2019-03-11T00:00:00\", \"2019-03-12T00:00:00\", \"2019-03-13T00:00:00\", \"2019-03-14T00:00:00\", \"2019-03-15T00:00:00\", \"2019-03-18T00:00:00\", \"2019-03-19T00:00:00\", \"2019-03-20T00:00:00\", \"2019-03-21T00:00:00\", \"2019-03-22T00:00:00\", \"2019-03-25T00:00:00\", \"2019-03-26T00:00:00\", \"2019-03-27T00:00:00\", \"2019-03-28T00:00:00\", \"2019-03-29T00:00:00\", \"2019-04-01T00:00:00\", \"2019-04-02T00:00:00\", \"2019-04-03T00:00:00\", \"2019-04-08T00:00:00\", \"2019-04-09T00:00:00\", \"2019-04-10T00:00:00\", \"2019-04-11T00:00:00\", \"2019-04-12T00:00:00\", \"2019-04-15T00:00:00\", \"2019-04-16T00:00:00\", \"2019-04-17T00:00:00\", \"2019-04-18T00:00:00\", \"2019-04-19T00:00:00\", \"2019-04-22T00:00:00\", \"2019-04-23T00:00:00\", \"2019-04-24T00:00:00\", \"2019-04-25T00:00:00\", \"2019-04-26T00:00:00\", \"2019-04-29T00:00:00\", \"2019-04-30T00:00:00\", \"2019-05-02T00:00:00\", \"2019-05-03T00:00:00\", \"2019-05-06T00:00:00\", \"2019-05-07T00:00:00\", \"2019-05-08T00:00:00\", \"2019-05-09T00:00:00\", \"2019-05-10T00:00:00\", \"2019-05-13T00:00:00\", \"2019-05-14T00:00:00\", \"2019-05-15T00:00:00\", \"2019-05-16T00:00:00\", \"2019-05-17T00:00:00\", \"2019-05-20T00:00:00\", \"2019-05-21T00:00:00\", \"2019-05-22T00:00:00\", \"2019-05-23T00:00:00\", \"2019-05-24T00:00:00\", \"2019-05-27T00:00:00\", \"2019-05-28T00:00:00\", \"2019-05-29T00:00:00\", \"2019-05-30T00:00:00\", \"2019-05-31T00:00:00\", \"2019-06-03T00:00:00\", \"2019-06-04T00:00:00\", \"2019-06-05T00:00:00\", \"2019-06-06T00:00:00\", \"2019-06-10T00:00:00\", \"2019-06-11T00:00:00\", \"2019-06-12T00:00:00\", \"2019-06-13T00:00:00\", \"2019-06-14T00:00:00\", \"2019-06-17T00:00:00\", \"2019-06-18T00:00:00\", \"2019-06-19T00:00:00\", \"2019-06-20T00:00:00\", \"2019-06-21T00:00:00\", \"2019-06-24T00:00:00\", \"2019-06-25T00:00:00\", \"2019-06-26T00:00:00\", \"2019-06-27T00:00:00\", \"2019-06-28T00:00:00\", \"2019-07-01T00:00:00\", \"2019-07-02T00:00:00\", \"2019-07-03T00:00:00\", \"2019-07-04T00:00:00\", \"2019-07-05T00:00:00\", \"2019-07-08T00:00:00\", \"2019-07-09T00:00:00\", \"2019-07-10T00:00:00\", \"2019-07-11T00:00:00\", \"2019-07-12T00:00:00\", \"2019-07-15T00:00:00\", \"2019-07-16T00:00:00\", \"2019-07-17T00:00:00\", \"2019-07-18T00:00:00\", \"2019-07-19T00:00:00\", \"2019-07-22T00:00:00\", \"2019-07-23T00:00:00\", \"2019-07-24T00:00:00\", \"2019-07-25T00:00:00\", \"2019-07-26T00:00:00\", \"2019-07-29T00:00:00\", \"2019-07-30T00:00:00\", \"2019-07-31T00:00:00\", \"2019-08-01T00:00:00\", \"2019-08-02T00:00:00\", \"2019-08-05T00:00:00\", \"2019-08-06T00:00:00\", \"2019-08-07T00:00:00\", \"2019-08-08T00:00:00\", \"2019-08-12T00:00:00\", \"2019-08-13T00:00:00\", \"2019-08-14T00:00:00\", \"2019-08-15T00:00:00\", \"2019-08-16T00:00:00\", \"2019-08-19T00:00:00\", \"2019-08-20T00:00:00\", \"2019-08-21T00:00:00\", \"2019-08-22T00:00:00\", \"2019-08-23T00:00:00\", \"2019-08-26T00:00:00\", \"2019-08-27T00:00:00\", \"2019-08-28T00:00:00\", \"2019-08-29T00:00:00\", \"2019-08-30T00:00:00\", \"2019-09-02T00:00:00\", \"2019-09-03T00:00:00\", \"2019-09-04T00:00:00\", \"2019-09-05T00:00:00\", \"2019-09-06T00:00:00\"], \"xaxis\": \"x3\", \"y\": [10594.82, 10569.87, 10617.84, 10547.86, 10538.51, 10609.95, 10572.16, 10610.35, 10532.88, 10553.57, 10580.41, 10631.57, 10576.14, 10519.17, 10578.44, 10449.68, 10335.89, 10257.02, 10326.68, 10296.45, 10329.94, 10383.94, 10465.16, 10469.35, 10518.27, 10532.81, 10641.19, 10711.44, 10724.09, 10774.21, 10723.15, 10720.28, 10760.29, 10728.88, 10735.21, 10743.78, 10750.57, 10734.76, 10709.11, 10756.87, 10793.8, 10806.36, 10788.51, 10800.77, 10786.19, 10840.34, 10818.99, 10743.27, 10732.67, 10683.92, 10687.18, 10630.65, 10625.04, 10701.64, 10664.55, 10779.24, 10822.59, 10854.57, 10854.09, 10750.93, 10707.07, 10713.55, 10560.44, 10600.37, 10651.11, 10566.85, 10393.92, 10355.76, 10398.62, 10473.09, 10443.28, 10470.7, 10538.01, 10491.44, 10506.52, 10467.34, 10504.52, 10488.97, 10537.27, 10522.49, 10421.91, 10486.67, 10567.64, 10642.86, 10710.73, 10801.57, 10848.63, 10879.8, 10915.75, 10914.89, 10831.09, 10810.06, 10883.96, 10956.31, 10986.11, 11004.8, 11071.57, 11150.85, 11231.46, 11253.11, 11152.16, 11165.95, 11147.1, 11221.81, 11076.78, 11103.79, 11160.25, 11126.23, 10946.25, 10404.0, 10551.54, 10528.52, 10371.75, 10421.09, 10714.44, 10662.38, 10794.55, 10836.7, 10815.47, 10785.79, 10698.17, 10642.9, 10784.34, 10745.32, 10823.24, 10864.82, 11002.1, 11095.63, 11038.8, 11018.45, 11027.7, 11046.9, 11010.84, 11011.07, 11005.84, 10823.33, 10840.05, 10986.79, 10865.66, 10845.92, 10906.22, 10919.49, 10888.27, 10821.53, 10893.53, 10927.18, 10974.02, 10955.29, 10965.39, 10954.55, 10810.45, 10847.89, 10971.22, 10779.38, 10697.13, 10579.5, 10559.97, 10488.58, 10553.43, 10657.88, 10618.81, 10514.18, 10529.37, 10604.91, 10691.38, 10703.35, 10760.21, 10858.98, 10952.39, 10874.73, 10897.57, 10833.81, 10830.84, 10966.2, 10938.73, 10886.18, 10936.93, 10942.3, 10987.77, 10964.12, 10821.17, 10874.96, 10949.08, 11109.5, 11100.11, 11201.83, 11251.75, 11156.42, 11149.23, 11144.79, 11173.21, 11013.98, 11087.47, 10904.19, 10927.44, 10941.07, 10899.28, 10786.46, 10742.17, 10701.03, 10654.28, 10836.91, 10777.94, 10715.72, 10721.87, 10611.81, 10608.57, 10720.28, 10756.89, 10676.84, 10738.38, 10864.54, 10817.45, 10778.99, 10842.46, 10835.38, 10932.11, 10946.89, 10995.39, 10965.79, 11010.61, 11075.78, 11033.54, 11057.51, 11098.13, 10929.77, 11012.43, 11024.1, 10983.44, 11075.25, 11028.07, 10983.68, 10748.92, 10824.23, 10716.75, 10683.9, 10690.96, 10699.05, 10792.2, 10804.2, 10863.13, 10809.35, 10902.21, 10989.55, 11099.57, 11093.75, 11063.94, 10964.22, 11021.38, 10995.13, 10924.3, 10846.99, 10725.8, 10752.3, 10722.57, 10727.23, 10868.14, 10828.61, 10760.21, 10857.27, 10831.41, 10972.41, 10978.85, 10974.19, 11034.19, 11006.34, 11051.8, 10919.63, 10863.94, 10718.91, 10517.12, 10455.93, 10466.83, 9806.11, 10045.81, 9901.12, 9981.1, 9979.14, 9953.73, 9919.26, 9974.28, 9775.2, 9759.4, 9520.79, 9489.18, 9516.32, 9526.11, 9802.13, 9844.74, 9906.59, 9889.81, 9824.95, 9908.35, 9945.31, 9830.01, 9831.21, 9775.84, 9791.88, 9826.46, 9797.09, 9828.69, 9743.99, 9741.52, 9714.71, 9667.3, 9765.36, 9778.62, 9884.31, 9885.36, 9888.03, 10137.87, 10083.54, 9916.74, 9684.72, 9760.88, 9647.54, 9707.04, 9816.45, 9858.76, 9774.16, 9787.53, 9718.82, 9783.21, 9674.52, 9676.67, 9646.16, 9639.7, 9527.09, 9478.99, 9641.56, 9727.41, 9554.14, 9492.42, 9382.51, 9590.3, 9563.6, 9738.31, 9720.69, 9759.4, 9708.22, 9806.04, 9763.81, 9789.15, 9836.06, 9889.4, 9894.66, 9846.4, 9877.12, 9969.61, 10013.33, 9931.59, 9932.26, 10004.25, 10097.74, 10090.58, 10089.01, 10064.78, 10145.28, 10152.26, 10272.46, 10319.53, 10322.92, 10390.93, 10391.55, 10389.17, 10349.88, 10305.26, 10357.15, 10311.68, 10241.75, 10250.28, 10343.33, 10373.32, 10348.65, 10439.24, 10512.7, 10512.32, 10551.56, 10609.55, 10639.07, 10479.48, 10559.2, 10542.7, 10536.26, 10641.04, 10642.63, 10690.3, 10704.38, 10800.57, 10851.6, 10868.14, 10808.77, 10805.3, 10875.6, 10927.85, 10997.26, 10962.02, 10968.5, 10987.71, 11025.68, 11027.64, 11039.86, 10952.47, 10939.06, 10967.73, 11004.49, 11096.3, 10897.12, 10987.14, 10923.71, 10733.67, 10712.99, 10558.29, 10519.25, 10560.71, 10474.61, 10384.11, 10398.41, 10464.5, 10457.22, 10308.37, 10328.28, 10334.13, 10312.31, 10301.78, 10382.99, 10498.49, 10500.07, 10429.12, 10461.62, 10409.2, 10566.47, 10607.76, 10615.66, 10561.01, 10524.67, 10530.54, 10566.74, 10775.34, 10785.01, 10803.77, 10779.45, 10706.72, 10652.55, 10773.9, 10730.83, 10895.46, 10865.12, 10743.77, 10775.9, 10785.73, 10751.22, 10702.78, 10798.48, 10843.42, 10824.35, 10876.43, 10886.05, 10828.48, 10799.28, 10873.19, 10944.53, 10947.26, 10935.76, 10941.41, 10891.98, 10885.73, 10830.9, 10823.81, 10731.75, 10549.04, 10423.41, 10394.75, 10386.18, 10494.49, 10472.36, 10362.66, 10427.73, 10327.13, 10420.89, 10488.75, 10522.5, 10525.8, 10529.78, 10538.11, 10354.57, 10387.23, 10434.29, 10462.43, 10618.05, 10634.85, 10558.21, 10657.31, 10756.93, 10780.64], \"yaxis\": \"y3\"}],\n",
       "                        {\"template\": {\"data\": {\"bar\": [{\"error_x\": {\"color\": \"#2a3f5f\"}, \"error_y\": {\"color\": \"#2a3f5f\"}, \"marker\": {\"line\": {\"color\": \"#E5ECF6\", \"width\": 0.5}}, \"type\": \"bar\"}], \"barpolar\": [{\"marker\": {\"line\": {\"color\": \"#E5ECF6\", \"width\": 0.5}}, \"type\": \"barpolar\"}], \"carpet\": [{\"aaxis\": {\"endlinecolor\": \"#2a3f5f\", \"gridcolor\": \"white\", \"linecolor\": \"white\", \"minorgridcolor\": \"white\", \"startlinecolor\": \"#2a3f5f\"}, \"baxis\": {\"endlinecolor\": \"#2a3f5f\", \"gridcolor\": \"white\", \"linecolor\": \"white\", \"minorgridcolor\": \"white\", \"startlinecolor\": \"#2a3f5f\"}, \"type\": \"carpet\"}], \"choropleth\": [{\"colorbar\": {\"outlinewidth\": 0, \"ticks\": \"\"}, \"type\": \"choropleth\"}], \"contour\": [{\"colorbar\": {\"outlinewidth\": 0, \"ticks\": \"\"}, \"colorscale\": [[0.0, \"#0d0887\"], [0.1111111111111111, \"#46039f\"], [0.2222222222222222, \"#7201a8\"], [0.3333333333333333, \"#9c179e\"], [0.4444444444444444, \"#bd3786\"], [0.5555555555555556, \"#d8576b\"], [0.6666666666666666, \"#ed7953\"], [0.7777777777777778, \"#fb9f3a\"], [0.8888888888888888, \"#fdca26\"], [1.0, \"#f0f921\"]], \"type\": \"contour\"}], \"contourcarpet\": [{\"colorbar\": {\"outlinewidth\": 0, \"ticks\": \"\"}, \"type\": \"contourcarpet\"}], \"heatmap\": [{\"colorbar\": {\"outlinewidth\": 0, \"ticks\": \"\"}, \"colorscale\": [[0.0, \"#0d0887\"], [0.1111111111111111, \"#46039f\"], [0.2222222222222222, \"#7201a8\"], [0.3333333333333333, \"#9c179e\"], [0.4444444444444444, \"#bd3786\"], [0.5555555555555556, \"#d8576b\"], [0.6666666666666666, \"#ed7953\"], [0.7777777777777778, \"#fb9f3a\"], [0.8888888888888888, \"#fdca26\"], [1.0, \"#f0f921\"]], \"type\": \"heatmap\"}], \"heatmapgl\": [{\"colorbar\": {\"outlinewidth\": 0, \"ticks\": \"\"}, \"colorscale\": [[0.0, \"#0d0887\"], [0.1111111111111111, \"#46039f\"], [0.2222222222222222, \"#7201a8\"], [0.3333333333333333, \"#9c179e\"], [0.4444444444444444, \"#bd3786\"], [0.5555555555555556, \"#d8576b\"], [0.6666666666666666, \"#ed7953\"], [0.7777777777777778, \"#fb9f3a\"], [0.8888888888888888, \"#fdca26\"], [1.0, \"#f0f921\"]], \"type\": \"heatmapgl\"}], \"histogram\": [{\"marker\": {\"colorbar\": {\"outlinewidth\": 0, \"ticks\": \"\"}}, \"type\": \"histogram\"}], \"histogram2d\": [{\"colorbar\": {\"outlinewidth\": 0, \"ticks\": \"\"}, \"colorscale\": [[0.0, \"#0d0887\"], [0.1111111111111111, \"#46039f\"], [0.2222222222222222, \"#7201a8\"], [0.3333333333333333, \"#9c179e\"], [0.4444444444444444, \"#bd3786\"], [0.5555555555555556, \"#d8576b\"], [0.6666666666666666, \"#ed7953\"], [0.7777777777777778, \"#fb9f3a\"], [0.8888888888888888, \"#fdca26\"], [1.0, \"#f0f921\"]], \"type\": \"histogram2d\"}], \"histogram2dcontour\": [{\"colorbar\": {\"outlinewidth\": 0, \"ticks\": \"\"}, \"colorscale\": [[0.0, \"#0d0887\"], [0.1111111111111111, \"#46039f\"], [0.2222222222222222, \"#7201a8\"], [0.3333333333333333, \"#9c179e\"], [0.4444444444444444, \"#bd3786\"], [0.5555555555555556, \"#d8576b\"], [0.6666666666666666, \"#ed7953\"], [0.7777777777777778, \"#fb9f3a\"], [0.8888888888888888, \"#fdca26\"], [1.0, \"#f0f921\"]], \"type\": \"histogram2dcontour\"}], \"mesh3d\": [{\"colorbar\": {\"outlinewidth\": 0, \"ticks\": \"\"}, \"type\": \"mesh3d\"}], \"parcoords\": [{\"line\": {\"colorbar\": {\"outlinewidth\": 0, \"ticks\": \"\"}}, \"type\": \"parcoords\"}], \"pie\": [{\"automargin\": true, \"type\": \"pie\"}], \"scatter\": [{\"marker\": {\"colorbar\": {\"outlinewidth\": 0, \"ticks\": \"\"}}, \"type\": \"scatter\"}], \"scatter3d\": [{\"line\": {\"colorbar\": {\"outlinewidth\": 0, \"ticks\": \"\"}}, \"marker\": {\"colorbar\": {\"outlinewidth\": 0, \"ticks\": \"\"}}, \"type\": \"scatter3d\"}], \"scattercarpet\": [{\"marker\": {\"colorbar\": {\"outlinewidth\": 0, \"ticks\": \"\"}}, \"type\": \"scattercarpet\"}], \"scattergeo\": [{\"marker\": {\"colorbar\": {\"outlinewidth\": 0, \"ticks\": \"\"}}, \"type\": \"scattergeo\"}], \"scattergl\": [{\"marker\": {\"colorbar\": {\"outlinewidth\": 0, \"ticks\": \"\"}}, \"type\": \"scattergl\"}], \"scattermapbox\": [{\"marker\": {\"colorbar\": {\"outlinewidth\": 0, \"ticks\": \"\"}}, \"type\": \"scattermapbox\"}], \"scatterpolar\": [{\"marker\": {\"colorbar\": {\"outlinewidth\": 0, \"ticks\": \"\"}}, \"type\": \"scatterpolar\"}], \"scatterpolargl\": [{\"marker\": {\"colorbar\": {\"outlinewidth\": 0, \"ticks\": \"\"}}, \"type\": \"scatterpolargl\"}], \"scatterternary\": [{\"marker\": {\"colorbar\": {\"outlinewidth\": 0, \"ticks\": \"\"}}, \"type\": \"scatterternary\"}], \"surface\": [{\"colorbar\": {\"outlinewidth\": 0, \"ticks\": \"\"}, \"colorscale\": [[0.0, \"#0d0887\"], [0.1111111111111111, \"#46039f\"], [0.2222222222222222, \"#7201a8\"], [0.3333333333333333, \"#9c179e\"], [0.4444444444444444, \"#bd3786\"], [0.5555555555555556, \"#d8576b\"], [0.6666666666666666, \"#ed7953\"], [0.7777777777777778, \"#fb9f3a\"], [0.8888888888888888, \"#fdca26\"], [1.0, \"#f0f921\"]], \"type\": \"surface\"}], \"table\": [{\"cells\": {\"fill\": {\"color\": \"#EBF0F8\"}, \"line\": {\"color\": \"white\"}}, \"header\": {\"fill\": {\"color\": \"#C8D4E3\"}, \"line\": {\"color\": \"white\"}}, \"type\": \"table\"}]}, \"layout\": {\"annotationdefaults\": {\"arrowcolor\": \"#2a3f5f\", \"arrowhead\": 0, \"arrowwidth\": 1}, \"coloraxis\": {\"colorbar\": {\"outlinewidth\": 0, \"ticks\": \"\"}}, \"colorscale\": {\"diverging\": [[0, \"#8e0152\"], [0.1, \"#c51b7d\"], [0.2, \"#de77ae\"], [0.3, \"#f1b6da\"], [0.4, \"#fde0ef\"], [0.5, \"#f7f7f7\"], [0.6, \"#e6f5d0\"], [0.7, \"#b8e186\"], [0.8, \"#7fbc41\"], [0.9, \"#4d9221\"], [1, \"#276419\"]], \"sequential\": [[0.0, \"#0d0887\"], [0.1111111111111111, \"#46039f\"], [0.2222222222222222, \"#7201a8\"], [0.3333333333333333, \"#9c179e\"], [0.4444444444444444, \"#bd3786\"], [0.5555555555555556, \"#d8576b\"], [0.6666666666666666, \"#ed7953\"], [0.7777777777777778, \"#fb9f3a\"], [0.8888888888888888, \"#fdca26\"], [1.0, \"#f0f921\"]], \"sequentialminus\": [[0.0, \"#0d0887\"], [0.1111111111111111, \"#46039f\"], [0.2222222222222222, \"#7201a8\"], [0.3333333333333333, \"#9c179e\"], [0.4444444444444444, \"#bd3786\"], [0.5555555555555556, \"#d8576b\"], [0.6666666666666666, \"#ed7953\"], [0.7777777777777778, \"#fb9f3a\"], [0.8888888888888888, \"#fdca26\"], [1.0, \"#f0f921\"]]}, \"colorway\": [\"#636efa\", \"#EF553B\", \"#00cc96\", \"#ab63fa\", \"#FFA15A\", \"#19d3f3\", \"#FF6692\", \"#B6E880\", \"#FF97FF\", \"#FECB52\"], \"font\": {\"color\": \"#2a3f5f\"}, \"geo\": {\"bgcolor\": \"white\", \"lakecolor\": \"white\", \"landcolor\": \"#E5ECF6\", \"showlakes\": true, \"showland\": true, \"subunitcolor\": \"white\"}, \"hoverlabel\": {\"align\": \"left\"}, \"hovermode\": \"closest\", \"mapbox\": {\"style\": \"light\"}, \"paper_bgcolor\": \"white\", \"plot_bgcolor\": \"#E5ECF6\", \"polar\": {\"angularaxis\": {\"gridcolor\": \"white\", \"linecolor\": \"white\", \"ticks\": \"\"}, \"bgcolor\": \"#E5ECF6\", \"radialaxis\": {\"gridcolor\": \"white\", \"linecolor\": \"white\", \"ticks\": \"\"}}, \"scene\": {\"xaxis\": {\"backgroundcolor\": \"#E5ECF6\", \"gridcolor\": \"white\", \"gridwidth\": 2, \"linecolor\": \"white\", \"showbackground\": true, \"ticks\": \"\", \"zerolinecolor\": \"white\"}, \"yaxis\": {\"backgroundcolor\": \"#E5ECF6\", \"gridcolor\": \"white\", \"gridwidth\": 2, \"linecolor\": \"white\", \"showbackground\": true, \"ticks\": \"\", \"zerolinecolor\": \"white\"}, \"zaxis\": {\"backgroundcolor\": \"#E5ECF6\", \"gridcolor\": \"white\", \"gridwidth\": 2, \"linecolor\": \"white\", \"showbackground\": true, \"ticks\": \"\", \"zerolinecolor\": \"white\"}}, \"shapedefaults\": {\"line\": {\"color\": \"#2a3f5f\"}}, \"ternary\": {\"aaxis\": {\"gridcolor\": \"white\", \"linecolor\": \"white\", \"ticks\": \"\"}, \"baxis\": {\"gridcolor\": \"white\", \"linecolor\": \"white\", \"ticks\": \"\"}, \"bgcolor\": \"#E5ECF6\", \"caxis\": {\"gridcolor\": \"white\", \"linecolor\": \"white\", \"ticks\": \"\"}}, \"title\": {\"x\": 0.05}, \"xaxis\": {\"automargin\": true, \"gridcolor\": \"white\", \"linecolor\": \"white\", \"ticks\": \"\", \"title\": {\"standoff\": 15}, \"zerolinecolor\": \"white\", \"zerolinewidth\": 2}, \"yaxis\": {\"automargin\": true, \"gridcolor\": \"white\", \"linecolor\": \"white\", \"ticks\": \"\", \"title\": {\"standoff\": 15}, \"zerolinecolor\": \"white\", \"zerolinewidth\": 2}}}, \"xaxis\": {\"anchor\": \"y\", \"domain\": [0.0, 1.0]}, \"xaxis2\": {\"anchor\": \"y2\", \"domain\": [0.0, 1.0]}, \"xaxis3\": {\"anchor\": \"y3\", \"domain\": [0.0, 1.0]}, \"yaxis\": {\"anchor\": \"x\", \"domain\": [0.7333333333333333, 1.0]}, \"yaxis2\": {\"anchor\": \"x2\", \"domain\": [0.36666666666666664, 0.6333333333333333]}, \"yaxis3\": {\"anchor\": \"x3\", \"domain\": [0.0, 0.26666666666666666]}},\n",
       "                        {\"responsive\": true}\n",
       "                    ).then(function(){\n",
       "                            \n",
       "var gd = document.getElementById('60f3b67f-409e-4b31-9300-d1d81b9a1009');\n",
       "var x = new MutationObserver(function (mutations, observer) {{\n",
       "        var display = window.getComputedStyle(gd).display;\n",
       "        if (!display || display === 'none') {{\n",
       "            console.log([gd, 'removed!']);\n",
       "            Plotly.purge(gd);\n",
       "            observer.disconnect();\n",
       "        }}\n",
       "}});\n",
       "\n",
       "// Listen for the removal of the full notebook cells\n",
       "var notebookContainer = gd.closest('#notebook-container');\n",
       "if (notebookContainer) {{\n",
       "    x.observe(notebookContainer, {childList: true});\n",
       "}}\n",
       "\n",
       "// Listen for the clearing of the current output cell\n",
       "var outputEl = gd.closest('.output');\n",
       "if (outputEl) {{\n",
       "    x.observe(outputEl, {childList: true});\n",
       "}}\n",
       "\n",
       "                        })\n",
       "                };\n",
       "                });\n",
       "            </script>\n",
       "        </div>"
      ]
     },
     "metadata": {},
     "output_type": "display_data"
    }
   ],
   "source": [
    "import plotly.graph_objects as go\n",
    "import numpy as np\n",
    "from plotly.subplots import make_subplots\n",
    "\n",
    "\n",
    "df1 = func.monthly_evaluation(data, df, threshold=0.5)\n",
    "df1 = df1.sort_index()\n",
    "fig2 = make_subplots(rows=3, cols=1)\n",
    "\n",
    "fig2.append_trace(\n",
    "    go.Scatter(\n",
    "        x=df1.index,\n",
    "        y=df1['up_precision'],\n",
    "        mode=\"lines\",\n",
    "        line=go.scatter.Line(color=\"gray\"),\n",
    "        name=\"up_precision\",\n",
    "        ),\n",
    "    \n",
    "    row=1, col=1,\n",
    ")\n",
    "\n",
    "fig2.append_trace(\n",
    "    go.Scatter(\n",
    "        x=df1.index,\n",
    "        y=df1['down_precision'],\n",
    "        mode=\"lines\",\n",
    "        line=go.scatter.Line(color=\"gray\"),\n",
    "        name=\"down_precision\",\n",
    "        ),\n",
    "    \n",
    "    row=2, col=1,\n",
    ")\n",
    "\n",
    "fig2.append_trace(\n",
    "    go.Scatter(\n",
    "        x=df_index['ts'],\n",
    "        y=df_index['index_close'],\n",
    "        mode=\"lines\",\n",
    "        line=go.scatter.Line(color=\"blue\"),\n",
    "        name=\"index\",\n",
    "        ),\n",
    "    \n",
    "    row=3, col=1,\n",
    ")\n",
    "\n",
    "# fig.update_layout(xaxis_rangeslider_visible=False, width=800)\n",
    "# fig2.update_layout(width=835,height=300)\n",
    "# fig2.update_yaxes(range=[0, 1])\n",
    "\n",
    "fig2.show()\n",
    "# fig.show()\n"
   ]
  },
  {
   "cell_type": "code",
   "execution_count": 25,
   "metadata": {},
   "outputs": [
    {
     "data": {
      "application/vnd.plotly.v1+json": {
       "config": {
        "plotlyServerURL": "https://plot.ly"
       },
       "data": [
        {
         "close": [
          10594.82,
          10569.87,
          10617.84,
          10547.86,
          10538.51,
          10609.95,
          10572.16,
          10610.35,
          10532.88,
          10553.57,
          10580.41,
          10631.57,
          10576.14,
          10519.17,
          10578.44,
          10449.68,
          10335.89,
          10257.02,
          10326.68,
          10296.45,
          10329.94,
          10383.94,
          10465.16,
          10469.35,
          10518.27,
          10532.81,
          10641.19,
          10711.44,
          10724.09,
          10774.21,
          10723.15,
          10720.28,
          10760.29,
          10728.88,
          10735.21,
          10743.78,
          10750.57,
          10734.76,
          10709.11,
          10756.87,
          10793.8,
          10806.36,
          10788.51,
          10800.77,
          10786.19,
          10840.34,
          10818.99,
          10743.27,
          10732.67,
          10683.92,
          10687.18,
          10630.65,
          10625.04,
          10701.64,
          10664.55,
          10779.24,
          10822.59,
          10854.57,
          10854.09,
          10750.93,
          10707.07,
          10713.55,
          10560.44,
          10600.37,
          10651.11,
          10566.85,
          10393.92,
          10355.76,
          10398.62,
          10473.09,
          10443.28,
          10470.7,
          10538.01,
          10491.44,
          10506.52,
          10467.34,
          10504.52,
          10488.97,
          10537.27,
          10522.49,
          10421.91,
          10486.67,
          10567.64,
          10642.86,
          10710.73,
          10801.57,
          10848.63,
          10879.8,
          10915.75,
          10914.89,
          10831.09,
          10810.06,
          10883.96,
          10956.31,
          10986.11,
          11004.8,
          11071.57,
          11150.85,
          11231.46,
          11253.11,
          11152.16,
          11165.95,
          11147.1,
          11221.81,
          11076.78,
          11103.79,
          11160.25,
          11126.23,
          10946.25,
          10404,
          10551.54,
          10528.52,
          10371.75,
          10421.09,
          10714.44,
          10662.38,
          10794.55,
          10836.7,
          10815.47,
          10785.79,
          10698.17,
          10642.9,
          10784.34,
          10745.32,
          10823.24,
          10864.82,
          11002.1,
          11095.63,
          11038.8,
          11018.45,
          11027.7,
          11046.9,
          11010.84,
          11011.07,
          11005.84,
          10823.33,
          10840.05,
          10986.79,
          10865.66,
          10845.92,
          10906.22,
          10919.49,
          10888.27,
          10821.53,
          10893.53,
          10927.18,
          10974.02,
          10955.29,
          10965.39,
          10954.55,
          10810.45,
          10847.89,
          10971.22,
          10779.38,
          10697.13,
          10579.5,
          10559.97,
          10488.58,
          10553.43,
          10657.88,
          10618.81,
          10514.18,
          10529.37,
          10604.91,
          10691.38,
          10703.35,
          10760.21,
          10858.98,
          10952.39,
          10874.73,
          10897.57,
          10833.81,
          10830.84,
          10966.2,
          10938.73,
          10886.18,
          10936.93,
          10942.3,
          10987.77,
          10964.12,
          10821.17,
          10874.96,
          10949.08,
          11109.5,
          11100.11,
          11201.83,
          11251.75,
          11156.42,
          11149.23,
          11144.79,
          11173.21,
          11013.98,
          11087.47,
          10904.19,
          10927.44,
          10941.07,
          10899.28,
          10786.46,
          10742.17,
          10701.03,
          10654.28,
          10836.91,
          10777.94,
          10715.72,
          10721.87,
          10611.81,
          10608.57,
          10720.28,
          10756.89,
          10676.84,
          10738.38,
          10864.54,
          10817.45,
          10778.99,
          10842.46,
          10835.38,
          10932.11,
          10946.89,
          10995.39,
          10965.79,
          11010.61,
          11075.78,
          11033.54,
          11057.51,
          11098.13,
          10929.77,
          11012.43,
          11024.1,
          10983.44,
          11075.25,
          11028.07,
          10983.68,
          10748.92,
          10824.23,
          10716.75,
          10683.9,
          10690.96,
          10699.05,
          10792.2,
          10804.2,
          10863.13,
          10809.35,
          10902.21,
          10989.55,
          11099.57,
          11093.75,
          11063.94,
          10964.22,
          11021.38,
          10995.13,
          10924.3,
          10846.99,
          10725.8,
          10752.3,
          10722.57,
          10727.23,
          10868.14,
          10828.61,
          10760.21,
          10857.27,
          10831.41,
          10972.41,
          10978.85,
          10974.19,
          11034.19,
          11006.34,
          11051.8,
          10919.63,
          10863.94,
          10718.91,
          10517.12,
          10455.93,
          10466.83,
          9806.11,
          10045.81,
          9901.12,
          9981.1,
          9979.14,
          9953.73,
          9919.26,
          9974.28,
          9775.2,
          9759.4,
          9520.79,
          9489.18,
          9516.32,
          9526.11,
          9802.13,
          9844.74,
          9906.59,
          9889.81,
          9824.95,
          9908.35,
          9945.31,
          9830.01,
          9831.21,
          9775.84,
          9791.88,
          9826.46,
          9797.09,
          9828.69,
          9743.99,
          9741.52,
          9714.71,
          9667.3,
          9765.36,
          9778.62,
          9884.31,
          9885.36,
          9888.03,
          10137.87,
          10083.54,
          9916.74,
          9684.72,
          9760.88,
          9647.54,
          9707.04,
          9816.45,
          9858.76,
          9774.16,
          9787.53,
          9718.82,
          9783.21,
          9674.52,
          9676.67,
          9646.16,
          9639.7,
          9527.09,
          9478.99,
          9641.56,
          9727.41,
          9554.14,
          9492.42,
          9382.51,
          9590.3,
          9563.6,
          9738.31,
          9720.69,
          9759.4,
          9708.22,
          9806.04,
          9763.81,
          9789.15,
          9836.06,
          9889.4,
          9894.66,
          9846.4,
          9877.12,
          9969.61,
          10013.33,
          9931.59,
          9932.26,
          10004.25,
          10097.74,
          10090.58,
          10089.01,
          10064.78,
          10145.28,
          10152.26,
          10272.46,
          10319.53,
          10322.92,
          10390.93,
          10391.55,
          10389.17,
          10349.88,
          10305.26,
          10357.15,
          10311.68,
          10241.75,
          10250.28,
          10343.33,
          10373.32,
          10348.65,
          10439.24,
          10512.7,
          10512.32,
          10551.56,
          10609.55,
          10639.07,
          10479.48,
          10559.2,
          10542.7,
          10536.26,
          10641.04,
          10642.63,
          10690.3,
          10704.38,
          10800.57,
          10851.6,
          10868.14,
          10808.77,
          10805.3,
          10875.6,
          10927.85,
          10997.26,
          10962.02,
          10968.5,
          10987.71,
          11025.68,
          11027.64,
          11039.86,
          10952.47,
          10939.06,
          10967.73,
          11004.49,
          11096.3,
          10897.12,
          10987.14,
          10923.71,
          10733.67,
          10712.99,
          10558.29,
          10519.25,
          10560.71,
          10474.61,
          10384.11,
          10398.41,
          10464.5,
          10457.22,
          10308.37,
          10328.28,
          10334.13,
          10312.31,
          10301.78,
          10382.99,
          10498.49,
          10500.07,
          10429.12,
          10461.62,
          10409.2,
          10566.47,
          10607.76,
          10615.66,
          10561.01,
          10524.67,
          10530.54,
          10566.74,
          10775.34,
          10785.01,
          10803.77,
          10779.45,
          10706.72,
          10652.55,
          10773.9,
          10730.83,
          10895.46,
          10865.12,
          10743.77,
          10775.9,
          10785.73,
          10751.22,
          10702.78,
          10798.48,
          10843.42,
          10824.35,
          10876.43,
          10886.05,
          10828.48,
          10799.28,
          10873.19,
          10944.53,
          10947.26,
          10935.76,
          10941.41,
          10891.98,
          10885.73,
          10830.9,
          10823.81,
          10731.75,
          10549.04,
          10423.41,
          10394.75,
          10386.18,
          10494.49,
          10472.36,
          10362.66,
          10427.73,
          10327.13,
          10420.89,
          10488.75,
          10522.5,
          10525.8,
          10529.78,
          10538.11,
          10354.57,
          10387.23,
          10434.29,
          10462.43,
          10618.05,
          10634.85,
          10558.21,
          10657.31,
          10756.93,
          10780.64
         ],
         "decreasing": {
          "line": {
           "color": "green"
          }
         },
         "high": [
          10619.52,
          10610.04,
          10617.84,
          10604.92,
          10604.02,
          10609.95,
          10656.25,
          10646.55,
          10620.31,
          10572.71,
          10580.78,
          10642.4,
          10664.18,
          10589.19,
          10603.08,
          10579.02,
          10447.09,
          10374.54,
          10357.23,
          10365.59,
          10338.95,
          10400.4,
          10472.81,
          10495.34,
          10530.93,
          10557.67,
          10668.49,
          10711.44,
          10724.09,
          10774.21,
          10798.52,
          10790.31,
          10798.54,
          10753.77,
          10792.27,
          10766.64,
          10794.55,
          10756.51,
          10803.6,
          10842.25,
          10829.33,
          10843.41,
          10827.67,
          10835.7,
          10858.5,
          10842.61,
          10844.74,
          10831.38,
          10742.61,
          10749.39,
          10735.08,
          10669.59,
          10666.66,
          10729.45,
          10728.39,
          10787.58,
          10882.65,
          10872.29,
          10873.91,
          10856,
          10752.58,
          10762.91,
          10650.18,
          10665.92,
          10665.43,
          10635.71,
          10541.03,
          10418.97,
          10419.28,
          10504.67,
          10495.24,
          10489.17,
          10577.53,
          10520.66,
          10526.41,
          10544,
          10514.31,
          10545.78,
          10537.27,
          10556.65,
          10528.92,
          10497.77,
          10592.04,
          10659.98,
          10710.73,
          10813.16,
          10853.46,
          10879.8,
          10918.47,
          10931,
          10934.75,
          10844.08,
          10899.98,
          10962.55,
          10986.11,
          11030.22,
          11122.82,
          11150.85,
          11231.46,
          11270.18,
          11228.71,
          11268.61,
          11178.3,
          11246.18,
          11189.57,
          11158.29,
          11212.1,
          11153.32,
          10970.3,
          10761.01,
          10697.82,
          10609.5,
          10392.31,
          10473.51,
          10720.48,
          10698.47,
          10799.29,
          10890.69,
          10937.9,
          10805.55,
          10719.29,
          10756.37,
          10784.34,
          10818.05,
          10852.33,
          10882.76,
          11016.56,
          11095.63,
          11070.29,
          11052.11,
          11054.86,
          11066,
          11020.78,
          11072.31,
          11120.2,
          10863.67,
          10840.05,
          10986.79,
          10939.97,
          10889.6,
          10969.22,
          10947.16,
          10969.88,
          10837.54,
          10904.75,
          10975.67,
          11016.35,
          11008.2,
          10988.23,
          10974.94,
          10965.2,
          10917.6,
          10983.96,
          10831.56,
          10774.73,
          10692.19,
          10573.73,
          10618.68,
          10573.61,
          10660.61,
          10683.9,
          10578.98,
          10566.37,
          10632.62,
          10691.38,
          10748.6,
          10782.06,
          10874.63,
          10970.24,
          10978.38,
          10915.74,
          10938.63,
          10893.35,
          10979.1,
          11034.12,
          10991.86,
          10942.64,
          10977.81,
          10999.43,
          10986.53,
          10925.21,
          10909.61,
          10954.67,
          11109.5,
          11131.08,
          11207.15,
          11261.68,
          11243.59,
          11186.67,
          11160.05,
          11188.01,
          11143.04,
          11087.47,
          11008.77,
          10969.2,
          10992.31,
          10914.83,
          10851.16,
          10752.99,
          10800.34,
          10723.84,
          10836.91,
          10886.2,
          10873.48,
          10752.05,
          10709.8,
          10665.72,
          10746.74,
          10776.47,
          10693.64,
          10752.57,
          10864.54,
          10890.2,
          10818.84,
          10872.74,
          10896.25,
          10963.95,
          10984.84,
          10995.39,
          10992.29,
          11018.19,
          11075.78,
          11080.41,
          11057.51,
          11100.02,
          11095.67,
          11012.43,
          11054.49,
          11030.09,
          11095.5,
          11063.62,
          11033.89,
          10939.68,
          10829.85,
          10827.28,
          10725.71,
          10757.01,
          10729.9,
          10792.2,
          10828.21,
          10863.13,
          10865.91,
          10916.69,
          11005.55,
          11099.57,
          11186.05,
          11063.94,
          11097.11,
          11028.27,
          11058.06,
          11016.92,
          10922.55,
          10877.72,
          10765.42,
          10779.93,
          10758.84,
          10882.04,
          10883.98,
          10806.56,
          10882.75,
          10908.36,
          10972.41,
          11003.49,
          11007.35,
          11051.09,
          11073.95,
          11062.43,
          11064.34,
          10926.73,
          10826.19,
          10669.63,
          10507.83,
          10503.1,
          10272.04,
          10046.01,
          9989.63,
          10011.19,
          10127.01,
          10019.5,
          9919.26,
          9984.15,
          9912.28,
          9809.19,
          9622.95,
          9629.07,
          9554.35,
          9574.83,
          9802.13,
          9869.59,
          9906.59,
          9889.81,
          9899.97,
          9912.53,
          10014.42,
          9921.78,
          9875.84,
          9777.35,
          9823.25,
          9844.39,
          9851.29,
          9836.02,
          9800.03,
          9753.69,
          9792.99,
          9738.8,
          9847.35,
          9781.4,
          9890.89,
          10001.85,
          9957.63,
          10148.75,
          10126.02,
          9971.98,
          9850.08,
          9785.2,
          9722.97,
          9720.96,
          9835.56,
          9871.96,
          9818.95,
          9826.88,
          9756.67,
          9783.21,
          9741.55,
          9683.95,
          9652.19,
          9658.95,
          9559.7,
          9591.91,
          9670.97,
          9727.41,
          9737.68,
          9554.53,
          9427.24,
          9596.35,
          9600.94,
          9741.64,
          9731.11,
          9796.98,
          9762.37,
          9806.04,
          9803.99,
          9826.25,
          9842.8,
          9919.94,
          9894.66,
          9873.39,
          9892.82,
          9980.08,
          10020.6,
          9952.34,
          9959.03,
          10065.52,
          10100.23,
          10140.98,
          10135.62,
          10135.16,
          10165.77,
          10173.47,
          10272.46,
          10319.53,
          10322.92,
          10390.93,
          10416.91,
          10403.05,
          10402.39,
          10334.34,
          10359.12,
          10367.98,
          10274.28,
          10269.3,
          10382.12,
          10373.32,
          10407.27,
          10439.24,
          10512.7,
          10525.6,
          10556.81,
          10612.34,
          10667.94,
          10535.12,
          10559.2,
          10556.75,
          10536.26,
          10641.04,
          10735.07,
          10728.38,
          10741.56,
          10807.05,
          10851.6,
          10875.65,
          10887.12,
          10836.44,
          10897.21,
          10927.85,
          11016.92,
          11077.99,
          11045.08,
          11027.49,
          11025.68,
          11070.85,
          11046.77,
          10986.53,
          10992.55,
          10978.1,
          11046.64,
          11097,
          11005.36,
          11004.76,
          10946.82,
          10910.47,
          10834.69,
          10693.44,
          10544.97,
          10612.5,
          10573.93,
          10564.97,
          10465.84,
          10477.2,
          10520.62,
          10404,
          10370.97,
          10365.44,
          10361.61,
          10307.75,
          10384.36,
          10515.1,
          10511.2,
          10518.33,
          10541.29,
          10429.33,
          10566.47,
          10637.9,
          10630.69,
          10617.06,
          10568.92,
          10562.97,
          10573.77,
          10778.64,
          10799.14,
          10840.29,
          10786.33,
          10787.62,
          10690.98,
          10800.29,
          10788.08,
          10914.85,
          10888.21,
          10812.65,
          10791.28,
          10812.38,
          10781.11,
          10733.57,
          10810.16,
          10856.51,
          10867.59,
          10880.56,
          10899.84,
          10861.11,
          10835.43,
          10919.96,
          10949.76,
          10994.44,
          10976.46,
          10945.92,
          10907.44,
          10905.74,
          10927.16,
          10835.8,
          10773.25,
          10641.28,
          10542.49,
          10425.6,
          10461.37,
          10500.77,
          10514.05,
          10436.62,
          10518.02,
          10374.75,
          10456.32,
          10516.05,
          10538.12,
          10545.25,
          10596.41,
          10541.73,
          10453.4,
          10431.78,
          10456.3,
          10466.99,
          10618.05,
          10634.85,
          10650.15,
          10670.43,
          10766.6,
          10803.07
         ],
         "increasing": {
          "line": {
           "color": "red"
          }
         },
         "low": [
          10568.72,
          10555.34,
          10564.26,
          10519.71,
          10509.91,
          10550.72,
          10565.78,
          10586.28,
          10532.88,
          10508.72,
          10520.15,
          10581.81,
          10561.21,
          10490.71,
          10493.95,
          10446.45,
          10322.1,
          10257.02,
          10315.97,
          10288.24,
          10273.6,
          10362.55,
          10414.53,
          10445.86,
          10473.28,
          10511.5,
          10576.12,
          10668.39,
          10675.83,
          10723.37,
          10723.15,
          10684.32,
          10745.77,
          10702.56,
          10731.9,
          10726.25,
          10740.07,
          10716.52,
          10701.08,
          10743.13,
          10747.37,
          10785.32,
          10788.51,
          10765.31,
          10769.19,
          10807.89,
          10806.01,
          10721.87,
          10659.29,
          10683.92,
          10654.58,
          10600.26,
          10609.23,
          10673.43,
          10656.18,
          10687.26,
          10801.1,
          10809.09,
          10833.78,
          10746.74,
          10692.53,
          10697.62,
          10560.44,
          10495.15,
          10565.68,
          10540.74,
          10376.65,
          10322.76,
          10336.26,
          10438.33,
          10408.06,
          10444.7,
          10494.6,
          10436.11,
          10472.39,
          10452.08,
          10470.36,
          10488.97,
          10486.52,
          10514.54,
          10408.12,
          10419.81,
          10513.29,
          10590.95,
          10650.77,
          10759.61,
          10794.25,
          10815.68,
          10869.12,
          10860.77,
          10819.25,
          10770.1,
          10818.24,
          10911.89,
          10920.5,
          10942.95,
          11048.06,
          11095.85,
          11142.38,
          11201.52,
          11107.32,
          11131.85,
          11089.48,
          11161.83,
          11076.78,
          11007.89,
          11139.4,
          11070.43,
          10855.43,
          10300.4,
          10547.64,
          10512.93,
          10189.04,
          10416.01,
          10559.79,
          10620.8,
          10688.97,
          10827.98,
          10815.47,
          10709.69,
          10638.98,
          10642.9,
          10711.15,
          10745.32,
          10788.43,
          10845.38,
          10908.99,
          11014.87,
          11015.47,
          11008.18,
          10933.46,
          10983.25,
          10981.04,
          11011.07,
          10975.33,
          10758.06,
          10781.43,
          10901.69,
          10853.48,
          10815.46,
          10905.3,
          10905.69,
          10882.05,
          10775.45,
          10829.02,
          10874.83,
          10953.31,
          10920.62,
          10938.37,
          10921.17,
          10799.07,
          10809.89,
          10889.71,
          10770.05,
          10687.25,
          10540.15,
          10489.2,
          10478.98,
          10495.67,
          10539.63,
          10601.1,
          10509.03,
          10500.97,
          10555.56,
          10609.04,
          10689.81,
          10731.68,
          10808.4,
          10908.86,
          10874.73,
          10865.07,
          10833.81,
          10819.07,
          10861.66,
          10938.73,
          10886.18,
          10883.52,
          10918.12,
          10965.18,
          10929.56,
          10799.75,
          10853.65,
          10876.97,
          11002.15,
          11054.62,
          11111.14,
          11188.99,
          11122.98,
          11118.81,
          11088.53,
          11119.24,
          11013.98,
          10981.61,
          10904.19,
          10842.56,
          10941.07,
          10828.86,
          10786.46,
          10651.42,
          10701.03,
          10633.01,
          10667.64,
          10777.94,
          10707.68,
          10680.44,
          10585.27,
          10523.58,
          10638.9,
          10728.24,
          10635.03,
          10643.65,
          10769.7,
          10817.45,
          10758.83,
          10788.37,
          10826.14,
          10893.73,
          10901.75,
          10917.61,
          10956,
          10966.33,
          11009.16,
          11001.15,
          10976.46,
          11058.28,
          10919.13,
          10957.3,
          10994.97,
          10983.44,
          11026.07,
          11001.96,
          10972.25,
          10693.73,
          10755.53,
          10688.59,
          10606.26,
          10688.55,
          10663.44,
          10697.01,
          10774.69,
          10802.79,
          10770.32,
          10847.17,
          10946.33,
          11029.11,
          11080.07,
          10987.68,
          10952.85,
          10956.49,
          10989.93,
          10905.34,
          10807.56,
          10689.29,
          10669.59,
          10667.25,
          10701.25,
          10770.47,
          10806.73,
          10750.81,
          10808.5,
          10814.54,
          10835.84,
          10941.77,
          10947.29,
          10961.27,
          10966.96,
          11012.95,
          10906.42,
          10839.46,
          10707.76,
          10446.94,
          10403.13,
          10428.97,
          9797.93,
          9740.76,
          9890.47,
          9888.73,
          9978.25,
          9919.79,
          9762.91,
          9822.15,
          9775.2,
          9667.85,
          9475.61,
          9400.69,
          9459.12,
          9481.66,
          9588.86,
          9742.61,
          9817.29,
          9786.25,
          9782.86,
          9817.95,
          9938.55,
          9798.45,
          9764.46,
          9616.16,
          9763.89,
          9755.12,
          9770.87,
          9779.4,
          9726.8,
          9632.47,
          9702.77,
          9654.91,
          9679.98,
          9688.74,
          9767.14,
          9885.36,
          9888.03,
          9979.21,
          10061.7,
          9895.29,
          9664.75,
          9719.46,
          9626.47,
          9661.72,
          9741.45,
          9815.5,
          9718.94,
          9733.98,
          9701.1,
          9720.92,
          9658.5,
          9585.32,
          9625.31,
          9613.29,
          9479.06,
          9473.3,
          9555.01,
          9630.77,
          9542.52,
          9474.47,
          9319.28,
          9460.2,
          9547.63,
          9584.63,
          9683.2,
          9736,
          9677.49,
          9701.93,
          9763.81,
          9759.51,
          9771.15,
          9870.27,
          9855.47,
          9828.03,
          9847.32,
          9918.21,
          9990.07,
          9893.96,
          9909.81,
          9988.83,
          10032.08,
          10074.34,
          10082,
          10055.5,
          10096.94,
          10143.15,
          10181.94,
          10256.53,
          10269.95,
          10343.45,
          10368.86,
          10343.56,
          10313.18,
          10295.44,
          10327.9,
          10299.46,
          10204.21,
          10214.02,
          10294.37,
          10331.27,
          10339.64,
          10370,
          10445.74,
          10484.69,
          10506.96,
          10551.67,
          10589.47,
          10458.79,
          10506.68,
          10515.86,
          10499.29,
          10525.27,
          10627.01,
          10685.1,
          10690.23,
          10759.96,
          10793.77,
          10815.61,
          10797.76,
          10782.02,
          10849.55,
          10876.34,
          10961.61,
          10926.85,
          10950.43,
          10974.82,
          10949.3,
          10995.83,
          11006.68,
          10906.44,
          10905.78,
          10910.78,
          10988.7,
          11018.86,
          10870.4,
          10913.95,
          10867.06,
          10732.97,
          10669.39,
          10549.06,
          10363.02,
          10535.24,
          10474.61,
          10384.11,
          10385.18,
          10342.32,
          10453.5,
          10289.69,
          10308.59,
          10305.28,
          10312.31,
          10227.44,
          10306.03,
          10369.02,
          10383.51,
          10421.81,
          10446.51,
          10371.08,
          10466.24,
          10548.06,
          10566.37,
          10539.49,
          10517.82,
          10474.19,
          10521.7,
          10650.48,
          10745.25,
          10773.47,
          10695.49,
          10693.04,
          10645.37,
          10674.2,
          10719.08,
          10821.3,
          10843.64,
          10720.66,
          10750.9,
          10756.67,
          10708.92,
          10680.85,
          10723.23,
          10799.65,
          10823.89,
          10769.57,
          10865,
          10804.34,
          10792.27,
          10861.99,
          10909.15,
          10932.53,
          10912.92,
          10879.4,
          10879.24,
          10863.33,
          10827.74,
          10754.07,
          10714.73,
          10524.68,
          10418.25,
          10180.04,
          10366.54,
          10383.62,
          10440.77,
          10361.89,
          10427.73,
          10287.76,
          10318.37,
          10449.39,
          10497.13,
          10504.49,
          10515.72,
          10503.07,
          10340.15,
          10368.96,
          10397.6,
          10406.49,
          10504.28,
          10589.42,
          10557.03,
          10566.32,
          10714.27,
          10753.45
         ],
         "open": [
          10576.27,
          10585.44,
          10584.1,
          10593.87,
          10564.79,
          10553.9,
          10630.16,
          10610.33,
          10596.36,
          10533.99,
          10556.82,
          10590.8,
          10653.34,
          10568.58,
          10506.85,
          10571.65,
          10442.05,
          10333.44,
          10322.44,
          10351.42,
          10319.69,
          10362.55,
          10425.1,
          10462.7,
          10473.28,
          10538.21,
          10576.12,
          10668.39,
          10712.48,
          10735.14,
          10790.35,
          10773.85,
          10745.77,
          10737.87,
          10759.47,
          10749.9,
          10771.4,
          10735.35,
          10757.35,
          10777.6,
          10768.9,
          10816.04,
          10797.63,
          10797.91,
          10856.56,
          10820.83,
          10839.44,
          10802.95,
          10713.67,
          10728.22,
          10716.59,
          10662.08,
          10629.16,
          10673.43,
          10706.79,
          10688.22,
          10815.4,
          10837.61,
          10847.79,
          10836.82,
          10733.56,
          10735.24,
          10623.2,
          10591.62,
          10617.27,
          10607.62,
          10541.03,
          10404.42,
          10406.35,
          10438.33,
          10488.73,
          10447.11,
          10494.6,
          10517.21,
          10478.74,
          10508.33,
          10470.36,
          10526.97,
          10503.1,
          10546.64,
          10526.14,
          10419.81,
          10513.29,
          10590.95,
          10664.82,
          10759.61,
          10834.58,
          10856.92,
          10899.09,
          10922.35,
          10915.32,
          10824.54,
          10818.24,
          10932.37,
          10955.81,
          10976.13,
          11048.06,
          11123.58,
          11169.79,
          11243.49,
          11228.71,
          11154.36,
          11152.53,
          11202.27,
          11189.57,
          11054.36,
          11139.4,
          11151.65,
          10970.3,
          10761.01,
          10547.64,
          10559.44,
          10371.01,
          10429.09,
          10559.79,
          10698.47,
          10688.97,
          10827.98,
          10896.16,
          10779.1,
          10719.29,
          10727.45,
          10711.15,
          10762.99,
          10788.43,
          10847.74,
          10908.99,
          11022.15,
          11063.73,
          11039.6,
          11010.24,
          11004.81,
          11016.85,
          11037.35,
          11045.9,
          10863.67,
          10783.57,
          10901.69,
          10939.97,
          10855.66,
          10905.3,
          10925.71,
          10936.26,
          10837.54,
          10880.14,
          10885.64,
          10961.7,
          10984.12,
          10975.58,
          10962.36,
          10953.51,
          10842.88,
          10891.66,
          10802.42,
          10756.89,
          10680.38,
          10541.83,
          10583.08,
          10546.29,
          10553.41,
          10665.52,
          10578.98,
          10516.45,
          10581.78,
          10610.44,
          10692.89,
          10731.68,
          10808.4,
          10938.3,
          10965.08,
          10873.54,
          10911.74,
          10844.09,
          10861.66,
          10986.77,
          10974.52,
          10910.61,
          10946.62,
          10976.49,
          10979.68,
          10925.21,
          10856.03,
          10882.68,
          11002.15,
          11130.03,
          11111.14,
          11228.64,
          11243.59,
          11168.99,
          11140.02,
          11153.2,
          11143.04,
          10998.2,
          11008.77,
          10904.8,
          10949.85,
          10901.25,
          10834.07,
          10730.9,
          10766.88,
          10669.42,
          10667.64,
          10852.17,
          10802.88,
          10714.25,
          10690.91,
          10645.66,
          10638.9,
          10737.62,
          10693.64,
          10644.91,
          10769.7,
          10867.97,
          10802.75,
          10811.43,
          10868.56,
          10932.51,
          10929.46,
          10937.77,
          10957.66,
          10969.35,
          11023.07,
          11072.7,
          10997.73,
          11062.36,
          11095.67,
          10957.3,
          10997.26,
          11024.97,
          11026.07,
          11063.62,
          11009.96,
          10939.68,
          10797.95,
          10827.28,
          10663.57,
          10702.6,
          10698.76,
          10697.01,
          10790.24,
          10817.33,
          10865.91,
          10847.17,
          10946.33,
          11029.12,
          11153.97,
          11037.26,
          11087.86,
          10981.39,
          11042.41,
          11016.92,
          10922.55,
          10869.8,
          10723,
          10762.91,
          10726.67,
          10776.53,
          10881.78,
          10794.22,
          10808.5,
          10886.19,
          10857.1,
          10959.56,
          10974.08,
          10973.77,
          11050.09,
          11014.19,
          11048.89,
          10918.74,
          10826.19,
          10665.29,
          10467.85,
          10464.39,
          10272.04,
          9811.58,
          9989.63,
          9891.97,
          10048.43,
          9975.46,
          9879.47,
          9871.3,
          9912.28,
          9774.29,
          9622.95,
          9570.19,
          9515.43,
          9508.81,
          9588.86,
          9812.2,
          9871.4,
          9856.85,
          9888.41,
          9818.15,
          9958.47,
          9921.78,
          9806.8,
          9727.17,
          9799.69,
          9806.58,
          9819.05,
          9795.47,
          9788.95,
          9698.52,
          9769.33,
          9730.64,
          9679.98,
          9728.95,
          9774.03,
          9959.87,
          9899.24,
          9979.21,
          10120.43,
          9971.98,
          9850.08,
          9719.46,
          9722.97,
          9661.72,
          9741.45,
          9827.32,
          9818.95,
          9762.49,
          9756.46,
          9720.92,
          9729.29,
          9648.98,
          9639.24,
          9646.53,
          9559.7,
          9544.87,
          9555.01,
          9649.97,
          9725.27,
          9494.25,
          9427.24,
          9460.2,
          9591.56,
          9584.63,
          9731.11,
          9753.63,
          9737.67,
          9701.93,
          9781.35,
          9773.31,
          9781.39,
          9870.27,
          9880.54,
          9869.54,
          9865,
          9923.39,
          10006.46,
          9944.71,
          9915.97,
          10029.84,
          10032.08,
          10123.61,
          10095.99,
          10111.18,
          10096.94,
          10152.11,
          10181.94,
          10282.32,
          10309.02,
          10343.45,
          10403.03,
          10385.81,
          10385.25,
          10323.25,
          10328.18,
          10359.47,
          10274.28,
          10224.27,
          10294.37,
          10331.27,
          10391.3,
          10374.66,
          10455.19,
          10497.4,
          10529.3,
          10563.93,
          10642.57,
          10535.12,
          10506.68,
          10542.68,
          10529.02,
          10551.99,
          10714.68,
          10695.47,
          10725.17,
          10759.96,
          10805.39,
          10839.93,
          10869.24,
          10820.94,
          10849.84,
          10905.63,
          10961.61,
          11038.24,
          11017.69,
          10994.52,
          10994.28,
          11054.02,
          11017.73,
          10986.53,
          10952.91,
          10945.94,
          10992.76,
          11037.99,
          11005.36,
          10913.95,
          10938.47,
          10910.47,
          10751.55,
          10684.04,
          10480.21,
          10535.24,
          10556.58,
          10508.56,
          10405.36,
          10362.35,
          10481.1,
          10404,
          10313.15,
          10344.18,
          10348.58,
          10277.35,
          10307.12,
          10386.12,
          10482.45,
          10499.51,
          10497.5,
          10409.9,
          10486.23,
          10567.54,
          10605.75,
          10582.19,
          10546.42,
          10488.7,
          10547.15,
          10650.48,
          10749.41,
          10817.71,
          10734.25,
          10777.18,
          10661.39,
          10674.2,
          10786.66,
          10821.3,
          10878.01,
          10793.1,
          10755.87,
          10785.85,
          10742.81,
          10729.83,
          10723.23,
          10817.6,
          10855.16,
          10819.92,
          10865,
          10861.11,
          10821.92,
          10861.99,
          10910.5,
          10963.86,
          10969.74,
          10892.25,
          10898.25,
          10872.63,
          10909.98,
          10824.15,
          10773.06,
          10641.28,
          10528.87,
          10304.88,
          10422.89,
          10383.62,
          10491.79,
          10436.62,
          10444.5,
          10374.75,
          10345.42,
          10449.39,
          10508.42,
          10526.87,
          10560.01,
          10526.15,
          10453.4,
          10386.21,
          10397.6,
          10440.15,
          10504.28,
          10613.19,
          10629.22,
          10566.32,
          10718.4,
          10783.46
         ],
         "type": "candlestick",
         "x": [
          "2017-09-01T00:00:00",
          "2017-09-04T00:00:00",
          "2017-09-05T00:00:00",
          "2017-09-06T00:00:00",
          "2017-09-07T00:00:00",
          "2017-09-08T00:00:00",
          "2017-09-11T00:00:00",
          "2017-09-12T00:00:00",
          "2017-09-13T00:00:00",
          "2017-09-14T00:00:00",
          "2017-09-15T00:00:00",
          "2017-09-18T00:00:00",
          "2017-09-19T00:00:00",
          "2017-09-20T00:00:00",
          "2017-09-21T00:00:00",
          "2017-09-22T00:00:00",
          "2017-09-25T00:00:00",
          "2017-09-26T00:00:00",
          "2017-09-27T00:00:00",
          "2017-09-28T00:00:00",
          "2017-09-29T00:00:00",
          "2017-09-30T00:00:00",
          "2017-10-02T00:00:00",
          "2017-10-03T00:00:00",
          "2017-10-05T00:00:00",
          "2017-10-06T00:00:00",
          "2017-10-11T00:00:00",
          "2017-10-12T00:00:00",
          "2017-10-13T00:00:00",
          "2017-10-16T00:00:00",
          "2017-10-17T00:00:00",
          "2017-10-18T00:00:00",
          "2017-10-19T00:00:00",
          "2017-10-20T00:00:00",
          "2017-10-23T00:00:00",
          "2017-10-24T00:00:00",
          "2017-10-25T00:00:00",
          "2017-10-26T00:00:00",
          "2017-10-27T00:00:00",
          "2017-10-30T00:00:00",
          "2017-10-31T00:00:00",
          "2017-11-01T00:00:00",
          "2017-11-02T00:00:00",
          "2017-11-03T00:00:00",
          "2017-11-06T00:00:00",
          "2017-11-07T00:00:00",
          "2017-11-08T00:00:00",
          "2017-11-09T00:00:00",
          "2017-11-10T00:00:00",
          "2017-11-13T00:00:00",
          "2017-11-14T00:00:00",
          "2017-11-15T00:00:00",
          "2017-11-16T00:00:00",
          "2017-11-17T00:00:00",
          "2017-11-20T00:00:00",
          "2017-11-21T00:00:00",
          "2017-11-22T00:00:00",
          "2017-11-23T00:00:00",
          "2017-11-24T00:00:00",
          "2017-11-27T00:00:00",
          "2017-11-28T00:00:00",
          "2017-11-29T00:00:00",
          "2017-11-30T00:00:00",
          "2017-12-01T00:00:00",
          "2017-12-04T00:00:00",
          "2017-12-05T00:00:00",
          "2017-12-06T00:00:00",
          "2017-12-07T00:00:00",
          "2017-12-08T00:00:00",
          "2017-12-11T00:00:00",
          "2017-12-12T00:00:00",
          "2017-12-13T00:00:00",
          "2017-12-14T00:00:00",
          "2017-12-15T00:00:00",
          "2017-12-18T00:00:00",
          "2017-12-19T00:00:00",
          "2017-12-20T00:00:00",
          "2017-12-21T00:00:00",
          "2017-12-22T00:00:00",
          "2017-12-25T00:00:00",
          "2017-12-26T00:00:00",
          "2017-12-27T00:00:00",
          "2017-12-28T00:00:00",
          "2017-12-29T00:00:00",
          "2018-01-02T00:00:00",
          "2018-01-03T00:00:00",
          "2018-01-04T00:00:00",
          "2018-01-05T00:00:00",
          "2018-01-08T00:00:00",
          "2018-01-09T00:00:00",
          "2018-01-10T00:00:00",
          "2018-01-11T00:00:00",
          "2018-01-12T00:00:00",
          "2018-01-15T00:00:00",
          "2018-01-16T00:00:00",
          "2018-01-17T00:00:00",
          "2018-01-18T00:00:00",
          "2018-01-19T00:00:00",
          "2018-01-22T00:00:00",
          "2018-01-23T00:00:00",
          "2018-01-24T00:00:00",
          "2018-01-25T00:00:00",
          "2018-01-26T00:00:00",
          "2018-01-29T00:00:00",
          "2018-01-30T00:00:00",
          "2018-01-31T00:00:00",
          "2018-02-01T00:00:00",
          "2018-02-02T00:00:00",
          "2018-02-05T00:00:00",
          "2018-02-06T00:00:00",
          "2018-02-07T00:00:00",
          "2018-02-08T00:00:00",
          "2018-02-09T00:00:00",
          "2018-02-12T00:00:00",
          "2018-02-21T00:00:00",
          "2018-02-22T00:00:00",
          "2018-02-23T00:00:00",
          "2018-02-26T00:00:00",
          "2018-02-27T00:00:00",
          "2018-03-01T00:00:00",
          "2018-03-02T00:00:00",
          "2018-03-05T00:00:00",
          "2018-03-06T00:00:00",
          "2018-03-07T00:00:00",
          "2018-03-08T00:00:00",
          "2018-03-09T00:00:00",
          "2018-03-12T00:00:00",
          "2018-03-13T00:00:00",
          "2018-03-14T00:00:00",
          "2018-03-15T00:00:00",
          "2018-03-16T00:00:00",
          "2018-03-19T00:00:00",
          "2018-03-20T00:00:00",
          "2018-03-21T00:00:00",
          "2018-03-22T00:00:00",
          "2018-03-23T00:00:00",
          "2018-03-26T00:00:00",
          "2018-03-27T00:00:00",
          "2018-03-28T00:00:00",
          "2018-03-29T00:00:00",
          "2018-03-30T00:00:00",
          "2018-03-31T00:00:00",
          "2018-04-02T00:00:00",
          "2018-04-03T00:00:00",
          "2018-04-09T00:00:00",
          "2018-04-10T00:00:00",
          "2018-04-11T00:00:00",
          "2018-04-12T00:00:00",
          "2018-04-13T00:00:00",
          "2018-04-16T00:00:00",
          "2018-04-17T00:00:00",
          "2018-04-18T00:00:00",
          "2018-04-19T00:00:00",
          "2018-04-20T00:00:00",
          "2018-04-23T00:00:00",
          "2018-04-24T00:00:00",
          "2018-04-25T00:00:00",
          "2018-04-26T00:00:00",
          "2018-04-27T00:00:00",
          "2018-04-30T00:00:00",
          "2018-05-02T00:00:00",
          "2018-05-03T00:00:00",
          "2018-05-04T00:00:00",
          "2018-05-07T00:00:00",
          "2018-05-08T00:00:00",
          "2018-05-09T00:00:00",
          "2018-05-10T00:00:00",
          "2018-05-11T00:00:00",
          "2018-05-14T00:00:00",
          "2018-05-15T00:00:00",
          "2018-05-16T00:00:00",
          "2018-05-17T00:00:00",
          "2018-05-18T00:00:00",
          "2018-05-21T00:00:00",
          "2018-05-22T00:00:00",
          "2018-05-23T00:00:00",
          "2018-05-24T00:00:00",
          "2018-05-25T00:00:00",
          "2018-05-28T00:00:00",
          "2018-05-29T00:00:00",
          "2018-05-30T00:00:00",
          "2018-05-31T00:00:00",
          "2018-06-01T00:00:00",
          "2018-06-04T00:00:00",
          "2018-06-05T00:00:00",
          "2018-06-06T00:00:00",
          "2018-06-07T00:00:00",
          "2018-06-08T00:00:00",
          "2018-06-11T00:00:00",
          "2018-06-12T00:00:00",
          "2018-06-13T00:00:00",
          "2018-06-14T00:00:00",
          "2018-06-15T00:00:00",
          "2018-06-19T00:00:00",
          "2018-06-20T00:00:00",
          "2018-06-21T00:00:00",
          "2018-06-22T00:00:00",
          "2018-06-25T00:00:00",
          "2018-06-26T00:00:00",
          "2018-06-27T00:00:00",
          "2018-06-28T00:00:00",
          "2018-06-29T00:00:00",
          "2018-07-02T00:00:00",
          "2018-07-03T00:00:00",
          "2018-07-04T00:00:00",
          "2018-07-05T00:00:00",
          "2018-07-06T00:00:00",
          "2018-07-09T00:00:00",
          "2018-07-10T00:00:00",
          "2018-07-11T00:00:00",
          "2018-07-12T00:00:00",
          "2018-07-13T00:00:00",
          "2018-07-16T00:00:00",
          "2018-07-17T00:00:00",
          "2018-07-18T00:00:00",
          "2018-07-19T00:00:00",
          "2018-07-20T00:00:00",
          "2018-07-23T00:00:00",
          "2018-07-24T00:00:00",
          "2018-07-25T00:00:00",
          "2018-07-26T00:00:00",
          "2018-07-27T00:00:00",
          "2018-07-30T00:00:00",
          "2018-07-31T00:00:00",
          "2018-08-01T00:00:00",
          "2018-08-02T00:00:00",
          "2018-08-03T00:00:00",
          "2018-08-06T00:00:00",
          "2018-08-07T00:00:00",
          "2018-08-08T00:00:00",
          "2018-08-09T00:00:00",
          "2018-08-10T00:00:00",
          "2018-08-13T00:00:00",
          "2018-08-14T00:00:00",
          "2018-08-15T00:00:00",
          "2018-08-16T00:00:00",
          "2018-08-17T00:00:00",
          "2018-08-20T00:00:00",
          "2018-08-21T00:00:00",
          "2018-08-22T00:00:00",
          "2018-08-23T00:00:00",
          "2018-08-24T00:00:00",
          "2018-08-27T00:00:00",
          "2018-08-28T00:00:00",
          "2018-08-29T00:00:00",
          "2018-08-30T00:00:00",
          "2018-08-31T00:00:00",
          "2018-09-03T00:00:00",
          "2018-09-04T00:00:00",
          "2018-09-05T00:00:00",
          "2018-09-06T00:00:00",
          "2018-09-07T00:00:00",
          "2018-09-10T00:00:00",
          "2018-09-11T00:00:00",
          "2018-09-12T00:00:00",
          "2018-09-13T00:00:00",
          "2018-09-14T00:00:00",
          "2018-09-17T00:00:00",
          "2018-09-18T00:00:00",
          "2018-09-19T00:00:00",
          "2018-09-20T00:00:00",
          "2018-09-21T00:00:00",
          "2018-09-25T00:00:00",
          "2018-09-26T00:00:00",
          "2018-09-27T00:00:00",
          "2018-09-28T00:00:00",
          "2018-10-01T00:00:00",
          "2018-10-02T00:00:00",
          "2018-10-03T00:00:00",
          "2018-10-04T00:00:00",
          "2018-10-05T00:00:00",
          "2018-10-08T00:00:00",
          "2018-10-09T00:00:00",
          "2018-10-11T00:00:00",
          "2018-10-12T00:00:00",
          "2018-10-15T00:00:00",
          "2018-10-16T00:00:00",
          "2018-10-17T00:00:00",
          "2018-10-18T00:00:00",
          "2018-10-19T00:00:00",
          "2018-10-22T00:00:00",
          "2018-10-23T00:00:00",
          "2018-10-24T00:00:00",
          "2018-10-25T00:00:00",
          "2018-10-26T00:00:00",
          "2018-10-29T00:00:00",
          "2018-10-30T00:00:00",
          "2018-10-31T00:00:00",
          "2018-11-01T00:00:00",
          "2018-11-02T00:00:00",
          "2018-11-05T00:00:00",
          "2018-11-06T00:00:00",
          "2018-11-07T00:00:00",
          "2018-11-08T00:00:00",
          "2018-11-09T00:00:00",
          "2018-11-12T00:00:00",
          "2018-11-13T00:00:00",
          "2018-11-14T00:00:00",
          "2018-11-15T00:00:00",
          "2018-11-16T00:00:00",
          "2018-11-19T00:00:00",
          "2018-11-20T00:00:00",
          "2018-11-21T00:00:00",
          "2018-11-22T00:00:00",
          "2018-11-23T00:00:00",
          "2018-11-26T00:00:00",
          "2018-11-27T00:00:00",
          "2018-11-28T00:00:00",
          "2018-11-29T00:00:00",
          "2018-11-30T00:00:00",
          "2018-12-03T00:00:00",
          "2018-12-04T00:00:00",
          "2018-12-05T00:00:00",
          "2018-12-06T00:00:00",
          "2018-12-07T00:00:00",
          "2018-12-10T00:00:00",
          "2018-12-11T00:00:00",
          "2018-12-12T00:00:00",
          "2018-12-13T00:00:00",
          "2018-12-14T00:00:00",
          "2018-12-17T00:00:00",
          "2018-12-18T00:00:00",
          "2018-12-19T00:00:00",
          "2018-12-20T00:00:00",
          "2018-12-21T00:00:00",
          "2018-12-22T00:00:00",
          "2018-12-24T00:00:00",
          "2018-12-25T00:00:00",
          "2018-12-26T00:00:00",
          "2018-12-27T00:00:00",
          "2018-12-28T00:00:00",
          "2019-01-02T00:00:00",
          "2019-01-03T00:00:00",
          "2019-01-04T00:00:00",
          "2019-01-07T00:00:00",
          "2019-01-08T00:00:00",
          "2019-01-09T00:00:00",
          "2019-01-10T00:00:00",
          "2019-01-11T00:00:00",
          "2019-01-14T00:00:00",
          "2019-01-15T00:00:00",
          "2019-01-16T00:00:00",
          "2019-01-17T00:00:00",
          "2019-01-18T00:00:00",
          "2019-01-21T00:00:00",
          "2019-01-22T00:00:00",
          "2019-01-23T00:00:00",
          "2019-01-24T00:00:00",
          "2019-01-25T00:00:00",
          "2019-01-28T00:00:00",
          "2019-01-29T00:00:00",
          "2019-01-30T00:00:00",
          "2019-02-11T00:00:00",
          "2019-02-12T00:00:00",
          "2019-02-13T00:00:00",
          "2019-02-14T00:00:00",
          "2019-02-15T00:00:00",
          "2019-02-18T00:00:00",
          "2019-02-19T00:00:00",
          "2019-02-20T00:00:00",
          "2019-02-21T00:00:00",
          "2019-02-22T00:00:00",
          "2019-02-25T00:00:00",
          "2019-02-26T00:00:00",
          "2019-02-27T00:00:00",
          "2019-03-04T00:00:00",
          "2019-03-05T00:00:00",
          "2019-03-06T00:00:00",
          "2019-03-07T00:00:00",
          "2019-03-08T00:00:00",
          "2019-03-11T00:00:00",
          "2019-03-12T00:00:00",
          "2019-03-13T00:00:00",
          "2019-03-14T00:00:00",
          "2019-03-15T00:00:00",
          "2019-03-18T00:00:00",
          "2019-03-19T00:00:00",
          "2019-03-20T00:00:00",
          "2019-03-21T00:00:00",
          "2019-03-22T00:00:00",
          "2019-03-25T00:00:00",
          "2019-03-26T00:00:00",
          "2019-03-27T00:00:00",
          "2019-03-28T00:00:00",
          "2019-03-29T00:00:00",
          "2019-04-01T00:00:00",
          "2019-04-02T00:00:00",
          "2019-04-03T00:00:00",
          "2019-04-08T00:00:00",
          "2019-04-09T00:00:00",
          "2019-04-10T00:00:00",
          "2019-04-11T00:00:00",
          "2019-04-12T00:00:00",
          "2019-04-15T00:00:00",
          "2019-04-16T00:00:00",
          "2019-04-17T00:00:00",
          "2019-04-18T00:00:00",
          "2019-04-19T00:00:00",
          "2019-04-22T00:00:00",
          "2019-04-23T00:00:00",
          "2019-04-24T00:00:00",
          "2019-04-25T00:00:00",
          "2019-04-26T00:00:00",
          "2019-04-29T00:00:00",
          "2019-04-30T00:00:00",
          "2019-05-02T00:00:00",
          "2019-05-03T00:00:00",
          "2019-05-06T00:00:00",
          "2019-05-07T00:00:00",
          "2019-05-08T00:00:00",
          "2019-05-09T00:00:00",
          "2019-05-10T00:00:00",
          "2019-05-13T00:00:00",
          "2019-05-14T00:00:00",
          "2019-05-15T00:00:00",
          "2019-05-16T00:00:00",
          "2019-05-17T00:00:00",
          "2019-05-20T00:00:00",
          "2019-05-21T00:00:00",
          "2019-05-22T00:00:00",
          "2019-05-23T00:00:00",
          "2019-05-24T00:00:00",
          "2019-05-27T00:00:00",
          "2019-05-28T00:00:00",
          "2019-05-29T00:00:00",
          "2019-05-30T00:00:00",
          "2019-05-31T00:00:00",
          "2019-06-03T00:00:00",
          "2019-06-04T00:00:00",
          "2019-06-05T00:00:00",
          "2019-06-06T00:00:00",
          "2019-06-10T00:00:00",
          "2019-06-11T00:00:00",
          "2019-06-12T00:00:00",
          "2019-06-13T00:00:00",
          "2019-06-14T00:00:00",
          "2019-06-17T00:00:00",
          "2019-06-18T00:00:00",
          "2019-06-19T00:00:00",
          "2019-06-20T00:00:00",
          "2019-06-21T00:00:00",
          "2019-06-24T00:00:00",
          "2019-06-25T00:00:00",
          "2019-06-26T00:00:00",
          "2019-06-27T00:00:00",
          "2019-06-28T00:00:00",
          "2019-07-01T00:00:00",
          "2019-07-02T00:00:00",
          "2019-07-03T00:00:00",
          "2019-07-04T00:00:00",
          "2019-07-05T00:00:00",
          "2019-07-08T00:00:00",
          "2019-07-09T00:00:00",
          "2019-07-10T00:00:00",
          "2019-07-11T00:00:00",
          "2019-07-12T00:00:00",
          "2019-07-15T00:00:00",
          "2019-07-16T00:00:00",
          "2019-07-17T00:00:00",
          "2019-07-18T00:00:00",
          "2019-07-19T00:00:00",
          "2019-07-22T00:00:00",
          "2019-07-23T00:00:00",
          "2019-07-24T00:00:00",
          "2019-07-25T00:00:00",
          "2019-07-26T00:00:00",
          "2019-07-29T00:00:00",
          "2019-07-30T00:00:00",
          "2019-07-31T00:00:00",
          "2019-08-01T00:00:00",
          "2019-08-02T00:00:00",
          "2019-08-05T00:00:00",
          "2019-08-06T00:00:00",
          "2019-08-07T00:00:00",
          "2019-08-08T00:00:00",
          "2019-08-12T00:00:00",
          "2019-08-13T00:00:00",
          "2019-08-14T00:00:00",
          "2019-08-15T00:00:00",
          "2019-08-16T00:00:00",
          "2019-08-19T00:00:00",
          "2019-08-20T00:00:00",
          "2019-08-21T00:00:00",
          "2019-08-22T00:00:00",
          "2019-08-23T00:00:00",
          "2019-08-26T00:00:00",
          "2019-08-27T00:00:00",
          "2019-08-28T00:00:00",
          "2019-08-29T00:00:00",
          "2019-08-30T00:00:00",
          "2019-09-02T00:00:00",
          "2019-09-03T00:00:00",
          "2019-09-04T00:00:00",
          "2019-09-05T00:00:00",
          "2019-09-06T00:00:00"
         ]
        }
       ],
       "layout": {
        "template": {
         "data": {
          "bar": [
           {
            "error_x": {
             "color": "#2a3f5f"
            },
            "error_y": {
             "color": "#2a3f5f"
            },
            "marker": {
             "line": {
              "color": "#E5ECF6",
              "width": 0.5
             }
            },
            "type": "bar"
           }
          ],
          "barpolar": [
           {
            "marker": {
             "line": {
              "color": "#E5ECF6",
              "width": 0.5
             }
            },
            "type": "barpolar"
           }
          ],
          "carpet": [
           {
            "aaxis": {
             "endlinecolor": "#2a3f5f",
             "gridcolor": "white",
             "linecolor": "white",
             "minorgridcolor": "white",
             "startlinecolor": "#2a3f5f"
            },
            "baxis": {
             "endlinecolor": "#2a3f5f",
             "gridcolor": "white",
             "linecolor": "white",
             "minorgridcolor": "white",
             "startlinecolor": "#2a3f5f"
            },
            "type": "carpet"
           }
          ],
          "choropleth": [
           {
            "colorbar": {
             "outlinewidth": 0,
             "ticks": ""
            },
            "type": "choropleth"
           }
          ],
          "contour": [
           {
            "colorbar": {
             "outlinewidth": 0,
             "ticks": ""
            },
            "colorscale": [
             [
              0,
              "#0d0887"
             ],
             [
              0.1111111111111111,
              "#46039f"
             ],
             [
              0.2222222222222222,
              "#7201a8"
             ],
             [
              0.3333333333333333,
              "#9c179e"
             ],
             [
              0.4444444444444444,
              "#bd3786"
             ],
             [
              0.5555555555555556,
              "#d8576b"
             ],
             [
              0.6666666666666666,
              "#ed7953"
             ],
             [
              0.7777777777777778,
              "#fb9f3a"
             ],
             [
              0.8888888888888888,
              "#fdca26"
             ],
             [
              1,
              "#f0f921"
             ]
            ],
            "type": "contour"
           }
          ],
          "contourcarpet": [
           {
            "colorbar": {
             "outlinewidth": 0,
             "ticks": ""
            },
            "type": "contourcarpet"
           }
          ],
          "heatmap": [
           {
            "colorbar": {
             "outlinewidth": 0,
             "ticks": ""
            },
            "colorscale": [
             [
              0,
              "#0d0887"
             ],
             [
              0.1111111111111111,
              "#46039f"
             ],
             [
              0.2222222222222222,
              "#7201a8"
             ],
             [
              0.3333333333333333,
              "#9c179e"
             ],
             [
              0.4444444444444444,
              "#bd3786"
             ],
             [
              0.5555555555555556,
              "#d8576b"
             ],
             [
              0.6666666666666666,
              "#ed7953"
             ],
             [
              0.7777777777777778,
              "#fb9f3a"
             ],
             [
              0.8888888888888888,
              "#fdca26"
             ],
             [
              1,
              "#f0f921"
             ]
            ],
            "type": "heatmap"
           }
          ],
          "heatmapgl": [
           {
            "colorbar": {
             "outlinewidth": 0,
             "ticks": ""
            },
            "colorscale": [
             [
              0,
              "#0d0887"
             ],
             [
              0.1111111111111111,
              "#46039f"
             ],
             [
              0.2222222222222222,
              "#7201a8"
             ],
             [
              0.3333333333333333,
              "#9c179e"
             ],
             [
              0.4444444444444444,
              "#bd3786"
             ],
             [
              0.5555555555555556,
              "#d8576b"
             ],
             [
              0.6666666666666666,
              "#ed7953"
             ],
             [
              0.7777777777777778,
              "#fb9f3a"
             ],
             [
              0.8888888888888888,
              "#fdca26"
             ],
             [
              1,
              "#f0f921"
             ]
            ],
            "type": "heatmapgl"
           }
          ],
          "histogram": [
           {
            "marker": {
             "colorbar": {
              "outlinewidth": 0,
              "ticks": ""
             }
            },
            "type": "histogram"
           }
          ],
          "histogram2d": [
           {
            "colorbar": {
             "outlinewidth": 0,
             "ticks": ""
            },
            "colorscale": [
             [
              0,
              "#0d0887"
             ],
             [
              0.1111111111111111,
              "#46039f"
             ],
             [
              0.2222222222222222,
              "#7201a8"
             ],
             [
              0.3333333333333333,
              "#9c179e"
             ],
             [
              0.4444444444444444,
              "#bd3786"
             ],
             [
              0.5555555555555556,
              "#d8576b"
             ],
             [
              0.6666666666666666,
              "#ed7953"
             ],
             [
              0.7777777777777778,
              "#fb9f3a"
             ],
             [
              0.8888888888888888,
              "#fdca26"
             ],
             [
              1,
              "#f0f921"
             ]
            ],
            "type": "histogram2d"
           }
          ],
          "histogram2dcontour": [
           {
            "colorbar": {
             "outlinewidth": 0,
             "ticks": ""
            },
            "colorscale": [
             [
              0,
              "#0d0887"
             ],
             [
              0.1111111111111111,
              "#46039f"
             ],
             [
              0.2222222222222222,
              "#7201a8"
             ],
             [
              0.3333333333333333,
              "#9c179e"
             ],
             [
              0.4444444444444444,
              "#bd3786"
             ],
             [
              0.5555555555555556,
              "#d8576b"
             ],
             [
              0.6666666666666666,
              "#ed7953"
             ],
             [
              0.7777777777777778,
              "#fb9f3a"
             ],
             [
              0.8888888888888888,
              "#fdca26"
             ],
             [
              1,
              "#f0f921"
             ]
            ],
            "type": "histogram2dcontour"
           }
          ],
          "mesh3d": [
           {
            "colorbar": {
             "outlinewidth": 0,
             "ticks": ""
            },
            "type": "mesh3d"
           }
          ],
          "parcoords": [
           {
            "line": {
             "colorbar": {
              "outlinewidth": 0,
              "ticks": ""
             }
            },
            "type": "parcoords"
           }
          ],
          "pie": [
           {
            "automargin": true,
            "type": "pie"
           }
          ],
          "scatter": [
           {
            "marker": {
             "colorbar": {
              "outlinewidth": 0,
              "ticks": ""
             }
            },
            "type": "scatter"
           }
          ],
          "scatter3d": [
           {
            "line": {
             "colorbar": {
              "outlinewidth": 0,
              "ticks": ""
             }
            },
            "marker": {
             "colorbar": {
              "outlinewidth": 0,
              "ticks": ""
             }
            },
            "type": "scatter3d"
           }
          ],
          "scattercarpet": [
           {
            "marker": {
             "colorbar": {
              "outlinewidth": 0,
              "ticks": ""
             }
            },
            "type": "scattercarpet"
           }
          ],
          "scattergeo": [
           {
            "marker": {
             "colorbar": {
              "outlinewidth": 0,
              "ticks": ""
             }
            },
            "type": "scattergeo"
           }
          ],
          "scattergl": [
           {
            "marker": {
             "colorbar": {
              "outlinewidth": 0,
              "ticks": ""
             }
            },
            "type": "scattergl"
           }
          ],
          "scattermapbox": [
           {
            "marker": {
             "colorbar": {
              "outlinewidth": 0,
              "ticks": ""
             }
            },
            "type": "scattermapbox"
           }
          ],
          "scatterpolar": [
           {
            "marker": {
             "colorbar": {
              "outlinewidth": 0,
              "ticks": ""
             }
            },
            "type": "scatterpolar"
           }
          ],
          "scatterpolargl": [
           {
            "marker": {
             "colorbar": {
              "outlinewidth": 0,
              "ticks": ""
             }
            },
            "type": "scatterpolargl"
           }
          ],
          "scatterternary": [
           {
            "marker": {
             "colorbar": {
              "outlinewidth": 0,
              "ticks": ""
             }
            },
            "type": "scatterternary"
           }
          ],
          "surface": [
           {
            "colorbar": {
             "outlinewidth": 0,
             "ticks": ""
            },
            "colorscale": [
             [
              0,
              "#0d0887"
             ],
             [
              0.1111111111111111,
              "#46039f"
             ],
             [
              0.2222222222222222,
              "#7201a8"
             ],
             [
              0.3333333333333333,
              "#9c179e"
             ],
             [
              0.4444444444444444,
              "#bd3786"
             ],
             [
              0.5555555555555556,
              "#d8576b"
             ],
             [
              0.6666666666666666,
              "#ed7953"
             ],
             [
              0.7777777777777778,
              "#fb9f3a"
             ],
             [
              0.8888888888888888,
              "#fdca26"
             ],
             [
              1,
              "#f0f921"
             ]
            ],
            "type": "surface"
           }
          ],
          "table": [
           {
            "cells": {
             "fill": {
              "color": "#EBF0F8"
             },
             "line": {
              "color": "white"
             }
            },
            "header": {
             "fill": {
              "color": "#C8D4E3"
             },
             "line": {
              "color": "white"
             }
            },
            "type": "table"
           }
          ]
         },
         "layout": {
          "annotationdefaults": {
           "arrowcolor": "#2a3f5f",
           "arrowhead": 0,
           "arrowwidth": 1
          },
          "coloraxis": {
           "colorbar": {
            "outlinewidth": 0,
            "ticks": ""
           }
          },
          "colorscale": {
           "diverging": [
            [
             0,
             "#8e0152"
            ],
            [
             0.1,
             "#c51b7d"
            ],
            [
             0.2,
             "#de77ae"
            ],
            [
             0.3,
             "#f1b6da"
            ],
            [
             0.4,
             "#fde0ef"
            ],
            [
             0.5,
             "#f7f7f7"
            ],
            [
             0.6,
             "#e6f5d0"
            ],
            [
             0.7,
             "#b8e186"
            ],
            [
             0.8,
             "#7fbc41"
            ],
            [
             0.9,
             "#4d9221"
            ],
            [
             1,
             "#276419"
            ]
           ],
           "sequential": [
            [
             0,
             "#0d0887"
            ],
            [
             0.1111111111111111,
             "#46039f"
            ],
            [
             0.2222222222222222,
             "#7201a8"
            ],
            [
             0.3333333333333333,
             "#9c179e"
            ],
            [
             0.4444444444444444,
             "#bd3786"
            ],
            [
             0.5555555555555556,
             "#d8576b"
            ],
            [
             0.6666666666666666,
             "#ed7953"
            ],
            [
             0.7777777777777778,
             "#fb9f3a"
            ],
            [
             0.8888888888888888,
             "#fdca26"
            ],
            [
             1,
             "#f0f921"
            ]
           ],
           "sequentialminus": [
            [
             0,
             "#0d0887"
            ],
            [
             0.1111111111111111,
             "#46039f"
            ],
            [
             0.2222222222222222,
             "#7201a8"
            ],
            [
             0.3333333333333333,
             "#9c179e"
            ],
            [
             0.4444444444444444,
             "#bd3786"
            ],
            [
             0.5555555555555556,
             "#d8576b"
            ],
            [
             0.6666666666666666,
             "#ed7953"
            ],
            [
             0.7777777777777778,
             "#fb9f3a"
            ],
            [
             0.8888888888888888,
             "#fdca26"
            ],
            [
             1,
             "#f0f921"
            ]
           ]
          },
          "colorway": [
           "#636efa",
           "#EF553B",
           "#00cc96",
           "#ab63fa",
           "#FFA15A",
           "#19d3f3",
           "#FF6692",
           "#B6E880",
           "#FF97FF",
           "#FECB52"
          ],
          "font": {
           "color": "#2a3f5f"
          },
          "geo": {
           "bgcolor": "white",
           "lakecolor": "white",
           "landcolor": "#E5ECF6",
           "showlakes": true,
           "showland": true,
           "subunitcolor": "white"
          },
          "hoverlabel": {
           "align": "left"
          },
          "hovermode": "closest",
          "mapbox": {
           "style": "light"
          },
          "paper_bgcolor": "white",
          "plot_bgcolor": "#E5ECF6",
          "polar": {
           "angularaxis": {
            "gridcolor": "white",
            "linecolor": "white",
            "ticks": ""
           },
           "bgcolor": "#E5ECF6",
           "radialaxis": {
            "gridcolor": "white",
            "linecolor": "white",
            "ticks": ""
           }
          },
          "scene": {
           "xaxis": {
            "backgroundcolor": "#E5ECF6",
            "gridcolor": "white",
            "gridwidth": 2,
            "linecolor": "white",
            "showbackground": true,
            "ticks": "",
            "zerolinecolor": "white"
           },
           "yaxis": {
            "backgroundcolor": "#E5ECF6",
            "gridcolor": "white",
            "gridwidth": 2,
            "linecolor": "white",
            "showbackground": true,
            "ticks": "",
            "zerolinecolor": "white"
           },
           "zaxis": {
            "backgroundcolor": "#E5ECF6",
            "gridcolor": "white",
            "gridwidth": 2,
            "linecolor": "white",
            "showbackground": true,
            "ticks": "",
            "zerolinecolor": "white"
           }
          },
          "shapedefaults": {
           "line": {
            "color": "#2a3f5f"
           }
          },
          "ternary": {
           "aaxis": {
            "gridcolor": "white",
            "linecolor": "white",
            "ticks": ""
           },
           "baxis": {
            "gridcolor": "white",
            "linecolor": "white",
            "ticks": ""
           },
           "bgcolor": "#E5ECF6",
           "caxis": {
            "gridcolor": "white",
            "linecolor": "white",
            "ticks": ""
           }
          },
          "title": {
           "x": 0.05
          },
          "xaxis": {
           "automargin": true,
           "gridcolor": "white",
           "linecolor": "white",
           "ticks": "",
           "title": {
            "standoff": 15
           },
           "zerolinecolor": "white",
           "zerolinewidth": 2
          },
          "yaxis": {
           "automargin": true,
           "gridcolor": "white",
           "linecolor": "white",
           "ticks": "",
           "title": {
            "standoff": 15
           },
           "zerolinecolor": "white",
           "zerolinewidth": 2
          }
         }
        }
       }
      },
      "text/html": [
       "<div>\n",
       "        \n",
       "        \n",
       "            <div id=\"7fee8f18-a33c-4fdf-8af4-cd5b1bb4de92\" class=\"plotly-graph-div\" style=\"height:525px; width:100%;\"></div>\n",
       "            <script type=\"text/javascript\">\n",
       "                require([\"plotly\"], function(Plotly) {\n",
       "                    window.PLOTLYENV=window.PLOTLYENV || {};\n",
       "                    \n",
       "                if (document.getElementById(\"7fee8f18-a33c-4fdf-8af4-cd5b1bb4de92\")) {\n",
       "                    Plotly.newPlot(\n",
       "                        '7fee8f18-a33c-4fdf-8af4-cd5b1bb4de92',\n",
       "                        [{\"close\": [10594.82, 10569.87, 10617.84, 10547.86, 10538.51, 10609.95, 10572.16, 10610.35, 10532.88, 10553.57, 10580.41, 10631.57, 10576.14, 10519.17, 10578.44, 10449.68, 10335.89, 10257.02, 10326.68, 10296.45, 10329.94, 10383.94, 10465.16, 10469.35, 10518.27, 10532.81, 10641.19, 10711.44, 10724.09, 10774.21, 10723.15, 10720.28, 10760.29, 10728.88, 10735.21, 10743.78, 10750.57, 10734.76, 10709.11, 10756.87, 10793.8, 10806.36, 10788.51, 10800.77, 10786.19, 10840.34, 10818.99, 10743.27, 10732.67, 10683.92, 10687.18, 10630.65, 10625.04, 10701.64, 10664.55, 10779.24, 10822.59, 10854.57, 10854.09, 10750.93, 10707.07, 10713.55, 10560.44, 10600.37, 10651.11, 10566.85, 10393.92, 10355.76, 10398.62, 10473.09, 10443.28, 10470.7, 10538.01, 10491.44, 10506.52, 10467.34, 10504.52, 10488.97, 10537.27, 10522.49, 10421.91, 10486.67, 10567.64, 10642.86, 10710.73, 10801.57, 10848.63, 10879.8, 10915.75, 10914.89, 10831.09, 10810.06, 10883.96, 10956.31, 10986.11, 11004.8, 11071.57, 11150.85, 11231.46, 11253.11, 11152.16, 11165.95, 11147.1, 11221.81, 11076.78, 11103.79, 11160.25, 11126.23, 10946.25, 10404.0, 10551.54, 10528.52, 10371.75, 10421.09, 10714.44, 10662.38, 10794.55, 10836.7, 10815.47, 10785.79, 10698.17, 10642.9, 10784.34, 10745.32, 10823.24, 10864.82, 11002.1, 11095.63, 11038.8, 11018.45, 11027.7, 11046.9, 11010.84, 11011.07, 11005.84, 10823.33, 10840.05, 10986.79, 10865.66, 10845.92, 10906.22, 10919.49, 10888.27, 10821.53, 10893.53, 10927.18, 10974.02, 10955.29, 10965.39, 10954.55, 10810.45, 10847.89, 10971.22, 10779.38, 10697.13, 10579.5, 10559.97, 10488.58, 10553.43, 10657.88, 10618.81, 10514.18, 10529.37, 10604.91, 10691.38, 10703.35, 10760.21, 10858.98, 10952.39, 10874.73, 10897.57, 10833.81, 10830.84, 10966.2, 10938.73, 10886.18, 10936.93, 10942.3, 10987.77, 10964.12, 10821.17, 10874.96, 10949.08, 11109.5, 11100.11, 11201.83, 11251.75, 11156.42, 11149.23, 11144.79, 11173.21, 11013.98, 11087.47, 10904.19, 10927.44, 10941.07, 10899.28, 10786.46, 10742.17, 10701.03, 10654.28, 10836.91, 10777.94, 10715.72, 10721.87, 10611.81, 10608.57, 10720.28, 10756.89, 10676.84, 10738.38, 10864.54, 10817.45, 10778.99, 10842.46, 10835.38, 10932.11, 10946.89, 10995.39, 10965.79, 11010.61, 11075.78, 11033.54, 11057.51, 11098.13, 10929.77, 11012.43, 11024.1, 10983.44, 11075.25, 11028.07, 10983.68, 10748.92, 10824.23, 10716.75, 10683.9, 10690.96, 10699.05, 10792.2, 10804.2, 10863.13, 10809.35, 10902.21, 10989.55, 11099.57, 11093.75, 11063.94, 10964.22, 11021.38, 10995.13, 10924.3, 10846.99, 10725.8, 10752.3, 10722.57, 10727.23, 10868.14, 10828.61, 10760.21, 10857.27, 10831.41, 10972.41, 10978.85, 10974.19, 11034.19, 11006.34, 11051.8, 10919.63, 10863.94, 10718.91, 10517.12, 10455.93, 10466.83, 9806.11, 10045.81, 9901.12, 9981.1, 9979.14, 9953.73, 9919.26, 9974.28, 9775.2, 9759.4, 9520.79, 9489.18, 9516.32, 9526.11, 9802.13, 9844.74, 9906.59, 9889.81, 9824.95, 9908.35, 9945.31, 9830.01, 9831.21, 9775.84, 9791.88, 9826.46, 9797.09, 9828.69, 9743.99, 9741.52, 9714.71, 9667.3, 9765.36, 9778.62, 9884.31, 9885.36, 9888.03, 10137.87, 10083.54, 9916.74, 9684.72, 9760.88, 9647.54, 9707.04, 9816.45, 9858.76, 9774.16, 9787.53, 9718.82, 9783.21, 9674.52, 9676.67, 9646.16, 9639.7, 9527.09, 9478.99, 9641.56, 9727.41, 9554.14, 9492.42, 9382.51, 9590.3, 9563.6, 9738.31, 9720.69, 9759.4, 9708.22, 9806.04, 9763.81, 9789.15, 9836.06, 9889.4, 9894.66, 9846.4, 9877.12, 9969.61, 10013.33, 9931.59, 9932.26, 10004.25, 10097.74, 10090.58, 10089.01, 10064.78, 10145.28, 10152.26, 10272.46, 10319.53, 10322.92, 10390.93, 10391.55, 10389.17, 10349.88, 10305.26, 10357.15, 10311.68, 10241.75, 10250.28, 10343.33, 10373.32, 10348.65, 10439.24, 10512.7, 10512.32, 10551.56, 10609.55, 10639.07, 10479.48, 10559.2, 10542.7, 10536.26, 10641.04, 10642.63, 10690.3, 10704.38, 10800.57, 10851.6, 10868.14, 10808.77, 10805.3, 10875.6, 10927.85, 10997.26, 10962.02, 10968.5, 10987.71, 11025.68, 11027.64, 11039.86, 10952.47, 10939.06, 10967.73, 11004.49, 11096.3, 10897.12, 10987.14, 10923.71, 10733.67, 10712.99, 10558.29, 10519.25, 10560.71, 10474.61, 10384.11, 10398.41, 10464.5, 10457.22, 10308.37, 10328.28, 10334.13, 10312.31, 10301.78, 10382.99, 10498.49, 10500.07, 10429.12, 10461.62, 10409.2, 10566.47, 10607.76, 10615.66, 10561.01, 10524.67, 10530.54, 10566.74, 10775.34, 10785.01, 10803.77, 10779.45, 10706.72, 10652.55, 10773.9, 10730.83, 10895.46, 10865.12, 10743.77, 10775.9, 10785.73, 10751.22, 10702.78, 10798.48, 10843.42, 10824.35, 10876.43, 10886.05, 10828.48, 10799.28, 10873.19, 10944.53, 10947.26, 10935.76, 10941.41, 10891.98, 10885.73, 10830.9, 10823.81, 10731.75, 10549.04, 10423.41, 10394.75, 10386.18, 10494.49, 10472.36, 10362.66, 10427.73, 10327.13, 10420.89, 10488.75, 10522.5, 10525.8, 10529.78, 10538.11, 10354.57, 10387.23, 10434.29, 10462.43, 10618.05, 10634.85, 10558.21, 10657.31, 10756.93, 10780.64], \"decreasing\": {\"line\": {\"color\": \"green\"}}, \"high\": [10619.52, 10610.04, 10617.84, 10604.92, 10604.02, 10609.95, 10656.25, 10646.55, 10620.31, 10572.71, 10580.78, 10642.4, 10664.18, 10589.19, 10603.08, 10579.02, 10447.09, 10374.54, 10357.23, 10365.59, 10338.95, 10400.4, 10472.81, 10495.34, 10530.93, 10557.67, 10668.49, 10711.44, 10724.09, 10774.21, 10798.52, 10790.31, 10798.54, 10753.77, 10792.27, 10766.64, 10794.55, 10756.51, 10803.6, 10842.25, 10829.33, 10843.41, 10827.67, 10835.7, 10858.5, 10842.61, 10844.74, 10831.38, 10742.61, 10749.39, 10735.08, 10669.59, 10666.66, 10729.45, 10728.39, 10787.58, 10882.65, 10872.29, 10873.91, 10856.0, 10752.58, 10762.91, 10650.18, 10665.92, 10665.43, 10635.71, 10541.03, 10418.97, 10419.28, 10504.67, 10495.24, 10489.17, 10577.53, 10520.66, 10526.41, 10544.0, 10514.31, 10545.78, 10537.27, 10556.65, 10528.92, 10497.77, 10592.04, 10659.98, 10710.73, 10813.16, 10853.46, 10879.8, 10918.47, 10931.0, 10934.75, 10844.08, 10899.98, 10962.55, 10986.11, 11030.22, 11122.82, 11150.85, 11231.46, 11270.18, 11228.71, 11268.61, 11178.3, 11246.18, 11189.57, 11158.29, 11212.1, 11153.32, 10970.3, 10761.01, 10697.82, 10609.5, 10392.31, 10473.51, 10720.48, 10698.47, 10799.29, 10890.69, 10937.9, 10805.55, 10719.29, 10756.37, 10784.34, 10818.05, 10852.33, 10882.76, 11016.56, 11095.63, 11070.29, 11052.11, 11054.86, 11066.0, 11020.78, 11072.31, 11120.2, 10863.67, 10840.05, 10986.79, 10939.97, 10889.6, 10969.22, 10947.16, 10969.88, 10837.54, 10904.75, 10975.67, 11016.35, 11008.2, 10988.23, 10974.94, 10965.2, 10917.6, 10983.96, 10831.56, 10774.73, 10692.19, 10573.73, 10618.68, 10573.61, 10660.61, 10683.9, 10578.98, 10566.37, 10632.62, 10691.38, 10748.6, 10782.06, 10874.63, 10970.24, 10978.38, 10915.74, 10938.63, 10893.35, 10979.1, 11034.12, 10991.86, 10942.64, 10977.81, 10999.43, 10986.53, 10925.21, 10909.61, 10954.67, 11109.5, 11131.08, 11207.15, 11261.68, 11243.59, 11186.67, 11160.05, 11188.01, 11143.04, 11087.47, 11008.77, 10969.2, 10992.31, 10914.83, 10851.16, 10752.99, 10800.34, 10723.84, 10836.91, 10886.2, 10873.48, 10752.05, 10709.8, 10665.72, 10746.74, 10776.47, 10693.64, 10752.57, 10864.54, 10890.2, 10818.84, 10872.74, 10896.25, 10963.95, 10984.84, 10995.39, 10992.29, 11018.19, 11075.78, 11080.41, 11057.51, 11100.02, 11095.67, 11012.43, 11054.49, 11030.09, 11095.5, 11063.62, 11033.89, 10939.68, 10829.85, 10827.28, 10725.71, 10757.01, 10729.9, 10792.2, 10828.21, 10863.13, 10865.91, 10916.69, 11005.55, 11099.57, 11186.05, 11063.94, 11097.11, 11028.27, 11058.06, 11016.92, 10922.55, 10877.72, 10765.42, 10779.93, 10758.84, 10882.04, 10883.98, 10806.56, 10882.75, 10908.36, 10972.41, 11003.49, 11007.35, 11051.09, 11073.95, 11062.43, 11064.34, 10926.73, 10826.19, 10669.63, 10507.83, 10503.1, 10272.04, 10046.01, 9989.63, 10011.19, 10127.01, 10019.5, 9919.26, 9984.15, 9912.28, 9809.19, 9622.95, 9629.07, 9554.35, 9574.83, 9802.13, 9869.59, 9906.59, 9889.81, 9899.97, 9912.53, 10014.42, 9921.78, 9875.84, 9777.35, 9823.25, 9844.39, 9851.29, 9836.02, 9800.03, 9753.69, 9792.99, 9738.8, 9847.35, 9781.4, 9890.89, 10001.85, 9957.63, 10148.75, 10126.02, 9971.98, 9850.08, 9785.2, 9722.97, 9720.96, 9835.56, 9871.96, 9818.95, 9826.88, 9756.67, 9783.21, 9741.55, 9683.95, 9652.19, 9658.95, 9559.7, 9591.91, 9670.97, 9727.41, 9737.68, 9554.53, 9427.24, 9596.35, 9600.94, 9741.64, 9731.11, 9796.98, 9762.37, 9806.04, 9803.99, 9826.25, 9842.8, 9919.94, 9894.66, 9873.39, 9892.82, 9980.08, 10020.6, 9952.34, 9959.03, 10065.52, 10100.23, 10140.98, 10135.62, 10135.16, 10165.77, 10173.47, 10272.46, 10319.53, 10322.92, 10390.93, 10416.91, 10403.05, 10402.39, 10334.34, 10359.12, 10367.98, 10274.28, 10269.3, 10382.12, 10373.32, 10407.27, 10439.24, 10512.7, 10525.6, 10556.81, 10612.34, 10667.94, 10535.12, 10559.2, 10556.75, 10536.26, 10641.04, 10735.07, 10728.38, 10741.56, 10807.05, 10851.6, 10875.65, 10887.12, 10836.44, 10897.21, 10927.85, 11016.92, 11077.99, 11045.08, 11027.49, 11025.68, 11070.85, 11046.77, 10986.53, 10992.55, 10978.1, 11046.64, 11097.0, 11005.36, 11004.76, 10946.82, 10910.47, 10834.69, 10693.44, 10544.97, 10612.5, 10573.93, 10564.97, 10465.84, 10477.2, 10520.62, 10404.0, 10370.97, 10365.44, 10361.61, 10307.75, 10384.36, 10515.1, 10511.2, 10518.33, 10541.29, 10429.33, 10566.47, 10637.9, 10630.69, 10617.06, 10568.92, 10562.97, 10573.77, 10778.64, 10799.14, 10840.29, 10786.33, 10787.62, 10690.98, 10800.29, 10788.08, 10914.85, 10888.21, 10812.65, 10791.28, 10812.38, 10781.11, 10733.57, 10810.16, 10856.51, 10867.59, 10880.56, 10899.84, 10861.11, 10835.43, 10919.96, 10949.76, 10994.44, 10976.46, 10945.92, 10907.44, 10905.74, 10927.16, 10835.8, 10773.25, 10641.28, 10542.49, 10425.6, 10461.37, 10500.77, 10514.05, 10436.62, 10518.02, 10374.75, 10456.32, 10516.05, 10538.12, 10545.25, 10596.41, 10541.73, 10453.4, 10431.78, 10456.3, 10466.99, 10618.05, 10634.85, 10650.15, 10670.43, 10766.6, 10803.07], \"increasing\": {\"line\": {\"color\": \"red\"}}, \"low\": [10568.72, 10555.34, 10564.26, 10519.71, 10509.91, 10550.72, 10565.78, 10586.28, 10532.88, 10508.72, 10520.15, 10581.81, 10561.21, 10490.71, 10493.95, 10446.45, 10322.1, 10257.02, 10315.97, 10288.24, 10273.6, 10362.55, 10414.53, 10445.86, 10473.28, 10511.5, 10576.12, 10668.39, 10675.83, 10723.37, 10723.15, 10684.32, 10745.77, 10702.56, 10731.9, 10726.25, 10740.07, 10716.52, 10701.08, 10743.13, 10747.37, 10785.32, 10788.51, 10765.31, 10769.19, 10807.89, 10806.01, 10721.87, 10659.29, 10683.92, 10654.58, 10600.26, 10609.23, 10673.43, 10656.18, 10687.26, 10801.1, 10809.09, 10833.78, 10746.74, 10692.53, 10697.62, 10560.44, 10495.15, 10565.68, 10540.74, 10376.65, 10322.76, 10336.26, 10438.33, 10408.06, 10444.7, 10494.6, 10436.11, 10472.39, 10452.08, 10470.36, 10488.97, 10486.52, 10514.54, 10408.12, 10419.81, 10513.29, 10590.95, 10650.77, 10759.61, 10794.25, 10815.68, 10869.12, 10860.77, 10819.25, 10770.1, 10818.24, 10911.89, 10920.5, 10942.95, 11048.06, 11095.85, 11142.38, 11201.52, 11107.32, 11131.85, 11089.48, 11161.83, 11076.78, 11007.89, 11139.4, 11070.43, 10855.43, 10300.4, 10547.64, 10512.93, 10189.04, 10416.01, 10559.79, 10620.8, 10688.97, 10827.98, 10815.47, 10709.69, 10638.98, 10642.9, 10711.15, 10745.32, 10788.43, 10845.38, 10908.99, 11014.87, 11015.47, 11008.18, 10933.46, 10983.25, 10981.04, 11011.07, 10975.33, 10758.06, 10781.43, 10901.69, 10853.48, 10815.46, 10905.3, 10905.69, 10882.05, 10775.45, 10829.02, 10874.83, 10953.31, 10920.62, 10938.37, 10921.17, 10799.07, 10809.89, 10889.71, 10770.05, 10687.25, 10540.15, 10489.2, 10478.98, 10495.67, 10539.63, 10601.1, 10509.03, 10500.97, 10555.56, 10609.04, 10689.81, 10731.68, 10808.4, 10908.86, 10874.73, 10865.07, 10833.81, 10819.07, 10861.66, 10938.73, 10886.18, 10883.52, 10918.12, 10965.18, 10929.56, 10799.75, 10853.65, 10876.97, 11002.15, 11054.62, 11111.14, 11188.99, 11122.98, 11118.81, 11088.53, 11119.24, 11013.98, 10981.61, 10904.19, 10842.56, 10941.07, 10828.86, 10786.46, 10651.42, 10701.03, 10633.01, 10667.64, 10777.94, 10707.68, 10680.44, 10585.27, 10523.58, 10638.9, 10728.24, 10635.03, 10643.65, 10769.7, 10817.45, 10758.83, 10788.37, 10826.14, 10893.73, 10901.75, 10917.61, 10956.0, 10966.33, 11009.16, 11001.15, 10976.46, 11058.28, 10919.13, 10957.3, 10994.97, 10983.44, 11026.07, 11001.96, 10972.25, 10693.73, 10755.53, 10688.59, 10606.26, 10688.55, 10663.44, 10697.01, 10774.69, 10802.79, 10770.32, 10847.17, 10946.33, 11029.11, 11080.07, 10987.68, 10952.85, 10956.49, 10989.93, 10905.34, 10807.56, 10689.29, 10669.59, 10667.25, 10701.25, 10770.47, 10806.73, 10750.81, 10808.5, 10814.54, 10835.84, 10941.77, 10947.29, 10961.27, 10966.96, 11012.95, 10906.42, 10839.46, 10707.76, 10446.94, 10403.13, 10428.97, 9797.93, 9740.76, 9890.47, 9888.73, 9978.25, 9919.79, 9762.91, 9822.15, 9775.2, 9667.85, 9475.61, 9400.69, 9459.12, 9481.66, 9588.86, 9742.61, 9817.29, 9786.25, 9782.86, 9817.95, 9938.55, 9798.45, 9764.46, 9616.16, 9763.89, 9755.12, 9770.87, 9779.4, 9726.8, 9632.47, 9702.77, 9654.91, 9679.98, 9688.74, 9767.14, 9885.36, 9888.03, 9979.21, 10061.7, 9895.29, 9664.75, 9719.46, 9626.47, 9661.72, 9741.45, 9815.5, 9718.94, 9733.98, 9701.1, 9720.92, 9658.5, 9585.32, 9625.31, 9613.29, 9479.06, 9473.3, 9555.01, 9630.77, 9542.52, 9474.47, 9319.28, 9460.2, 9547.63, 9584.63, 9683.2, 9736.0, 9677.49, 9701.93, 9763.81, 9759.51, 9771.15, 9870.27, 9855.47, 9828.03, 9847.32, 9918.21, 9990.07, 9893.96, 9909.81, 9988.83, 10032.08, 10074.34, 10082.0, 10055.5, 10096.94, 10143.15, 10181.94, 10256.53, 10269.95, 10343.45, 10368.86, 10343.56, 10313.18, 10295.44, 10327.9, 10299.46, 10204.21, 10214.02, 10294.37, 10331.27, 10339.64, 10370.0, 10445.74, 10484.69, 10506.96, 10551.67, 10589.47, 10458.79, 10506.68, 10515.86, 10499.29, 10525.27, 10627.01, 10685.1, 10690.23, 10759.96, 10793.77, 10815.61, 10797.76, 10782.02, 10849.55, 10876.34, 10961.61, 10926.85, 10950.43, 10974.82, 10949.3, 10995.83, 11006.68, 10906.44, 10905.78, 10910.78, 10988.7, 11018.86, 10870.4, 10913.95, 10867.06, 10732.97, 10669.39, 10549.06, 10363.02, 10535.24, 10474.61, 10384.11, 10385.18, 10342.32, 10453.5, 10289.69, 10308.59, 10305.28, 10312.31, 10227.44, 10306.03, 10369.02, 10383.51, 10421.81, 10446.51, 10371.08, 10466.24, 10548.06, 10566.37, 10539.49, 10517.82, 10474.19, 10521.7, 10650.48, 10745.25, 10773.47, 10695.49, 10693.04, 10645.37, 10674.2, 10719.08, 10821.3, 10843.64, 10720.66, 10750.9, 10756.67, 10708.92, 10680.85, 10723.23, 10799.65, 10823.89, 10769.57, 10865.0, 10804.34, 10792.27, 10861.99, 10909.15, 10932.53, 10912.92, 10879.4, 10879.24, 10863.33, 10827.74, 10754.07, 10714.73, 10524.68, 10418.25, 10180.04, 10366.54, 10383.62, 10440.77, 10361.89, 10427.73, 10287.76, 10318.37, 10449.39, 10497.13, 10504.49, 10515.72, 10503.07, 10340.15, 10368.96, 10397.6, 10406.49, 10504.28, 10589.42, 10557.03, 10566.32, 10714.27, 10753.45], \"open\": [10576.27, 10585.44, 10584.1, 10593.87, 10564.79, 10553.9, 10630.16, 10610.33, 10596.36, 10533.99, 10556.82, 10590.8, 10653.34, 10568.58, 10506.85, 10571.65, 10442.05, 10333.44, 10322.44, 10351.42, 10319.69, 10362.55, 10425.1, 10462.7, 10473.28, 10538.21, 10576.12, 10668.39, 10712.48, 10735.14, 10790.35, 10773.85, 10745.77, 10737.87, 10759.47, 10749.9, 10771.4, 10735.35, 10757.35, 10777.6, 10768.9, 10816.04, 10797.63, 10797.91, 10856.56, 10820.83, 10839.44, 10802.95, 10713.67, 10728.22, 10716.59, 10662.08, 10629.16, 10673.43, 10706.79, 10688.22, 10815.4, 10837.61, 10847.79, 10836.82, 10733.56, 10735.24, 10623.2, 10591.62, 10617.27, 10607.62, 10541.03, 10404.42, 10406.35, 10438.33, 10488.73, 10447.11, 10494.6, 10517.21, 10478.74, 10508.33, 10470.36, 10526.97, 10503.1, 10546.64, 10526.14, 10419.81, 10513.29, 10590.95, 10664.82, 10759.61, 10834.58, 10856.92, 10899.09, 10922.35, 10915.32, 10824.54, 10818.24, 10932.37, 10955.81, 10976.13, 11048.06, 11123.58, 11169.79, 11243.49, 11228.71, 11154.36, 11152.53, 11202.27, 11189.57, 11054.36, 11139.4, 11151.65, 10970.3, 10761.01, 10547.64, 10559.44, 10371.01, 10429.09, 10559.79, 10698.47, 10688.97, 10827.98, 10896.16, 10779.1, 10719.29, 10727.45, 10711.15, 10762.99, 10788.43, 10847.74, 10908.99, 11022.15, 11063.73, 11039.6, 11010.24, 11004.81, 11016.85, 11037.35, 11045.9, 10863.67, 10783.57, 10901.69, 10939.97, 10855.66, 10905.3, 10925.71, 10936.26, 10837.54, 10880.14, 10885.64, 10961.7, 10984.12, 10975.58, 10962.36, 10953.51, 10842.88, 10891.66, 10802.42, 10756.89, 10680.38, 10541.83, 10583.08, 10546.29, 10553.41, 10665.52, 10578.98, 10516.45, 10581.78, 10610.44, 10692.89, 10731.68, 10808.4, 10938.3, 10965.08, 10873.54, 10911.74, 10844.09, 10861.66, 10986.77, 10974.52, 10910.61, 10946.62, 10976.49, 10979.68, 10925.21, 10856.03, 10882.68, 11002.15, 11130.03, 11111.14, 11228.64, 11243.59, 11168.99, 11140.02, 11153.2, 11143.04, 10998.2, 11008.77, 10904.8, 10949.85, 10901.25, 10834.07, 10730.9, 10766.88, 10669.42, 10667.64, 10852.17, 10802.88, 10714.25, 10690.91, 10645.66, 10638.9, 10737.62, 10693.64, 10644.91, 10769.7, 10867.97, 10802.75, 10811.43, 10868.56, 10932.51, 10929.46, 10937.77, 10957.66, 10969.35, 11023.07, 11072.7, 10997.73, 11062.36, 11095.67, 10957.3, 10997.26, 11024.97, 11026.07, 11063.62, 11009.96, 10939.68, 10797.95, 10827.28, 10663.57, 10702.6, 10698.76, 10697.01, 10790.24, 10817.33, 10865.91, 10847.17, 10946.33, 11029.12, 11153.97, 11037.26, 11087.86, 10981.39, 11042.41, 11016.92, 10922.55, 10869.8, 10723.0, 10762.91, 10726.67, 10776.53, 10881.78, 10794.22, 10808.5, 10886.19, 10857.1, 10959.56, 10974.08, 10973.77, 11050.09, 11014.19, 11048.89, 10918.74, 10826.19, 10665.29, 10467.85, 10464.39, 10272.04, 9811.58, 9989.63, 9891.97, 10048.43, 9975.46, 9879.47, 9871.3, 9912.28, 9774.29, 9622.95, 9570.19, 9515.43, 9508.81, 9588.86, 9812.2, 9871.4, 9856.85, 9888.41, 9818.15, 9958.47, 9921.78, 9806.8, 9727.17, 9799.69, 9806.58, 9819.05, 9795.47, 9788.95, 9698.52, 9769.33, 9730.64, 9679.98, 9728.95, 9774.03, 9959.87, 9899.24, 9979.21, 10120.43, 9971.98, 9850.08, 9719.46, 9722.97, 9661.72, 9741.45, 9827.32, 9818.95, 9762.49, 9756.46, 9720.92, 9729.29, 9648.98, 9639.24, 9646.53, 9559.7, 9544.87, 9555.01, 9649.97, 9725.27, 9494.25, 9427.24, 9460.2, 9591.56, 9584.63, 9731.11, 9753.63, 9737.67, 9701.93, 9781.35, 9773.31, 9781.39, 9870.27, 9880.54, 9869.54, 9865.0, 9923.39, 10006.46, 9944.71, 9915.97, 10029.84, 10032.08, 10123.61, 10095.99, 10111.18, 10096.94, 10152.11, 10181.94, 10282.32, 10309.02, 10343.45, 10403.03, 10385.81, 10385.25, 10323.25, 10328.18, 10359.47, 10274.28, 10224.27, 10294.37, 10331.27, 10391.3, 10374.66, 10455.19, 10497.4, 10529.3, 10563.93, 10642.57, 10535.12, 10506.68, 10542.68, 10529.02, 10551.99, 10714.68, 10695.47, 10725.17, 10759.96, 10805.39, 10839.93, 10869.24, 10820.94, 10849.84, 10905.63, 10961.61, 11038.24, 11017.69, 10994.52, 10994.28, 11054.02, 11017.73, 10986.53, 10952.91, 10945.94, 10992.76, 11037.99, 11005.36, 10913.95, 10938.47, 10910.47, 10751.55, 10684.04, 10480.21, 10535.24, 10556.58, 10508.56, 10405.36, 10362.35, 10481.1, 10404.0, 10313.15, 10344.18, 10348.58, 10277.35, 10307.12, 10386.12, 10482.45, 10499.51, 10497.5, 10409.9, 10486.23, 10567.54, 10605.75, 10582.19, 10546.42, 10488.7, 10547.15, 10650.48, 10749.41, 10817.71, 10734.25, 10777.18, 10661.39, 10674.2, 10786.66, 10821.3, 10878.01, 10793.1, 10755.87, 10785.85, 10742.81, 10729.83, 10723.23, 10817.6, 10855.16, 10819.92, 10865.0, 10861.11, 10821.92, 10861.99, 10910.5, 10963.86, 10969.74, 10892.25, 10898.25, 10872.63, 10909.98, 10824.15, 10773.06, 10641.28, 10528.87, 10304.88, 10422.89, 10383.62, 10491.79, 10436.62, 10444.5, 10374.75, 10345.42, 10449.39, 10508.42, 10526.87, 10560.01, 10526.15, 10453.4, 10386.21, 10397.6, 10440.15, 10504.28, 10613.19, 10629.22, 10566.32, 10718.4, 10783.46], \"type\": \"candlestick\", \"x\": [\"2017-09-01T00:00:00\", \"2017-09-04T00:00:00\", \"2017-09-05T00:00:00\", \"2017-09-06T00:00:00\", \"2017-09-07T00:00:00\", \"2017-09-08T00:00:00\", \"2017-09-11T00:00:00\", \"2017-09-12T00:00:00\", \"2017-09-13T00:00:00\", \"2017-09-14T00:00:00\", \"2017-09-15T00:00:00\", \"2017-09-18T00:00:00\", \"2017-09-19T00:00:00\", \"2017-09-20T00:00:00\", \"2017-09-21T00:00:00\", \"2017-09-22T00:00:00\", \"2017-09-25T00:00:00\", \"2017-09-26T00:00:00\", \"2017-09-27T00:00:00\", \"2017-09-28T00:00:00\", \"2017-09-29T00:00:00\", \"2017-09-30T00:00:00\", \"2017-10-02T00:00:00\", \"2017-10-03T00:00:00\", \"2017-10-05T00:00:00\", \"2017-10-06T00:00:00\", \"2017-10-11T00:00:00\", \"2017-10-12T00:00:00\", \"2017-10-13T00:00:00\", \"2017-10-16T00:00:00\", \"2017-10-17T00:00:00\", \"2017-10-18T00:00:00\", \"2017-10-19T00:00:00\", \"2017-10-20T00:00:00\", \"2017-10-23T00:00:00\", \"2017-10-24T00:00:00\", \"2017-10-25T00:00:00\", \"2017-10-26T00:00:00\", \"2017-10-27T00:00:00\", \"2017-10-30T00:00:00\", \"2017-10-31T00:00:00\", \"2017-11-01T00:00:00\", \"2017-11-02T00:00:00\", \"2017-11-03T00:00:00\", \"2017-11-06T00:00:00\", \"2017-11-07T00:00:00\", \"2017-11-08T00:00:00\", \"2017-11-09T00:00:00\", \"2017-11-10T00:00:00\", \"2017-11-13T00:00:00\", \"2017-11-14T00:00:00\", \"2017-11-15T00:00:00\", \"2017-11-16T00:00:00\", \"2017-11-17T00:00:00\", \"2017-11-20T00:00:00\", \"2017-11-21T00:00:00\", \"2017-11-22T00:00:00\", \"2017-11-23T00:00:00\", \"2017-11-24T00:00:00\", \"2017-11-27T00:00:00\", \"2017-11-28T00:00:00\", \"2017-11-29T00:00:00\", \"2017-11-30T00:00:00\", \"2017-12-01T00:00:00\", \"2017-12-04T00:00:00\", \"2017-12-05T00:00:00\", \"2017-12-06T00:00:00\", \"2017-12-07T00:00:00\", \"2017-12-08T00:00:00\", \"2017-12-11T00:00:00\", \"2017-12-12T00:00:00\", \"2017-12-13T00:00:00\", \"2017-12-14T00:00:00\", \"2017-12-15T00:00:00\", \"2017-12-18T00:00:00\", \"2017-12-19T00:00:00\", \"2017-12-20T00:00:00\", \"2017-12-21T00:00:00\", \"2017-12-22T00:00:00\", \"2017-12-25T00:00:00\", \"2017-12-26T00:00:00\", \"2017-12-27T00:00:00\", \"2017-12-28T00:00:00\", \"2017-12-29T00:00:00\", \"2018-01-02T00:00:00\", \"2018-01-03T00:00:00\", \"2018-01-04T00:00:00\", \"2018-01-05T00:00:00\", \"2018-01-08T00:00:00\", \"2018-01-09T00:00:00\", \"2018-01-10T00:00:00\", \"2018-01-11T00:00:00\", \"2018-01-12T00:00:00\", \"2018-01-15T00:00:00\", \"2018-01-16T00:00:00\", \"2018-01-17T00:00:00\", \"2018-01-18T00:00:00\", \"2018-01-19T00:00:00\", \"2018-01-22T00:00:00\", \"2018-01-23T00:00:00\", \"2018-01-24T00:00:00\", \"2018-01-25T00:00:00\", \"2018-01-26T00:00:00\", \"2018-01-29T00:00:00\", \"2018-01-30T00:00:00\", \"2018-01-31T00:00:00\", \"2018-02-01T00:00:00\", \"2018-02-02T00:00:00\", \"2018-02-05T00:00:00\", \"2018-02-06T00:00:00\", \"2018-02-07T00:00:00\", \"2018-02-08T00:00:00\", \"2018-02-09T00:00:00\", \"2018-02-12T00:00:00\", \"2018-02-21T00:00:00\", \"2018-02-22T00:00:00\", \"2018-02-23T00:00:00\", \"2018-02-26T00:00:00\", \"2018-02-27T00:00:00\", \"2018-03-01T00:00:00\", \"2018-03-02T00:00:00\", \"2018-03-05T00:00:00\", \"2018-03-06T00:00:00\", \"2018-03-07T00:00:00\", \"2018-03-08T00:00:00\", \"2018-03-09T00:00:00\", \"2018-03-12T00:00:00\", \"2018-03-13T00:00:00\", \"2018-03-14T00:00:00\", \"2018-03-15T00:00:00\", \"2018-03-16T00:00:00\", \"2018-03-19T00:00:00\", \"2018-03-20T00:00:00\", \"2018-03-21T00:00:00\", \"2018-03-22T00:00:00\", \"2018-03-23T00:00:00\", \"2018-03-26T00:00:00\", \"2018-03-27T00:00:00\", \"2018-03-28T00:00:00\", \"2018-03-29T00:00:00\", \"2018-03-30T00:00:00\", \"2018-03-31T00:00:00\", \"2018-04-02T00:00:00\", \"2018-04-03T00:00:00\", \"2018-04-09T00:00:00\", \"2018-04-10T00:00:00\", \"2018-04-11T00:00:00\", \"2018-04-12T00:00:00\", \"2018-04-13T00:00:00\", \"2018-04-16T00:00:00\", \"2018-04-17T00:00:00\", \"2018-04-18T00:00:00\", \"2018-04-19T00:00:00\", \"2018-04-20T00:00:00\", \"2018-04-23T00:00:00\", \"2018-04-24T00:00:00\", \"2018-04-25T00:00:00\", \"2018-04-26T00:00:00\", \"2018-04-27T00:00:00\", \"2018-04-30T00:00:00\", \"2018-05-02T00:00:00\", \"2018-05-03T00:00:00\", \"2018-05-04T00:00:00\", \"2018-05-07T00:00:00\", \"2018-05-08T00:00:00\", \"2018-05-09T00:00:00\", \"2018-05-10T00:00:00\", \"2018-05-11T00:00:00\", \"2018-05-14T00:00:00\", \"2018-05-15T00:00:00\", \"2018-05-16T00:00:00\", \"2018-05-17T00:00:00\", \"2018-05-18T00:00:00\", \"2018-05-21T00:00:00\", \"2018-05-22T00:00:00\", \"2018-05-23T00:00:00\", \"2018-05-24T00:00:00\", \"2018-05-25T00:00:00\", \"2018-05-28T00:00:00\", \"2018-05-29T00:00:00\", \"2018-05-30T00:00:00\", \"2018-05-31T00:00:00\", \"2018-06-01T00:00:00\", \"2018-06-04T00:00:00\", \"2018-06-05T00:00:00\", \"2018-06-06T00:00:00\", \"2018-06-07T00:00:00\", \"2018-06-08T00:00:00\", \"2018-06-11T00:00:00\", \"2018-06-12T00:00:00\", \"2018-06-13T00:00:00\", \"2018-06-14T00:00:00\", \"2018-06-15T00:00:00\", \"2018-06-19T00:00:00\", \"2018-06-20T00:00:00\", \"2018-06-21T00:00:00\", \"2018-06-22T00:00:00\", \"2018-06-25T00:00:00\", \"2018-06-26T00:00:00\", \"2018-06-27T00:00:00\", \"2018-06-28T00:00:00\", \"2018-06-29T00:00:00\", \"2018-07-02T00:00:00\", \"2018-07-03T00:00:00\", \"2018-07-04T00:00:00\", \"2018-07-05T00:00:00\", \"2018-07-06T00:00:00\", \"2018-07-09T00:00:00\", \"2018-07-10T00:00:00\", \"2018-07-11T00:00:00\", \"2018-07-12T00:00:00\", \"2018-07-13T00:00:00\", \"2018-07-16T00:00:00\", \"2018-07-17T00:00:00\", \"2018-07-18T00:00:00\", \"2018-07-19T00:00:00\", \"2018-07-20T00:00:00\", \"2018-07-23T00:00:00\", \"2018-07-24T00:00:00\", \"2018-07-25T00:00:00\", \"2018-07-26T00:00:00\", \"2018-07-27T00:00:00\", \"2018-07-30T00:00:00\", \"2018-07-31T00:00:00\", \"2018-08-01T00:00:00\", \"2018-08-02T00:00:00\", \"2018-08-03T00:00:00\", \"2018-08-06T00:00:00\", \"2018-08-07T00:00:00\", \"2018-08-08T00:00:00\", \"2018-08-09T00:00:00\", \"2018-08-10T00:00:00\", \"2018-08-13T00:00:00\", \"2018-08-14T00:00:00\", \"2018-08-15T00:00:00\", \"2018-08-16T00:00:00\", \"2018-08-17T00:00:00\", \"2018-08-20T00:00:00\", \"2018-08-21T00:00:00\", \"2018-08-22T00:00:00\", \"2018-08-23T00:00:00\", \"2018-08-24T00:00:00\", \"2018-08-27T00:00:00\", \"2018-08-28T00:00:00\", \"2018-08-29T00:00:00\", \"2018-08-30T00:00:00\", \"2018-08-31T00:00:00\", \"2018-09-03T00:00:00\", \"2018-09-04T00:00:00\", \"2018-09-05T00:00:00\", \"2018-09-06T00:00:00\", \"2018-09-07T00:00:00\", \"2018-09-10T00:00:00\", \"2018-09-11T00:00:00\", \"2018-09-12T00:00:00\", \"2018-09-13T00:00:00\", \"2018-09-14T00:00:00\", \"2018-09-17T00:00:00\", \"2018-09-18T00:00:00\", \"2018-09-19T00:00:00\", \"2018-09-20T00:00:00\", \"2018-09-21T00:00:00\", \"2018-09-25T00:00:00\", \"2018-09-26T00:00:00\", \"2018-09-27T00:00:00\", \"2018-09-28T00:00:00\", \"2018-10-01T00:00:00\", \"2018-10-02T00:00:00\", \"2018-10-03T00:00:00\", \"2018-10-04T00:00:00\", \"2018-10-05T00:00:00\", \"2018-10-08T00:00:00\", \"2018-10-09T00:00:00\", \"2018-10-11T00:00:00\", \"2018-10-12T00:00:00\", \"2018-10-15T00:00:00\", \"2018-10-16T00:00:00\", \"2018-10-17T00:00:00\", \"2018-10-18T00:00:00\", \"2018-10-19T00:00:00\", \"2018-10-22T00:00:00\", \"2018-10-23T00:00:00\", \"2018-10-24T00:00:00\", \"2018-10-25T00:00:00\", \"2018-10-26T00:00:00\", \"2018-10-29T00:00:00\", \"2018-10-30T00:00:00\", \"2018-10-31T00:00:00\", \"2018-11-01T00:00:00\", \"2018-11-02T00:00:00\", \"2018-11-05T00:00:00\", \"2018-11-06T00:00:00\", \"2018-11-07T00:00:00\", \"2018-11-08T00:00:00\", \"2018-11-09T00:00:00\", \"2018-11-12T00:00:00\", \"2018-11-13T00:00:00\", \"2018-11-14T00:00:00\", \"2018-11-15T00:00:00\", \"2018-11-16T00:00:00\", \"2018-11-19T00:00:00\", \"2018-11-20T00:00:00\", \"2018-11-21T00:00:00\", \"2018-11-22T00:00:00\", \"2018-11-23T00:00:00\", \"2018-11-26T00:00:00\", \"2018-11-27T00:00:00\", \"2018-11-28T00:00:00\", \"2018-11-29T00:00:00\", \"2018-11-30T00:00:00\", \"2018-12-03T00:00:00\", \"2018-12-04T00:00:00\", \"2018-12-05T00:00:00\", \"2018-12-06T00:00:00\", \"2018-12-07T00:00:00\", \"2018-12-10T00:00:00\", \"2018-12-11T00:00:00\", \"2018-12-12T00:00:00\", \"2018-12-13T00:00:00\", \"2018-12-14T00:00:00\", \"2018-12-17T00:00:00\", \"2018-12-18T00:00:00\", \"2018-12-19T00:00:00\", \"2018-12-20T00:00:00\", \"2018-12-21T00:00:00\", \"2018-12-22T00:00:00\", \"2018-12-24T00:00:00\", \"2018-12-25T00:00:00\", \"2018-12-26T00:00:00\", \"2018-12-27T00:00:00\", \"2018-12-28T00:00:00\", \"2019-01-02T00:00:00\", \"2019-01-03T00:00:00\", \"2019-01-04T00:00:00\", \"2019-01-07T00:00:00\", \"2019-01-08T00:00:00\", \"2019-01-09T00:00:00\", \"2019-01-10T00:00:00\", \"2019-01-11T00:00:00\", \"2019-01-14T00:00:00\", \"2019-01-15T00:00:00\", \"2019-01-16T00:00:00\", \"2019-01-17T00:00:00\", \"2019-01-18T00:00:00\", \"2019-01-21T00:00:00\", \"2019-01-22T00:00:00\", \"2019-01-23T00:00:00\", \"2019-01-24T00:00:00\", \"2019-01-25T00:00:00\", \"2019-01-28T00:00:00\", \"2019-01-29T00:00:00\", \"2019-01-30T00:00:00\", \"2019-02-11T00:00:00\", \"2019-02-12T00:00:00\", \"2019-02-13T00:00:00\", \"2019-02-14T00:00:00\", \"2019-02-15T00:00:00\", \"2019-02-18T00:00:00\", \"2019-02-19T00:00:00\", \"2019-02-20T00:00:00\", \"2019-02-21T00:00:00\", \"2019-02-22T00:00:00\", \"2019-02-25T00:00:00\", \"2019-02-26T00:00:00\", \"2019-02-27T00:00:00\", \"2019-03-04T00:00:00\", \"2019-03-05T00:00:00\", \"2019-03-06T00:00:00\", \"2019-03-07T00:00:00\", \"2019-03-08T00:00:00\", \"2019-03-11T00:00:00\", \"2019-03-12T00:00:00\", \"2019-03-13T00:00:00\", \"2019-03-14T00:00:00\", \"2019-03-15T00:00:00\", \"2019-03-18T00:00:00\", \"2019-03-19T00:00:00\", \"2019-03-20T00:00:00\", \"2019-03-21T00:00:00\", \"2019-03-22T00:00:00\", \"2019-03-25T00:00:00\", \"2019-03-26T00:00:00\", \"2019-03-27T00:00:00\", \"2019-03-28T00:00:00\", \"2019-03-29T00:00:00\", \"2019-04-01T00:00:00\", \"2019-04-02T00:00:00\", \"2019-04-03T00:00:00\", \"2019-04-08T00:00:00\", \"2019-04-09T00:00:00\", \"2019-04-10T00:00:00\", \"2019-04-11T00:00:00\", \"2019-04-12T00:00:00\", \"2019-04-15T00:00:00\", \"2019-04-16T00:00:00\", \"2019-04-17T00:00:00\", \"2019-04-18T00:00:00\", \"2019-04-19T00:00:00\", \"2019-04-22T00:00:00\", \"2019-04-23T00:00:00\", \"2019-04-24T00:00:00\", \"2019-04-25T00:00:00\", \"2019-04-26T00:00:00\", \"2019-04-29T00:00:00\", \"2019-04-30T00:00:00\", \"2019-05-02T00:00:00\", \"2019-05-03T00:00:00\", \"2019-05-06T00:00:00\", \"2019-05-07T00:00:00\", \"2019-05-08T00:00:00\", \"2019-05-09T00:00:00\", \"2019-05-10T00:00:00\", \"2019-05-13T00:00:00\", \"2019-05-14T00:00:00\", \"2019-05-15T00:00:00\", \"2019-05-16T00:00:00\", \"2019-05-17T00:00:00\", \"2019-05-20T00:00:00\", \"2019-05-21T00:00:00\", \"2019-05-22T00:00:00\", \"2019-05-23T00:00:00\", \"2019-05-24T00:00:00\", \"2019-05-27T00:00:00\", \"2019-05-28T00:00:00\", \"2019-05-29T00:00:00\", \"2019-05-30T00:00:00\", \"2019-05-31T00:00:00\", \"2019-06-03T00:00:00\", \"2019-06-04T00:00:00\", \"2019-06-05T00:00:00\", \"2019-06-06T00:00:00\", \"2019-06-10T00:00:00\", \"2019-06-11T00:00:00\", \"2019-06-12T00:00:00\", \"2019-06-13T00:00:00\", \"2019-06-14T00:00:00\", \"2019-06-17T00:00:00\", \"2019-06-18T00:00:00\", \"2019-06-19T00:00:00\", \"2019-06-20T00:00:00\", \"2019-06-21T00:00:00\", \"2019-06-24T00:00:00\", \"2019-06-25T00:00:00\", \"2019-06-26T00:00:00\", \"2019-06-27T00:00:00\", \"2019-06-28T00:00:00\", \"2019-07-01T00:00:00\", \"2019-07-02T00:00:00\", \"2019-07-03T00:00:00\", \"2019-07-04T00:00:00\", \"2019-07-05T00:00:00\", \"2019-07-08T00:00:00\", \"2019-07-09T00:00:00\", \"2019-07-10T00:00:00\", \"2019-07-11T00:00:00\", \"2019-07-12T00:00:00\", \"2019-07-15T00:00:00\", \"2019-07-16T00:00:00\", \"2019-07-17T00:00:00\", \"2019-07-18T00:00:00\", \"2019-07-19T00:00:00\", \"2019-07-22T00:00:00\", \"2019-07-23T00:00:00\", \"2019-07-24T00:00:00\", \"2019-07-25T00:00:00\", \"2019-07-26T00:00:00\", \"2019-07-29T00:00:00\", \"2019-07-30T00:00:00\", \"2019-07-31T00:00:00\", \"2019-08-01T00:00:00\", \"2019-08-02T00:00:00\", \"2019-08-05T00:00:00\", \"2019-08-06T00:00:00\", \"2019-08-07T00:00:00\", \"2019-08-08T00:00:00\", \"2019-08-12T00:00:00\", \"2019-08-13T00:00:00\", \"2019-08-14T00:00:00\", \"2019-08-15T00:00:00\", \"2019-08-16T00:00:00\", \"2019-08-19T00:00:00\", \"2019-08-20T00:00:00\", \"2019-08-21T00:00:00\", \"2019-08-22T00:00:00\", \"2019-08-23T00:00:00\", \"2019-08-26T00:00:00\", \"2019-08-27T00:00:00\", \"2019-08-28T00:00:00\", \"2019-08-29T00:00:00\", \"2019-08-30T00:00:00\", \"2019-09-02T00:00:00\", \"2019-09-03T00:00:00\", \"2019-09-04T00:00:00\", \"2019-09-05T00:00:00\", \"2019-09-06T00:00:00\"]}],\n",
       "                        {\"template\": {\"data\": {\"bar\": [{\"error_x\": {\"color\": \"#2a3f5f\"}, \"error_y\": {\"color\": \"#2a3f5f\"}, \"marker\": {\"line\": {\"color\": \"#E5ECF6\", \"width\": 0.5}}, \"type\": \"bar\"}], \"barpolar\": [{\"marker\": {\"line\": {\"color\": \"#E5ECF6\", \"width\": 0.5}}, \"type\": \"barpolar\"}], \"carpet\": [{\"aaxis\": {\"endlinecolor\": \"#2a3f5f\", \"gridcolor\": \"white\", \"linecolor\": \"white\", \"minorgridcolor\": \"white\", \"startlinecolor\": \"#2a3f5f\"}, \"baxis\": {\"endlinecolor\": \"#2a3f5f\", \"gridcolor\": \"white\", \"linecolor\": \"white\", \"minorgridcolor\": \"white\", \"startlinecolor\": \"#2a3f5f\"}, \"type\": \"carpet\"}], \"choropleth\": [{\"colorbar\": {\"outlinewidth\": 0, \"ticks\": \"\"}, \"type\": \"choropleth\"}], \"contour\": [{\"colorbar\": {\"outlinewidth\": 0, \"ticks\": \"\"}, \"colorscale\": [[0.0, \"#0d0887\"], [0.1111111111111111, \"#46039f\"], [0.2222222222222222, \"#7201a8\"], [0.3333333333333333, \"#9c179e\"], [0.4444444444444444, \"#bd3786\"], [0.5555555555555556, \"#d8576b\"], [0.6666666666666666, \"#ed7953\"], [0.7777777777777778, \"#fb9f3a\"], [0.8888888888888888, \"#fdca26\"], [1.0, \"#f0f921\"]], \"type\": \"contour\"}], \"contourcarpet\": [{\"colorbar\": {\"outlinewidth\": 0, \"ticks\": \"\"}, \"type\": \"contourcarpet\"}], \"heatmap\": [{\"colorbar\": {\"outlinewidth\": 0, \"ticks\": \"\"}, \"colorscale\": [[0.0, \"#0d0887\"], [0.1111111111111111, \"#46039f\"], [0.2222222222222222, \"#7201a8\"], [0.3333333333333333, \"#9c179e\"], [0.4444444444444444, \"#bd3786\"], [0.5555555555555556, \"#d8576b\"], [0.6666666666666666, \"#ed7953\"], [0.7777777777777778, \"#fb9f3a\"], [0.8888888888888888, \"#fdca26\"], [1.0, \"#f0f921\"]], \"type\": \"heatmap\"}], \"heatmapgl\": [{\"colorbar\": {\"outlinewidth\": 0, \"ticks\": \"\"}, \"colorscale\": [[0.0, \"#0d0887\"], [0.1111111111111111, \"#46039f\"], [0.2222222222222222, \"#7201a8\"], [0.3333333333333333, \"#9c179e\"], [0.4444444444444444, \"#bd3786\"], [0.5555555555555556, \"#d8576b\"], [0.6666666666666666, \"#ed7953\"], [0.7777777777777778, \"#fb9f3a\"], [0.8888888888888888, \"#fdca26\"], [1.0, \"#f0f921\"]], \"type\": \"heatmapgl\"}], \"histogram\": [{\"marker\": {\"colorbar\": {\"outlinewidth\": 0, \"ticks\": \"\"}}, \"type\": \"histogram\"}], \"histogram2d\": [{\"colorbar\": {\"outlinewidth\": 0, \"ticks\": \"\"}, \"colorscale\": [[0.0, \"#0d0887\"], [0.1111111111111111, \"#46039f\"], [0.2222222222222222, \"#7201a8\"], [0.3333333333333333, \"#9c179e\"], [0.4444444444444444, \"#bd3786\"], [0.5555555555555556, \"#d8576b\"], [0.6666666666666666, \"#ed7953\"], [0.7777777777777778, \"#fb9f3a\"], [0.8888888888888888, \"#fdca26\"], [1.0, \"#f0f921\"]], \"type\": \"histogram2d\"}], \"histogram2dcontour\": [{\"colorbar\": {\"outlinewidth\": 0, \"ticks\": \"\"}, \"colorscale\": [[0.0, \"#0d0887\"], [0.1111111111111111, \"#46039f\"], [0.2222222222222222, \"#7201a8\"], [0.3333333333333333, \"#9c179e\"], [0.4444444444444444, \"#bd3786\"], [0.5555555555555556, \"#d8576b\"], [0.6666666666666666, \"#ed7953\"], [0.7777777777777778, \"#fb9f3a\"], [0.8888888888888888, \"#fdca26\"], [1.0, \"#f0f921\"]], \"type\": \"histogram2dcontour\"}], \"mesh3d\": [{\"colorbar\": {\"outlinewidth\": 0, \"ticks\": \"\"}, \"type\": \"mesh3d\"}], \"parcoords\": [{\"line\": {\"colorbar\": {\"outlinewidth\": 0, \"ticks\": \"\"}}, \"type\": \"parcoords\"}], \"pie\": [{\"automargin\": true, \"type\": \"pie\"}], \"scatter\": [{\"marker\": {\"colorbar\": {\"outlinewidth\": 0, \"ticks\": \"\"}}, \"type\": \"scatter\"}], \"scatter3d\": [{\"line\": {\"colorbar\": {\"outlinewidth\": 0, \"ticks\": \"\"}}, \"marker\": {\"colorbar\": {\"outlinewidth\": 0, \"ticks\": \"\"}}, \"type\": \"scatter3d\"}], \"scattercarpet\": [{\"marker\": {\"colorbar\": {\"outlinewidth\": 0, \"ticks\": \"\"}}, \"type\": \"scattercarpet\"}], \"scattergeo\": [{\"marker\": {\"colorbar\": {\"outlinewidth\": 0, \"ticks\": \"\"}}, \"type\": \"scattergeo\"}], \"scattergl\": [{\"marker\": {\"colorbar\": {\"outlinewidth\": 0, \"ticks\": \"\"}}, \"type\": \"scattergl\"}], \"scattermapbox\": [{\"marker\": {\"colorbar\": {\"outlinewidth\": 0, \"ticks\": \"\"}}, \"type\": \"scattermapbox\"}], \"scatterpolar\": [{\"marker\": {\"colorbar\": {\"outlinewidth\": 0, \"ticks\": \"\"}}, \"type\": \"scatterpolar\"}], \"scatterpolargl\": [{\"marker\": {\"colorbar\": {\"outlinewidth\": 0, \"ticks\": \"\"}}, \"type\": \"scatterpolargl\"}], \"scatterternary\": [{\"marker\": {\"colorbar\": {\"outlinewidth\": 0, \"ticks\": \"\"}}, \"type\": \"scatterternary\"}], \"surface\": [{\"colorbar\": {\"outlinewidth\": 0, \"ticks\": \"\"}, \"colorscale\": [[0.0, \"#0d0887\"], [0.1111111111111111, \"#46039f\"], [0.2222222222222222, \"#7201a8\"], [0.3333333333333333, \"#9c179e\"], [0.4444444444444444, \"#bd3786\"], [0.5555555555555556, \"#d8576b\"], [0.6666666666666666, \"#ed7953\"], [0.7777777777777778, \"#fb9f3a\"], [0.8888888888888888, \"#fdca26\"], [1.0, \"#f0f921\"]], \"type\": \"surface\"}], \"table\": [{\"cells\": {\"fill\": {\"color\": \"#EBF0F8\"}, \"line\": {\"color\": \"white\"}}, \"header\": {\"fill\": {\"color\": \"#C8D4E3\"}, \"line\": {\"color\": \"white\"}}, \"type\": \"table\"}]}, \"layout\": {\"annotationdefaults\": {\"arrowcolor\": \"#2a3f5f\", \"arrowhead\": 0, \"arrowwidth\": 1}, \"coloraxis\": {\"colorbar\": {\"outlinewidth\": 0, \"ticks\": \"\"}}, \"colorscale\": {\"diverging\": [[0, \"#8e0152\"], [0.1, \"#c51b7d\"], [0.2, \"#de77ae\"], [0.3, \"#f1b6da\"], [0.4, \"#fde0ef\"], [0.5, \"#f7f7f7\"], [0.6, \"#e6f5d0\"], [0.7, \"#b8e186\"], [0.8, \"#7fbc41\"], [0.9, \"#4d9221\"], [1, \"#276419\"]], \"sequential\": [[0.0, \"#0d0887\"], [0.1111111111111111, \"#46039f\"], [0.2222222222222222, \"#7201a8\"], [0.3333333333333333, \"#9c179e\"], [0.4444444444444444, \"#bd3786\"], [0.5555555555555556, \"#d8576b\"], [0.6666666666666666, \"#ed7953\"], [0.7777777777777778, \"#fb9f3a\"], [0.8888888888888888, \"#fdca26\"], [1.0, \"#f0f921\"]], \"sequentialminus\": [[0.0, \"#0d0887\"], [0.1111111111111111, \"#46039f\"], [0.2222222222222222, \"#7201a8\"], [0.3333333333333333, \"#9c179e\"], [0.4444444444444444, \"#bd3786\"], [0.5555555555555556, \"#d8576b\"], [0.6666666666666666, \"#ed7953\"], [0.7777777777777778, \"#fb9f3a\"], [0.8888888888888888, \"#fdca26\"], [1.0, \"#f0f921\"]]}, \"colorway\": [\"#636efa\", \"#EF553B\", \"#00cc96\", \"#ab63fa\", \"#FFA15A\", \"#19d3f3\", \"#FF6692\", \"#B6E880\", \"#FF97FF\", \"#FECB52\"], \"font\": {\"color\": \"#2a3f5f\"}, \"geo\": {\"bgcolor\": \"white\", \"lakecolor\": \"white\", \"landcolor\": \"#E5ECF6\", \"showlakes\": true, \"showland\": true, \"subunitcolor\": \"white\"}, \"hoverlabel\": {\"align\": \"left\"}, \"hovermode\": \"closest\", \"mapbox\": {\"style\": \"light\"}, \"paper_bgcolor\": \"white\", \"plot_bgcolor\": \"#E5ECF6\", \"polar\": {\"angularaxis\": {\"gridcolor\": \"white\", \"linecolor\": \"white\", \"ticks\": \"\"}, \"bgcolor\": \"#E5ECF6\", \"radialaxis\": {\"gridcolor\": \"white\", \"linecolor\": \"white\", \"ticks\": \"\"}}, \"scene\": {\"xaxis\": {\"backgroundcolor\": \"#E5ECF6\", \"gridcolor\": \"white\", \"gridwidth\": 2, \"linecolor\": \"white\", \"showbackground\": true, \"ticks\": \"\", \"zerolinecolor\": \"white\"}, \"yaxis\": {\"backgroundcolor\": \"#E5ECF6\", \"gridcolor\": \"white\", \"gridwidth\": 2, \"linecolor\": \"white\", \"showbackground\": true, \"ticks\": \"\", \"zerolinecolor\": \"white\"}, \"zaxis\": {\"backgroundcolor\": \"#E5ECF6\", \"gridcolor\": \"white\", \"gridwidth\": 2, \"linecolor\": \"white\", \"showbackground\": true, \"ticks\": \"\", \"zerolinecolor\": \"white\"}}, \"shapedefaults\": {\"line\": {\"color\": \"#2a3f5f\"}}, \"ternary\": {\"aaxis\": {\"gridcolor\": \"white\", \"linecolor\": \"white\", \"ticks\": \"\"}, \"baxis\": {\"gridcolor\": \"white\", \"linecolor\": \"white\", \"ticks\": \"\"}, \"bgcolor\": \"#E5ECF6\", \"caxis\": {\"gridcolor\": \"white\", \"linecolor\": \"white\", \"ticks\": \"\"}}, \"title\": {\"x\": 0.05}, \"xaxis\": {\"automargin\": true, \"gridcolor\": \"white\", \"linecolor\": \"white\", \"ticks\": \"\", \"title\": {\"standoff\": 15}, \"zerolinecolor\": \"white\", \"zerolinewidth\": 2}, \"yaxis\": {\"automargin\": true, \"gridcolor\": \"white\", \"linecolor\": \"white\", \"ticks\": \"\", \"title\": {\"standoff\": 15}, \"zerolinecolor\": \"white\", \"zerolinewidth\": 2}}}},\n",
       "                        {\"responsive\": true}\n",
       "                    ).then(function(){\n",
       "                            \n",
       "var gd = document.getElementById('7fee8f18-a33c-4fdf-8af4-cd5b1bb4de92');\n",
       "var x = new MutationObserver(function (mutations, observer) {{\n",
       "        var display = window.getComputedStyle(gd).display;\n",
       "        if (!display || display === 'none') {{\n",
       "            console.log([gd, 'removed!']);\n",
       "            Plotly.purge(gd);\n",
       "            observer.disconnect();\n",
       "        }}\n",
       "}});\n",
       "\n",
       "// Listen for the removal of the full notebook cells\n",
       "var notebookContainer = gd.closest('#notebook-container');\n",
       "if (notebookContainer) {{\n",
       "    x.observe(notebookContainer, {childList: true});\n",
       "}}\n",
       "\n",
       "// Listen for the clearing of the current output cell\n",
       "var outputEl = gd.closest('.output');\n",
       "if (outputEl) {{\n",
       "    x.observe(outputEl, {childList: true});\n",
       "}}\n",
       "\n",
       "                        })\n",
       "                };\n",
       "                });\n",
       "            </script>\n",
       "        </div>"
      ]
     },
     "metadata": {},
     "output_type": "display_data"
    }
   ],
   "source": [
    "fig = go.Figure(data=[go.Candlestick(x=df_index['ts'],\n",
    "                open=df_index['index_open'],\n",
    "                high=df_index['index_high'],\n",
    "                low=df_index['index_low'],\n",
    "                close=df_index['index_close'],\n",
    "                increasing_line_color= 'red', decreasing_line_color= 'green')])\n",
    "fig.show()"
   ]
  },
  {
   "cell_type": "code",
   "execution_count": 3,
   "metadata": {},
   "outputs": [
    {
     "data": {
      "text/html": [
       "<div>\n",
       "<style scoped>\n",
       "    .dataframe tbody tr th:only-of-type {\n",
       "        vertical-align: middle;\n",
       "    }\n",
       "\n",
       "    .dataframe tbody tr th {\n",
       "        vertical-align: top;\n",
       "    }\n",
       "\n",
       "    .dataframe thead th {\n",
       "        text-align: right;\n",
       "    }\n",
       "</style>\n",
       "<table border=\"1\" class=\"dataframe\">\n",
       "  <thead>\n",
       "    <tr style=\"text-align: right;\">\n",
       "      <th></th>\n",
       "      <th>Y</th>\n",
       "      <th>ts</th>\n",
       "      <th>StockNo</th>\n",
       "      <th>cluster</th>\n",
       "      <th>Y_0_score</th>\n",
       "      <th>Y_1_score</th>\n",
       "    </tr>\n",
       "  </thead>\n",
       "  <tbody>\n",
       "    <tr>\n",
       "      <td>0</td>\n",
       "      <td>0</td>\n",
       "      <td>2017-05-18</td>\n",
       "      <td>3419</td>\n",
       "      <td>0</td>\n",
       "      <td>0.500544</td>\n",
       "      <td>0.499456</td>\n",
       "    </tr>\n",
       "    <tr>\n",
       "      <td>1</td>\n",
       "      <td>1</td>\n",
       "      <td>2017-05-18</td>\n",
       "      <td>4551</td>\n",
       "      <td>0</td>\n",
       "      <td>0.501964</td>\n",
       "      <td>0.498036</td>\n",
       "    </tr>\n",
       "    <tr>\n",
       "      <td>2</td>\n",
       "      <td>0</td>\n",
       "      <td>2017-05-18</td>\n",
       "      <td>3346</td>\n",
       "      <td>0</td>\n",
       "      <td>0.580022</td>\n",
       "      <td>0.419978</td>\n",
       "    </tr>\n",
       "    <tr>\n",
       "      <td>3</td>\n",
       "      <td>0</td>\n",
       "      <td>2017-05-18</td>\n",
       "      <td>5288</td>\n",
       "      <td>0</td>\n",
       "      <td>0.751034</td>\n",
       "      <td>0.248966</td>\n",
       "    </tr>\n",
       "    <tr>\n",
       "      <td>4</td>\n",
       "      <td>1</td>\n",
       "      <td>2017-05-18</td>\n",
       "      <td>3437</td>\n",
       "      <td>0</td>\n",
       "      <td>0.692676</td>\n",
       "      <td>0.307324</td>\n",
       "    </tr>\n",
       "    <tr>\n",
       "      <td>...</td>\n",
       "      <td>...</td>\n",
       "      <td>...</td>\n",
       "      <td>...</td>\n",
       "      <td>...</td>\n",
       "      <td>...</td>\n",
       "      <td>...</td>\n",
       "    </tr>\n",
       "    <tr>\n",
       "      <td>111332</td>\n",
       "      <td>0</td>\n",
       "      <td>2016-11-04</td>\n",
       "      <td>3035</td>\n",
       "      <td>4</td>\n",
       "      <td>0.720575</td>\n",
       "      <td>0.279425</td>\n",
       "    </tr>\n",
       "    <tr>\n",
       "      <td>111333</td>\n",
       "      <td>0</td>\n",
       "      <td>2016-11-04</td>\n",
       "      <td>1305</td>\n",
       "      <td>4</td>\n",
       "      <td>0.378397</td>\n",
       "      <td>0.621603</td>\n",
       "    </tr>\n",
       "    <tr>\n",
       "      <td>111334</td>\n",
       "      <td>0</td>\n",
       "      <td>2016-11-04</td>\n",
       "      <td>1476</td>\n",
       "      <td>4</td>\n",
       "      <td>0.553667</td>\n",
       "      <td>0.446333</td>\n",
       "    </tr>\n",
       "    <tr>\n",
       "      <td>111335</td>\n",
       "      <td>0</td>\n",
       "      <td>2016-11-04</td>\n",
       "      <td>1338</td>\n",
       "      <td>4</td>\n",
       "      <td>0.753564</td>\n",
       "      <td>0.246436</td>\n",
       "    </tr>\n",
       "    <tr>\n",
       "      <td>111336</td>\n",
       "      <td>0</td>\n",
       "      <td>2016-11-04</td>\n",
       "      <td>6451</td>\n",
       "      <td>4</td>\n",
       "      <td>0.739596</td>\n",
       "      <td>0.260404</td>\n",
       "    </tr>\n",
       "  </tbody>\n",
       "</table>\n",
       "<p>110831 rows × 6 columns</p>\n",
       "</div>"
      ],
      "text/plain": [
       "        Y         ts StockNo  cluster  Y_0_score  Y_1_score\n",
       "0       0 2017-05-18    3419        0   0.500544   0.499456\n",
       "1       1 2017-05-18    4551        0   0.501964   0.498036\n",
       "2       0 2017-05-18    3346        0   0.580022   0.419978\n",
       "3       0 2017-05-18    5288        0   0.751034   0.248966\n",
       "4       1 2017-05-18    3437        0   0.692676   0.307324\n",
       "...    ..        ...     ...      ...        ...        ...\n",
       "111332  0 2016-11-04    3035        4   0.720575   0.279425\n",
       "111333  0 2016-11-04    1305        4   0.378397   0.621603\n",
       "111334  0 2016-11-04    1476        4   0.553667   0.446333\n",
       "111335  0 2016-11-04    1338        4   0.753564   0.246436\n",
       "111336  0 2016-11-04    6451        4   0.739596   0.260404\n",
       "\n",
       "[110831 rows x 6 columns]"
      ]
     },
     "execution_count": 3,
     "metadata": {},
     "output_type": "execute_result"
    }
   ],
   "source": [
    "val = func.read_json('D:\\\\庫存健診開發\\\\data\\\\prediction\\\\15days\\\\15day_val.json')\n",
    "val['ts'] = pd.to_datetime(val['ts'])\n",
    "val = val[val.ts.dt.date > date(2016,10,19)]\n",
    "val"
   ]
  },
  {
   "cell_type": "code",
   "execution_count": 4,
   "metadata": {},
   "outputs": [
    {
     "data": {
      "text/html": [
       "<div>\n",
       "<style scoped>\n",
       "    .dataframe tbody tr th:only-of-type {\n",
       "        vertical-align: middle;\n",
       "    }\n",
       "\n",
       "    .dataframe tbody tr th {\n",
       "        vertical-align: top;\n",
       "    }\n",
       "\n",
       "    .dataframe thead th {\n",
       "        text-align: right;\n",
       "    }\n",
       "</style>\n",
       "<table border=\"1\" class=\"dataframe\">\n",
       "  <thead>\n",
       "    <tr style=\"text-align: right;\">\n",
       "      <th></th>\n",
       "      <th>Y</th>\n",
       "      <th>ts</th>\n",
       "      <th>StockNo</th>\n",
       "      <th>cluster</th>\n",
       "      <th>Y_0_score</th>\n",
       "      <th>Y_1_score</th>\n",
       "    </tr>\n",
       "  </thead>\n",
       "  <tbody>\n",
       "    <tr>\n",
       "      <td>2875</td>\n",
       "      <td>1</td>\n",
       "      <td>2016-10-20</td>\n",
       "      <td>2496</td>\n",
       "      <td>0</td>\n",
       "      <td>0.499905</td>\n",
       "      <td>0.500095</td>\n",
       "    </tr>\n",
       "    <tr>\n",
       "      <td>38385</td>\n",
       "      <td>1</td>\n",
       "      <td>2016-10-20</td>\n",
       "      <td>1457</td>\n",
       "      <td>1</td>\n",
       "      <td>0.579245</td>\n",
       "      <td>0.420755</td>\n",
       "    </tr>\n",
       "    <tr>\n",
       "      <td>38384</td>\n",
       "      <td>0</td>\n",
       "      <td>2016-10-20</td>\n",
       "      <td>2481</td>\n",
       "      <td>1</td>\n",
       "      <td>0.733806</td>\n",
       "      <td>0.266194</td>\n",
       "    </tr>\n",
       "    <tr>\n",
       "      <td>38383</td>\n",
       "      <td>0</td>\n",
       "      <td>2016-10-20</td>\n",
       "      <td>2514</td>\n",
       "      <td>1</td>\n",
       "      <td>0.608397</td>\n",
       "      <td>0.391603</td>\n",
       "    </tr>\n",
       "    <tr>\n",
       "      <td>38382</td>\n",
       "      <td>1</td>\n",
       "      <td>2016-10-20</td>\n",
       "      <td>1455</td>\n",
       "      <td>1</td>\n",
       "      <td>0.612901</td>\n",
       "      <td>0.387099</td>\n",
       "    </tr>\n",
       "    <tr>\n",
       "      <td>...</td>\n",
       "      <td>...</td>\n",
       "      <td>...</td>\n",
       "      <td>...</td>\n",
       "      <td>...</td>\n",
       "      <td>...</td>\n",
       "      <td>...</td>\n",
       "    </tr>\n",
       "    <tr>\n",
       "      <td>10359</td>\n",
       "      <td>1</td>\n",
       "      <td>2017-08-30</td>\n",
       "      <td>2405</td>\n",
       "      <td>0</td>\n",
       "      <td>0.474569</td>\n",
       "      <td>0.525431</td>\n",
       "    </tr>\n",
       "    <tr>\n",
       "      <td>10360</td>\n",
       "      <td>1</td>\n",
       "      <td>2017-08-30</td>\n",
       "      <td>3013</td>\n",
       "      <td>0</td>\n",
       "      <td>0.672883</td>\n",
       "      <td>0.327117</td>\n",
       "    </tr>\n",
       "    <tr>\n",
       "      <td>10361</td>\n",
       "      <td>1</td>\n",
       "      <td>2017-08-30</td>\n",
       "      <td>3049</td>\n",
       "      <td>0</td>\n",
       "      <td>0.490660</td>\n",
       "      <td>0.509340</td>\n",
       "    </tr>\n",
       "    <tr>\n",
       "      <td>10353</td>\n",
       "      <td>1</td>\n",
       "      <td>2017-08-30</td>\n",
       "      <td>2368</td>\n",
       "      <td>0</td>\n",
       "      <td>0.647712</td>\n",
       "      <td>0.352288</td>\n",
       "    </tr>\n",
       "    <tr>\n",
       "      <td>10393</td>\n",
       "      <td>1</td>\n",
       "      <td>2017-08-30</td>\n",
       "      <td>8215</td>\n",
       "      <td>0</td>\n",
       "      <td>0.470306</td>\n",
       "      <td>0.529694</td>\n",
       "    </tr>\n",
       "  </tbody>\n",
       "</table>\n",
       "<p>110831 rows × 6 columns</p>\n",
       "</div>"
      ],
      "text/plain": [
       "       Y         ts StockNo  cluster  Y_0_score  Y_1_score\n",
       "2875   1 2016-10-20    2496        0   0.499905   0.500095\n",
       "38385  1 2016-10-20    1457        1   0.579245   0.420755\n",
       "38384  0 2016-10-20    2481        1   0.733806   0.266194\n",
       "38383  0 2016-10-20    2514        1   0.608397   0.391603\n",
       "38382  1 2016-10-20    1455        1   0.612901   0.387099\n",
       "...   ..        ...     ...      ...        ...        ...\n",
       "10359  1 2017-08-30    2405        0   0.474569   0.525431\n",
       "10360  1 2017-08-30    3013        0   0.672883   0.327117\n",
       "10361  1 2017-08-30    3049        0   0.490660   0.509340\n",
       "10353  1 2017-08-30    2368        0   0.647712   0.352288\n",
       "10393  1 2017-08-30    8215        0   0.470306   0.529694\n",
       "\n",
       "[110831 rows x 6 columns]"
      ]
     },
     "execution_count": 4,
     "metadata": {},
     "output_type": "execute_result"
    }
   ],
   "source": [
    "val.sort_values(by='ts')"
   ]
  },
  {
   "cell_type": "code",
   "execution_count": 5,
   "metadata": {},
   "outputs": [],
   "source": [
    "val_year = [2016, 2017]\n",
    "threshold = [0.5, 0.6]"
   ]
  },
  {
   "cell_type": "code",
   "execution_count": 6,
   "metadata": {},
   "outputs": [
    {
     "name": "stdout",
     "output_type": "stream",
     "text": [
      "The threshold is 0.5\n",
      "Accuracy: 0.6259169365971614 \n",
      " up_support/ratio: 51501/0.4646804594382438 \n",
      " down_support/ratio: 59330/0.5353195405617562\n",
      "              precision    recall  f1-score   support\n",
      "\n",
      "        down       0.61      0.66      0.64     54730\n",
      "          up       0.64      0.59      0.61     56101\n",
      "\n",
      "    accuracy                           0.63    110831\n",
      "   macro avg       0.63      0.63      0.63    110831\n",
      "weighted avg       0.63      0.63      0.63    110831\n",
      "\n",
      "The threshold is 0.6\n",
      "Accuracy: 0.686110517754153 \n",
      " up_support/ratio: 23449/0.2115743790094829 \n",
      " down_support/ratio: 37410/0.3375409407115338\n",
      "              precision    recall  f1-score   support\n",
      "\n",
      "        down       0.67      0.79      0.72     31573\n",
      "          up       0.72      0.57      0.64     29286\n",
      "\n",
      "    accuracy                           0.69     60859\n",
      "   macro avg       0.69      0.68      0.68     60859\n",
      "weighted avg       0.69      0.69      0.68     60859\n",
      "\n"
     ]
    }
   ],
   "source": [
    "for t in threshold:\n",
    "    r = func.Evaluation(val, threshold=t)\n",
    "    print(f'The threshold is {t}')\n",
    "    print(f'Accuracy: {r[0]} \\n up_support/ratio: {r[2]}/{r[4]} \\n down_support/ratio: {r[3]}/{r[5]}')\n",
    "    print(r[1])"
   ]
  },
  {
   "cell_type": "code",
   "execution_count": 7,
   "metadata": {},
   "outputs": [
    {
     "name": "stdout",
     "output_type": "stream",
     "text": [
      "The threshold is 0.5, year 2016\n",
      "Accuracy: 0.6203911870503597 \n",
      " up_support/ratio: 11077/0.4150554556354916 \n",
      " down_support/ratio: 15611/0.5849445443645084\n",
      "              precision    recall  f1-score   support\n",
      "\n",
      "        down       0.63      0.69      0.66     14060\n",
      "          up       0.61      0.54      0.57     12628\n",
      "\n",
      "    accuracy                           0.62     26688\n",
      "   macro avg       0.62      0.62      0.62     26688\n",
      "weighted avg       0.62      0.62      0.62     26688\n",
      "\n",
      "The threshold is 0.6, year 2016\n",
      "Accuracy: 0.6867543383947939 \n",
      " up_support/ratio: 4715/0.17667116306954436 \n",
      " down_support/ratio: 10037/0.3760866306954436\n",
      "              precision    recall  f1-score   support\n",
      "\n",
      "        down       0.68      0.83      0.75      8214\n",
      "          up       0.70      0.51      0.59      6538\n",
      "\n",
      "    accuracy                           0.69     14752\n",
      "   macro avg       0.69      0.67      0.67     14752\n",
      "weighted avg       0.69      0.69      0.68     14752\n",
      "\n",
      "The threshold is 0.5, year 2017\n",
      "Accuracy: 0.6276695625304541 \n",
      " up_support/ratio: 40424/0.48042023697752634 \n",
      " down_support/ratio: 43719/0.5195797630224737\n",
      "              precision    recall  f1-score   support\n",
      "\n",
      "        down       0.61      0.65      0.63     40670\n",
      "          up       0.65      0.60      0.63     43473\n",
      "\n",
      "    accuracy                           0.63     84143\n",
      "   macro avg       0.63      0.63      0.63     84143\n",
      "weighted avg       0.63      0.63      0.63     84143\n",
      "\n",
      "The threshold is 0.6, year 2017\n",
      "Accuracy: 0.6859045264276574 \n",
      " up_support/ratio: 18734/0.22264478328559714 \n",
      " down_support/ratio: 27373/0.3253152371557943\n",
      "              precision    recall  f1-score   support\n",
      "\n",
      "        down       0.66      0.78      0.71     23359\n",
      "          up       0.72      0.59      0.65     22748\n",
      "\n",
      "    accuracy                           0.69     46107\n",
      "   macro avg       0.69      0.68      0.68     46107\n",
      "weighted avg       0.69      0.69      0.68     46107\n",
      "\n"
     ]
    }
   ],
   "source": [
    "for y in val_year:\n",
    "    for t in threshold:\n",
    "        r = func.Separate_Evaluation(val, prediction=True, threshold=t, year=y)\n",
    "        print(f'The threshold is {t}, year {y}')\n",
    "        print(f'Accuracy: {r[0]} \\n up_support/ratio: {r[2]}/{r[4]} \\n down_support/ratio: {r[3]}/{r[5]}')\n",
    "        print(r[1])"
   ]
  },
  {
   "cell_type": "code",
   "execution_count": 9,
   "metadata": {},
   "outputs": [
    {
     "data": {
      "application/vnd.jupyter.widget-view+json": {
       "model_id": "9debe94312cd44e78efcd4283a122d12",
       "version_major": 2,
       "version_minor": 0
      },
      "text/plain": [
       "HBox(children=(IntProgress(value=0, max=528), HTML(value='')))"
      ]
     },
     "metadata": {},
     "output_type": "display_data"
    },
    {
     "name": "stdout",
     "output_type": "stream",
     "text": [
      "\n",
      "The threshold is 0.5\n",
      "Ratio < 0.6: 0.2784090909090909 \n",
      " cluster ratio: [0.3473684210526316, 0.2826086956521739, 0.22321428571428573, 0.2727272727272727, 0.27350427350427353] \n",
      " variance: 0.052096296527091794\n"
     ]
    },
    {
     "data": {
      "application/vnd.jupyter.widget-view+json": {
       "model_id": "b95064e42afe43eb8a1b847a84697d06",
       "version_major": 2,
       "version_minor": 0
      },
      "text/plain": [
       "HBox(children=(IntProgress(value=0, max=528), HTML(value='')))"
      ]
     },
     "metadata": {},
     "output_type": "display_data"
    },
    {
     "name": "stdout",
     "output_type": "stream",
     "text": [
      "\n",
      "The threshold is 0.6\n",
      "Ratio < 0.6: 0.08333333333333333 \n",
      " cluster ratio: [0.09473684210526316, 0.09420289855072464, 0.044642857142857144, 0.09090909090909091, 0.09401709401709402] \n",
      " variance: 0.0638892203637639\n"
     ]
    }
   ],
   "source": [
    "for t in threshold:\n",
    "    r, s, c, a, count = func.Overall_Evaluation(val, predict_threshold=t)\n",
    "    print(f'The threshold is {t}')\n",
    "    print(f'Ratio < 0.6: {r} \\n cluster ratio: {count} \\n variance: {np.array(a).std()}')"
   ]
  },
  {
   "cell_type": "code",
   "execution_count": 6,
   "metadata": {},
   "outputs": [
    {
     "data": {
      "application/vnd.jupyter.widget-view+json": {
       "model_id": "81a1973699774ec7a14df196f6197941",
       "version_major": 2,
       "version_minor": 0
      },
      "text/plain": [
       "HBox(children=(IntProgress(value=0, max=213), HTML(value='')))"
      ]
     },
     "metadata": {},
     "output_type": "display_data"
    },
    {
     "name": "stdout",
     "output_type": "stream",
     "text": [
      "\n",
      "The threshold is 0.5\n"
     ]
    },
    {
     "data": {
      "text/html": [
       "<div>\n",
       "<style scoped>\n",
       "    .dataframe tbody tr th:only-of-type {\n",
       "        vertical-align: middle;\n",
       "    }\n",
       "\n",
       "    .dataframe tbody tr th {\n",
       "        vertical-align: top;\n",
       "    }\n",
       "\n",
       "    .dataframe thead th {\n",
       "        text-align: right;\n",
       "    }\n",
       "</style>\n",
       "<table border=\"1\" class=\"dataframe\">\n",
       "  <thead>\n",
       "    <tr style=\"text-align: right;\">\n",
       "      <th></th>\n",
       "      <th>min</th>\n",
       "      <th>max</th>\n",
       "      <th>std</th>\n",
       "      <th>mean</th>\n",
       "      <th>min_date</th>\n",
       "      <th>max_date</th>\n",
       "      <th>worst</th>\n",
       "      <th>worst_date</th>\n",
       "      <th>best</th>\n",
       "      <th>best_date</th>\n",
       "    </tr>\n",
       "  </thead>\n",
       "  <tbody>\n",
       "    <tr>\n",
       "      <td>daily_accuracy</td>\n",
       "      <td>0.410058</td>\n",
       "      <td>0.863014</td>\n",
       "      <td>0.0718448</td>\n",
       "      <td>0.625946</td>\n",
       "      <td>2016-12-27 00:00:00</td>\n",
       "      <td>2016-11-09 00:00:00</td>\n",
       "      <td>5</td>\n",
       "      <td>2016-12-29 00:00:00</td>\n",
       "      <td>49</td>\n",
       "      <td>2017-08-18 00:00:00</td>\n",
       "    </tr>\n",
       "    <tr>\n",
       "      <td>daily_up_count</td>\n",
       "      <td>56</td>\n",
       "      <td>417</td>\n",
       "      <td>76.9192</td>\n",
       "      <td>241.789</td>\n",
       "      <td>2016-11-08 00:00:00</td>\n",
       "      <td>2017-02-15 00:00:00</td>\n",
       "      <td>17</td>\n",
       "      <td>2016-11-11 00:00:00</td>\n",
       "      <td>96</td>\n",
       "      <td>2017-04-12 00:00:00</td>\n",
       "    </tr>\n",
       "    <tr>\n",
       "      <td>daily_down_count</td>\n",
       "      <td>103</td>\n",
       "      <td>455</td>\n",
       "      <td>76.2084</td>\n",
       "      <td>278.545</td>\n",
       "      <td>2017-02-15 00:00:00</td>\n",
       "      <td>2016-11-08 00:00:00</td>\n",
       "      <td>20</td>\n",
       "      <td>2017-01-24 00:00:00</td>\n",
       "      <td>71</td>\n",
       "      <td>2017-06-05 00:00:00</td>\n",
       "    </tr>\n",
       "    <tr>\n",
       "      <td>daily_return</td>\n",
       "      <td>-1.87135</td>\n",
       "      <td>3.97482</td>\n",
       "      <td>1.06207</td>\n",
       "      <td>0.963313</td>\n",
       "      <td>2016-11-14 00:00:00</td>\n",
       "      <td>2017-04-26 00:00:00</td>\n",
       "      <td>6</td>\n",
       "      <td>2016-12-27 00:00:00</td>\n",
       "      <td>39</td>\n",
       "      <td>2017-03-02 00:00:00</td>\n",
       "    </tr>\n",
       "    <tr>\n",
       "      <td>daily_ratio</td>\n",
       "      <td>-0.0292898</td>\n",
       "      <td>0.0581851</td>\n",
       "      <td>0.0140387</td>\n",
       "      <td>0.0183934</td>\n",
       "      <td>2017-08-14 00:00:00</td>\n",
       "      <td>2017-08-21 00:00:00</td>\n",
       "      <td>5</td>\n",
       "      <td>2016-12-28 00:00:00</td>\n",
       "      <td>55</td>\n",
       "      <td>2017-03-27 00:00:00</td>\n",
       "    </tr>\n",
       "    <tr>\n",
       "      <td>daily_portfolio</td>\n",
       "      <td>-0.0331252</td>\n",
       "      <td>0.0470995</td>\n",
       "      <td>0.0161646</td>\n",
       "      <td>0.0160605</td>\n",
       "      <td>2016-11-14 00:00:00</td>\n",
       "      <td>2017-07-12 00:00:00</td>\n",
       "      <td>6</td>\n",
       "      <td>2016-12-27 00:00:00</td>\n",
       "      <td>39</td>\n",
       "      <td>2017-03-02 00:00:00</td>\n",
       "    </tr>\n",
       "  </tbody>\n",
       "</table>\n",
       "</div>"
      ],
      "text/plain": [
       "                        min        max        std       mean  \\\n",
       "daily_accuracy     0.410058   0.863014  0.0718448   0.625946   \n",
       "daily_up_count           56        417    76.9192    241.789   \n",
       "daily_down_count        103        455    76.2084    278.545   \n",
       "daily_return       -1.87135    3.97482    1.06207   0.963313   \n",
       "daily_ratio      -0.0292898  0.0581851  0.0140387  0.0183934   \n",
       "daily_portfolio  -0.0331252  0.0470995  0.0161646  0.0160605   \n",
       "\n",
       "                             min_date             max_date worst  \\\n",
       "daily_accuracy    2016-12-27 00:00:00  2016-11-09 00:00:00     5   \n",
       "daily_up_count    2016-11-08 00:00:00  2017-02-15 00:00:00    17   \n",
       "daily_down_count  2017-02-15 00:00:00  2016-11-08 00:00:00    20   \n",
       "daily_return      2016-11-14 00:00:00  2017-04-26 00:00:00     6   \n",
       "daily_ratio       2017-08-14 00:00:00  2017-08-21 00:00:00     5   \n",
       "daily_portfolio   2016-11-14 00:00:00  2017-07-12 00:00:00     6   \n",
       "\n",
       "                           worst_date best            best_date  \n",
       "daily_accuracy    2016-12-29 00:00:00   49  2017-08-18 00:00:00  \n",
       "daily_up_count    2016-11-11 00:00:00   96  2017-04-12 00:00:00  \n",
       "daily_down_count  2017-01-24 00:00:00   71  2017-06-05 00:00:00  \n",
       "daily_return      2016-12-27 00:00:00   39  2017-03-02 00:00:00  \n",
       "daily_ratio       2016-12-28 00:00:00   55  2017-03-27 00:00:00  \n",
       "daily_portfolio   2016-12-27 00:00:00   39  2017-03-02 00:00:00  "
      ]
     },
     "metadata": {},
     "output_type": "display_data"
    },
    {
     "data": {
      "text/plain": [
       "[0.501937984496124,\n",
       " 0.48255813953488375,\n",
       " 0.41005802707930367,\n",
       " 0.4816247582205029,\n",
       " 0.5241779497098646]"
      ]
     },
     "metadata": {},
     "output_type": "display_data"
    },
    {
     "data": {
      "text/plain": [
       "[-0.008683076098044078,\n",
       " -0.016388517094452017,\n",
       " -0.005747330309953209,\n",
       " -0.010774955197292253,\n",
       " -0.003991971942772654]"
      ]
     },
     "metadata": {},
     "output_type": "display_data"
    },
    {
     "data": {
      "text/plain": [
       "[-0.0019891899065578615,\n",
       " -0.007349858099135135,\n",
       " -0.01390855178751051,\n",
       " -0.02598291304555531,\n",
       " -0.012454359286042918,\n",
       " -0.010320054286585834]"
      ]
     },
     "metadata": {},
     "output_type": "display_data"
    },
    {
     "data": {
      "application/vnd.jupyter.widget-view+json": {
       "model_id": "86c72a5c8c0744aea9a143e057c44499",
       "version_major": 2,
       "version_minor": 0
      },
      "text/plain": [
       "HBox(children=(IntProgress(value=0, max=213), HTML(value='')))"
      ]
     },
     "metadata": {},
     "output_type": "display_data"
    },
    {
     "name": "stdout",
     "output_type": "stream",
     "text": [
      "\n",
      "The threshold is 0.6\n"
     ]
    },
    {
     "data": {
      "text/html": [
       "<div>\n",
       "<style scoped>\n",
       "    .dataframe tbody tr th:only-of-type {\n",
       "        vertical-align: middle;\n",
       "    }\n",
       "\n",
       "    .dataframe tbody tr th {\n",
       "        vertical-align: top;\n",
       "    }\n",
       "\n",
       "    .dataframe thead th {\n",
       "        text-align: right;\n",
       "    }\n",
       "</style>\n",
       "<table border=\"1\" class=\"dataframe\">\n",
       "  <thead>\n",
       "    <tr style=\"text-align: right;\">\n",
       "      <th></th>\n",
       "      <th>min</th>\n",
       "      <th>max</th>\n",
       "      <th>std</th>\n",
       "      <th>mean</th>\n",
       "      <th>min_date</th>\n",
       "      <th>max_date</th>\n",
       "      <th>worst</th>\n",
       "      <th>worst_date</th>\n",
       "      <th>best</th>\n",
       "      <th>best_date</th>\n",
       "    </tr>\n",
       "  </thead>\n",
       "  <tbody>\n",
       "    <tr>\n",
       "      <td>daily_accuracy</td>\n",
       "      <td>0.409091</td>\n",
       "      <td>0.920213</td>\n",
       "      <td>0.0924131</td>\n",
       "      <td>0.681915</td>\n",
       "      <td>2017-04-27 00:00:00</td>\n",
       "      <td>2016-11-09 00:00:00</td>\n",
       "      <td>5</td>\n",
       "      <td>2016-10-27 00:00:00</td>\n",
       "      <td>42</td>\n",
       "      <td>2017-08-18 00:00:00</td>\n",
       "    </tr>\n",
       "    <tr>\n",
       "      <td>daily_up_count</td>\n",
       "      <td>14</td>\n",
       "      <td>263</td>\n",
       "      <td>50.3056</td>\n",
       "      <td>110.089</td>\n",
       "      <td>2016-11-08 00:00:00</td>\n",
       "      <td>2017-02-13 00:00:00</td>\n",
       "      <td>10</td>\n",
       "      <td>2016-11-11 00:00:00</td>\n",
       "      <td>89</td>\n",
       "      <td>2017-03-30 00:00:00</td>\n",
       "    </tr>\n",
       "    <tr>\n",
       "      <td>daily_down_count</td>\n",
       "      <td>48</td>\n",
       "      <td>375</td>\n",
       "      <td>74.6074</td>\n",
       "      <td>175.634</td>\n",
       "      <td>2017-02-15 00:00:00</td>\n",
       "      <td>2016-11-03 00:00:00</td>\n",
       "      <td>19</td>\n",
       "      <td>2017-01-20 00:00:00</td>\n",
       "      <td>68</td>\n",
       "      <td>2017-06-06 00:00:00</td>\n",
       "    </tr>\n",
       "    <tr>\n",
       "      <td>daily_return</td>\n",
       "      <td>-1.0755</td>\n",
       "      <td>3.73806</td>\n",
       "      <td>0.825219</td>\n",
       "      <td>1.29671</td>\n",
       "      <td>2017-08-14 00:00:00</td>\n",
       "      <td>2017-04-28 00:00:00</td>\n",
       "      <td>4</td>\n",
       "      <td>2016-12-27 00:00:00</td>\n",
       "      <td>126</td>\n",
       "      <td>2017-07-07 00:00:00</td>\n",
       "    </tr>\n",
       "    <tr>\n",
       "      <td>daily_ratio</td>\n",
       "      <td>-0.0193065</td>\n",
       "      <td>0.0796779</td>\n",
       "      <td>0.0156094</td>\n",
       "      <td>0.0291428</td>\n",
       "      <td>2017-08-14 00:00:00</td>\n",
       "      <td>2017-08-21 00:00:00</td>\n",
       "      <td>2</td>\n",
       "      <td>2016-12-23 00:00:00</td>\n",
       "      <td>150</td>\n",
       "      <td>2017-08-11 00:00:00</td>\n",
       "    </tr>\n",
       "    <tr>\n",
       "      <td>daily_portfolio</td>\n",
       "      <td>-0.0266247</td>\n",
       "      <td>0.0632873</td>\n",
       "      <td>0.0149388</td>\n",
       "      <td>0.0272319</td>\n",
       "      <td>2017-08-14 00:00:00</td>\n",
       "      <td>2017-04-21 00:00:00</td>\n",
       "      <td>4</td>\n",
       "      <td>2016-12-27 00:00:00</td>\n",
       "      <td>126</td>\n",
       "      <td>2017-07-07 00:00:00</td>\n",
       "    </tr>\n",
       "  </tbody>\n",
       "</table>\n",
       "</div>"
      ],
      "text/plain": [
       "                        min        max        std       mean  \\\n",
       "daily_accuracy     0.409091   0.920213  0.0924131   0.681915   \n",
       "daily_up_count           14        263    50.3056    110.089   \n",
       "daily_down_count         48        375    74.6074    175.634   \n",
       "daily_return        -1.0755    3.73806   0.825219    1.29671   \n",
       "daily_ratio      -0.0193065  0.0796779  0.0156094  0.0291428   \n",
       "daily_portfolio  -0.0266247  0.0632873  0.0149388  0.0272319   \n",
       "\n",
       "                             min_date             max_date worst  \\\n",
       "daily_accuracy    2017-04-27 00:00:00  2016-11-09 00:00:00     5   \n",
       "daily_up_count    2016-11-08 00:00:00  2017-02-13 00:00:00    10   \n",
       "daily_down_count  2017-02-15 00:00:00  2016-11-03 00:00:00    19   \n",
       "daily_return      2017-08-14 00:00:00  2017-04-28 00:00:00     4   \n",
       "daily_ratio       2017-08-14 00:00:00  2017-08-21 00:00:00     2   \n",
       "daily_portfolio   2017-08-14 00:00:00  2017-04-21 00:00:00     4   \n",
       "\n",
       "                           worst_date best            best_date  \n",
       "daily_accuracy    2016-10-27 00:00:00   42  2017-08-18 00:00:00  \n",
       "daily_up_count    2016-11-11 00:00:00   89  2017-03-30 00:00:00  \n",
       "daily_down_count  2017-01-20 00:00:00   68  2017-06-06 00:00:00  \n",
       "daily_return      2016-12-27 00:00:00  126  2017-07-07 00:00:00  \n",
       "daily_ratio       2016-12-23 00:00:00  150  2017-08-11 00:00:00  \n",
       "daily_portfolio   2016-12-27 00:00:00  126  2017-07-07 00:00:00  "
      ]
     },
     "metadata": {},
     "output_type": "display_data"
    },
    {
     "data": {
      "text/plain": [
       "[0.41975308641975306,\n",
       " 0.5017301038062284,\n",
       " 0.528169014084507,\n",
       " 0.5656934306569343,\n",
       " 0.5808383233532934]"
      ]
     },
     "metadata": {},
     "output_type": "display_data"
    },
    {
     "data": {
      "text/plain": [
       "[-0.0004930378245669043, -0.00824001457465935]"
      ]
     },
     "metadata": {},
     "output_type": "display_data"
    },
    {
     "data": {
      "text/plain": [
       "[-0.00249962052773574,\n",
       " -0.01199408371207399,\n",
       " -0.0016878091259105393,\n",
       " -0.003780233066067121]"
      ]
     },
     "metadata": {},
     "output_type": "display_data"
    }
   ],
   "source": [
    "for t in threshold:\n",
    "    d, r = func.daily_ratio(data, val, threshold=t)\n",
    "    print(f'The threshold is {t}')\n",
    "    display(d)\n",
    "    display(r['daily_accuracy_worst'])\n",
    "    display(r['daily_ratio_worst'])\n",
    "    display(r['daily_portfolio_worst'])"
   ]
  },
  {
   "cell_type": "code",
   "execution_count": 9,
   "metadata": {},
   "outputs": [
    {
     "data": {
      "application/vnd.jupyter.widget-view+json": {
       "model_id": "da2f45a88551495aabfa0316412c907a",
       "version_major": 2,
       "version_minor": 0
      },
      "text/plain": [
       "HBox(children=(IntProgress(value=0, max=52), HTML(value='')))"
      ]
     },
     "metadata": {},
     "output_type": "display_data"
    },
    {
     "name": "stdout",
     "output_type": "stream",
     "text": [
      "\n",
      "The threshold is 0.5, year 2016\n"
     ]
    },
    {
     "data": {
      "text/html": [
       "<div>\n",
       "<style scoped>\n",
       "    .dataframe tbody tr th:only-of-type {\n",
       "        vertical-align: middle;\n",
       "    }\n",
       "\n",
       "    .dataframe tbody tr th {\n",
       "        vertical-align: top;\n",
       "    }\n",
       "\n",
       "    .dataframe thead th {\n",
       "        text-align: right;\n",
       "    }\n",
       "</style>\n",
       "<table border=\"1\" class=\"dataframe\">\n",
       "  <thead>\n",
       "    <tr style=\"text-align: right;\">\n",
       "      <th></th>\n",
       "      <th>min</th>\n",
       "      <th>max</th>\n",
       "      <th>std</th>\n",
       "      <th>mean</th>\n",
       "      <th>min_date</th>\n",
       "      <th>max_date</th>\n",
       "      <th>worst</th>\n",
       "      <th>worst_date</th>\n",
       "      <th>best</th>\n",
       "      <th>best_date</th>\n",
       "    </tr>\n",
       "  </thead>\n",
       "  <tbody>\n",
       "    <tr>\n",
       "      <td>daily_accuracy</td>\n",
       "      <td>0.410058</td>\n",
       "      <td>0.863014</td>\n",
       "      <td>0.105302</td>\n",
       "      <td>0.620573</td>\n",
       "      <td>2016-12-27 00:00:00</td>\n",
       "      <td>2016-11-09 00:00:00</td>\n",
       "      <td>4</td>\n",
       "      <td>2016-12-28 00:00:00</td>\n",
       "      <td>20</td>\n",
       "      <td>2016-11-21 00:00:00</td>\n",
       "    </tr>\n",
       "    <tr>\n",
       "      <td>daily_up_count</td>\n",
       "      <td>56</td>\n",
       "      <td>351</td>\n",
       "      <td>83.9768</td>\n",
       "      <td>213.019</td>\n",
       "      <td>2016-11-08 00:00:00</td>\n",
       "      <td>2016-12-30 00:00:00</td>\n",
       "      <td>10</td>\n",
       "      <td>2016-11-10 00:00:00</td>\n",
       "      <td>5</td>\n",
       "      <td>2016-10-27 00:00:00</td>\n",
       "    </tr>\n",
       "    <tr>\n",
       "      <td>daily_down_count</td>\n",
       "      <td>167</td>\n",
       "      <td>455</td>\n",
       "      <td>81.5535</td>\n",
       "      <td>300.212</td>\n",
       "      <td>2016-12-30 00:00:00</td>\n",
       "      <td>2016-11-08 00:00:00</td>\n",
       "      <td>0</td>\n",
       "      <td>2016-10-20 00:00:00</td>\n",
       "      <td>48</td>\n",
       "      <td>2016-12-26 00:00:00</td>\n",
       "    </tr>\n",
       "    <tr>\n",
       "      <td>daily_return</td>\n",
       "      <td>-1.87135</td>\n",
       "      <td>1.69665</td>\n",
       "      <td>0.783672</td>\n",
       "      <td>0.453225</td>\n",
       "      <td>2016-11-14 00:00:00</td>\n",
       "      <td>2016-12-01 00:00:00</td>\n",
       "      <td>6</td>\n",
       "      <td>2016-12-27 00:00:00</td>\n",
       "      <td>22</td>\n",
       "      <td>2016-12-19 00:00:00</td>\n",
       "    </tr>\n",
       "    <tr>\n",
       "      <td>daily_ratio</td>\n",
       "      <td>-0.0175743</td>\n",
       "      <td>0.0499723</td>\n",
       "      <td>0.0153321</td>\n",
       "      <td>0.0159858</td>\n",
       "      <td>2016-11-03 00:00:00</td>\n",
       "      <td>2016-11-16 00:00:00</td>\n",
       "      <td>5</td>\n",
       "      <td>2016-12-28 00:00:00</td>\n",
       "      <td>30</td>\n",
       "      <td>2016-12-21 00:00:00</td>\n",
       "    </tr>\n",
       "    <tr>\n",
       "      <td>daily_portfolio</td>\n",
       "      <td>-0.0331252</td>\n",
       "      <td>0.0441094</td>\n",
       "      <td>0.0175748</td>\n",
       "      <td>0.0116118</td>\n",
       "      <td>2016-11-14 00:00:00</td>\n",
       "      <td>2016-11-16 00:00:00</td>\n",
       "      <td>6</td>\n",
       "      <td>2016-12-27 00:00:00</td>\n",
       "      <td>22</td>\n",
       "      <td>2016-12-19 00:00:00</td>\n",
       "    </tr>\n",
       "  </tbody>\n",
       "</table>\n",
       "</div>"
      ],
      "text/plain": [
       "                        min        max        std       mean  \\\n",
       "daily_accuracy     0.410058   0.863014   0.105302   0.620573   \n",
       "daily_up_count           56        351    83.9768    213.019   \n",
       "daily_down_count        167        455    81.5535    300.212   \n",
       "daily_return       -1.87135    1.69665   0.783672   0.453225   \n",
       "daily_ratio      -0.0175743  0.0499723  0.0153321  0.0159858   \n",
       "daily_portfolio  -0.0331252  0.0441094  0.0175748  0.0116118   \n",
       "\n",
       "                             min_date             max_date worst  \\\n",
       "daily_accuracy    2016-12-27 00:00:00  2016-11-09 00:00:00     4   \n",
       "daily_up_count    2016-11-08 00:00:00  2016-12-30 00:00:00    10   \n",
       "daily_down_count  2016-12-30 00:00:00  2016-11-08 00:00:00     0   \n",
       "daily_return      2016-11-14 00:00:00  2016-12-01 00:00:00     6   \n",
       "daily_ratio       2016-11-03 00:00:00  2016-11-16 00:00:00     5   \n",
       "daily_portfolio   2016-11-14 00:00:00  2016-11-16 00:00:00     6   \n",
       "\n",
       "                           worst_date best            best_date  \n",
       "daily_accuracy    2016-12-28 00:00:00   20  2016-11-21 00:00:00  \n",
       "daily_up_count    2016-11-10 00:00:00    5  2016-10-27 00:00:00  \n",
       "daily_down_count  2016-10-20 00:00:00   48  2016-12-26 00:00:00  \n",
       "daily_return      2016-12-27 00:00:00   22  2016-12-19 00:00:00  \n",
       "daily_ratio       2016-12-28 00:00:00   30  2016-12-21 00:00:00  \n",
       "daily_portfolio   2016-12-27 00:00:00   22  2016-12-19 00:00:00  "
      ]
     },
     "metadata": {},
     "output_type": "display_data"
    },
    {
     "data": {
      "text/plain": [
       "[0.501937984496124,\n",
       " 0.48255813953488375,\n",
       " 0.41005802707930367,\n",
       " 0.4816247582205029]"
      ]
     },
     "metadata": {},
     "output_type": "display_data"
    },
    {
     "data": {
      "text/plain": [
       "[-0.008683076098044078,\n",
       " -0.016388517094452017,\n",
       " -0.005747330309953209,\n",
       " -0.010774955197292253,\n",
       " -0.003991971942772654]"
      ]
     },
     "metadata": {},
     "output_type": "display_data"
    },
    {
     "data": {
      "text/plain": [
       "[-0.0019891899065578615,\n",
       " -0.007349858099135135,\n",
       " -0.01390855178751051,\n",
       " -0.02598291304555531,\n",
       " -0.012454359286042918,\n",
       " -0.010320054286585834]"
      ]
     },
     "metadata": {},
     "output_type": "display_data"
    },
    {
     "data": {
      "application/vnd.jupyter.widget-view+json": {
       "model_id": "521b7eb897d34c1da337df4a5a6f9aeb",
       "version_major": 2,
       "version_minor": 0
      },
      "text/plain": [
       "HBox(children=(IntProgress(value=0, max=52), HTML(value='')))"
      ]
     },
     "metadata": {},
     "output_type": "display_data"
    },
    {
     "name": "stdout",
     "output_type": "stream",
     "text": [
      "\n",
      "The threshold is 0.6, year 2016\n"
     ]
    },
    {
     "data": {
      "text/html": [
       "<div>\n",
       "<style scoped>\n",
       "    .dataframe tbody tr th:only-of-type {\n",
       "        vertical-align: middle;\n",
       "    }\n",
       "\n",
       "    .dataframe tbody tr th {\n",
       "        vertical-align: top;\n",
       "    }\n",
       "\n",
       "    .dataframe thead th {\n",
       "        text-align: right;\n",
       "    }\n",
       "</style>\n",
       "<table border=\"1\" class=\"dataframe\">\n",
       "  <thead>\n",
       "    <tr style=\"text-align: right;\">\n",
       "      <th></th>\n",
       "      <th>min</th>\n",
       "      <th>max</th>\n",
       "      <th>std</th>\n",
       "      <th>mean</th>\n",
       "      <th>min_date</th>\n",
       "      <th>max_date</th>\n",
       "      <th>worst</th>\n",
       "      <th>worst_date</th>\n",
       "      <th>best</th>\n",
       "      <th>best_date</th>\n",
       "    </tr>\n",
       "  </thead>\n",
       "  <tbody>\n",
       "    <tr>\n",
       "      <td>daily_accuracy</td>\n",
       "      <td>0.419753</td>\n",
       "      <td>0.920213</td>\n",
       "      <td>0.117458</td>\n",
       "      <td>0.674959</td>\n",
       "      <td>2016-10-21 00:00:00</td>\n",
       "      <td>2016-11-09 00:00:00</td>\n",
       "      <td>3</td>\n",
       "      <td>2016-10-25 00:00:00</td>\n",
       "      <td>22</td>\n",
       "      <td>2016-12-26 00:00:00</td>\n",
       "    </tr>\n",
       "    <tr>\n",
       "      <td>daily_up_count</td>\n",
       "      <td>14</td>\n",
       "      <td>164</td>\n",
       "      <td>41.2151</td>\n",
       "      <td>90.6731</td>\n",
       "      <td>2016-11-08 00:00:00</td>\n",
       "      <td>2016-12-30 00:00:00</td>\n",
       "      <td>8</td>\n",
       "      <td>2016-11-10 00:00:00</td>\n",
       "      <td>7</td>\n",
       "      <td>2016-10-31 00:00:00</td>\n",
       "    </tr>\n",
       "    <tr>\n",
       "      <td>daily_down_count</td>\n",
       "      <td>79</td>\n",
       "      <td>375</td>\n",
       "      <td>87.4519</td>\n",
       "      <td>193.019</td>\n",
       "      <td>2016-12-30 00:00:00</td>\n",
       "      <td>2016-11-03 00:00:00</td>\n",
       "      <td>0</td>\n",
       "      <td>2016-10-20 00:00:00</td>\n",
       "      <td>47</td>\n",
       "      <td>2016-12-23 00:00:00</td>\n",
       "    </tr>\n",
       "    <tr>\n",
       "      <td>daily_return</td>\n",
       "      <td>-0.529125</td>\n",
       "      <td>1.8349</td>\n",
       "      <td>0.588205</td>\n",
       "      <td>0.788036</td>\n",
       "      <td>2016-12-23 00:00:00</td>\n",
       "      <td>2016-11-25 00:00:00</td>\n",
       "      <td>4</td>\n",
       "      <td>2016-12-27 00:00:00</td>\n",
       "      <td>30</td>\n",
       "      <td>2016-12-21 00:00:00</td>\n",
       "    </tr>\n",
       "    <tr>\n",
       "      <td>daily_ratio</td>\n",
       "      <td>-0.00824001</td>\n",
       "      <td>0.0614939</td>\n",
       "      <td>0.0176099</td>\n",
       "      <td>0.0266778</td>\n",
       "      <td>2016-12-23 00:00:00</td>\n",
       "      <td>2016-11-16 00:00:00</td>\n",
       "      <td>2</td>\n",
       "      <td>2016-12-23 00:00:00</td>\n",
       "      <td>30</td>\n",
       "      <td>2016-12-21 00:00:00</td>\n",
       "    </tr>\n",
       "    <tr>\n",
       "      <td>daily_portfolio</td>\n",
       "      <td>-0.011998</td>\n",
       "      <td>0.0516633</td>\n",
       "      <td>0.0164865</td>\n",
       "      <td>0.0223109</td>\n",
       "      <td>2016-11-02 00:00:00</td>\n",
       "      <td>2016-11-16 00:00:00</td>\n",
       "      <td>4</td>\n",
       "      <td>2016-12-27 00:00:00</td>\n",
       "      <td>30</td>\n",
       "      <td>2016-12-21 00:00:00</td>\n",
       "    </tr>\n",
       "  </tbody>\n",
       "</table>\n",
       "</div>"
      ],
      "text/plain": [
       "                         min        max        std       mean  \\\n",
       "daily_accuracy      0.419753   0.920213   0.117458   0.674959   \n",
       "daily_up_count            14        164    41.2151    90.6731   \n",
       "daily_down_count          79        375    87.4519    193.019   \n",
       "daily_return       -0.529125     1.8349   0.588205   0.788036   \n",
       "daily_ratio      -0.00824001  0.0614939  0.0176099  0.0266778   \n",
       "daily_portfolio    -0.011998  0.0516633  0.0164865  0.0223109   \n",
       "\n",
       "                             min_date             max_date worst  \\\n",
       "daily_accuracy    2016-10-21 00:00:00  2016-11-09 00:00:00     3   \n",
       "daily_up_count    2016-11-08 00:00:00  2016-12-30 00:00:00     8   \n",
       "daily_down_count  2016-12-30 00:00:00  2016-11-03 00:00:00     0   \n",
       "daily_return      2016-12-23 00:00:00  2016-11-25 00:00:00     4   \n",
       "daily_ratio       2016-12-23 00:00:00  2016-11-16 00:00:00     2   \n",
       "daily_portfolio   2016-11-02 00:00:00  2016-11-16 00:00:00     4   \n",
       "\n",
       "                           worst_date best            best_date  \n",
       "daily_accuracy    2016-10-25 00:00:00   22  2016-12-26 00:00:00  \n",
       "daily_up_count    2016-11-10 00:00:00    7  2016-10-31 00:00:00  \n",
       "daily_down_count  2016-10-20 00:00:00   47  2016-12-23 00:00:00  \n",
       "daily_return      2016-12-27 00:00:00   30  2016-12-21 00:00:00  \n",
       "daily_ratio       2016-12-23 00:00:00   30  2016-12-21 00:00:00  \n",
       "daily_portfolio   2016-12-27 00:00:00   30  2016-12-21 00:00:00  "
      ]
     },
     "metadata": {},
     "output_type": "display_data"
    },
    {
     "data": {
      "text/plain": [
       "[0.41975308641975306, 0.5017301038062284, 0.528169014084507]"
      ]
     },
     "metadata": {},
     "output_type": "display_data"
    },
    {
     "data": {
      "text/plain": [
       "[-0.0004930378245669043, -0.00824001457465935]"
      ]
     },
     "metadata": {},
     "output_type": "display_data"
    },
    {
     "data": {
      "text/plain": [
       "[-0.00249962052773574,\n",
       " -0.01199408371207399,\n",
       " -0.0016878091259105393,\n",
       " -0.003780233066067121]"
      ]
     },
     "metadata": {},
     "output_type": "display_data"
    },
    {
     "data": {
      "application/vnd.jupyter.widget-view+json": {
       "model_id": "326e01c7289548b59b55b4246a14ae5b",
       "version_major": 2,
       "version_minor": 0
      },
      "text/plain": [
       "HBox(children=(IntProgress(value=0, max=161), HTML(value='')))"
      ]
     },
     "metadata": {},
     "output_type": "display_data"
    },
    {
     "name": "stdout",
     "output_type": "stream",
     "text": [
      "\n",
      "The threshold is 0.5, year 2017\n"
     ]
    },
    {
     "data": {
      "text/html": [
       "<div>\n",
       "<style scoped>\n",
       "    .dataframe tbody tr th:only-of-type {\n",
       "        vertical-align: middle;\n",
       "    }\n",
       "\n",
       "    .dataframe tbody tr th {\n",
       "        vertical-align: top;\n",
       "    }\n",
       "\n",
       "    .dataframe thead th {\n",
       "        text-align: right;\n",
       "    }\n",
       "</style>\n",
       "<table border=\"1\" class=\"dataframe\">\n",
       "  <thead>\n",
       "    <tr style=\"text-align: right;\">\n",
       "      <th></th>\n",
       "      <th>min</th>\n",
       "      <th>max</th>\n",
       "      <th>std</th>\n",
       "      <th>mean</th>\n",
       "      <th>min_date</th>\n",
       "      <th>max_date</th>\n",
       "      <th>worst</th>\n",
       "      <th>worst_date</th>\n",
       "      <th>best</th>\n",
       "      <th>best_date</th>\n",
       "    </tr>\n",
       "  </thead>\n",
       "  <tbody>\n",
       "    <tr>\n",
       "      <td>daily_accuracy</td>\n",
       "      <td>0.421456</td>\n",
       "      <td>0.780115</td>\n",
       "      <td>0.0568779</td>\n",
       "      <td>0.627681</td>\n",
       "      <td>2017-04-27 00:00:00</td>\n",
       "      <td>2017-04-17 00:00:00</td>\n",
       "      <td>4</td>\n",
       "      <td>2017-05-02 00:00:00</td>\n",
       "      <td>42</td>\n",
       "      <td>2017-08-18 00:00:00</td>\n",
       "    </tr>\n",
       "    <tr>\n",
       "      <td>daily_up_count</td>\n",
       "      <td>115</td>\n",
       "      <td>417</td>\n",
       "      <td>72.0843</td>\n",
       "      <td>251.081</td>\n",
       "      <td>2017-05-15 00:00:00</td>\n",
       "      <td>2017-02-15 00:00:00</td>\n",
       "      <td>14</td>\n",
       "      <td>2017-05-22 00:00:00</td>\n",
       "      <td>63</td>\n",
       "      <td>2017-04-12 00:00:00</td>\n",
       "    </tr>\n",
       "    <tr>\n",
       "      <td>daily_down_count</td>\n",
       "      <td>103</td>\n",
       "      <td>407</td>\n",
       "      <td>73.0394</td>\n",
       "      <td>271.547</td>\n",
       "      <td>2017-02-15 00:00:00</td>\n",
       "      <td>2017-05-15 00:00:00</td>\n",
       "      <td>16</td>\n",
       "      <td>2017-01-24 00:00:00</td>\n",
       "      <td>71</td>\n",
       "      <td>2017-06-05 00:00:00</td>\n",
       "    </tr>\n",
       "    <tr>\n",
       "      <td>daily_return</td>\n",
       "      <td>-1.64488</td>\n",
       "      <td>3.97482</td>\n",
       "      <td>1.08756</td>\n",
       "      <td>1.12806</td>\n",
       "      <td>2017-08-10 00:00:00</td>\n",
       "      <td>2017-04-26 00:00:00</td>\n",
       "      <td>5</td>\n",
       "      <td>2017-04-17 00:00:00</td>\n",
       "      <td>37</td>\n",
       "      <td>2017-06-09 00:00:00</td>\n",
       "    </tr>\n",
       "    <tr>\n",
       "      <td>daily_ratio</td>\n",
       "      <td>-0.0292898</td>\n",
       "      <td>0.0581851</td>\n",
       "      <td>0.0135033</td>\n",
       "      <td>0.019171</td>\n",
       "      <td>2017-08-14 00:00:00</td>\n",
       "      <td>2017-08-21 00:00:00</td>\n",
       "      <td>5</td>\n",
       "      <td>2017-08-16 00:00:00</td>\n",
       "      <td>53</td>\n",
       "      <td>2017-03-27 00:00:00</td>\n",
       "    </tr>\n",
       "    <tr>\n",
       "      <td>daily_portfolio</td>\n",
       "      <td>-0.0256961</td>\n",
       "      <td>0.0470995</td>\n",
       "      <td>0.01541</td>\n",
       "      <td>0.0174973</td>\n",
       "      <td>2017-08-14 00:00:00</td>\n",
       "      <td>2017-07-12 00:00:00</td>\n",
       "      <td>5</td>\n",
       "      <td>2017-04-17 00:00:00</td>\n",
       "      <td>37</td>\n",
       "      <td>2017-06-09 00:00:00</td>\n",
       "    </tr>\n",
       "  </tbody>\n",
       "</table>\n",
       "</div>"
      ],
      "text/plain": [
       "                        min        max        std       mean  \\\n",
       "daily_accuracy     0.421456   0.780115  0.0568779   0.627681   \n",
       "daily_up_count          115        417    72.0843    251.081   \n",
       "daily_down_count        103        407    73.0394    271.547   \n",
       "daily_return       -1.64488    3.97482    1.08756    1.12806   \n",
       "daily_ratio      -0.0292898  0.0581851  0.0135033   0.019171   \n",
       "daily_portfolio  -0.0256961  0.0470995    0.01541  0.0174973   \n",
       "\n",
       "                             min_date             max_date worst  \\\n",
       "daily_accuracy    2017-04-27 00:00:00  2017-04-17 00:00:00     4   \n",
       "daily_up_count    2017-05-15 00:00:00  2017-02-15 00:00:00    14   \n",
       "daily_down_count  2017-02-15 00:00:00  2017-05-15 00:00:00    16   \n",
       "daily_return      2017-08-10 00:00:00  2017-04-26 00:00:00     5   \n",
       "daily_ratio       2017-08-14 00:00:00  2017-08-21 00:00:00     5   \n",
       "daily_portfolio   2017-08-14 00:00:00  2017-07-12 00:00:00     5   \n",
       "\n",
       "                           worst_date best            best_date  \n",
       "daily_accuracy    2017-05-02 00:00:00   42  2017-08-18 00:00:00  \n",
       "daily_up_count    2017-05-22 00:00:00   63  2017-04-12 00:00:00  \n",
       "daily_down_count  2017-01-24 00:00:00   71  2017-06-05 00:00:00  \n",
       "daily_return      2017-04-17 00:00:00   37  2017-06-09 00:00:00  \n",
       "daily_ratio       2017-08-16 00:00:00   53  2017-03-27 00:00:00  \n",
       "daily_portfolio   2017-04-17 00:00:00   37  2017-06-09 00:00:00  "
      ]
     },
     "metadata": {},
     "output_type": "display_data"
    },
    {
     "data": {
      "text/plain": [
       "[0.48659003831417624,\n",
       " 0.421455938697318,\n",
       " 0.5019157088122606,\n",
       " 0.5019157088122606]"
      ]
     },
     "metadata": {},
     "output_type": "display_data"
    },
    {
     "data": {
      "text/plain": [
       "[-0.0021316556646499875,\n",
       " -0.0028072514566522986,\n",
       " -0.029289780190837444,\n",
       " -0.014830092432269347,\n",
       " -0.00010739302230581858]"
      ]
     },
     "metadata": {},
     "output_type": "display_data"
    },
    {
     "data": {
      "text/plain": [
       "[-0.007821363942019337,\n",
       " -0.01924195775061813,\n",
       " -0.010968277270696342,\n",
       " -0.003999534089362227,\n",
       " -0.004152912226496387]"
      ]
     },
     "metadata": {},
     "output_type": "display_data"
    },
    {
     "data": {
      "application/vnd.jupyter.widget-view+json": {
       "model_id": "8b3577cb25e5493f8e19b3401a6ba76f",
       "version_major": 2,
       "version_minor": 0
      },
      "text/plain": [
       "HBox(children=(IntProgress(value=0, max=161), HTML(value='')))"
      ]
     },
     "metadata": {},
     "output_type": "display_data"
    },
    {
     "name": "stdout",
     "output_type": "stream",
     "text": [
      "\n",
      "The threshold is 0.6, year 2017\n"
     ]
    },
    {
     "data": {
      "text/html": [
       "<div>\n",
       "<style scoped>\n",
       "    .dataframe tbody tr th:only-of-type {\n",
       "        vertical-align: middle;\n",
       "    }\n",
       "\n",
       "    .dataframe tbody tr th {\n",
       "        vertical-align: top;\n",
       "    }\n",
       "\n",
       "    .dataframe thead th {\n",
       "        text-align: right;\n",
       "    }\n",
       "</style>\n",
       "<table border=\"1\" class=\"dataframe\">\n",
       "  <thead>\n",
       "    <tr style=\"text-align: right;\">\n",
       "      <th></th>\n",
       "      <th>min</th>\n",
       "      <th>max</th>\n",
       "      <th>std</th>\n",
       "      <th>mean</th>\n",
       "      <th>min_date</th>\n",
       "      <th>max_date</th>\n",
       "      <th>worst</th>\n",
       "      <th>worst_date</th>\n",
       "      <th>best</th>\n",
       "      <th>best_date</th>\n",
       "    </tr>\n",
       "  </thead>\n",
       "  <tbody>\n",
       "    <tr>\n",
       "      <td>daily_accuracy</td>\n",
       "      <td>0.409091</td>\n",
       "      <td>0.886154</td>\n",
       "      <td>0.0825942</td>\n",
       "      <td>0.684162</td>\n",
       "      <td>2017-04-27 00:00:00</td>\n",
       "      <td>2017-04-17 00:00:00</td>\n",
       "      <td>4</td>\n",
       "      <td>2017-05-02 00:00:00</td>\n",
       "      <td>33</td>\n",
       "      <td>2017-03-17 00:00:00</td>\n",
       "    </tr>\n",
       "    <tr>\n",
       "      <td>daily_up_count</td>\n",
       "      <td>30</td>\n",
       "      <td>263</td>\n",
       "      <td>51.3642</td>\n",
       "      <td>116.36</td>\n",
       "      <td>2017-04-13 00:00:00</td>\n",
       "      <td>2017-02-13 00:00:00</td>\n",
       "      <td>13</td>\n",
       "      <td>2017-04-28 00:00:00</td>\n",
       "      <td>63</td>\n",
       "      <td>2017-08-21 00:00:00</td>\n",
       "    </tr>\n",
       "    <tr>\n",
       "      <td>daily_down_count</td>\n",
       "      <td>48</td>\n",
       "      <td>327</td>\n",
       "      <td>69.0275</td>\n",
       "      <td>170.019</td>\n",
       "      <td>2017-02-15 00:00:00</td>\n",
       "      <td>2017-05-11 00:00:00</td>\n",
       "      <td>14</td>\n",
       "      <td>2017-01-20 00:00:00</td>\n",
       "      <td>68</td>\n",
       "      <td>2017-06-06 00:00:00</td>\n",
       "    </tr>\n",
       "    <tr>\n",
       "      <td>daily_return</td>\n",
       "      <td>-1.0755</td>\n",
       "      <td>3.73806</td>\n",
       "      <td>0.823786</td>\n",
       "      <td>1.461</td>\n",
       "      <td>2017-08-14 00:00:00</td>\n",
       "      <td>2017-04-28 00:00:00</td>\n",
       "      <td>1</td>\n",
       "      <td>2017-07-10 00:00:00</td>\n",
       "      <td>123</td>\n",
       "      <td>2017-07-07 00:00:00</td>\n",
       "    </tr>\n",
       "    <tr>\n",
       "      <td>daily_ratio</td>\n",
       "      <td>-0.0193065</td>\n",
       "      <td>0.0796779</td>\n",
       "      <td>0.0148187</td>\n",
       "      <td>0.029939</td>\n",
       "      <td>2017-08-14 00:00:00</td>\n",
       "      <td>2017-08-21 00:00:00</td>\n",
       "      <td>2</td>\n",
       "      <td>2017-08-15 00:00:00</td>\n",
       "      <td>148</td>\n",
       "      <td>2017-08-11 00:00:00</td>\n",
       "    </tr>\n",
       "    <tr>\n",
       "      <td>daily_portfolio</td>\n",
       "      <td>-0.0266247</td>\n",
       "      <td>0.0632873</td>\n",
       "      <td>0.0140397</td>\n",
       "      <td>0.0288212</td>\n",
       "      <td>2017-08-14 00:00:00</td>\n",
       "      <td>2017-04-21 00:00:00</td>\n",
       "      <td>1</td>\n",
       "      <td>2017-07-10 00:00:00</td>\n",
       "      <td>123</td>\n",
       "      <td>2017-07-07 00:00:00</td>\n",
       "    </tr>\n",
       "  </tbody>\n",
       "</table>\n",
       "</div>"
      ],
      "text/plain": [
       "                        min        max        std       mean  \\\n",
       "daily_accuracy     0.409091   0.886154  0.0825942   0.684162   \n",
       "daily_up_count           30        263    51.3642     116.36   \n",
       "daily_down_count         48        327    69.0275    170.019   \n",
       "daily_return        -1.0755    3.73806   0.823786      1.461   \n",
       "daily_ratio      -0.0193065  0.0796779  0.0148187   0.029939   \n",
       "daily_portfolio  -0.0266247  0.0632873  0.0140397  0.0288212   \n",
       "\n",
       "                             min_date             max_date worst  \\\n",
       "daily_accuracy    2017-04-27 00:00:00  2017-04-17 00:00:00     4   \n",
       "daily_up_count    2017-04-13 00:00:00  2017-02-13 00:00:00    13   \n",
       "daily_down_count  2017-02-15 00:00:00  2017-05-11 00:00:00    14   \n",
       "daily_return      2017-08-14 00:00:00  2017-04-28 00:00:00     1   \n",
       "daily_ratio       2017-08-14 00:00:00  2017-08-21 00:00:00     2   \n",
       "daily_portfolio   2017-08-14 00:00:00  2017-04-21 00:00:00     1   \n",
       "\n",
       "                           worst_date best            best_date  \n",
       "daily_accuracy    2017-05-02 00:00:00   33  2017-03-17 00:00:00  \n",
       "daily_up_count    2017-04-28 00:00:00   63  2017-08-21 00:00:00  \n",
       "daily_down_count  2017-01-20 00:00:00   68  2017-06-06 00:00:00  \n",
       "daily_return      2017-07-10 00:00:00  123  2017-07-07 00:00:00  \n",
       "daily_ratio       2017-08-15 00:00:00  148  2017-08-11 00:00:00  \n",
       "daily_portfolio   2017-07-10 00:00:00  123  2017-07-07 00:00:00  "
      ]
     },
     "metadata": {},
     "output_type": "display_data"
    },
    {
     "data": {
      "text/plain": [
       "[0.4483985765124555,\n",
       " 0.4090909090909091,\n",
       " 0.5201465201465202,\n",
       " 0.5119453924914675]"
      ]
     },
     "metadata": {},
     "output_type": "display_data"
    },
    {
     "data": {
      "text/plain": [
       "[-0.019306549557967494, -0.00018005650757624983]"
      ]
     },
     "metadata": {},
     "output_type": "display_data"
    },
    {
     "data": {
      "text/plain": [
       "[-0.0025901545248284905]"
      ]
     },
     "metadata": {},
     "output_type": "display_data"
    }
   ],
   "source": [
    "for y in val_year:\n",
    "    for t in threshold:\n",
    "        d,r = func.daily_ratio(data, val, threshold=t, year=y)\n",
    "        print(f'The threshold is {t}, year {y}')\n",
    "        display(d)\n",
    "        display(r['daily_accuracy_worst'])\n",
    "        display(r['daily_ratio_worst'])\n",
    "        display(r['daily_portfolio_worst'])"
   ]
  },
  {
   "cell_type": "code",
   "execution_count": 10,
   "metadata": {},
   "outputs": [
    {
     "name": "stderr",
     "output_type": "stream",
     "text": [
      "D:\\庫存健診開發\\code\\PredictModel\\Evaluation_function.py:231: RuntimeWarning: invalid value encountered in double_scalars\n",
      "  df.loc[index, 'portfolio'] = d['return'].sum() / d['close_lag'].sum()\n"
     ]
    },
    {
     "name": "stdout",
     "output_type": "stream",
     "text": [
      "The threshold is 0.5\n"
     ]
    },
    {
     "data": {
      "text/html": [
       "<div>\n",
       "<style scoped>\n",
       "    .dataframe tbody tr th:only-of-type {\n",
       "        vertical-align: middle;\n",
       "    }\n",
       "\n",
       "    .dataframe tbody tr th {\n",
       "        vertical-align: top;\n",
       "    }\n",
       "\n",
       "    .dataframe thead th {\n",
       "        text-align: right;\n",
       "    }\n",
       "</style>\n",
       "<table border=\"1\" class=\"dataframe\">\n",
       "  <thead>\n",
       "    <tr style=\"text-align: right;\">\n",
       "      <th></th>\n",
       "      <th>return_mean</th>\n",
       "      <th>return_std</th>\n",
       "      <th>ratio_mean</th>\n",
       "      <th>ratio_std</th>\n",
       "      <th>portfolio</th>\n",
       "      <th>mean</th>\n",
       "      <th>std</th>\n",
       "      <th>ratio</th>\n",
       "    </tr>\n",
       "  </thead>\n",
       "  <tbody>\n",
       "    <tr>\n",
       "      <td>up</td>\n",
       "      <td>NaN</td>\n",
       "      <td>NaN</td>\n",
       "      <td>NaN</td>\n",
       "      <td>0.0470606</td>\n",
       "      <td>0.017015</td>\n",
       "      <td>0.982178</td>\n",
       "      <td>8.923790</td>\n",
       "      <td>0.018716</td>\n",
       "    </tr>\n",
       "    <tr>\n",
       "      <td>down</td>\n",
       "      <td>NaN</td>\n",
       "      <td>NaN</td>\n",
       "      <td>NaN</td>\n",
       "      <td>0.035016</td>\n",
       "      <td>-0.00452458</td>\n",
       "      <td>-0.262358</td>\n",
       "      <td>7.251431</td>\n",
       "      <td>-0.006482</td>\n",
       "    </tr>\n",
       "    <tr>\n",
       "      <td>neutral</td>\n",
       "      <td>NaN</td>\n",
       "      <td>NaN</td>\n",
       "      <td>NaN</td>\n",
       "      <td>NaN</td>\n",
       "      <td>NaN</td>\n",
       "      <td>NaN</td>\n",
       "      <td>NaN</td>\n",
       "      <td>NaN</td>\n",
       "    </tr>\n",
       "  </tbody>\n",
       "</table>\n",
       "</div>"
      ],
      "text/plain": [
       "        return_mean return_std ratio_mean  ratio_std   portfolio      mean  \\\n",
       "up              NaN        NaN        NaN  0.0470606    0.017015  0.982178   \n",
       "down            NaN        NaN        NaN   0.035016 -0.00452458 -0.262358   \n",
       "neutral         NaN        NaN        NaN        NaN         NaN       NaN   \n",
       "\n",
       "              std     ratio  \n",
       "up       8.923790  0.018716  \n",
       "down     7.251431 -0.006482  \n",
       "neutral       NaN       NaN  "
      ]
     },
     "metadata": {},
     "output_type": "display_data"
    },
    {
     "name": "stdout",
     "output_type": "stream",
     "text": [
      "The threshold is 0.6\n"
     ]
    },
    {
     "data": {
      "text/html": [
       "<div>\n",
       "<style scoped>\n",
       "    .dataframe tbody tr th:only-of-type {\n",
       "        vertical-align: middle;\n",
       "    }\n",
       "\n",
       "    .dataframe tbody tr th {\n",
       "        vertical-align: top;\n",
       "    }\n",
       "\n",
       "    .dataframe thead th {\n",
       "        text-align: right;\n",
       "    }\n",
       "</style>\n",
       "<table border=\"1\" class=\"dataframe\">\n",
       "  <thead>\n",
       "    <tr style=\"text-align: right;\">\n",
       "      <th></th>\n",
       "      <th>return_mean</th>\n",
       "      <th>return_std</th>\n",
       "      <th>ratio_mean</th>\n",
       "      <th>ratio_std</th>\n",
       "      <th>portfolio</th>\n",
       "      <th>mean</th>\n",
       "      <th>std</th>\n",
       "      <th>ratio</th>\n",
       "    </tr>\n",
       "  </thead>\n",
       "  <tbody>\n",
       "    <tr>\n",
       "      <td>up</td>\n",
       "      <td>NaN</td>\n",
       "      <td>NaN</td>\n",
       "      <td>NaN</td>\n",
       "      <td>0.0534907</td>\n",
       "      <td>0.0273662</td>\n",
       "      <td>1.246073</td>\n",
       "      <td>4.416817</td>\n",
       "      <td>0.028315</td>\n",
       "    </tr>\n",
       "    <tr>\n",
       "      <td>down</td>\n",
       "      <td>NaN</td>\n",
       "      <td>NaN</td>\n",
       "      <td>NaN</td>\n",
       "      <td>0.0344009</td>\n",
       "      <td>-0.0115533</td>\n",
       "      <td>-0.597986</td>\n",
       "      <td>3.590127</td>\n",
       "      <td>-0.011261</td>\n",
       "    </tr>\n",
       "    <tr>\n",
       "      <td>neutral</td>\n",
       "      <td>NaN</td>\n",
       "      <td>NaN</td>\n",
       "      <td>NaN</td>\n",
       "      <td>0.0374704</td>\n",
       "      <td>0.00826282</td>\n",
       "      <td>0.563694</td>\n",
       "      <td>11.200899</td>\n",
       "      <td>0.006737</td>\n",
       "    </tr>\n",
       "  </tbody>\n",
       "</table>\n",
       "</div>"
      ],
      "text/plain": [
       "        return_mean return_std ratio_mean  ratio_std   portfolio      mean  \\\n",
       "up              NaN        NaN        NaN  0.0534907   0.0273662  1.246073   \n",
       "down            NaN        NaN        NaN  0.0344009  -0.0115533 -0.597986   \n",
       "neutral         NaN        NaN        NaN  0.0374704  0.00826282  0.563694   \n",
       "\n",
       "               std     ratio  \n",
       "up        4.416817  0.028315  \n",
       "down      3.590127 -0.011261  \n",
       "neutral  11.200899  0.006737  "
      ]
     },
     "metadata": {},
     "output_type": "display_data"
    }
   ],
   "source": [
    "for t in threshold:\n",
    "    d = func.winpoint(data, val, threshold=t)\n",
    "    print(f'The threshold is {t}')\n",
    "    display(d)"
   ]
  },
  {
   "cell_type": "code",
   "execution_count": 6,
   "metadata": {},
   "outputs": [
    {
     "name": "stdout",
     "output_type": "stream",
     "text": [
      "The threshold is 0.5, year 2017\n"
     ]
    },
    {
     "data": {
      "text/html": [
       "<div>\n",
       "<style scoped>\n",
       "    .dataframe tbody tr th:only-of-type {\n",
       "        vertical-align: middle;\n",
       "    }\n",
       "\n",
       "    .dataframe tbody tr th {\n",
       "        vertical-align: top;\n",
       "    }\n",
       "\n",
       "    .dataframe thead th {\n",
       "        text-align: right;\n",
       "    }\n",
       "</style>\n",
       "<table border=\"1\" class=\"dataframe\">\n",
       "  <thead>\n",
       "    <tr style=\"text-align: right;\">\n",
       "      <th></th>\n",
       "      <th>mean</th>\n",
       "      <th>std</th>\n",
       "      <th>ratio</th>\n",
       "      <th>portfolio</th>\n",
       "    </tr>\n",
       "  </thead>\n",
       "  <tbody>\n",
       "    <tr>\n",
       "      <td>up</td>\n",
       "      <td>0.986095</td>\n",
       "      <td>8.97327</td>\n",
       "      <td>0.0225988</td>\n",
       "      <td>0.0150229</td>\n",
       "    </tr>\n",
       "    <tr>\n",
       "      <td>down</td>\n",
       "      <td>-0.876554</td>\n",
       "      <td>15.5051</td>\n",
       "      <td>-0.00835533</td>\n",
       "      <td>-0.0134675</td>\n",
       "    </tr>\n",
       "    <tr>\n",
       "      <td>neutral</td>\n",
       "      <td>NaN</td>\n",
       "      <td>NaN</td>\n",
       "      <td>NaN</td>\n",
       "      <td>NaN</td>\n",
       "    </tr>\n",
       "  </tbody>\n",
       "</table>\n",
       "</div>"
      ],
      "text/plain": [
       "             mean      std       ratio  portfolio\n",
       "up       0.986095  8.97327   0.0225988  0.0150229\n",
       "down    -0.876554  15.5051 -0.00835533 -0.0134675\n",
       "neutral       NaN      NaN         NaN        NaN"
      ]
     },
     "metadata": {},
     "output_type": "display_data"
    },
    {
     "name": "stdout",
     "output_type": "stream",
     "text": [
      "The threshold is 0.6, year 2017\n"
     ]
    },
    {
     "data": {
      "text/html": [
       "<div>\n",
       "<style scoped>\n",
       "    .dataframe tbody tr th:only-of-type {\n",
       "        vertical-align: middle;\n",
       "    }\n",
       "\n",
       "    .dataframe tbody tr th {\n",
       "        vertical-align: top;\n",
       "    }\n",
       "\n",
       "    .dataframe thead th {\n",
       "        text-align: right;\n",
       "    }\n",
       "</style>\n",
       "<table border=\"1\" class=\"dataframe\">\n",
       "  <thead>\n",
       "    <tr style=\"text-align: right;\">\n",
       "      <th></th>\n",
       "      <th>mean</th>\n",
       "      <th>std</th>\n",
       "      <th>ratio</th>\n",
       "      <th>portfolio</th>\n",
       "    </tr>\n",
       "  </thead>\n",
       "  <tbody>\n",
       "    <tr>\n",
       "      <td>up</td>\n",
       "      <td>1.6198</td>\n",
       "      <td>5.93243</td>\n",
       "      <td>0.0339923</td>\n",
       "      <td>0.0284062</td>\n",
       "    </tr>\n",
       "    <tr>\n",
       "      <td>down</td>\n",
       "      <td>-0.973536</td>\n",
       "      <td>12.4569</td>\n",
       "      <td>-0.0114951</td>\n",
       "      <td>-0.0170771</td>\n",
       "    </tr>\n",
       "    <tr>\n",
       "      <td>neutral</td>\n",
       "      <td>-0.195744</td>\n",
       "      <td>17.3646</td>\n",
       "      <td>0.00444916</td>\n",
       "      <td>-0.00238939</td>\n",
       "    </tr>\n",
       "  </tbody>\n",
       "</table>\n",
       "</div>"
      ],
      "text/plain": [
       "             mean      std       ratio   portfolio\n",
       "up         1.6198  5.93243   0.0339923   0.0284062\n",
       "down    -0.973536  12.4569  -0.0114951  -0.0170771\n",
       "neutral -0.195744  17.3646  0.00444916 -0.00238939"
      ]
     },
     "metadata": {},
     "output_type": "display_data"
    },
    {
     "name": "stdout",
     "output_type": "stream",
     "text": [
      "The threshold is 0.5, year 2018\n"
     ]
    },
    {
     "data": {
      "text/html": [
       "<div>\n",
       "<style scoped>\n",
       "    .dataframe tbody tr th:only-of-type {\n",
       "        vertical-align: middle;\n",
       "    }\n",
       "\n",
       "    .dataframe tbody tr th {\n",
       "        vertical-align: top;\n",
       "    }\n",
       "\n",
       "    .dataframe thead th {\n",
       "        text-align: right;\n",
       "    }\n",
       "</style>\n",
       "<table border=\"1\" class=\"dataframe\">\n",
       "  <thead>\n",
       "    <tr style=\"text-align: right;\">\n",
       "      <th></th>\n",
       "      <th>mean</th>\n",
       "      <th>std</th>\n",
       "      <th>ratio</th>\n",
       "      <th>portfolio</th>\n",
       "    </tr>\n",
       "  </thead>\n",
       "  <tbody>\n",
       "    <tr>\n",
       "      <td>up</td>\n",
       "      <td>0.993171</td>\n",
       "      <td>13.8002</td>\n",
       "      <td>0.0211092</td>\n",
       "      <td>0.0152098</td>\n",
       "    </tr>\n",
       "    <tr>\n",
       "      <td>down</td>\n",
       "      <td>-0.991573</td>\n",
       "      <td>10.9914</td>\n",
       "      <td>-0.0164319</td>\n",
       "      <td>-0.0161811</td>\n",
       "    </tr>\n",
       "    <tr>\n",
       "      <td>neutral</td>\n",
       "      <td>NaN</td>\n",
       "      <td>NaN</td>\n",
       "      <td>NaN</td>\n",
       "      <td>NaN</td>\n",
       "    </tr>\n",
       "  </tbody>\n",
       "</table>\n",
       "</div>"
      ],
      "text/plain": [
       "             mean      std      ratio  portfolio\n",
       "up       0.993171  13.8002  0.0211092  0.0152098\n",
       "down    -0.991573  10.9914 -0.0164319 -0.0161811\n",
       "neutral       NaN      NaN        NaN        NaN"
      ]
     },
     "metadata": {},
     "output_type": "display_data"
    },
    {
     "name": "stdout",
     "output_type": "stream",
     "text": [
      "The threshold is 0.6, year 2018\n"
     ]
    },
    {
     "data": {
      "text/html": [
       "<div>\n",
       "<style scoped>\n",
       "    .dataframe tbody tr th:only-of-type {\n",
       "        vertical-align: middle;\n",
       "    }\n",
       "\n",
       "    .dataframe tbody tr th {\n",
       "        vertical-align: top;\n",
       "    }\n",
       "\n",
       "    .dataframe thead th {\n",
       "        text-align: right;\n",
       "    }\n",
       "</style>\n",
       "<table border=\"1\" class=\"dataframe\">\n",
       "  <thead>\n",
       "    <tr style=\"text-align: right;\">\n",
       "      <th></th>\n",
       "      <th>mean</th>\n",
       "      <th>std</th>\n",
       "      <th>ratio</th>\n",
       "      <th>portfolio</th>\n",
       "    </tr>\n",
       "  </thead>\n",
       "  <tbody>\n",
       "    <tr>\n",
       "      <td>up</td>\n",
       "      <td>1.22761</td>\n",
       "      <td>11.4376</td>\n",
       "      <td>0.0290053</td>\n",
       "      <td>0.0218207</td>\n",
       "    </tr>\n",
       "    <tr>\n",
       "      <td>down</td>\n",
       "      <td>-1.24386</td>\n",
       "      <td>7.86431</td>\n",
       "      <td>-0.0222944</td>\n",
       "      <td>-0.0230525</td>\n",
       "    </tr>\n",
       "    <tr>\n",
       "      <td>neutral</td>\n",
       "      <td>0.164313</td>\n",
       "      <td>16.9707</td>\n",
       "      <td>0.00405297</td>\n",
       "      <td>0.00202573</td>\n",
       "    </tr>\n",
       "  </tbody>\n",
       "</table>\n",
       "</div>"
      ],
      "text/plain": [
       "             mean      std       ratio   portfolio\n",
       "up        1.22761  11.4376   0.0290053   0.0218207\n",
       "down     -1.24386  7.86431  -0.0222944  -0.0230525\n",
       "neutral  0.164313  16.9707  0.00405297  0.00202573"
      ]
     },
     "metadata": {},
     "output_type": "display_data"
    },
    {
     "name": "stdout",
     "output_type": "stream",
     "text": [
      "The threshold is 0.5, year 2019\n"
     ]
    },
    {
     "data": {
      "text/html": [
       "<div>\n",
       "<style scoped>\n",
       "    .dataframe tbody tr th:only-of-type {\n",
       "        vertical-align: middle;\n",
       "    }\n",
       "\n",
       "    .dataframe tbody tr th {\n",
       "        vertical-align: top;\n",
       "    }\n",
       "\n",
       "    .dataframe thead th {\n",
       "        text-align: right;\n",
       "    }\n",
       "</style>\n",
       "<table border=\"1\" class=\"dataframe\">\n",
       "  <thead>\n",
       "    <tr style=\"text-align: right;\">\n",
       "      <th></th>\n",
       "      <th>mean</th>\n",
       "      <th>std</th>\n",
       "      <th>ratio</th>\n",
       "      <th>portfolio</th>\n",
       "    </tr>\n",
       "  </thead>\n",
       "  <tbody>\n",
       "    <tr>\n",
       "      <td>up</td>\n",
       "      <td>1.28657</td>\n",
       "      <td>9.68</td>\n",
       "      <td>0.0206834</td>\n",
       "      <td>0.0199768</td>\n",
       "    </tr>\n",
       "    <tr>\n",
       "      <td>down</td>\n",
       "      <td>-0.550351</td>\n",
       "      <td>9.97228</td>\n",
       "      <td>-0.0105077</td>\n",
       "      <td>-0.00844594</td>\n",
       "    </tr>\n",
       "    <tr>\n",
       "      <td>neutral</td>\n",
       "      <td>NaN</td>\n",
       "      <td>NaN</td>\n",
       "      <td>NaN</td>\n",
       "      <td>NaN</td>\n",
       "    </tr>\n",
       "  </tbody>\n",
       "</table>\n",
       "</div>"
      ],
      "text/plain": [
       "             mean      std      ratio   portfolio\n",
       "up        1.28657     9.68  0.0206834   0.0199768\n",
       "down    -0.550351  9.97228 -0.0105077 -0.00844594\n",
       "neutral       NaN      NaN        NaN         NaN"
      ]
     },
     "metadata": {},
     "output_type": "display_data"
    },
    {
     "name": "stdout",
     "output_type": "stream",
     "text": [
      "The threshold is 0.6, year 2019\n"
     ]
    },
    {
     "data": {
      "text/html": [
       "<div>\n",
       "<style scoped>\n",
       "    .dataframe tbody tr th:only-of-type {\n",
       "        vertical-align: middle;\n",
       "    }\n",
       "\n",
       "    .dataframe tbody tr th {\n",
       "        vertical-align: top;\n",
       "    }\n",
       "\n",
       "    .dataframe thead th {\n",
       "        text-align: right;\n",
       "    }\n",
       "</style>\n",
       "<table border=\"1\" class=\"dataframe\">\n",
       "  <thead>\n",
       "    <tr style=\"text-align: right;\">\n",
       "      <th></th>\n",
       "      <th>mean</th>\n",
       "      <th>std</th>\n",
       "      <th>ratio</th>\n",
       "      <th>portfolio</th>\n",
       "    </tr>\n",
       "  </thead>\n",
       "  <tbody>\n",
       "    <tr>\n",
       "      <td>up</td>\n",
       "      <td>1.55836</td>\n",
       "      <td>8.63045</td>\n",
       "      <td>0.0268298</td>\n",
       "      <td>0.0265391</td>\n",
       "    </tr>\n",
       "    <tr>\n",
       "      <td>down</td>\n",
       "      <td>-0.771892</td>\n",
       "      <td>6.76411</td>\n",
       "      <td>-0.0149432</td>\n",
       "      <td>-0.0132489</td>\n",
       "    </tr>\n",
       "    <tr>\n",
       "      <td>neutral</td>\n",
       "      <td>0.389206</td>\n",
       "      <td>13.0915</td>\n",
       "      <td>0.00449875</td>\n",
       "      <td>0.00499895</td>\n",
       "    </tr>\n",
       "  </tbody>\n",
       "</table>\n",
       "</div>"
      ],
      "text/plain": [
       "             mean      std       ratio   portfolio\n",
       "up        1.55836  8.63045   0.0268298   0.0265391\n",
       "down    -0.771892  6.76411  -0.0149432  -0.0132489\n",
       "neutral  0.389206  13.0915  0.00449875  0.00499895"
      ]
     },
     "metadata": {},
     "output_type": "display_data"
    }
   ],
   "source": [
    "for y in val_year:\n",
    "    for t in threshold:\n",
    "        d = func.winpoint(data, df, threshold=t, year=y)\n",
    "        print(f'The threshold is {t}, year {y}')\n",
    "        display(d)"
   ]
  },
  {
   "cell_type": "code",
   "execution_count": null,
   "metadata": {},
   "outputs": [],
   "source": []
  }
 ],
 "metadata": {
  "kernelspec": {
   "display_name": "Python (tf-gpu)",
   "language": "python",
   "name": "tf-gpu"
  },
  "language_info": {
   "codemirror_mode": {
    "name": "ipython",
    "version": 3
   },
   "file_extension": ".py",
   "mimetype": "text/x-python",
   "name": "python",
   "nbconvert_exporter": "python",
   "pygments_lexer": "ipython3",
   "version": "3.6.9"
  }
 },
 "nbformat": 4,
 "nbformat_minor": 2
}
